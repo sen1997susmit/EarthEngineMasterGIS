{
  "nbformat": 4,
  "nbformat_minor": 0,
  "metadata": {
    "colab": {
      "name": "01_wkt_geojson.ipynb",
      "provenance": [],
      "collapsed_sections": [],
      "toc_visible": true,
      "include_colab_link": true
    },
    "kernelspec": {
      "name": "python3",
      "display_name": "Python 3"
    }
  },
  "cells": [
    {
      "cell_type": "markdown",
      "metadata": {
        "id": "view-in-github",
        "colab_type": "text"
      },
      "source": [
        "<a href=\"https://colab.research.google.com/github/csaybar/EarthEngineMasterGIS/blob/master/module03/01_wkt_geojson.ipynb\" target=\"_parent\"><img src=\"https://colab.research.google.com/assets/colab-badge.svg\" alt=\"Open In Colab\"/></a>"
      ]
    },
    {
      "cell_type": "markdown",
      "metadata": {
        "id": "lABBbu3yKl0w",
        "colab_type": "text"
      },
      "source": [
        "<!--COURSE_INFORMATION-->\n",
        "<img align=\"left\" style=\"padding-right:10px;\" src=\"https://user-images.githubusercontent.com/16768318/73986808-75b3ca00-4936-11ea-90f1-3a6c352766ce.png\" width=10% >\n",
        "<img align=\"right\" style=\"padding-left:10px;\" src=\"https://user-images.githubusercontent.com/16768318/73986811-764c6080-4936-11ea-9653-a3eacc47caed.png\" width=10% >\n",
        "\n",
        "**Bienvenidos!** Este *colab notebook* es parte del curso [**Introduccion a Google Earth Engine con Python**](https://github.com/csaybar/EarthEngineMasterGIS) desarrollado por el equipo [**MasterGIS**](https://www.mastergis.com/). Obten mas informacion del curso en este [**enlace**](https://www.mastergis.com/product/google-earth-engine/). El contenido del curso esta disponible en [**GitHub**](https://github.com/csaybar/EarthEngineMasterGIS) bajo licencia [**MIT**](https://opensource.org/licenses/MIT)."
      ]
    },
    {
      "cell_type": "markdown",
      "metadata": {
        "id": "ZfU48uVYIbN4",
        "colab_type": "text"
      },
      "source": [
        "# **MASTERGIS: WKT y GEOJSON**\n",
        "\n",
        "En esta lectura, aprenderemos sobre datos vectoriales y como se representan actualmente.\n",
        "\n",
        "<img src=\"https://user-images.githubusercontent.com/16768318/72757228-517e8c00-3bc7-11ea-95ff-0869866a2ac7.png\" width=\"35%\">\n",
        "\n",
        "### **1) Estructura de datos Espaciales**\n",
        "#### **Raster**:\n",
        "  - **matriz de celdas (pixeles) perfectamente estructurada.**\n",
        "  - Eficiente para manejar datos continuos.\n",
        "  - Analisis cuantitativo intuitivo (algebra de mapas).\n",
        "  - Podria generar facilmente archivos enormes.\n",
        "  - Mala calidad grafica\n",
        "\n",
        "\n",
        "<img src=\"https://user-images.githubusercontent.com/16768318/72757314-8d195600-3bc7-11ea-96a0-8c5be305d998.png\" width=\"35%\">\n",
        "\n",
        "\n",
        "#### **Vector**:\n",
        "  - **Coordenadas, puntos, lineas y poligonos.**\n",
        "  - Eficiente para manejar datos discretos.\n",
        "  - Precision.\n",
        "  - Reglas de topologia.\n",
        "  - Datos continuos mal almacenados.\n",
        "\n",
        "\n",
        "  <img src=\"https://user-images.githubusercontent.com/16768318/72757315-8d195600-3bc7-11ea-9343-a918353b7e22.png\" width=\"35%\">\n"
      ]
    },
    {
      "cell_type": "markdown",
      "metadata": {
        "id": "rvCJF1PJx_tw",
        "colab_type": "text"
      },
      "source": [
        "### **2) Well-Known Text**\n",
        "\n",
        "Well-known text (WKT) es un estandar definido por el Open Geospatial Consortium (OGC) y se describe en el [Simple Feature Access ISO](https://www.opengeospatial.org/standards/sfa) para representar geometrias. WKT tambien proporciona una representacion intuitiva del Sistema de Referencia de Coordenadas (CRS).\n",
        "<center>\n",
        " <img src=\"https://user-images.githubusercontent.com/16768318/72758811-bb009980-3bcb-11ea-9285-7d9a21507ba6.png\" width=\"50%\">\n",
        "</center>"
      ]
    },
    {
      "cell_type": "markdown",
      "metadata": {
        "id": "aq7OQ-eb3s4n",
        "colab_type": "text"
      },
      "source": [
        "#### **Estructuras de datos**\n",
        "\n",
        "      1) POINT(0 0)\n",
        "      2) LINESTRING(0 0, 1 1, 1 2)\n",
        "      3) POLYGON((0 0, 4 0, 4 4, 0 4, 0 0), (1 1, 2 1, 2 2, 1 2, 1 1))\n",
        "      4) MULTIPOINT((0 0), (1 2))\n",
        "\n",
        "<center>\n",
        "<img src=\"https://user-images.githubusercontent.com/16768318/72758812-bb009980-3bcb-11ea-95c8-39674b74f16e.png\" width=\"50%\">\n",
        "</center>\n",
        "<table><tr>\n",
        "<img src=\"https://user-images.githubusercontent.com/16768318/72758813-bb009980-3bcb-11ea-9494-af912de1868d.png\" width=\"50%\">\n",
        "<img src=\"https://user-images.githubusercontent.com/16768318/72758814-bb993000-3bcb-11ea-9ca4-4376ee3b128c.png\" width=\"50%\">\n",
        "</tr></table>\n",
        " \n",
        "\n",
        "\n"
      ]
    },
    {
      "cell_type": "markdown",
      "metadata": {
        "id": "QgSOflPI7_MT",
        "colab_type": "text"
      },
      "source": [
        "### **3) Geopandas**\n",
        "\n",
        "[GeoPandas](http://geopandas.org/) agrega estructura de datos espaciales a toda la funcionalidades de [Pandas](https://pandas.pydata.org/) y habilita operaciones espaciales en estos tipos, mediante [shapely](https://pypi.org/project/Shapely/). **GeoPandas** aprovecha **Pandas** junto con varios paquetes y practicas geoespaciales de codigo abierto para proporcionar un marco unico y conveniente para manejar datos de caracteristicas geoespaciales, operando en geometrias y atributos conjuntamente, y como con Pandas, eliminando en gran medida la necesidad de iterar sobre caracteristicas (filas). Tambien como con en Pandas, agrega un metodos para graficos y lectura/escritura de multiples formatos de archivos."
      ]
    },
    {
      "cell_type": "code",
      "metadata": {
        "id": "Ov-vAMAD82md",
        "colab_type": "code",
        "colab": {}
      },
      "source": [
        "import geopandas as gpd"
      ],
      "execution_count": 0,
      "outputs": []
    },
    {
      "cell_type": "code",
      "metadata": {
        "id": "-hJ1dt53LBPQ",
        "colab_type": "code",
        "cellView": "form",
        "colab": {}
      },
      "source": [
        "#@title Descarge los datos para la sesion\n",
        "uri = 'https://github.com/r-spatial/sf/raw/master/inst/shape/nc'\n",
        "shap = ['%s%s' % (uri,x) for x in ['.shp','.dbf','.prj','.shx']]\n",
        "for x in shap:\n",
        "  !wget {x}"
      ],
      "execution_count": 0,
      "outputs": []
    },
    {
      "cell_type": "code",
      "metadata": {
        "id": "WrMrpZHuFJza",
        "colab_type": "code",
        "colab": {}
      },
      "source": [
        "!pip install geopandas"
      ],
      "execution_count": 0,
      "outputs": []
    },
    {
      "cell_type": "code",
      "metadata": {
        "id": "PcAjN3TuFM-i",
        "colab_type": "code",
        "outputId": "e4744455-c5dd-4466-e9f1-4be6c5116fc6",
        "colab": {
          "base_uri": "https://localhost:8080/",
          "height": 366
        }
      },
      "source": [
        "nc = gpd.read_file('/content/nc.shp')\n",
        "nc.head(3)"
      ],
      "execution_count": 0,
      "outputs": [
        {
          "output_type": "execute_result",
          "data": {
            "text/html": [
              "<div>\n",
              "<style scoped>\n",
              "    .dataframe tbody tr th:only-of-type {\n",
              "        vertical-align: middle;\n",
              "    }\n",
              "\n",
              "    .dataframe tbody tr th {\n",
              "        vertical-align: top;\n",
              "    }\n",
              "\n",
              "    .dataframe thead th {\n",
              "        text-align: right;\n",
              "    }\n",
              "</style>\n",
              "<table border=\"1\" class=\"dataframe\">\n",
              "  <thead>\n",
              "    <tr style=\"text-align: right;\">\n",
              "      <th></th>\n",
              "      <th>AREA</th>\n",
              "      <th>PERIMETER</th>\n",
              "      <th>CNTY_</th>\n",
              "      <th>CNTY_ID</th>\n",
              "      <th>NAME</th>\n",
              "      <th>FIPS</th>\n",
              "      <th>FIPSNO</th>\n",
              "      <th>CRESS_ID</th>\n",
              "      <th>BIR74</th>\n",
              "      <th>SID74</th>\n",
              "      <th>NWBIR74</th>\n",
              "      <th>BIR79</th>\n",
              "      <th>SID79</th>\n",
              "      <th>NWBIR79</th>\n",
              "      <th>geometry</th>\n",
              "    </tr>\n",
              "  </thead>\n",
              "  <tbody>\n",
              "    <tr>\n",
              "      <th>0</th>\n",
              "      <td>0.114</td>\n",
              "      <td>1.442</td>\n",
              "      <td>1825.0</td>\n",
              "      <td>1825.0</td>\n",
              "      <td>Ashe</td>\n",
              "      <td>37009</td>\n",
              "      <td>37009.0</td>\n",
              "      <td>5</td>\n",
              "      <td>1091.0</td>\n",
              "      <td>1.0</td>\n",
              "      <td>10.0</td>\n",
              "      <td>1364.0</td>\n",
              "      <td>0.0</td>\n",
              "      <td>19.0</td>\n",
              "      <td>POLYGON ((-81.47276 36.23436, -81.54084 36.272...</td>\n",
              "    </tr>\n",
              "    <tr>\n",
              "      <th>1</th>\n",
              "      <td>0.061</td>\n",
              "      <td>1.231</td>\n",
              "      <td>1827.0</td>\n",
              "      <td>1827.0</td>\n",
              "      <td>Alleghany</td>\n",
              "      <td>37005</td>\n",
              "      <td>37005.0</td>\n",
              "      <td>3</td>\n",
              "      <td>487.0</td>\n",
              "      <td>0.0</td>\n",
              "      <td>10.0</td>\n",
              "      <td>542.0</td>\n",
              "      <td>3.0</td>\n",
              "      <td>12.0</td>\n",
              "      <td>POLYGON ((-81.23989 36.36536, -81.24069 36.379...</td>\n",
              "    </tr>\n",
              "    <tr>\n",
              "      <th>2</th>\n",
              "      <td>0.143</td>\n",
              "      <td>1.630</td>\n",
              "      <td>1828.0</td>\n",
              "      <td>1828.0</td>\n",
              "      <td>Surry</td>\n",
              "      <td>37171</td>\n",
              "      <td>37171.0</td>\n",
              "      <td>86</td>\n",
              "      <td>3188.0</td>\n",
              "      <td>5.0</td>\n",
              "      <td>208.0</td>\n",
              "      <td>3616.0</td>\n",
              "      <td>6.0</td>\n",
              "      <td>260.0</td>\n",
              "      <td>POLYGON ((-80.45634 36.24256, -80.47639 36.254...</td>\n",
              "    </tr>\n",
              "  </tbody>\n",
              "</table>\n",
              "</div>"
            ],
            "text/plain": [
              "    AREA  PERIMETER  ...  NWBIR79                                           geometry\n",
              "0  0.114      1.442  ...     19.0  POLYGON ((-81.47276 36.23436, -81.54084 36.272...\n",
              "1  0.061      1.231  ...     12.0  POLYGON ((-81.23989 36.36536, -81.24069 36.379...\n",
              "2  0.143      1.630  ...    260.0  POLYGON ((-80.45634 36.24256, -80.47639 36.254...\n",
              "\n",
              "[3 rows x 15 columns]"
            ]
          },
          "metadata": {
            "tags": []
          },
          "execution_count": 5
        }
      ]
    },
    {
      "cell_type": "code",
      "metadata": {
        "id": "MOBth35yMuTK",
        "colab_type": "code",
        "outputId": "1aa1f186-85ac-4023-b573-2d527e3de6a5",
        "colab": {
          "base_uri": "https://localhost:8080/",
          "height": 221
        }
      },
      "source": [
        "nc['geometry']"
      ],
      "execution_count": 0,
      "outputs": [
        {
          "output_type": "execute_result",
          "data": {
            "text/plain": [
              "0     POLYGON ((-81.47276 36.23436, -81.54084 36.272...\n",
              "1     POLYGON ((-81.23989 36.36536, -81.24069 36.379...\n",
              "2     POLYGON ((-80.45634 36.24256, -80.47639 36.254...\n",
              "3     MULTIPOLYGON (((-76.00897 36.31960, -76.01735 ...\n",
              "4     POLYGON ((-77.21767 36.24098, -77.23461 36.214...\n",
              "                            ...                        \n",
              "95    POLYGON ((-78.26150 34.39479, -78.32898 34.364...\n",
              "96    POLYGON ((-78.02592 34.32877, -78.13024 34.364...\n",
              "97    POLYGON ((-78.65572 33.94867, -79.07450 34.304...\n",
              "98    POLYGON ((-77.96073 34.18924, -77.96587 34.242...\n",
              "99    POLYGON ((-78.65572 33.94867, -78.63472 33.977...\n",
              "Name: geometry, Length: 100, dtype: geometry"
            ]
          },
          "metadata": {
            "tags": []
          },
          "execution_count": 6
        }
      ]
    },
    {
      "cell_type": "code",
      "metadata": {
        "id": "rXyKw7eDSyl2",
        "colab_type": "code",
        "outputId": "9f9506f5-3ed8-456d-a40e-faee00168782",
        "colab": {
          "base_uri": "https://localhost:8080/",
          "height": 167
        }
      },
      "source": [
        "nc.plot()"
      ],
      "execution_count": 0,
      "outputs": [
        {
          "output_type": "execute_result",
          "data": {
            "text/plain": [
              "<matplotlib.axes._subplots.AxesSubplot at 0x7f357719d710>"
            ]
          },
          "metadata": {
            "tags": []
          },
          "execution_count": 7
        },
        {
          "output_type": "display_data",
          "data": {
            "image/png": "[encoded data removed]",
            "text/plain": [
              "<Figure size 432x288 with 1 Axes>"
            ]
          },
          "metadata": {
            "tags": []
          }
        }
      ]
    },
    {
      "cell_type": "code",
      "metadata": {
        "id": "6B8aFcg3S35C",
        "colab_type": "code",
        "colab": {}
      },
      "source": [
        "nc.to_file('nc_up.shp')"
      ],
      "execution_count": 0,
      "outputs": []
    },
    {
      "cell_type": "markdown",
      "metadata": {
        "id": "m6lO6QNbQflb",
        "colab_type": "text"
      },
      "source": [
        "### **4) GeoJSON** \n",
        "\n",
        "http://geojson.io/\n",
        "\n",
        "GeoJSON surgio como una convencion de la comunidad aprovechando la ubicuidad de la codificacion JSON, especialmente en la web. Al ser JSON, pueden ser facilmente tratados en python (diccionarios).\n",
        "\n",
        "<center>\n",
        "<h3>FeatureCollection  --> Feature --> Geometry --> Coordinates</h3>\n",
        "</center>\n",
        "\n",
        "GeoJSON Ejemplo:"
      ]
    },
    {
      "cell_type": "code",
      "metadata": {
        "id": "6tj2DhMOQaV0",
        "colab_type": "code",
        "outputId": "da397141-2ec9-4b62-8912-95202b80c519",
        "colab": {
          "base_uri": "https://localhost:8080/",
          "height": 136
        }
      },
      "source": [
        "{\n",
        "  \"type\": \"FeatureCollection\",\n",
        "  \"features\": [\n",
        "    {\n",
        "      \"type\": \"Feature\",\n",
        "      \"geometry\": {\n",
        "        \"type\": \"Point\",\n",
        "        \"coordinates\": [102.0, 0.5]\n",
        "      },\n",
        "      \"properties\": {\n",
        "        \"prop0\": \"value0\",\n",
        "        \"prop1\": 0\n",
        "      }\n",
        "    },\n",
        "    {\n",
        "      \"type\": \"Feature\",\n",
        "      \"geometry\": {\n",
        "        \"type\": \"Point\",\n",
        "        \"coordinates\": [-90.0, 10.5]\n",
        "      },\n",
        "      \"properties\": {\n",
        "        \"prop0\": \"value3\",\n",
        "        \"prop1\": 3\n",
        "      }\n",
        "    }\n",
        "  ]\n",
        "}"
      ],
      "execution_count": 0,
      "outputs": [
        {
          "output_type": "execute_result",
          "data": {
            "text/plain": [
              "{'features': [{'geometry': {'coordinates': [102.0, 0.5], 'type': 'Point'},\n",
              "   'properties': {'prop0': 'value0', 'prop1': 0},\n",
              "   'type': 'Feature'},\n",
              "  {'geometry': {'coordinates': [-90.0, 10.5], 'type': 'Point'},\n",
              "   'properties': {'prop0': 'value3', 'prop1': 3},\n",
              "   'type': 'Feature'}],\n",
              " 'type': 'FeatureCollection'}"
            ]
          },
          "metadata": {
            "tags": []
          },
          "execution_count": 9
        }
      ]
    },
    {
      "cell_type": "markdown",
      "metadata": {
        "id": "Gbg_p4-OolAu",
        "colab_type": "text"
      },
      "source": [
        "### **5) De geopandas a GeoJSON** "
      ]
    },
    {
      "cell_type": "code",
      "metadata": {
        "id": "SNYt4mw0d8iw",
        "colab_type": "code",
        "colab": {}
      },
      "source": [
        "nc.__geo_interface__"
      ],
      "execution_count": 0,
      "outputs": []
    },
    {
      "cell_type": "markdown",
      "metadata": {
        "id": "keCX0XQjkDoO",
        "colab_type": "text"
      },
      "source": [
        "### **6) Subida de datos raster y vector a GEE**\n",
        "Puedes subir datos vectoriales (SHAPEFILE) y raster (GeoTIFF).\n",
        "\n",
        "<center>\n",
        "<h2>\n",
        "<a href=\"https://code.earthengine.google.com/\">https://code.earthengine.google.com/</a>\n",
        "</h2>\n",
        "</center>\n",
        "<center>\n",
        "<img src='https://user-images.githubusercontent.com/16768318/72866846-abb94300-3cd4-11ea-819e-f5a18ef724b1.gif' width=\"75%\">\n",
        "</center>"
      ]
    },
    {
      "cell_type": "markdown",
      "metadata": {
        "id": "SNP4gYprHQlU",
        "colab_type": "text"
      },
      "source": [
        "### **¿Dudas con este Jupyer-Notebook?**\n",
        "\n",
        "Estaremos felices de ayudarte!. Create una cuenta Github si es que no la tienes, luego detalla tu problema ampliamente en: https://github.com/csaybar/EarthEngineMasterGIS/issues\n",
        "\n",
        "**Tienes que dar clic en el boton verde!**\n",
        "\n",
        "<center>\n",
        "<img src=\"https://user-images.githubusercontent.com/16768318/79680748-d5511000-81d8-11ea-9f89-44bd010adf69.png\" width = 70%>\n",
        "</center>"
      ]
    }
  ]
}