{
  "nbformat": 4,
  "nbformat_minor": 0,
  "metadata": {
    "colab": {
      "name": "extras_PCA.ipynb",
      "provenance": [],
      "collapsed_sections": [],
      "authorship_tag": "ABX9TyPVjftlD75VMT7+mOC2eUne",
      "include_colab_link": true
    },
    "kernelspec": {
      "name": "python3",
      "display_name": "Python 3"
    }
  },
  "cells": [
    {
      "cell_type": "markdown",
      "metadata": {
        "id": "view-in-github",
        "colab_type": "text"
      },
      "source": [
        "<a href=\"https://colab.research.google.com/github/csaybar/EarthEngineMasterGIS/blob/master/EXTRA/extra_PCA.ipynb\" target=\"_parent\"><img src=\"https://colab.research.google.com/assets/colab-badge.svg\" alt=\"Open In Colab\"/></a>"
      ]
    },
    {
      "cell_type": "markdown",
      "metadata": {
        "id": "4zPzHcDlWAvS",
        "colab_type": "text"
      },
      "source": [
        "<!--COURSE_INFORMATION-->\n",
        "<img align=\"left\" style=\"padding-right:10px;\" src=\"https://user-images.githubusercontent.com/16768318/73986808-75b3ca00-4936-11ea-90f1-3a6c352766ce.png\" width=10% >\n",
        "<img align=\"right\" style=\"padding-left:10px;\" src=\"https://user-images.githubusercontent.com/16768318/73986811-764c6080-4936-11ea-9653-a3eacc47caed.png\" width=10% >\n",
        "\n",
        "**Bienvenidos!** Este *colab notebook* es parte del curso [**Introduccion a Google Earth Engine con Python**](https://github.com/csaybar/EarthEngineMasterGIS) desarrollado por el equipo [**MasterGIS**](https://www.mastergis.com/). Obten mas informacion del curso en este [**enlace**](https://www.mastergis.com/product/google-earth-engine-python/). El contenido del curso esta disponible en [**GitHub**](https://github.com/csaybar/EarthEngineMasterGIS) bajo licencia [**MIT**](https://opensource.org/licenses/MIT)."
      ]
    },
    {
      "cell_type": "code",
      "metadata": {
        "id": "6XULT6rOVUfT",
        "colab_type": "code",
        "colab": {},
        "cellView": "both"
      },
      "source": [
        "#@title Credenciales Google Earth Engine\n",
        "import os \n",
        "credential = '{\"refresh_token\":\"Ingrese_su_TOKEN_AQUI\"}'\n",
        "credential_file_path = os.path.expanduser(\"~/.config/earthengine/\")\n",
        "os.makedirs(credential_file_path,exist_ok=True)\n",
        "with open(credential_file_path + 'credentials', 'w') as file:\n",
        "    file.write(credential)"
      ],
      "execution_count": 0,
      "outputs": []
    },
    {
      "cell_type": "code",
      "metadata": {
        "id": "WvSXQUW3Wxfb",
        "colab_type": "code",
        "colab": {}
      },
      "source": [
        "import ee\n",
        "from pprint import pprint\n",
        "ee.Initialize()"
      ],
      "execution_count": 0,
      "outputs": []
    },
    {
      "cell_type": "code",
      "metadata": {
        "id": "1UIXpbGoWyhI",
        "colab_type": "code",
        "colab": {},
        "cellView": "form"
      },
      "source": [
        "#@title mapdisplay: Crea mapas interactivos usando folium\n",
        "import folium\n",
        "def mapdisplay(center, dicc, Tiles=\"OpensTreetMap\",zoom_start=10):\n",
        "    '''\n",
        "    :param center: Center of the map (Latitude and Longitude).\n",
        "    :param dicc: Earth Engine Geometries or Tiles dictionary\n",
        "    :param Tiles: Mapbox Bright,Mapbox Control Room,Stamen Terrain,Stamen Toner,stamenwatercolor,cartodbpositron.\n",
        "    :zoom_start: Initial zoom level for the map.\n",
        "    :return: A folium.Map object.\n",
        "    '''\n",
        "    center = center[::-1]\n",
        "    mapViz = folium.Map(location=center,tiles=Tiles, zoom_start=zoom_start)\n",
        "    for k,v in dicc.items():\n",
        "      if ee.image.Image in [type(x) for x in v.values()]:\n",
        "        folium.TileLayer(\n",
        "            tiles = v[\"tile_fetcher\"].url_format,\n",
        "            attr  = 'Google Earth Engine',\n",
        "            overlay =True,\n",
        "            name  = k\n",
        "          ).add_to(mapViz)\n",
        "      else:\n",
        "        folium.GeoJson(\n",
        "        data = v,\n",
        "        name = k\n",
        "          ).add_to(mapViz)\n",
        "    mapViz.add_child(folium.LayerControl())\n",
        "    return mapViz"
      ],
      "execution_count": 0,
      "outputs": []
    },
    {
      "cell_type": "markdown",
      "metadata": {
        "id": "mlrlb2bJGrcf",
        "colab_type": "text"
      },
      "source": [
        "### **1. Componentes Principales (Teoría)**\n",
        "**Fuente: Wikipedia**\n",
        "\n",
        "En estadística, el análisis de componentes principales (en español ACP, en inglés, PCA) es una técnica utilizada para describir un conjunto de datos en términos de nuevas variables (\"componentes\") no correlacionadas. Los componentes se ordenan por la cantidad de varianza original que describen, por lo que la técnica es útil para reducir la dimensionalidad de un conjunto de datos.\n",
        "\n",
        "<center>\n",
        "<img src=\"https://upload.wikimedia.org/wikipedia/commons/f/f5/GaussianScatterPCA.svg\" width=50%>\n",
        "<br>\n",
        "<caption> ACP de una distribución normal multivariante centrada en (1,3) con desviación estándar 3 en la dirección aproximada (0,866, 0,5) y desviación estándar 1 en la dirección perpendicular a la anterior. Los vectores muestran los autovectores de la matriz de correlación escalados mediante la raíz cuadrada del correspondiente autovalor, y desplazados para que su origen coincidan con la media estadística. </caption>\n",
        "</center>"
      ]
    },
    {
      "cell_type": "code",
      "metadata": {
        "id": "H5mqzBOqHo0O",
        "colab_type": "code",
        "colab": {
          "base_uri": "https://localhost:8080/",
          "height": 336
        },
        "cellView": "form",
        "outputId": "e5e5ecb3-23a4-4bb0-aee8-764497cf9250"
      },
      "source": [
        "#@title PCA: ¿Como realmente funcionan?\n",
        "from IPython.display import HTML\n",
        "HTML('<center><iframe width=\"560\" height=\"315\" src=\"https://www.youtube.com/embed/FgakZw6K1QQ\" frameborder=\"0\" allow=\"accelerometer; autoplay; encrypted-media; gyroscope; picture-in-picture\" allowfullscreen></iframe></center>')"
      ],
      "execution_count": 104,
      "outputs": [
        {
          "output_type": "execute_result",
          "data": {
            "text/html": [
              "<center><iframe width=\"560\" height=\"315\" src=\"https://www.youtube.com/embed/FgakZw6K1QQ\" frameborder=\"0\" allow=\"accelerometer; autoplay; encrypted-media; gyroscope; picture-in-picture\" allowfullscreen></iframe></center>"
            ],
            "text/plain": [
              "<IPython.core.display.HTML object>"
            ]
          },
          "metadata": {
            "tags": []
          },
          "execution_count": 104
        }
      ]
    },
    {
      "cell_type": "markdown",
      "metadata": {
        "id": "YGve-tSrY3bd",
        "colab_type": "text"
      },
      "source": [
        "### **2. Implementacion en Google Earth Engine**\n",
        "\n",
        "Esta funcion (**getPrincipalComponents**) necesita que el usuario ingrese:\n",
        "  - Un objeto **ee.Image (centered)** con bandas de media espacial cero (esto es solo necesario para un calculo rapido de la covarianza).\n",
        "  - La **escala (scale)** de la imagen.\n",
        "  - Una **region (region)** en la que realizar el analisis.\n",
        "\n",
        "El resultado son las componentes principales (PC) de la imagen en la region.\n"
      ]
    },
    {
      "cell_type": "code",
      "metadata": {
        "id": "3wr-L0623C42",
        "colab_type": "code",
        "colab": {}
      },
      "source": [
        "def getPrincipalComponents(centered, scale, region):\n",
        "  # Convierta un objecto ee.Image a ee.Array()\n",
        "  arrays = centered.toArray()\n",
        "  # Calcule la covarianza de las bandas dentro de la region especificada\n",
        "  covar = arrays.reduceRegion(\n",
        "    reducer =  ee.Reducer.centeredCovariance(),\n",
        "    geometry = region,\n",
        "    scale = scale,\n",
        "    maxPixels = 1e9\n",
        "  )  \n",
        "  # Recuerde que ña funcion *.reduceRegion siempre devolvera un ee.Dictionary.\n",
        "  # Obtenga los resultados de covarianza almacenados en la llave 'array'.    \n",
        "  covarArray = ee.Array(covar.get('array'))\n",
        "  # Realice un eigen analysis y separe ('slice') los Eigenvector y los Eigenvalue.\n",
        "  eigens = covarArray.eigen()\n",
        "  # Separe solo el vector P-length de Eigenvalues.\n",
        "  eigenValues = eigens.slice(1, 0, 1)  \n",
        "  # Esta es una matrix de dimensiones PXP con Eigenvectors en las filas.\n",
        "  eigenVectors = eigens.slice(1, 1)\n",
        "  # Convierta nuestro array image de 1D a 2D para realizar operaciones a nivel de matrices (2D)\n",
        "  arrayImage = arrays.toArray(1)\n",
        "  # Multiplique nuestro image array (2D) por la matriz de Eigenvectors\n",
        "  principalComponents = ee.Image(eigenVectors).matrixMultiply(arrayImage)  \n",
        "  \n",
        "  # Esta funcion crea una lista con nuevos nombres de banda.  \n",
        "  def getNewBandNames(prefix):\n",
        "    seq = ee.List.sequence(1, bandNames.length())\n",
        "    return  seq.map(lambda b:ee.String(prefix).cat(ee.Number(b).toInt().format()))\n",
        "\n",
        "  # Convierta las raices cuadradas de los Eigenvalues en una imagen P-band.\n",
        "  sdImage = ee.Image(eigenValues.sqrt())\\\n",
        "              .arrayProject([0])\\\n",
        "              .arrayFlatten([getNewBandNames('sd')])\n",
        "  # Calcule la varianza de cada CP a partir del eigen value\n",
        "  eigenvalue_sum = eigenValues.reduce(ee.Reducer.sum(),[0]).get([0, 0])\n",
        "  variance = eigenValues.divide(eigenvalue_sum).multiply(100)\n",
        "  # Convierta las componenetes Principales en una imagen con bandas de longitud\n",
        "  # banda P normalizada por SD.\n",
        "  #   1. Deseche una dimensión innecesaria, [[]] -> [].\n",
        "  #   2. Convierta el  array image de una banda en una imagen multibanda, [] -> imagen.\n",
        "  #   3. Normalice las PC por sus SD.\n",
        "  return (principalComponents\\\n",
        "          .arrayProject([0])\\\n",
        "          .arrayFlatten([getNewBandNames('pc')])\\\n",
        "          .divide(sdImage), variance.getInfo())"
      ],
      "execution_count": 0,
      "outputs": []
    },
    {
      "cell_type": "markdown",
      "metadata": {
        "id": "lhC-aZYG8LnA",
        "colab_type": "text"
      },
      "source": [
        "### **3. Ejemplo: Estima las componentes principales de una imagen Landsat-8**"
      ]
    },
    {
      "cell_type": "code",
      "metadata": {
        "id": "Rd7oVgbZWqJA",
        "colab_type": "code",
        "colab": {}
      },
      "source": [
        "# Cargue una imagen de Landsat 8, seleccione las bandas de interes.\n",
        "image = ee.Image('LANDSAT/LC8_L1T/LC80440342014077LGN00')\\\n",
        "          .select(['B2', 'B3', 'B4', 'B5', 'B6', 'B7', 'B10', 'B11'])"
      ],
      "execution_count": 0,
      "outputs": []
    },
    {
      "cell_type": "code",
      "metadata": {
        "id": "DYvB2zjS8Ui8",
        "colab_type": "code",
        "colab": {
          "base_uri": "https://localhost:8080/",
          "height": 763
        },
        "outputId": "517a1c30-4a38-4c5f-dd06-fbb8491edd22"
      },
      "source": [
        "# Muestra la imagen de entra y la region en la que se realiza el PCA.\n",
        "center = image.geometry().centroid().coordinates().getInfo()\n",
        "l8_viz = {'bands': ['B5', 'B4', 'B2'], 'min': 0, 'max': 20000}\n",
        "mapdisplay(center, {'l8':image.getMapId(l8_viz)})"
      ],
      "execution_count": 171,
      "outputs": [
        {
          "output_type": "execute_result",
          "data": {
            "text/html": [
              "<div style=\"width:100%;\"><div style=\"position:relative;width:100%;height:0;padding-bottom:60%;\"><iframe src=\"data:text/html;charset=utf-8;base64,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\" style=\"position:absolute;width:100%;height:100%;left:0;top:0;border:none !important;\" allowfullscreen webkitallowfullscreen mozallowfullscreen></iframe></div></div>"
            ],
            "text/plain": [
              "<folium.folium.Map at 0x7f9b70ae10b8>"
            ]
          },
          "metadata": {
            "tags": []
          },
          "execution_count": 171
        }
      ]
    },
    {
      "cell_type": "markdown",
      "metadata": {
        "id": "6ZzeFWwxYkG4",
        "colab_type": "text"
      },
      "source": [
        "El centro medio de los datos permite un reductor de covarianza más rápido y un estiramiento SD de los componentes principales."
      ]
    },
    {
      "cell_type": "code",
      "metadata": {
        "id": "A-RtVVWv9QVj",
        "colab_type": "code",
        "colab": {}
      },
      "source": [
        "meanDict = image.reduceRegion(\n",
        "    reducer = ee.Reducer.mean(),\n",
        "    geometry = region,\n",
        "    scale = scale,\n",
        "    maxPixels = 1e9\n",
        ")\n",
        "means = ee.Image.constant(meanDict.values(bandNames))\n",
        "centered = image.subtract(means)"
      ],
      "execution_count": 0,
      "outputs": []
    },
    {
      "cell_type": "markdown",
      "metadata": {
        "id": "wV7ugJzOYnm8",
        "colab_type": "text"
      },
      "source": [
        "**Obtenga las Componenetes Principales a la escala especificada y en la region especificada**"
      ]
    },
    {
      "cell_type": "code",
      "metadata": {
        "id": "aWnPxfJG94M4",
        "colab_type": "code",
        "colab": {}
      },
      "source": [
        "pcImage, img_variance = getPrincipalComponents(centered, scale = 30, region = centered.geometry())"
      ],
      "execution_count": 0,
      "outputs": []
    },
    {
      "cell_type": "markdown",
      "metadata": {
        "id": "edu7oYVMdMEY",
        "colab_type": "text"
      },
      "source": [
        "**Cree un scree plot para visualizar la varianza de las componentes**"
      ]
    },
    {
      "cell_type": "code",
      "metadata": {
        "id": "ZXVRxt-LdMWv",
        "colab_type": "code",
        "colab": {}
      },
      "source": [
        "import numpy as np\n",
        "import matplotlib\n",
        "import matplotlib.pyplot as plt\n",
        "\n",
        "def scree_plot(img_variance):\n",
        "  variance = np.array(img_variance).flatten()#.cumsum()\n",
        "  fig = plt.figure(figsize=(8,5))\n",
        "  sing_vals = np.arange(num_vars) + 1\n",
        "  plt.plot(sing_vals, variance, 'ro-', linewidth=2)\n",
        "  plt.ylim(0, 115)\n",
        "  plt.title('Scree Plot')\n",
        "  plt.xlabel('Principal Component')\n",
        "  plt.ylabel('Variance')\n",
        "  leg = plt.legend(['Eigenvalues from SVD'], loc='best', borderpad=0.3, \n",
        "                 shadow=False, prop=matplotlib.font_manager.FontProperties(size='small'),\n",
        "                 markerscale=0.4)\n",
        "  leg.get_frame().set_alpha(0.4)\n",
        "  plt.show()"
      ],
      "execution_count": 0,
      "outputs": []
    },
    {
      "cell_type": "code",
      "metadata": {
        "id": "ILctpnlCdTlX",
        "colab_type": "code",
        "colab": {
          "base_uri": "https://localhost:8080/",
          "height": 350
        },
        "outputId": "a1a7fcc7-4f85-4d2a-f625-efef44492f9b"
      },
      "source": [
        "scree_plot(img_variance)"
      ],
      "execution_count": 197,
      "outputs": [
        {
          "output_type": "display_data",
          "data": {
            "image/png": "[encoded data removed]",
            "text/plain": [
              "<Figure size 576x360 with 1 Axes>"
            ]
          },
          "metadata": {
            "tags": []
          }
        }
      ]
    },
    {
      "cell_type": "markdown",
      "metadata": {
        "id": "RWEGhNsmnA4c",
        "colab_type": "text"
      },
      "source": [
        "**Vizualize los resultados**"
      ]
    },
    {
      "cell_type": "code",
      "metadata": {
        "id": "jcUYNFxCAdw3",
        "colab_type": "code",
        "colab": {
          "base_uri": "https://localhost:8080/",
          "height": 763
        },
        "outputId": "3924bf4f-1dca-4bcb-98de-72fae9c8c7b0"
      },
      "source": [
        "mapdisplay(center,{'pc':pcImage.select(['pc1','pc2','pc3']).getMapId({'min': -2, 'max': 2})})"
      ],
      "execution_count": 198,
      "outputs": [
        {
          "output_type": "execute_result",
          "data": {
            "text/html": [
              "<div style=\"width:100%;\"><div style=\"position:relative;width:100%;height:0;padding-bottom:60%;\"><iframe src=\"data:text/html;charset=utf-8;base64,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\" style=\"position:absolute;width:100%;height:100%;left:0;top:0;border:none !important;\" allowfullscreen webkitallowfullscreen mozallowfullscreen></iframe></div></div>"
            ],
            "text/plain": [
              "<folium.folium.Map at 0x7f9b6ecca160>"
            ]
          },
          "metadata": {
            "tags": []
          },
          "execution_count": 198
        }
      ]
    }
  ]
}