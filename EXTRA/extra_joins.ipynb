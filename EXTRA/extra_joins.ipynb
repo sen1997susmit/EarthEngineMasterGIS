{
  "nbformat": 4,
  "nbformat_minor": 0,
  "metadata": {
    "colab": {
      "name": "extras_joins.ipynb",
      "provenance": [],
      "collapsed_sections": [],
      "authorship_tag": "ABX9TyPPaIgejQs3SjengNi2FpCk",
      "include_colab_link": true
    },
    "kernelspec": {
      "name": "python3",
      "display_name": "Python 3"
    }
  },
  "cells": [
    {
      "cell_type": "markdown",
      "metadata": {
        "id": "view-in-github",
        "colab_type": "text"
      },
      "source": [
        "<a href=\"https://colab.research.google.com/github/csaybar/EarthEngineMasterGIS/blob/master/EXTRA/extra_joins.ipynb\" target=\"_parent\"><img src=\"https://colab.research.google.com/assets/colab-badge.svg\" alt=\"Open In Colab\"/></a>"
      ]
    },
    {
      "cell_type": "markdown",
      "metadata": {
        "id": "2UGMZXTDTm7w",
        "colab_type": "text"
      },
      "source": [
        "<!--COURSE_INFORMATION-->\n",
        "<img align=\"left\" style=\"padding-right:10px;\" src=\"https://user-images.githubusercontent.com/16768318/73986808-75b3ca00-4936-11ea-90f1-3a6c352766ce.png\" width=10% >\n",
        "<img align=\"right\" style=\"padding-left:10px;\" src=\"https://user-images.githubusercontent.com/16768318/73986811-764c6080-4936-11ea-9653-a3eacc47caed.png\" width=10% >\n",
        "\n",
        "**Bienvenidos!** Este *colab notebook* es parte del curso [**Introduccion a Google Earth Engine con Python**](https://github.com/csaybar/EarthEngineMasterGIS) desarrollado por el equipo [**MasterGIS**](https://www.mastergis.com/). Obten mas informacion del curso en este [**enlace**](https://www.mastergis.com/product/google-earth-engine-python/). El contenido del curso esta disponible en [**GitHub**](https://github.com/csaybar/EarthEngineMasterGIS) bajo licencia [**MIT**](https://opensource.org/licenses/MIT)."
      ]
    },
    {
      "cell_type": "markdown",
      "metadata": {
        "id": "5KFKmLSPTq4T",
        "colab_type": "text"
      },
      "source": [
        "## **MASTERGIS: Joins**\n",
        "\n",
        "Los join son una de las herramientas mas potentes de GEE pero tambien una de las mas dificiles de perfeccionar. En esta lectura, aprenderemos sobre:\n",
        "\n",
        "- Como realizar un simple join.\n",
        "- Como realizar un Inverted join.\n",
        "- Como realizar un Save-All join.\n",
        "- Como realizar un Save-Best join.\n",
        "- Como realizar un spatial join.\n",
        "\n",
        "<img src=\"https://donnierock.files.wordpress.com/2014/03/udqpd.jpg\" align=\"right\" width = 60%/>"
      ]
    },
    {
      "cell_type": "code",
      "metadata": {
        "id": "EJEvmdSdTlrZ",
        "colab_type": "code",
        "colab": {}
      },
      "source": [
        "#@title Credenciales Google Earth Engine\n",
        "import os \n",
        "credential = '{\"refresh_token\":\"Ingrese_su_TOKEN_AQUI\"}'\n",
        "credential_file_path = os.path.expanduser(\"~/.config/earthengine/\")\n",
        "os.makedirs(credential_file_path,exist_ok=True)\n",
        "with open(credential_file_path + 'credentials', 'w') as file:\n",
        "    file.write(credential)"
      ],
      "execution_count": 0,
      "outputs": []
    },
    {
      "cell_type": "code",
      "metadata": {
        "id": "CXnVlnwFT5JW",
        "colab_type": "code",
        "colab": {}
      },
      "source": [
        "import ee\n",
        "from pprint import pprint\n",
        "ee.Initialize()"
      ],
      "execution_count": 0,
      "outputs": []
    },
    {
      "cell_type": "code",
      "metadata": {
        "id": "cxE8UBNNT6UA",
        "colab_type": "code",
        "cellView": "form",
        "colab": {}
      },
      "source": [
        "#@title mapdisplay: Crea mapas interactivos usando folium\n",
        "import folium\n",
        "def mapdisplay(center, dicc, Tiles=\"OpensTreetMap\",zoom_start=10):\n",
        "    '''\n",
        "    :param center: Center of the map (Latitude and Longitude).\n",
        "    :param dicc: Earth Engine Geometries or Tiles dictionary\n",
        "    :param Tiles: Mapbox Bright,Mapbox Control Room,Stamen Terrain,Stamen Toner,stamenwatercolor,cartodbpositron.\n",
        "    :zoom_start: Initial zoom level for the map.\n",
        "    :return: A folium.Map object.\n",
        "    '''\n",
        "    center = center[::-1]\n",
        "    mapViz = folium.Map(location=center,tiles=Tiles, zoom_start=zoom_start)\n",
        "    for k,v in dicc.items():\n",
        "      if ee.image.Image in [type(x) for x in v.values()]:\n",
        "        folium.TileLayer(\n",
        "            tiles = v[\"tile_fetcher\"].url_format,\n",
        "            attr  = 'Google Earth Engine',\n",
        "            overlay =True,\n",
        "            name  = k\n",
        "          ).add_to(mapViz)\n",
        "      else:\n",
        "        folium.GeoJson(\n",
        "        data = v,\n",
        "        name = k\n",
        "          ).add_to(mapViz)\n",
        "    mapViz.add_child(folium.LayerControl())\n",
        "    return mapViz"
      ],
      "execution_count": 0,
      "outputs": []
    },
    {
      "cell_type": "markdown",
      "metadata": {
        "id": "vrjD84SaT3CM",
        "colab_type": "text"
      },
      "source": [
        "Las `joins` se utilizan para combinar elementos de diferentes colecciones (por ejemplo, ImageCollection o FeatureCollection) en base a una condicion especificada por un `ee.Filter`. El filtro se construye con argumentos para las propiedades de cada coleccion que estan relacionadas entre si. En concreto, `leftField` especifica la propiedad de la colección primaria que esta relacionada con la `rightField` de la coleccion secundaria. El tipo de filtro (por ejemplo, `equals`, `greaterThanOrEquals`, `lessThan`, etc.) indica la relacion entre los campos. El tipo de union indica las relaciones de uno a muchos o de uno a uno entre los elementos de las colecciones y cuantas coincidencias hay que retener. El resultado de una union se produce por `join.apply()` y variara segun el tipo de union."
      ]
    },
    {
      "cell_type": "markdown",
      "metadata": {
        "id": "m5j19T9pXHN4",
        "colab_type": "text"
      },
      "source": [
        "### **1. Simple Join**\n",
        "\n",
        "Un `simple join` devuelve los elementos de la coleccion primaria que coinciden con cualquier elemento de la coleccion secundaria segun la condicion de coincidencia del filtro. Para realizar un `simple join`, use un  **ee.Join.simple()**. Esto puede ser util para encontrar los elementos comunes entre las diferentes colecciones o para filtrar una coleccion por otra. Por ejemplo, considere dos colecciones de imagenes que (podrian) tener algunos elementos coincidentes, donde la **\"coincidencia\"** se define por la condicion especificada en un filtro. Por ejemplo, dejemos que la coincidencia signifique que los ID de la imagen son iguales. Dado que las imagenes coincidentes en ambas colecciones son las mismas, utilice un `simple join` para descubrir este conjunto de imagenes coincidentes:"
      ]
    },
    {
      "cell_type": "code",
      "metadata": {
        "id": "9AgHMPDdVl-h",
        "colab_type": "code",
        "colab": {}
      },
      "source": [
        "# Cargue una coleccion de imagenes Landsat 8 en un punto de interes.\n",
        "collection = ee.ImageCollection('LANDSAT/LC08/C01/T1_TOA')\\\n",
        "               .filterBounds(ee.Geometry.Point(-122.09, 37.42));\n",
        "\n",
        "# Definir fechas de inicio y finalizacion con las que filtrar las colecciones.\n",
        "april = '2014-04-01'\n",
        "may = '2014-05-01'\n",
        "june = '2014-06-01'\n",
        "july = '2014-07-01'\n",
        "\n",
        "# La coleccion principal es imagenes Landsat de abril a junio.\n",
        "primary = collection.filterDate(april, june)\n",
        "\n",
        "# La coleccion secundaria es imagenes Landsat de mayo a julio.\n",
        "secondary = collection.filterDate(may, july)\n",
        "\n",
        "# Use un filtro igual para definir como coinciden las colecciones.\n",
        "my_filter = ee.Filter.equals(\n",
        "    leftField = 'system:index',\n",
        "    rightField = 'system:index'\n",
        ")\n",
        "\n",
        "# Crea el join.\n",
        "simpleJoin = ee.Join.simple()\n",
        "\n",
        "# Aplicar el join.\n",
        "simpleJoined = simpleJoin.apply(primary, secondary, my_filter)\n",
        "\n",
        "# Mostrar el resultado.\n",
        "print('Tipo de dato:',type(simpleJoined))\n",
        "print('Numero de elementos:', simpleJoined.size().getInfo())\n",
        "print('ID primer imagen:', ee.Feature(simpleJoined.toList(1).get(0)).get(\"system:index\").getInfo())\n",
        "print('ID segunda imagen:', ee.Feature(simpleJoined.toList(2).get(1)).get(\"system:index\").getInfo())"
      ],
      "execution_count": 0,
      "outputs": []
    },
    {
      "cell_type": "markdown",
      "metadata": {
        "id": "6gj77ZPAaQXf",
        "colab_type": "text"
      },
      "source": [
        "Esta salida muestra que dos imagenes coinciden (como se especifica en el filtro) entre las colecciones primarias y secundarias, imagenes al dia del año 125 y 141, o 5 y 21 de mayo. Una caracteristica importante a recordar es que siempre el resultado (output) luego de realizar un Join sera un **FeatureCollection** a pesar que se esta trabajando con Imagenes, puede forzar la conversión a un ee.ImageCollection utilizando **`ee.ImageCollection(simpleJoined)`**"
      ]
    },
    {
      "cell_type": "code",
      "metadata": {
        "id": "rc5dL63ndmt5",
        "colab_type": "code",
        "colab": {}
      },
      "source": [
        "#ee.ImageCollection(simpleJoined).first().getInfo()\n",
        "simpleJoined.first().getInfo()"
      ],
      "execution_count": 0,
      "outputs": []
    },
    {
      "cell_type": "markdown",
      "metadata": {
        "id": "sJuFjLsWeD5g",
        "colab_type": "text"
      },
      "source": [
        "### **2. Inverted Join**\n",
        "\n",
        "Suponga que el proposito de la union es retener todas las imagenes en la coleccion primaria que no estan en la coleccion secundaria. Puede realizar este tipo de union invertida utilizando **ee.Join.inverted()**. Usando el filtro, colecciones primarias y secundarias como se define en el ejemplo de combinacion simple, especifique el `inverted join` de la siguiente manera:"
      ]
    },
    {
      "cell_type": "code",
      "metadata": {
        "id": "HCquOm9Oeu4Q",
        "colab_type": "code",
        "outputId": "bfaa406b-5f9a-42e4-803d-4d8d4f3928ec",
        "colab": {
          "base_uri": "https://localhost:8080/",
          "height": 85
        }
      },
      "source": [
        "# Crear el  join.\n",
        "invertedJoin = ee.Join.inverted()\n",
        "\n",
        "# Aplicar el  join\n",
        "invertedJoined = invertedJoin.apply(primary, secondary, my_filter)\n",
        "\n",
        "#Mostrar el resultado\n",
        "print('Tipo de dato:',type(invertedJoined))\n",
        "print('Numero de elementos:', invertedJoined.size().getInfo())\n",
        "print('ID primer imagen:', ee.Feature(invertedJoined.toList(1).get(0)).get(\"system:index\").getInfo())\n",
        "print('ID segunda imagen:', ee.Feature(invertedJoined.toList(2).get(1)).get(\"system:index\").getInfo())"
      ],
      "execution_count": 0,
      "outputs": [
        {
          "output_type": "stream",
          "text": [
            "Tipo de dato: <class 'ee.featurecollection.FeatureCollection'>\n",
            "Numero de elementos: 2\n",
            "ID primer imagen: LC08_044034_20140403\n",
            "ID segunda imagen: LC08_044034_20140419\n"
          ],
          "name": "stdout"
        }
      ]
    },
    {
      "cell_type": "markdown",
      "metadata": {
        "id": "XeIlsCBifL9I",
        "colab_type": "text"
      },
      "source": [
        "El `inversed join` a diferencia del `simple join` devolvera las imagenes del 3 de abril y del 19 de abril, indicando las imagenes que estan presentes en la coleccion primaria pero no en la secundaria."
      ]
    },
    {
      "cell_type": "markdown",
      "metadata": {
        "id": "o0wXhGjvhv-9",
        "colab_type": "text"
      },
      "source": [
        "### **3. Inner Joins**\n",
        "\n",
        "Para enumerar todas las coincidencias entre los elementos de dos colecciones, use un `ee.Join.inner()`. La salida de un _inner join_ es un `FeatureCollection` (incluso si se une una `ImageCollection` a otra `ImageCollection`). Cada feature del resultado (output) representa una coincidencia, donde los elementos coincidentes **se almacenan en las propiedades del feature**. Por ejemplo, `feature.get('primary')` es el elemento de la coleccion primaria que coincide con el elemento de la coleccion secundaria almacenado en `feature.get('secundary')`. (Se pueden especificar diferentes nombres para estas propiedades como argumentos de `inner()`, pero `'primary'` y `'secondary'` son los predeterminados). Las relaciones de uno a muchos están representadas por multiples features en la salida. Si un elemento de cualquiera de las dos colecciones no tiene una coincidencia, no estara presente en la salida.\n",
        "\n",
        "Los ejemplos sobre `join` que utilizan como entrada un `ImageCollection` se aplican sin modificacion a las entradas de `FeatureCollection`. Tambien es posible unir un `FeatureCollection` a un `ImageCollection` y viceversa. Considere el siguiente ejemplo sobre `inner join`:\n"
      ]
    },
    {
      "cell_type": "code",
      "metadata": {
        "id": "fjBxsfVJe4y7",
        "colab_type": "code",
        "colab": {}
      },
      "source": [
        "# Crear una coleccion primaria\n",
        "primaryFeatures = ee.FeatureCollection([\n",
        "  ee.Feature(None, {'foo': 0, 'label': 'a'}),\n",
        "  ee.Feature(None, {'foo': 1, 'label': 'b'}),\n",
        "  ee.Feature(None, {'foo': 1, 'label': 'c'}),\n",
        "  ee.Feature(None, {'foo': 2, 'label': 'd'}),\n",
        "])\n",
        "\n",
        "# Crear una coleccion secundaria\n",
        "secondaryFeatures = ee.FeatureCollection([\n",
        "  ee.Feature(None, {'bar': 1, 'label': 'e'}),\n",
        "  ee.Feature(None, {'bar': 1, 'label': 'f'}),\n",
        "  ee.Feature(None, {'bar': 2, 'label': 'g'}),\n",
        "  ee.Feature(None, {'bar': 3, 'label': 'h'}),\n",
        "])\n",
        "\n",
        "# Use un filtro igual para especificar cómo coinciden las colecciones.\n",
        "toyFilter = ee.Filter.equals(\n",
        "    leftField = 'foo',\n",
        "    rightField = 'bar'\n",
        ")\n",
        "\n",
        "# Defina un join.\n",
        "innerJoin = ee.Join.inner('primary', 'secondary')\n",
        "\n",
        "# Aplique un join.\n",
        "toyJoin = innerJoin.apply(primaryFeatures, secondaryFeatures, toyFilter)\n",
        "\n",
        "# Imprima los resultados\n",
        "toyJoin.getInfo()"
      ],
      "execution_count": 0,
      "outputs": []
    },
    {
      "cell_type": "markdown",
      "metadata": {
        "id": "UvUM_Eb5sXXP",
        "colab_type": "text"
      },
      "source": [
        "En el ejemplo anterior, observe que la relacion entre las tablas esta definida en el filtro, lo que indica que los campos `\"foo\"` y `\"bar\"` son los campos de union. A continuacion se especifica un `inner join` y se aplica a las colecciones. Inspeccione la salida y observe que cada posible union se representa como un `feature`.\n",
        "\n",
        "Para un ejemplo mas interesante, considere \"unir\" los objetos de MODIS (ImageCollection). Los datos de calidad de MODIS se almacenan a veces en una coleccion separada de los datos de imagen, por lo que un `inner join` es conveniente para unir las dos colecciones a fin de aplicar los datos de calidad. En este caso, los tiempos de adquisicion de la imagen son identicos, por lo que un `filter equals` se encargara de especificar esta relacion entre las dos colecciones:\n"
      ]
    },
    {
      "cell_type": "code",
      "metadata": {
        "id": "4e_oQ05Rjlbh",
        "colab_type": "code",
        "colab": {}
      },
      "source": [
        "# Haz un filtro de fechas para obtener imagenes en este rango.\n",
        "dateFilter = ee.Filter.date('2014-01-01', '2014-02-01')\n",
        "\n",
        "# Carga los datos EVI de MODIS\n",
        "mcd43a4 = ee.ImageCollection('MODIS/MCD43A4_006_EVI')\\\n",
        "            .filter(dateFilter)\n",
        "\n",
        "# Cargar una colección de MODIS con datos de calidad.\n",
        "mcd43a2 = ee.ImageCollection('MODIS/006/MCD43A2')\\\n",
        "            .filter(dateFilter)\n",
        "\n",
        "# Defina un Inner Join\n",
        "innerJoin = ee.Join.inner()\n",
        "\n",
        "# Especificar un filtro de igualdad para las marcas de tiempo de la imagen.\n",
        "filterTimeEq = ee.Filter.equals(\n",
        "  leftField = 'system:time_start',\n",
        "  rightField = 'system:time_start'\n",
        ")\n",
        "\n",
        "# Aplicar el join.\n",
        "innerJoinedMODIS = innerJoin.apply(mcd43a4, mcd43a2, filterTimeEq)\n",
        "\n",
        "# Muestre los resultados del join: recuerde que siempre sera un FeatureCollection!\n",
        "innerJoinedMODIS.getInfo()"
      ],
      "execution_count": 0,
      "outputs": []
    },
    {
      "cell_type": "markdown",
      "metadata": {
        "id": "zNrLcOt3vDHG",
        "colab_type": "text"
      },
      "source": [
        "Para hacer uso de las imagenes unidas en la salida FeatureCollection, `map()` una funcion de combinacion sobre la salida. Por ejemplo, las imágenes unidas pueden ser apiladas de tal manera que las bandas de calidad se añadan a los datos de la imagen:"
      ]
    },
    {
      "cell_type": "code",
      "metadata": {
        "id": "Sml0VGuKvJrE",
        "colab_type": "code",
        "colab": {}
      },
      "source": [
        "# Mapea una funcion para fusionar los resultados en la salida FeatureCollection.\n",
        "joinedMODIS = innerJoinedMODIS.map(lambda feature: ee.Image.cat(feature.get('primary'), feature.get('secondary')))\n",
        "\n",
        "# Imprime el resultado de la fusion.\n",
        "joinedMODIS.first().getInfo()"
      ],
      "execution_count": 0,
      "outputs": []
    },
    {
      "cell_type": "markdown",
      "metadata": {
        "id": "_4BdkTZpwe0P",
        "colab_type": "text"
      },
      "source": [
        "El resultado aqui es una ImageCollection a pesar de aparecer como FeatureCollection. Cada imagen en la ImageCollection resultante tiene todas las bandas de las imagenes de la colección primaria (en este ejemplo sólo 'EVI') y todas las bandas de la imagen coincidente de la coleccion secundaria (las bandas de calidad)."
      ]
    },
    {
      "cell_type": "markdown",
      "metadata": {
        "id": "qdzWa_sIwxNU",
        "colab_type": "text"
      },
      "source": [
        "### **4. Save-All Joins**\n",
        "\n",
        "Save-joins es la forma mas comun de representar las relaciones `one-to-many` en Earth Engine. A diferencia de un `inner join`, un\n",
        "save-join guarda las coincidencias de la colección secundaria como una propiedad nombrada de los `features` de la coleccion primaria. Para guardar todas esas coincidencias, use un `ee.Join.saveAll()`. Si hay una relacion `one-to-many`, un join `saveAll()` almacena todas los features coincidentes como una `ee.List`. Los elementos no coincidentes de la coleccion primaria se eliminan. Por ejemplo, supongamos que es necesario obtener todas las imágenes MODIS adquiridas en un plazo de dos dias a partir de cada imagen Landsat de una coleccion. Este ejemplo utiliza un join `saveAll()` para ese propósito:\n"
      ]
    },
    {
      "cell_type": "code",
      "metadata": {
        "id": "ga7sVI-6wBSU",
        "colab_type": "code",
        "colab": {}
      },
      "source": [
        "# Cargar la collecion primaria: Landsat .\n",
        "primary = ee.ImageCollection('LANDSAT/LC08/C01/T1_TOA')\\\n",
        "            .filterDate('2014-04-01', '2014-06-01')\\\n",
        "            .filterBounds(ee.Geometry.Point(-122.092, 37.42))\n",
        "\n",
        "# Cargar la collecion secundaria: MODIS.\n",
        "modSecondary = ee.ImageCollection('MODIS/006/MOD09GA')\\\n",
        "                 .filterDate('2014-03-01', '2014-07-01')\n",
        "\n",
        "# Defina una diferencia de tiempo permitida: dos días en milisegundos.\n",
        "twoDaysMillis = 2 * 24 * 60 * 60 * 1000\n",
        "\n",
        "# Cree un filtro de tiempo para definir una coincidencia como marcas de tiempo superpuestas.\n",
        "timeFilter = ee.Filter.Or(\n",
        "  ee.Filter.maxDifference(\n",
        "    difference = twoDaysMillis,\n",
        "    leftField = 'system:time_start',\n",
        "    rightField = 'system:time_end'\n",
        "  ),\n",
        "  ee.Filter.maxDifference(\n",
        "    difference = twoDaysMillis,\n",
        "    leftField = 'system:time_end',\n",
        "    rightField = 'system:time_start'\n",
        " )\n",
        ")\n",
        "\n",
        "# Defina el join\n",
        "saveAllJoin = ee.Join.saveAll(\n",
        "  matchesKey =  'terra',\n",
        "  ordering = 'system:time_start',\n",
        "  ascending =  True\n",
        ")\n",
        "\n",
        "# Aplique el join\n",
        "landsatModis = saveAllJoin.apply(primary, modSecondary, timeFilter)\n",
        "\n",
        "# Display los resultados.\n",
        "ee.Image(landsatModis.first()).getInfo()"
      ],
      "execution_count": 0,
      "outputs": []
    },
    {
      "cell_type": "markdown",
      "metadata": {
        "id": "adwLYyX90z3h",
        "colab_type": "text"
      },
      "source": [
        "En este ejemplo, notese que la **coleccion secundaria** de MODIS esta prefiltrada para ser cronologicamente similar a la coleccipn primaria de Landsat para mayor eficiencia. Para comparar el tiempo de adquisicion del Landsat con el tiempo compuesto del MODIS, que tiene un rango diario el filtro compara los puntos finales de las marcas de tiempo de la imagen. El join se define con el nombre de la propiedad utilizada para almacenar la lista de coincidencias para cada imagen Landsat ('terra') y el parametro opcional para ordenar la lista de coincidencias por la propiedad `system:time_start`.\n",
        "\n",
        "La inspeccion del resultado indica que las imagenes de la coleccion primaria tienen la propiedad de tierra añadida que almacena una lista de las imagenes MODIS coincidentes.\n",
        "\n"
      ]
    },
    {
      "cell_type": "markdown",
      "metadata": {
        "id": "26uFFAXu1p06",
        "colab_type": "text"
      },
      "source": [
        "### **5. Save-Best Joins**\n",
        "\n",
        "Para guardar solo la mejor coincidencia de cada elemento de una coleccion, usa un `ee.Join.saveBest()`. La funcion join `saveBest()` funciona de forma equivalente a `saveAll()`, excepto que para cada elemento de la coleccion primaria, guarda el elemento de la coleccion secundaria con la mejor coincidencia. Los elementos no coincidentes en la coleccion primaria se eliminan. Supongamos que la intencion es encontrar una imagen meteorologica mas cercana en el tiempo a cada imagen de Landsat en la colección primaria. Para realizar esta union, el `ee.Filter` debe ser redefinido para una sola condicion de union (los filtros combinados no funcionaran con saveBest() ya que es ambiguo como combinar rangos de multiples sub-filtros):\n",
        "\n"
      ]
    },
    {
      "cell_type": "code",
      "metadata": {
        "id": "RshtPIgz1t94",
        "colab_type": "code",
        "colab": {}
      },
      "source": [
        "# Load a primary collection: Landsat imagery.\n",
        "primary = ee.ImageCollection('LANDSAT/LC08/C01/T1_TOA')\\\n",
        "            .filterDate('2014-04-01', '2014-06-01')\\\n",
        "            .filterBounds(ee.Geometry.Point(-122.092, 37.42))\n",
        "\n",
        "# Load a secondary collection: GRIDMET meteorological data\n",
        "gridmet = ee.ImageCollection('IDAHO_EPSCOR/GRIDMET')\n",
        "\n",
        "# Define a max difference filter to compare timestamps.\n",
        "maxDiffFilter = ee.Filter.maxDifference(\n",
        "  difference = 2 * 24 * 60 * 60 * 1000,\n",
        "  leftField = 'system:time_start',\n",
        "  rightField = 'system:time_start'\n",
        ")\n",
        "\n",
        "# Define the join.\n",
        "saveBestJoin = ee.Join.saveBest(\n",
        "  matchKey = 'bestImage',\n",
        "  measureKey = 'timeDiff'\n",
        ")\n",
        "\n",
        "# Apply the join.\n",
        "landsatMet = saveBestJoin.apply(primary, gridmet, maxDiffFilter)\n",
        "\n",
        "# Print the result\n",
        "landsatMet.first().getInfo()"
      ],
      "execution_count": 0,
      "outputs": []
    },
    {
      "cell_type": "markdown",
      "metadata": {
        "id": "sRCLHEh5BTVT",
        "colab_type": "text"
      },
      "source": [
        "Notese que una union `saveBest()` define el nombre de la propiedad con la que se almacena la mejor coincidencia (`'bestImage'`) y el nombre de la propiedad con la que se almacena la fiabilidad de la metrica de la coincidencia ('timeDiff'). La inspeccion de los resultados indica que se ha añadido una imagen DAYMET coincidente a la propiedad `bestImage` para cada escena Landsat de la colección primaria. Cada una de estas imagenes `DAYMET` tiene la propiedad `timeDiff` que indica la diferencia de tiempo en milisegundos entre la imagen DAYMET y la imagen Landsat, que sera minima entre las imagenes `DAYMET` que pasan la condicion en el filtro.\n"
      ]
    },
    {
      "cell_type": "markdown",
      "metadata": {
        "id": "cpPdDx-OBx99",
        "colab_type": "text"
      },
      "source": [
        "### **6. Spatial Joins**\n",
        "\n",
        "Las colecciones pueden unirse por su ubicacion espacial asi como por los valores de las propiedades. Para unirlas en base a la ubicacion espacial utilice un filtro `withinDistance()` con los campos de join `.geo` especificados. El campo `.geo` indica que la geometria del elemento debe utilizarse para calcular la metrica de la distancia. Por ejemplo, considere la tarea de encontrar todas las plantas de energia dentro de los 100 kilometros del Parque Nacional Yosemite, EE.UU. Para ello, utilice un filtro en los campos de geometria, con la distancia maxima establecida en 100 kilometros utilizando el parametro de distancia:\n"
      ]
    },
    {
      "cell_type": "code",
      "metadata": {
        "id": "bMKlJLMVBsGT",
        "colab_type": "code",
        "colab": {}
      },
      "source": [
        "# Cargamos la collecion primaria: areas protegidas (Yosemite National Park).\n",
        "primary = ee.FeatureCollection(\"WCMC/WDPA/current/polygons\")\\\n",
        "            .filter(ee.Filter.eq('NAME', 'Yosemite National Park'))\n",
        "\n",
        "# Cargamos la coleccion secundaria: plantas de energia.\n",
        "powerPlants = ee.FeatureCollection('WRI/GPPD/power_plants')\n",
        "\n",
        "# Definimos un filter espacial, con distancia de 100 km.\n",
        "distFilter = ee.Filter.withinDistance(\n",
        "  distance = 100000,\n",
        "  leftField = '.geo',\n",
        "  rightField = '.geo',\n",
        "  maxError = 10\n",
        ")\n",
        "\n",
        "# Defina un saveAll join.\n",
        "distSaveAll = ee.Join.saveAll(\n",
        "  matchesKey = 'points',\n",
        "  measureKey = 'distance'\n",
        ")\n",
        "\n",
        "# Aplica los join.\n",
        "spatialJoined = distSaveAll.apply(primary, powerPlants, distFilter)\n",
        "\n",
        "# Imprima los resultados.\n",
        "spatialJoined.first().getInfo()"
      ],
      "execution_count": 0,
      "outputs": []
    },
    {
      "cell_type": "markdown",
      "metadata": {
        "id": "CuvNk9wAD0i2",
        "colab_type": "text"
      },
      "source": [
        "Observe que el ejemplo anterior une un `FeatureCollection` con otro `FeatureCollection`. El join `saveAll()` establece una propiedad (`point`) en cada feature de la coleccion `primaria` que almacena una lista de los puntos en un radio de 100 km del `feature`. La distancia de cada punto al `feature` se almacena en la propiedad de distancia de cada punto unido.\n",
        "\n",
        "Las uniones espaciales tambien pueden utilizarse para identificar que rasgos de una coleccion se cruzan con los de otra. Por ejemplo, consideremos dos colecciones de rasgos: una `coleccion primaria` que contiene poligonos que representan los limites de los estados de los `EE.UU`, y una `coleccion secundaria` que contiene ubicaciones de puntos que representan centrales electricas. Supongamos que es necesario determinar el numero que intersecta cada estado. Esto se puede lograr con una union espacial como la siguiente:"
      ]
    },
    {
      "cell_type": "code",
      "metadata": {
        "id": "Pl_MsefsD0Pd",
        "colab_type": "code",
        "colab": {}
      },
      "source": [
        "# Cargue la colección primaria: limites de estados en EEUU.\n",
        "states = ee.FeatureCollection('TIGER/2018/States')\n",
        "\n",
        "# Cargue la colección secundaria: plantas de energia.\n",
        "powerPlants = ee.FeatureCollection('WRI/GPPD/power_plants')\n",
        "\n",
        "# Defina un filtro espacial como geometrías que se cruzan.\n",
        "spatialFilter = ee.Filter.intersects(\n",
        "  leftField = '.geo',\n",
        "  rightField = '.geo',\n",
        "  maxError = 10\n",
        ")\n",
        "\n",
        "# Defina un save all join.\n",
        "saveAllJoin = ee.Join.saveAll(\n",
        "  matchesKey = 'power_plants',\n",
        ")\n",
        "\n",
        "# Aplique el join.\n",
        "intersectJoined = saveAllJoin.apply(states, powerPlants, spatialFilter)\n",
        "\n",
        "# Agregue el conteo de plantas de energia por estado como propiedad.\n",
        "def npowerplants(state):\n",
        "  # Obtenga la lista de intersecciones \"power_plant\", cuente cuántas intersecaron este estado.\n",
        "  nPowerPlants = ee.List(state.get('power_plants')).size()\n",
        "  # Devuelve la función de estado con una nueva propiedad: recuento de plantas de energía.\n",
        "  return state.set('n_power_plants', nPowerPlants)\n",
        "\n",
        "intersectJoined = intersectJoined.map(npowerplants)"
      ],
      "execution_count": 0,
      "outputs": []
    }
  ]
}