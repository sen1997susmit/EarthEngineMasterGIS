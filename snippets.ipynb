{
  "nbformat": 4,
  "nbformat_minor": 0,
  "metadata": {
    "colab": {
      "name": "snippets.ipynb",
      "provenance": [],
      "collapsed_sections": [],
      "authorship_tag": "ABX9TyMTKieJvyZynbqBO2b+wEBN",
      "include_colab_link": true
    },
    "kernelspec": {
      "name": "python3",
      "display_name": "Python 3"
    }
  },
  "cells": [
    {
      "cell_type": "markdown",
      "metadata": {
        "id": "view-in-github",
        "colab_type": "text"
      },
      "source": [
        "<a href=\"https://colab.research.google.com/github/csaybar/EarthEngineMasterGIS/blob/master/snippets.ipynb\" target=\"_parent\"><img src=\"https://colab.research.google.com/assets/colab-badge.svg\" alt=\"Open In Colab\"/></a>"
      ]
    },
    {
      "cell_type": "markdown",
      "metadata": {
        "id": "oz7Y430_bRWP",
        "colab_type": "text"
      },
      "source": [
        "# Comandos Basicos de Linux"
      ]
    },
    {
      "cell_type": "code",
      "metadata": {
        "id": "L_FS2Sy0a7ih",
        "colab_type": "code",
        "colab": {}
      },
      "source": [
        "!pwd # Obtener ruta de trabajo\n",
        "!ls # Listado de archivos y carpetas\n",
        "cd # Cambiar directorio de trabajo\n",
        "!cp # Copiar un archivo"
      ],
      "execution_count": 0,
      "outputs": []
    },
    {
      "cell_type": "markdown",
      "metadata": {
        "id": "zpwK8ZspexQw",
        "colab_type": "text"
      },
      "source": [
        "# Conectar rapidamente Google Earth Engine\n",
        "\n",
        "Para conectarte con GEE necesitas superar dos pasos: autentificarte e inicializar. Con este pequeño snippet puedes saltarte el primer paso. Pero ten cuidado!"
      ]
    },
    {
      "cell_type": "code",
      "metadata": {
        "id": "gMv5zHWRe0jG",
        "colab_type": "code",
        "cellView": "form",
        "colab": {}
      },
      "source": [
        "#@title Credenciales Google Earth Engine\n",
        "import os \n",
        "credential = '{\"refresh_token\":\"ESCRIBE_TU_TOKEN_AQUI\"\n",
        "credential_file_path = os.path.expanduser(\"~/.config/earthengine/\")\n",
        "os.makedirs(credential_file_path,exist_ok=True)\n",
        "with open(credential_file_path + 'credentials', 'w') as file:\n",
        "    file.write(credential)"
      ],
      "execution_count": 0,
      "outputs": []
    },
    {
      "cell_type": "markdown",
      "metadata": {
        "id": "mU2v_L8qm5Nx",
        "colab_type": "text"
      },
      "source": [
        "# Crear mapa interactivo leaflet\n",
        "Python no tiene un mapa por defecto como el code editor, sin embargo, podemos construir uno usando folium!"
      ]
    },
    {
      "cell_type": "code",
      "metadata": {
        "id": "e3nMnrVym79a",
        "colab_type": "code",
        "cellView": "form",
        "colab": {}
      },
      "source": [
        "#@title mapdisplay: Crea mapas interactivos usando folium\n",
        "import folium\n",
        "def mapdisplay(center, dicc, Tiles=\"OpensTreetMap\",zoom_start=10):\n",
        "    '''\n",
        "    :param center: Center of the map (Latitude and Longitude).\n",
        "    :param dicc: Earth Engine Geometries or Tiles dictionary\n",
        "    :param Tiles: Mapbox Bright,Mapbox Control Room,Stamen Terrain,Stamen Toner,stamenwatercolor,cartodbpositron.\n",
        "    :zoom_start: Initial zoom level for the map.\n",
        "    :return: A folium.Map object.\n",
        "    '''\n",
        "    center = center[::-1]\n",
        "    mapViz = folium.Map(location=center,tiles=Tiles, zoom_start=zoom_start)\n",
        "    for k,v in dicc.items():\n",
        "      if ee.image.Image in [type(x) for x in v.values()]:\n",
        "        folium.TileLayer(\n",
        "            tiles = v[\"tile_fetcher\"].url_format,\n",
        "            attr  = 'Google Earth Engine',\n",
        "            overlay =True,\n",
        "            name  = k\n",
        "          ).add_to(mapViz)\n",
        "      else:\n",
        "        folium.GeoJson(\n",
        "        data = v,\n",
        "        name = k\n",
        "          ).add_to(mapViz)\n",
        "    mapViz.add_child(folium.LayerControl())\n",
        "    return mapViz"
      ],
      "execution_count": 0,
      "outputs": []
    },
    {
      "cell_type": "markdown",
      "metadata": {
        "id": "E8tjfybTC00P",
        "colab_type": "text"
      },
      "source": [
        "# Monitoreo de tareas\n",
        "\n",
        "Monitorea tus tareas en Google Earth Engine"
      ]
    },
    {
      "cell_type": "code",
      "metadata": {
        "id": "V5tpMto7C2Y7",
        "colab_type": "code",
        "colab": {}
      },
      "source": [
        "import time \n",
        "def ee_monitoring(ee_task):\n",
        "  while ee_task.active():\n",
        "    print('Sondeo de la tarea (id: {}).'.format(ee_task.id))\n",
        "    time.sleep(5)"
      ],
      "execution_count": 0,
      "outputs": []
    },
    {
      "cell_type": "markdown",
      "metadata": {
        "id": "iGRcJXINhxaB",
        "colab_type": "text"
      },
      "source": [
        "# Funcion para enmascarar nubes SENTINEL-2\n",
        "\n",
        "Enmascara nubes utilizando Sentinel-2"
      ]
    },
    {
      "cell_type": "code",
      "metadata": {
        "id": "8BJYTkadh1I_",
        "colab_type": "code",
        "colab": {}
      },
      "source": [
        "def maskS2clouds(image):\n",
        "  qa = image.select('QA60')\n",
        "  opaque_cloud = 1 << 10\n",
        "  cirrus_cloud = 1 << 11\n",
        "  mask = qa.bitwiseAnd(opaque_cloud).eq(0)\\\n",
        "           .And(qa.bitwiseAnd(cirrus_cloud).eq(0))\n",
        "  clean_image = image.updateMask(mask)\n",
        "  return clean_image"
      ],
      "execution_count": 0,
      "outputs": []
    },
    {
      "cell_type": "markdown",
      "metadata": {
        "id": "7zHY04vF2FTg",
        "colab_type": "text"
      },
      "source": [
        "# Generar Base de Datos Espacial -I"
      ]
    },
    {
      "cell_type": "code",
      "metadata": {
        "id": "z2FStKQV2J2O",
        "colab_type": "code",
        "colab": {}
      },
      "source": [
        "def spatial_dataset(geom, prefix, folder, scale, variables = None):\n",
        "  '''\n",
        "  Genere una base de datos espacial. Para cualquier parte del Mundo usando \n",
        "  Google Earth Engine.\n",
        "  \n",
        "  > ARGUMENTOS:\n",
        "\n",
        "  geom: area de interes (ee.Geometry.Polygon)\n",
        "  prefix: homogenizar nombres (prefijo)\n",
        "  folder: Nombre de la carpeta en Google Drive a guardar.\n",
        "  scale: El tamaño de celda de la base de datos.\n",
        "  variables: Variables soportadas en la funcion. Ver detalles:\n",
        "\n",
        "  > DETALLES:\n",
        "\n",
        "  SRTM: Modelo de Elevacion hidrologicamente condicionado. \n",
        "        Lehner, B., Verdin, K., Jarvis, A. (2008): New global hydrography \n",
        "        derived from spaceborne elevation data. Eos, Transactions, AGU, \n",
        "        89(10): 93-94.\n",
        "\n",
        "  SLOPE: Mapa de pendiente generado a partir de MDE.\n",
        "\n",
        "  ASPECT: Mapa de aspecto generado a partir de MDE.\n",
        "\n",
        "  HILLSHADE: Modelo de sombras generado a partir de MDE.\n",
        "\n",
        "  FLOWDIR: Direccion de flujo generado a partir de los datos\n",
        "           SRTM.\n",
        "  \n",
        "  FLOWACC: Acumulacion de flujo generado a partir de los datos\n",
        "           SRTM.\n",
        "\n",
        "  ORGANIC: Materia organica (g/kg) al raz del suelo.\n",
        "           Tomislav Hengl, & Ichsani Wheeler. (2018). Soil organic carbo\n",
        "           n content in x 5 g / kg at 6 standard depths (0, 10, 30, 60,\n",
        "           100 and 200 cm) at 250 m resolution (Version v02) [Data set].\n",
        "            Zenodo. 10.5281/zenodo.1475457\n",
        "\n",
        "  DENSITY: Densidad aparente del suelo al raz del suelo.\n",
        "\n",
        "  RAIN: Datos de lluvia mensual (mm/month). \n",
        "        Abatzoglou, J.T., S.Z. Dobrowski, S.A. Parks, K.C. Hegewisch, 2018,\n",
        "        Terraclimate, a high-resolution global dataset of monthly climate \n",
        "        and climatic water balance from 1958-2015, Scientific Data 5:170191,\n",
        "         doi: 10.1038/sdata.2017.191\n",
        "\n",
        "  ETP: Datos de evapotranspiracion de referencia (ASCE Penman-Montieth).\n",
        "\n",
        "  NDVI_mean: Datos de NVDI calculado a partir de datos Landsat.\n",
        "\n",
        "  LANDUSE: Uso de suelo Copernicus.\n",
        "           Buchhorn, M. ; Smets, B. ; Bertels, L. ; Lesiv, M. ; Tsendbazar,\n",
        "           N. - E. ; Herold, M. ; Fritz, S. Copernicus Global Land Service:\n",
        "           Land Cover 100m: epoch 2015: Globe. Dataset of the global component\n",
        "           of the Copernicus Land Monitoring Service 2019. DOI \n",
        "           10.5281/zenodo.3243509\n",
        "  '''\n",
        "  if variables is None:\n",
        "    variables = ['srtm','slope','aspect','hillshade','flowdir','flowacc',\n",
        "                 'organic','density','rain','etp','ndvi_mean','landcover']\n",
        "\n",
        "  ee_var = {}\n",
        "  \n",
        "  # 1. ee.Image relacionadas a un key\n",
        "  #    e.g: srtm ---> WWF/HydroSHEDS/03CONDEM\n",
        "  if 'srtm' in variables:\n",
        "    srtm = ee.Image(\"WWF/HydroSHEDS/03CONDEM\")\n",
        "    ee_var['srtm'] = srtm    \n",
        "  if 'slope' in variables:\n",
        "    slope = ee.Terrain.slope(srtm)\n",
        "    ee_var['slope'] = slope\n",
        "  if 'aspect' in variables:\n",
        "    aspect = ee.Terrain.aspect(srtm)\n",
        "    ee_var['aspect'] = aspect    \n",
        "  if 'hillshade' in variables:\n",
        "    hillshade = ee.Terrain.hillshade(srtm)\n",
        "    ee_var['hillshade'] = hillshade\n",
        "  if 'flowdir' in variables:   \n",
        "    flowdir = ee.Image(\"WWF/HydroSHEDS/03DIR\")\n",
        "    ee_var['flowdir'] = flowdir\n",
        "  if 'flowacc' in variables:   \n",
        "    flowacc = ee.Image(\"WWF/HydroSHEDS/15ACC\")\n",
        "    ee_var['flowacc'] = flowacc\n",
        "  if 'organic' in variables:       \n",
        "    organic = ee.Image(\"OpenLandMap/SOL/SOL_ORGANIC-CARBON_USDA-6A1C_M/v02\")\n",
        "    ee_var['organic'] = organic\n",
        "  if 'density' in variables:       \n",
        "    density = ee.Image(\"OpenLandMap/SOL/SOL_BULKDENS-FINEEARTH_USDA-4A1H_M/v02\")\n",
        "    ee_var['density'] = density\n",
        "  if 'rain' in variables:           \n",
        "    rain = ee.ImageCollection(\"IDAHO_EPSCOR/TERRACLIMATE\").mean().select('pr')\n",
        "    ee_var['rain'] = rain\n",
        "  if 'etp' in variables:           \n",
        "    etp = ee.ImageCollection(\"IDAHO_EPSCOR/TERRACLIMATE\").mean().select('pet')    \n",
        "    ee_var['etp'] = etp\n",
        "  if 'ndvi_mean' in variables:               \n",
        "    ndvi_mean = ee.ImageCollection(\"LANDSAT/LT05/C01/T1_32DAY_NDVI\").mean().select('NDVI')\n",
        "    ee_var['ndvi_mean'] = ndvi_mean\n",
        "  if 'landcover' in variables:                   \n",
        "    landcover = ee.ImageCollection(\"COPERNICUS/Landcover/100m/Proba-V/Global\").first().select('discrete_classification')\n",
        "    ee_var['landcover'] = landcover\n",
        "\n",
        "  # 2. Descargar imagenes \n",
        "  for key, value in ee_var.items():\n",
        "    to_download = ee.Image(value).clip(geom)\n",
        "    task = ee.batch.Export.image.toDrive(\n",
        "      image=to_download,\n",
        "      description= prefix+key,\n",
        "      folder=folder,      \n",
        "      scale=scale,\n",
        "      region = geom\n",
        "    ) \n",
        "    task.start()\n",
        "    print('Descargando: '+prefix+key+'.tif')"
      ],
      "execution_count": 0,
      "outputs": []
    },
    {
      "cell_type": "markdown",
      "metadata": {
        "id": "wqq3dZkf-4we",
        "colab_type": "text"
      },
      "source": [
        "# Generador de ImageCollection Sentinel2"
      ]
    },
    {
      "cell_type": "code",
      "metadata": {
        "id": "8rcnhIqT-5Bz",
        "colab_type": "code",
        "colab": {}
      },
      "source": [
        "def clean_s2(init_date, last_date, roi, cloud_per, calendar, bands):\n",
        "  def maskS2clouds(image):\n",
        "    qa = image.select('QA60')\n",
        "    opaque_cloud = 1 << 10 #1*2**10\n",
        "    cirrus_cloud = 1 << 11 #1*2**11\n",
        "    mask = qa.bitwiseAnd(opaque_cloud).eq(0)\\\n",
        "             .And(qa.bitwiseAnd(cirrus_cloud).eq(0))\n",
        "    clean_image = image.updateMask(mask).select(bands)\n",
        "    return clean_image.copyProperties(image, ['system:time_start'])\n",
        "  ic_s2 = ee.ImageCollection(\"COPERNICUS/S2_SR\")\\\n",
        "               .filterBounds(roi)\\\n",
        "               .filterDate(init_date, last_date)\\\n",
        "               .filter(ee.Filter.calendarRange(calendar[0], calendar[1],'month'))\\\n",
        "               .filter(ee.Filter.lt('CLOUDY_PIXEL_PERCENTAGE', cloud_per))\\\n",
        "               .map(maskS2clouds)\n",
        "  return ic_s2"
      ],
      "execution_count": 0,
      "outputs": []
    },
    {
      "cell_type": "markdown",
      "metadata": {
        "id": "ZtbAd0kP--s_",
        "colab_type": "text"
      },
      "source": [
        "# Obtener fechas en un  ImageCollection"
      ]
    },
    {
      "cell_type": "code",
      "metadata": {
        "id": "G6DazVdt_DJr",
        "colab_type": "code",
        "colab": {}
      },
      "source": [
        "from datetime import datetime as dt\n",
        "def ee_get_dates(ic):\n",
        "  dates = ic.aggregate_array('system:time_start').getInfo()\n",
        "  anonym = lambda x: dt.utcfromtimestamp(x/1000).strftime('%Y-%m-%d %H:%M:%S')\n",
        "  return list(map(anonym, dates))"
      ],
      "execution_count": 0,
      "outputs": []
    },
    {
      "cell_type": "markdown",
      "metadata": {
        "id": "W6QgRy-eCesJ",
        "colab_type": "text"
      },
      "source": [
        "# Descargar un ImageCollection"
      ]
    },
    {
      "cell_type": "code",
      "metadata": {
        "id": "86h-nf3cCh67",
        "colab_type": "code",
        "colab": {}
      },
      "source": [
        "from datetime import datetime\n",
        "import time \n",
        "\n",
        "def ee_monitoring(ee_task):\n",
        "  while ee_task.active():\n",
        "    print('Sondeo de la tarea (id: {}).'.format(ee_task.id))\n",
        "    time.sleep(5)    \n",
        "    \n",
        "def ee_download_images(ic, region, prefix, folder, scale):\n",
        "  nimages = ic.size().getInfo()\n",
        "  ic_list = ic.toList(nimages)  \n",
        "  for n_img in range(nimages):\n",
        "    to_download = ee.Image(ic_list.get(n_img))\n",
        "    timestamp = to_download.get('system:time_start').getInfo()\n",
        "    dt_object = datetime.fromtimestamp(timestamp/1000).strftime('%Y_%m_%d_%H_%M_%S')\n",
        "    task = ee.batch.Export.image.toDrive(\n",
        "      image=to_download,\n",
        "      description= prefix+dt_object,\n",
        "      folder=folder,     \n",
        "      scale=scale,\n",
        "      region = region\n",
        "    )\n",
        "    print('Descargando: '+prefix+dt_object+'.tif')\n",
        "    task.start()\n",
        "    ee_monitoring(task)"
      ],
      "execution_count": 0,
      "outputs": []
    },
    {
      "cell_type": "markdown",
      "metadata": {
        "id": "2R-Ex95ppgGn",
        "colab_type": "text"
      },
      "source": [
        "# Generar animacion - NDVI MODIS"
      ]
    },
    {
      "cell_type": "code",
      "metadata": {
        "id": "R4hJUG2Iph89",
        "colab_type": "code",
        "colab": {}
      },
      "source": [
        "def monthly_ndvi_animation(area, vizparams = None, framesPerSecond = 10):\n",
        "  if vizparams is None:\n",
        "    vizparams = {'min' : 0.0,\n",
        "                 'max' : 9000.0,\n",
        "                 'palette' : ['#051852', '#FFFFFF', '#C7B59B', '#A8B255',\n",
        "                              '#A3C020', '#76AD00', '#429001', '#006400',\n",
        "                              '#003B00', '#000000']\n",
        "                 }\n",
        "  # Cargamos los datos de NDVI de MODIS\n",
        "  col = ee.ImageCollection('MODIS/006/MOD13A2').select('NDVI')\n",
        "\n",
        "  # Agregamos la propiedad day-of-year (DOY) para cada imagen\n",
        "  def add_day(img):\n",
        "    doy = ee.Date(img.get('system:time_start')).getRelative('day', 'year')\n",
        "    return img.set('doy', doy)\n",
        "  \n",
        "  col = col.map(add_day)\n",
        "\n",
        "  # Obtenga una colección de imágenes distintas de 'doy'.\n",
        "  distinctDOY = col.filterDate('2013-01-01', '2014-01-01')\n",
        "\n",
        "  # Defina un filtro que identifique que imagenes de la 'coleccion completa'\n",
        "  # coincide con el DOY de la colección de referencia.\n",
        "  my_filter = ee.Filter.equals(leftField = 'doy', rightField = 'doy')\n",
        "\n",
        "  # Define el Join \n",
        "  join = ee.Join.saveAll('doy_matches')\n",
        "\n",
        "  # Aplicar el join y convertir el FeatureCollection resultante en un ImageCollection.\n",
        "  joinCol = ee.ImageCollection(join.apply(distinctDOY, col, my_filter))\n",
        "\n",
        "  # Aplicar la mediana entre las colecciones DOY coincidentes.\n",
        "  def reduce_each_image(img):\n",
        "    doyCol = ee.ImageCollection.fromImages(img.get('doy_matches'))\n",
        "    return doyCol.reduce(ee.Reducer.median())\n",
        "\n",
        "  comp = joinCol.map(reduce_each_image)\n",
        "\n",
        "  # Cree imagenes de visualizacion RGB para usar como cuadros de animacion.\n",
        "  rgbVis = comp.map(lambda x:x.visualize(**vizparams).clip(area))\n",
        "\n",
        "  # Definir argumentos de visualización GIF.\n",
        "  gifParams = {\n",
        "    'region': area.bounds(),\n",
        "    'dimensions': 600,\n",
        "    'crs': 'EPSG:3857',\n",
        "    'framesPerSecond': framesPerSecond,\n",
        "    'format': 'gif'\n",
        "  }\n",
        "  # Imprima la URL GIF en la consola.\n",
        "  return rgbVis.getVideoThumbURL(gifParams)"
      ],
      "execution_count": 0,
      "outputs": []
    }
  ]
}