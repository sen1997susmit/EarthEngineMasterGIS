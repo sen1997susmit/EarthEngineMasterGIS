{
  "nbformat": 4,
  "nbformat_minor": 0,
  "metadata": {
    "colab": {
      "name": "06_Funciones.ipynb",
      "provenance": [],
      "collapsed_sections": [],
      "toc_visible": true,
      "include_colab_link": true
    },
    "kernelspec": {
      "name": "python3",
      "display_name": "Python 3"
    }
  },
  "cells": [
    {
      "cell_type": "markdown",
      "metadata": {
        "id": "view-in-github",
        "colab_type": "text"
      },
      "source": [
        "<a href=\"https://colab.research.google.com/github/csaybar/EarthEngineMasterGIS/blob/master/module02/06_Funciones.ipynb\" target=\"_parent\"><img src=\"https://colab.research.google.com/assets/colab-badge.svg\" alt=\"Open In Colab\"/></a>"
      ]
    },
    {
      "cell_type": "markdown",
      "metadata": {
        "id": "cNTPUHS_Egkv",
        "colab_type": "text"
      },
      "source": [
        "<!--COURSE_INFORMATION-->\n",
        "<img align=\"left\" style=\"padding-right:10px;\" src=\"https://user-images.githubusercontent.com/16768318/73986808-75b3ca00-4936-11ea-90f1-3a6c352766ce.png\" width=10% >\n",
        "<img align=\"right\" style=\"padding-left:10px;\" src=\"https://user-images.githubusercontent.com/16768318/73986811-764c6080-4936-11ea-9653-a3eacc47caed.png\" width=10% >\n",
        "\n",
        "**Bienvenidos!** Este *colab notebook* es parte del curso [**Introduccion a Google Earth Engine con Python**](https://github.com/csaybar/EarthEngineMasterGIS) desarrollado por el equipo [**MasterGIS**](https://www.mastergis.com/). Obten mas informacion del curso en este [**enlace**](https://www.mastergis.com/product/google-earth-engine/). El contenido del curso esta disponible en [**GitHub**](https://github.com/csaybar/EarthEngineMasterGIS) bajo licencia [**MIT**](https://opensource.org/licenses/MIT)."
      ]
    },
    {
      "cell_type": "markdown",
      "metadata": {
        "id": "4XKK6wMoSoGo",
        "colab_type": "text"
      },
      "source": [
        "# **MASTERGIS: Funciones**\n",
        "\n",
        "En esta lectura, usted aprendera lo esencial acerca de las **funciones**.\n",
        "\n",
        "En Python, el termino funcion tiene un significado mas que solo una funcion matematica. Una funcion es una coleccion de sentencias que puede ejecutarse una y otra vez. Este abstraccion obedece a la filosofia de reutilizar codigo en diferentes programas. \n",
        "\n",
        "Puede enviar variables a la función para influir en lo que esta siendo calculado por las instrucciones en la funcion, y la funcion puede devolverle objetos nuevos. Las funciones tambien se utilizan a menudo para dividir un programa largo en piezas mas pequenas y manejables, por lo que el programa y su propio pensamiento sobre el se vuelven mas claros. \n",
        "\n",
        "Python viene con un amplio conjunto de funciones **(math, range, len, find, replace, split, join, os, sys,...etc).**\n",
        "\n",
        "\n"
      ]
    },
    {
      "cell_type": "markdown",
      "metadata": {
        "id": "m5DWoPSjIKUi",
        "colab_type": "text"
      },
      "source": [
        "### **Palabras reservadas def y return**\n",
        "\n",
        "Las funciones en Python, inician con la palabra reservada **def**, seguido por el nombre de la funcion, y entre parentesis uno o mas argumentos. Mientras que la palabra **return** devuelve el resultado de la funcion. De manera general una funcion se inicia con la palabra **def** y finalizar con la palabra **return**.\n",
        "\n",
        "![texto alternativo](http://swcarpentry.github.io/python-novice-inflammation/fig/python-function.svg)"
      ]
    },
    {
      "cell_type": "markdown",
      "metadata": {
        "id": "IpcNg5x7IVzC",
        "colab_type": "text"
      },
      "source": [
        "### **Ejemplo 01**\n",
        "Cree una funcion que permita sumar 2 numeros"
      ]
    },
    {
      "cell_type": "code",
      "metadata": {
        "id": "8J7Im7UnIBeU",
        "colab_type": "code",
        "colab": {}
      },
      "source": [
        "def sumar_two(a, b):\n",
        "  c = a + b\n",
        "  print('La suma se realizo de forma exitosa')\n",
        "  return c"
      ],
      "execution_count": 0,
      "outputs": []
    },
    {
      "cell_type": "markdown",
      "metadata": {
        "id": "dDuGkZ9ZIeNL",
        "colab_type": "text"
      },
      "source": [
        "### **Ejemplo 02**\n",
        "Cree una funcion que permita convertir de grados Celsius a grados Kelvin o fahrenheit"
      ]
    },
    {
      "cell_type": "code",
      "metadata": {
        "id": "onZ7GfCxIPC6",
        "colab_type": "code",
        "colab": {}
      },
      "source": [
        "def c2kf(C,convert='K'):\n",
        "    if convert==\"K\":\n",
        "        K = C + 273\n",
        "        return K\n",
        "    elif convert==\"F\":\n",
        "        F = (9/5)*C +32\n",
        "        return F\n"
      ],
      "execution_count": 0,
      "outputs": []
    },
    {
      "cell_type": "markdown",
      "metadata": {
        "id": "_QOkGM2QI0ui",
        "colab_type": "text"
      },
      "source": [
        "### **Ejemplo 03**\n",
        "Cree una funcion que permita sumar los elementos de una lista"
      ]
    },
    {
      "cell_type": "code",
      "metadata": {
        "id": "-rThGZSxI1Yy",
        "colab_type": "code",
        "colab": {}
      },
      "source": [
        "def sumar(numbers):\n",
        "    result = 0\n",
        "    for number in numbers:\n",
        "        result += number\n",
        "    return result"
      ],
      "execution_count": 0,
      "outputs": []
    },
    {
      "cell_type": "markdown",
      "metadata": {
        "id": "T1GYOn9nGgnn",
        "colab_type": "text"
      },
      "source": [
        "### **¿Dudas con este Jupyer-Notebook?**\n",
        "\n",
        "Estaremos felices de ayudarte!. Create una cuenta Github si es que no la tienes, luego detalla tu problema ampliamente en: https://github.com/csaybar/EarthEngineMasterGIS/issues\n",
        "\n",
        "**Tienes que dar clic en el boton verde!**\n",
        "\n",
        "<center>\n",
        "<img src=\"https://user-images.githubusercontent.com/16768318/79680748-d5511000-81d8-11ea-9f89-44bd010adf69.png\" width = 70%>\n",
        "</center>"
      ]
    }
  ]
}