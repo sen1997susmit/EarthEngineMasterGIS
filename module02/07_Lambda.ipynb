{
  "nbformat": 4,
  "nbformat_minor": 0,
  "metadata": {
    "colab": {
      "name": "07_Lambda.ipynb",
      "provenance": [],
      "include_colab_link": true
    },
    "kernelspec": {
      "name": "python3",
      "display_name": "Python 3"
    }
  },
  "cells": [
    {
      "cell_type": "markdown",
      "metadata": {
        "id": "view-in-github",
        "colab_type": "text"
      },
      "source": [
        "<a href=\"https://colab.research.google.com/github/csaybar/EarthEngineMasterGIS/blob/master/module02/07_Lambda.ipynb\" target=\"_parent\"><img src=\"https://colab.research.google.com/assets/colab-badge.svg\" alt=\"Open In Colab\"/></a>"
      ]
    },
    {
      "cell_type": "markdown",
      "metadata": {
        "id": "otznJ1uhF3uw",
        "colab_type": "text"
      },
      "source": [
        "<!--COURSE_INFORMATION-->\n",
        "<img align=\"left\" style=\"padding-right:10px;\" src=\"https://user-images.githubusercontent.com/16768318/73986808-75b3ca00-4936-11ea-90f1-3a6c352766ce.png\" width=10% >\n",
        "<img align=\"right\" style=\"padding-left:10px;\" src=\"https://user-images.githubusercontent.com/16768318/73986811-764c6080-4936-11ea-9653-a3eacc47caed.png\" width=10% >\n",
        "\n",
        "**Bienvenidos!** Este *colab notebook* es parte del curso [**Introduccion a Google Earth Engine con Python**](https://github.com/csaybar/EarthEngineMasterGIS) desarrollado por el equipo [**MasterGIS**](https://www.mastergis.com/). Obten mas informacion del curso en este [**enlace**](https://www.mastergis.com/product/google-earth-engine/). El contenido del curso esta disponible en [**GitHub**](https://github.com/csaybar/EarthEngineMasterGIS) bajo licencia [**MIT**](https://opensource.org/licenses/MIT)."
      ]
    },
    {
      "cell_type": "markdown",
      "metadata": {
        "id": "nsEOLErx6WCf",
        "colab_type": "text"
      },
      "source": [
        "# **MASTERGIS: Sintaxis de minima de Python para GEE**\n",
        "\n",
        "En esta lectura, usted aprendera acerca de: las **funciones lambda, map, filter and reduce**.\n",
        "\n",
        "Veremos los siguientes topicos:\n",
        "\n",
        "    1) Funciones lambda.\n",
        "    2) Metodos de la programacion funcional:      \n",
        "      - map\n",
        "      - filter\n",
        "      - reduce*\n",
        "\n",
        "### **Programacion funcional**\n",
        "\n",
        "Los programas escritos en un **lenguaje funcional** estan constituidos unicamente por definiciones de **funciones**, entendiendo estas no como subprogramas clasicos de un lenguaje imperativo, sino como funciones puramente matematicas.\n",
        "\n",
        "<center>\n",
        "<img src=\"https://user-images.githubusercontent.com/16768318/73006022-d523bd00-3e01-11ea-8c1a-8ce4f5529158.png\" width=\"35%\">\n",
        "</center>\n",
        "\n",
        "### **Funciones lambda**\n",
        "\n",
        "Sirve para crear funciones anonimas. Ejemplo:\n"
      ]
    },
    {
      "cell_type": "code",
      "metadata": {
        "id": "TOTBARnt6Lhi",
        "colab_type": "code",
        "colab": {}
      },
      "source": [
        "def double(x):\n",
        "  return x**2"
      ],
      "execution_count": 0,
      "outputs": []
    },
    {
      "cell_type": "code",
      "metadata": {
        "id": "gqz5TzS8_weU",
        "colab_type": "code",
        "colab": {}
      },
      "source": [
        "double(25)"
      ],
      "execution_count": 0,
      "outputs": []
    },
    {
      "cell_type": "code",
      "metadata": {
        "id": "QcVfQr-e_zBO",
        "colab_type": "code",
        "colab": {}
      },
      "source": [
        "double = lambda x: x**2"
      ],
      "execution_count": 0,
      "outputs": []
    },
    {
      "cell_type": "code",
      "metadata": {
        "id": "RcsrFRGG_7eN",
        "colab_type": "code",
        "outputId": "5c120276-2fa5-4bbb-b01d-34bd39d125ac",
        "colab": {
          "base_uri": "https://localhost:8080/",
          "height": 34
        }
      },
      "source": [
        "double(25)"
      ],
      "execution_count": 0,
      "outputs": [
        {
          "output_type": "execute_result",
          "data": {
            "text/plain": [
              "50"
            ]
          },
          "metadata": {
            "tags": []
          },
          "execution_count": 6
        }
      ]
    },
    {
      "cell_type": "code",
      "metadata": {
        "id": "kHuKKQ7e_-rT",
        "colab_type": "code",
        "colab": {}
      },
      "source": [
        "reverse_f = lambda x: x[::-1]"
      ],
      "execution_count": 0,
      "outputs": []
    },
    {
      "cell_type": "code",
      "metadata": {
        "id": "Xpb-b3xQLCOt",
        "colab_type": "code",
        "outputId": "b9de9094-e4c1-43c0-f233-32f60fa67e81",
        "colab": {
          "base_uri": "https://localhost:8080/",
          "height": 34
        }
      },
      "source": [
        "reverse_f('hola')"
      ],
      "execution_count": 0,
      "outputs": [
        {
          "output_type": "execute_result",
          "data": {
            "text/plain": [
              "'aloh'"
            ]
          },
          "metadata": {
            "tags": []
          },
          "execution_count": 10
        }
      ]
    },
    {
      "cell_type": "markdown",
      "metadata": {
        "id": "mZcdf3C-LGpm",
        "colab_type": "text"
      },
      "source": [
        "### **Map**\n",
        "\n",
        "Aplica una condicion (definida por una funcion) sobretodos los elementos de una estructura de datos.\n",
        "<img src=\"https://leblancfg.com/img/map_function.png\" width=\"50%\">\n",
        "\n"
      ]
    },
    {
      "cell_type": "markdown",
      "metadata": {
        "id": "xRrjjwTrO4vc",
        "colab_type": "text"
      },
      "source": [
        "#### **Ejemplo 1**\n",
        "Convertir nombre de mis mascotas a mayuscula"
      ]
    },
    {
      "cell_type": "code",
      "metadata": {
        "id": "cgIL58gOQo2M",
        "colab_type": "code",
        "colab": {}
      },
      "source": [
        "mascotas_nombre_min = ['alfred', 'tabitha', 'william', 'arla']"
      ],
      "execution_count": 0,
      "outputs": []
    },
    {
      "cell_type": "code",
      "metadata": {
        "id": "mAVbl7f2N_Si",
        "colab_type": "code",
        "outputId": "96f07ed2-5f87-4641-e978-388bbd5b257d",
        "colab": {
          "base_uri": "https://localhost:8080/",
          "height": 34
        }
      },
      "source": [
        "# Programación imperativa\n",
        "mascotas_nombre_may = []\n",
        "for pet in mascotas_nombre_min:\n",
        "  pet_ = pet.upper()\n",
        "  mascotas_nombre_may.append(pet_)\n",
        "print(uppered_pets)"
      ],
      "execution_count": 0,
      "outputs": [
        {
          "output_type": "stream",
          "text": [
            "['ALFRED', 'TABITHA', 'WILLIAM', 'ARLA']\n"
          ],
          "name": "stdout"
        }
      ]
    },
    {
      "cell_type": "code",
      "metadata": {
        "id": "DYdUckemOWuW",
        "colab_type": "code",
        "outputId": "fb502884-a609-4a14-ee70-fc7330625c78",
        "colab": {
          "base_uri": "https://localhost:8080/",
          "height": 34
        }
      },
      "source": [
        "# Programación funcional\n",
        "mascotas_nombre_may = list(map(str.upper, my_pets))\n",
        "print(mascotas_nombre_may)"
      ],
      "execution_count": 0,
      "outputs": [
        {
          "output_type": "stream",
          "text": [
            "['ALFRED', 'TABITHA', 'WILLIAM', 'ARLA']\n"
          ],
          "name": "stdout"
        }
      ]
    },
    {
      "cell_type": "markdown",
      "metadata": {
        "id": "1bl4nKrkORx-",
        "colab_type": "text"
      },
      "source": [
        "#### **Ejemplo 2**\n",
        "\n",
        "Convertir los valores de temperatura media de Celsius a Kelvin"
      ]
    },
    {
      "cell_type": "code",
      "metadata": {
        "id": "MJz1s2l_OC00",
        "colab_type": "code",
        "colab": {}
      },
      "source": [
        "temp_Pucallpa_C = [28, 32, 15, 26, 24, 30]"
      ],
      "execution_count": 0,
      "outputs": []
    },
    {
      "cell_type": "code",
      "metadata": {
        "id": "CcJQUBdORJZF",
        "colab_type": "code",
        "outputId": "7a65bef8-3ee4-47b7-be58-7d68c386129c",
        "colab": {
          "base_uri": "https://localhost:8080/",
          "height": 34
        }
      },
      "source": [
        "# Programación imperativa\n",
        "temp_Pucallpa_K = []\n",
        "for temp in temp_Pucallpa_C:\n",
        "  new_temp = temp + 273.15\n",
        "  temp_Pucallpa_K.append(new_temp) \n",
        "print(temp_Pucallpa_K)   "
      ],
      "execution_count": 0,
      "outputs": [
        {
          "output_type": "stream",
          "text": [
            "[301.15, 305.15, 288.15, 299.15, 297.15, 303.15]\n"
          ],
          "name": "stdout"
        }
      ]
    },
    {
      "cell_type": "code",
      "metadata": {
        "id": "wW4u3RrZUNPg",
        "colab_type": "code",
        "outputId": "4a6c8aa6-7f20-4a54-9f78-1b2f8f7bbae4",
        "colab": {
          "base_uri": "https://localhost:8080/",
          "height": 34
        }
      },
      "source": [
        "# Programación funcional\n",
        "temp_Pucallpa_K = list(map(lambda x:x+273.15, temp_Pucallpa_C))\n",
        "print(temp_Pucallpa_K)"
      ],
      "execution_count": 0,
      "outputs": [
        {
          "output_type": "stream",
          "text": [
            "[301.15, 305.15, 288.15, 299.15, 297.15, 303.15]\n"
          ],
          "name": "stdout"
        }
      ]
    },
    {
      "cell_type": "markdown",
      "metadata": {
        "id": "bn9eybKUUd1l",
        "colab_type": "text"
      },
      "source": [
        "### **Filter**\n",
        "\n",
        "Mientras que **map()** pasa cada elemento del iterable a traves de una funcion y devuelve el resultado de todos los elementos que han pasado a traves de la funcion, **filter()**, en primer lugar, requiere que **la funcion devuelva valores booleanos (verdadero o falso)** y luego pasa cada elemento del iterable a traves de la funcion, **\"filtrando\" los que son falsos**. \n",
        "\n",
        "<img src=\"https://leblancfg.com/img/filter.png\" width=\"50%\">"
      ]
    },
    {
      "cell_type": "code",
      "metadata": {
        "id": "dDCGYR6yVnYK",
        "colab_type": "code",
        "colab": {}
      },
      "source": [
        "# Filter\n",
        "temp_Pucallpa_C = [28, 32, 15, 26, 24, 30]"
      ],
      "execution_count": 0,
      "outputs": []
    },
    {
      "cell_type": "code",
      "metadata": {
        "id": "78a6jsnOZ13Y",
        "colab_type": "code",
        "outputId": "b585692a-4bbc-428c-de5d-dcb72819d451",
        "colab": {
          "base_uri": "https://localhost:8080/",
          "height": 34
        }
      },
      "source": [
        "over_30 = list(filter(lambda temp:temp >= 30, temp_Pucallpa_C))\n",
        "print(over_30)"
      ],
      "execution_count": 0,
      "outputs": [
        {
          "output_type": "stream",
          "text": [
            "[32, 30]\n"
          ],
          "name": "stdout"
        }
      ]
    },
    {
      "cell_type": "markdown",
      "metadata": {
        "id": "y473dHN1GuCd",
        "colab_type": "text"
      },
      "source": [
        "### **¿Dudas con este Jupyer-Notebook?**\n",
        "\n",
        "Estaremos felices de ayudarte!. Create una cuenta Github si es que no la tienes, luego detalla tu problema ampliamente en: https://github.com/csaybar/EarthEngineMasterGIS/issues\n",
        "\n",
        "**Tienes que dar clic en el boton verde!**\n",
        "\n",
        "<center>\n",
        "<img src=\"https://user-images.githubusercontent.com/16768318/79680748-d5511000-81d8-11ea-9f89-44bd010adf69.png\" width = 70%>\n",
        "</center>"
      ]
    }
  ]
}