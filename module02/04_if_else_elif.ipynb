{
  "nbformat": 4,
  "nbformat_minor": 0,
  "metadata": {
    "colab": {
      "name": "04_if_else_elif.ipynb",
      "provenance": [],
      "collapsed_sections": [],
      "include_colab_link": true
    },
    "kernelspec": {
      "name": "python3",
      "display_name": "Python 3"
    }
  },
  "cells": [
    {
      "cell_type": "markdown",
      "metadata": {
        "id": "view-in-github",
        "colab_type": "text"
      },
      "source": [
        "<a href=\"https://colab.research.google.com/github/csaybar/EarthEngineMasterGIS/blob/master/module02/04_if_else_elif.ipynb\" target=\"_parent\"><img src=\"https://colab.research.google.com/assets/colab-badge.svg\" alt=\"Open In Colab\"/></a>"
      ]
    },
    {
      "cell_type": "markdown",
      "metadata": {
        "id": "uwl6vn18Akb4",
        "colab_type": "text"
      },
      "source": [
        "<!--COURSE_INFORMATION-->\n",
        "<img align=\"left\" style=\"padding-right:10px;\" src=\"https://user-images.githubusercontent.com/16768318/73986808-75b3ca00-4936-11ea-90f1-3a6c352766ce.png\" width=10% >\n",
        "<img align=\"right\" style=\"padding-left:10px;\" src=\"https://user-images.githubusercontent.com/16768318/73986811-764c6080-4936-11ea-9653-a3eacc47caed.png\" width=10% >\n",
        "\n",
        "**Bienvenidos!** Este *colab notebook* es parte del curso [**Introduccion a Google Earth Engine con Python**](https://github.com/csaybar/EarthEngineMasterGIS) desarrollado por el equipo [**MasterGIS**](https://www.mastergis.com/). Obten mas informacion del curso en este [**enlace**](https://www.mastergis.com/product/google-earth-engine/). El contenido del curso esta disponible en [**GitHub**](https://github.com/csaybar/EarthEngineMasterGIS) bajo licencia [**MIT**](https://opensource.org/licenses/MIT)."
      ]
    },
    {
      "cell_type": "markdown",
      "metadata": {
        "id": "4VZuYtZBHU9B",
        "colab_type": "text"
      },
      "source": [
        "# **MASTERGIS: Declaraciones if, else y elif**\n",
        "\n",
        "En esta lectura, usted aprendera lo esencial acerca de  _Python Statements_.\n",
        "\n",
        "Veremos los siguientes topicos:\n",
        "\n",
        "    1) if, elif, else (condicionales).\n",
        "    2) Bucles for.\n",
        "    3) List Comprehensions.\n",
        "\n",
        "### **Indentacion**\n",
        "\n",
        "En la sintaxis de Python no se encuentra **(begin)** o **(end)** explicitos, **ni llaves que marquen donde empieza o termina su codigo**. El unico delimitador son dos puntos **(:)** y el sangrado del propio codigo. \n",
        "\n",
        "* Algunas notas importantes sobre la sangria\n",
        "* La sangria en python es tipicamente **4 espacios**. \n",
        "\n",
        "Ahora, echemos un vistazo mas de cerca a la sintaxis de indentacion en Python3 frente por ejemplo a R:\n",
        "\n",
        "#### **Es tiempo para un ejemplo!**\n",
        "\n",
        "**R**\n",
        "\n",
        "    if (x) {\n",
        "        if(y) {\n",
        "            declaracion;\n",
        "        }\n",
        "    else {\n",
        "        otra declaracion;\n",
        "    }\n",
        "        \n",
        "**Python3**\n",
        "    \n",
        "    if x:\n",
        "        if y:\n",
        "            declaracion\n",
        "    else:\n",
        "        otra declaracion\n",
        "\n",
        "Observe como Python3 está tan fuertemente impulsado por la indentacion de codigo y el espacio en blanco. Esto significa que la legibilidad del codigo es una parte central del diseno del lenguaje Python3.\n",
        "\n",
        "**¡Ahora comencemos a profundizar mas al codificar este tipo de declaraciones en Python3!**"
      ]
    },
    {
      "cell_type": "markdown",
      "metadata": {
        "id": "nRZMop-qH4me",
        "colab_type": "text"
      },
      "source": [
        "### **if, elif, else**\n",
        "\n",
        "<code>**if**</code> nos permiten decirle a la computadora que realice acciones alternativas basadas en un cierto conjunto de resultados.\n",
        "\n",
        "Verbalmente, podemos imaginar que le estamos diciendo a la computadora:\n",
        "\n",
        "\"Oye si este caso sucede, realiza alguna acción\"\n",
        "\n",
        "Luego podemos expandir la idea aún más con las declaraciones <code>**elif**</code> y <code>**else**</code>, que nos permiten decirle a la computadora:\n",
        "\n",
        "\"Oye si este caso sucede, realiza esta acción. De lo contrario, si ocurre este otro caso, realiza esta acción. De lo contrario, si **ninguno** de los casos anteriores sucedio, realiza esta accion\".\n",
        "\n",
        "Avancemos y observemos el formato de la sintaxis para las sentencias <code> if, elif y else  </code> para tener una mejor idea de esto:\n",
        "\n",
        "    if caso_1:\n",
        "        realiza la acción_1\n",
        "    elif caso_2:\n",
        "        realiza la acción_2\n",
        "    else: \n",
        "        realiza la acción_3"
      ]
    },
    {
      "cell_type": "markdown",
      "metadata": {
        "id": "UNjz_Mt9IfDb",
        "colab_type": "text"
      },
      "source": [
        "### **Ejemplos**\n",
        "Veamos un ejemplo rapido de esto:"
      ]
    },
    {
      "cell_type": "code",
      "metadata": {
        "id": "nn12QEnuIhFU",
        "colab_type": "code",
        "outputId": "a345934c-7437-4afb-f20f-fc1c27601d85",
        "colab": {
          "base_uri": "https://localhost:8080/",
          "height": 34
        }
      },
      "source": [
        "if True:\n",
        "    print('Eso fue un True!')"
      ],
      "execution_count": 0,
      "outputs": [
        {
          "output_type": "stream",
          "text": [
            "Eso fue un True!\n"
          ],
          "name": "stdout"
        }
      ]
    },
    {
      "cell_type": "markdown",
      "metadata": {
        "id": "8kMLwAf4Ih1h",
        "colab_type": "text"
      },
      "source": [
        "Agreguemos algo de logica:"
      ]
    },
    {
      "cell_type": "code",
      "metadata": {
        "id": "KoEke4yfIjj0",
        "colab_type": "code",
        "outputId": "5b45a42f-1f3c-4a3b-fff3-8f5504ca4d8e",
        "colab": {
          "base_uri": "https://localhost:8080/",
          "height": 34
        }
      },
      "source": [
        "x = False\n",
        "\n",
        "if x:\n",
        "    print('x fue True!')\n",
        "else:\n",
        "    print('Esto se imprimira de ser el caso de que x no fuese True!')"
      ],
      "execution_count": 0,
      "outputs": [
        {
          "output_type": "stream",
          "text": [
            "Esto se imprimira de ser el caso de que x no fuese True!\n"
          ],
          "name": "stdout"
        }
      ]
    },
    {
      "cell_type": "markdown",
      "metadata": {
        "id": "86NvSjizIlhv",
        "colab_type": "text"
      },
      "source": [
        "Vamos a tener una idea mas completa de cuan lejos nos puede llevar <code> if </code>, <code> elif </code> y <code> else </code>.\n",
        "\n",
        "Escribamos una estructura anidada usando lo aprendido. Tome mayor atencion de como se alinea el codigo entre <code>if</code>, <code>elif</code>, y <code>else</code>."
      ]
    },
    {
      "cell_type": "code",
      "metadata": {
        "id": "EM7p0oouIqCC",
        "colab_type": "code",
        "outputId": "1ea35bdc-347f-41af-b1e2-ae2f069d5148",
        "colab": {
          "base_uri": "https://localhost:8080/",
          "height": 34
        }
      },
      "source": [
        "#Primer ejemplo (if y else)\n",
        "person = 'Carlos'\n",
        "\n",
        "if person == 'Carlos':\n",
        "    print('Bienvenido Carlos!')\n",
        "else:\n",
        "    print(\"Bienvenido, Cual es su nombre?\")"
      ],
      "execution_count": 0,
      "outputs": [
        {
          "output_type": "stream",
          "text": [
            "Bienvenido Carlos!\n"
          ],
          "name": "stdout"
        }
      ]
    },
    {
      "cell_type": "code",
      "metadata": {
        "id": "U_3TqMqgIrML",
        "colab_type": "code",
        "outputId": "2cb50be0-b3a0-487e-9e75-3763f687b5c4",
        "colab": {
          "base_uri": "https://localhost:8080/",
          "height": 34
        }
      },
      "source": [
        "x = 20\n",
        "    \n",
        "if x < 10:\n",
        "    print('x es menor que 10')\n",
        "else:\n",
        "    print('x es mayor que 10')"
      ],
      "execution_count": 0,
      "outputs": [
        {
          "output_type": "stream",
          "text": [
            "x es mayor que 10\n"
          ],
          "name": "stdout"
        }
      ]
    },
    {
      "cell_type": "markdown",
      "metadata": {
        "id": "11rwsGewIw4G",
        "colab_type": "text"
      },
      "source": [
        "**Ahora un ejemplo mas complicado:**"
      ]
    },
    {
      "cell_type": "code",
      "metadata": {
        "id": "evP0KmrKIzGu",
        "colab_type": "code",
        "outputId": "ca945cca-7558-4deb-f5f8-b4250df2279d",
        "colab": {
          "base_uri": "https://localhost:8080/",
          "height": 34
        }
      },
      "source": [
        "temp = [15, 22, 30]\n",
        "\n",
        "i=0\n",
        "val = temp[i]\n",
        "\n",
        "if 12 <= val < 22: \n",
        "    print(\"El medio ambiente esta muy frio!!!\")\n",
        "elif val == 22:\n",
        "    print(\"El medio ambiente presenta condiciones normales\")\n",
        "elif val > 22:\n",
        "    print(\"El medio ambiente está calido!!!!\")\n",
        "else: (\" es otro planeta\")"
      ],
      "execution_count": 0,
      "outputs": [
        {
          "output_type": "stream",
          "text": [
            "El medio ambiente esta muy frío!!!\n"
          ],
          "name": "stdout"
        }
      ]
    },
    {
      "cell_type": "markdown",
      "metadata": {
        "id": "df4VTbAVFuo7",
        "colab_type": "text"
      },
      "source": [
        "### **¿Dudas con este Jupyer-Notebook?**\n",
        "\n",
        "Estaremos felices de ayudarte!. Create una cuenta Github si es que no la tienes, luego detalla tu problema ampliamente en: https://github.com/csaybar/EarthEngineMasterGIS/issues\n",
        "\n",
        "**Tienes que dar clic en el boton verde!**\n",
        "\n",
        "<center>\n",
        "<img src=\"https://user-images.githubusercontent.com/16768318/79680748-d5511000-81d8-11ea-9f89-44bd010adf69.png\" width = 70%>\n",
        "</center>"
      ]
    }
  ]
}