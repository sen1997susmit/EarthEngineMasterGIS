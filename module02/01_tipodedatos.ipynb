{
  "nbformat": 4,
  "nbformat_minor": 0,
  "metadata": {
    "colab": {
      "name": "01_tipodedatos.ipynb",
      "provenance": [],
      "collapsed_sections": [],
      "toc_visible": true,
      "include_colab_link": true
    },
    "kernelspec": {
      "name": "python3",
      "display_name": "Python 3"
    }
  },
  "cells": [
    {
      "cell_type": "markdown",
      "metadata": {
        "id": "view-in-github",
        "colab_type": "text"
      },
      "source": [
        "<a href=\"https://colab.research.google.com/github/csaybar/EarthEngineMasterGIS/blob/master/module02/01_tipodedatos.ipynb\" target=\"_parent\"><img src=\"https://colab.research.google.com/assets/colab-badge.svg\" alt=\"Open In Colab\"/></a>"
      ]
    },
    {
      "cell_type": "markdown",
      "metadata": {
        "id": "6m9qhHK-6Fw9",
        "colab_type": "text"
      },
      "source": [
        "<!--COURSE_INFORMATION-->\n",
        "<img align=\"left\" style=\"padding-right:10px;\" src=\"https://user-images.githubusercontent.com/16768318/73986808-75b3ca00-4936-11ea-90f1-3a6c352766ce.png\" width=10% >\n",
        "<img align=\"right\" style=\"padding-left:10px;\" src=\"https://user-images.githubusercontent.com/16768318/73986811-764c6080-4936-11ea-9653-a3eacc47caed.png\" width=10% >\n",
        "\n",
        "**Bienvenidos!** Este *colab notebook* es parte del curso [**Introduccion a Google Earth Engine con Python**](https://github.com/csaybar/EarthEngineMasterGIS) desarrollado por el equipo [**MasterGIS**](https://www.mastergis.com/). Obten mas informacion del curso en este [**enlace**](https://www.mastergis.com/product/google-earth-engine/). El contenido del curso esta disponible en [**GitHub**](https://github.com/csaybar/EarthEngineMasterGIS) bajo licencia [**MIT**](https://opensource.org/licenses/MIT)."
      ]
    },
    {
      "cell_type": "markdown",
      "metadata": {
        "id": "6OUmFKFw4L3C",
        "colab_type": "text"
      },
      "source": [
        "# **MASTERGIS: Sintaxis de minima de Python para GEE**\n",
        "\n",
        "**Esta intro slide esta basada en este curso de [python](https://github.com/vrrp/Workshop2018Python)**\n",
        "\n",
        "## **¿Porque usar Python?**\n",
        "\n",
        "Python se caraceriza por tener modulos y paquetes incluidos, esto significa que dentro de la instalacion basica del lenguaje, ya se encuentran incluidas muchas funciones que ayudan a realizar tareas complejas sin la necesidad de instalar paquetes o modulos adicionales de terceros.\n",
        "\n",
        "La sintaxis que ofrece Python es una de sus caracteristicas mas notorias. En Python, un bloque de codigo interno (condicionales, loops), se crea a traves de indentaciones, lo que fuerza al desarrollador a **indentar su codigo fuente** garantizando una sintaxis ordenada y ordenada.\n",
        "\n",
        "###  **Es libre y de código abierto**\n",
        "\n",
        "Python cuenta con licencia Python Software Foundation License, licencia muy parecida a la de GPL, con la excepcion de que se puede distribuir los binarios del lenguaje sin tener que anexar las fuentes.\n",
        "\n",
        "La General license Public (GLP), permite a los usuarios usar modificar y redistribuir el software sin restriccion alguna y garantizar la no apropiacion del software.\n",
        "\n",
        "### **Es multiplataforma**\n",
        "\n",
        "Python es un lenguaje de programacion interpretado y es compatible con cualquier tipo de sistema operativo (Linux, Mac y Windows) que integre su interpretador. Asimismo, es posible utilizar executables compilados en Fortran, C++ y Java.\n",
        "\n",
        "### **Es un lenguaje de proposito general**\n",
        "\n",
        "Python no solo es multiplataforma, sino que tambien tiene la capacidad  y potencia para desarrollar aplicaciones web, apps y base de datos. Para estos fines Python cuenta con **frameworks**, los cuales permiten desarrollar algoritmos cientificos de calculo avanzado, hasta el desarrollo de juegos. Cabe resaltar que empresas prestigiosas, utilizan Python para programar todo tipo de aplicaciones y servicios. Los usuarios mas distinguidos son Google, YouTube o Facebook.\n",
        "\n",
        "### **Desventajas**\n",
        "\n",
        "#### **Muchos de los principales projectos de Python no dispone de buena documentacion**\n",
        "\n",
        "Algunos programadores se quejan de forma recurrente de la falta de buena documentacion en Python, sobre todo comparado con otros lenguajes de programación como R, PHP y Java.\n",
        "\n",
        "#### **Es lento**\n",
        "\n",
        "Para un numero grande de iteraciones si no se usa vectorizacion, [Cython](http://www.cython.org/) o [numba](https://numba.pydata.org/).  \n",
        "\n",
        "Mas lecturas acerca del tema:\n",
        "\n",
        "*  [10 Reasons Python Rocks for Research (And a Few Reasons it Doesn’t)](http://www.stat.washington.edu/~hoytak/blog/whypython.html)\n",
        "*  [I used Matlab. Now I use Python](http://stevetjoa.com/305/)\n",
        "*  [Eight Advantages of Python Over Matlab](http://phillipmfeldman.org/Python/Advantages_of_Python_Over_Matlab.html)\n",
        "\n",
        "## **Usando Python en Ciencias de la Tierra**\n",
        "\n",
        "Lin, J. W.-B. (2012). [**Why Python Is the Next Wave in Earth Sciences Computing**](http://journals.ametsoc.org/doi/full/10.1175/BAMS-D-12-00148.1). *Bulletin of the American Meteorological Society*, 93(12), 1823–1824. doi:10.1175/BAMS-D-12-00148.1\n",
        "\n",
        "* A pesar de que ha existido durante dos decadas, exploto en uso en las ciencias de la tierra hace solo unos años despues de que la comunidad de desarrollo convergiera en los paquetes cientiificos estandar (por ejemplo, manejo de matrices) necesarios para el trabajo de las ciencias de la tierra.\n",
        "\n",
        "\n",
        "* Flujo de trabajo mucho mas robusto y flexible. Todo, desde la descarga de datos hasta el analisis de datos, la visualizacion y, finalmente, la redaccion de un documento, puede realizarse en un solo entorno.\n",
        "\n",
        "* La capacidad de acceder a innovaciones de industrias ajenas a las ciencias de la Tierra (computacion en la nube, big data, desarrollo de aplicaciones moviles).\n",
        "\n",
        "- El apoyo institucional incluye grupos en el Programa Laboratorio Nacional Lawrence Livermore para el Diagnostico e Intercomparacion de Modelos Climaticos, el Laboratorio de Sistemas Informaticos de NCAR y el Centro de Datos Atmosfericos Britanicos.\n",
        "\n",
        "## **El ecosistema Python**\n",
        "\n",
        "<img  height=\"500\" src=\"http://res.cloudinary.com/dyd911kmh/image/upload/f_auto,q_auto:best/v1509622333/scipy-eco_kqi2su.png\">\n"
      ]
    },
    {
      "cell_type": "markdown",
      "metadata": {
        "id": "4OVOdBKy9Nn6",
        "colab_type": "text"
      },
      "source": [
        "### **Python como Calculadora**"
      ]
    },
    {
      "cell_type": "code",
      "metadata": {
        "id": "4j-_Xot54HDP",
        "colab_type": "code",
        "outputId": "bc228d29-82f9-4c50-df1d-f3f061584818",
        "colab": {
          "base_uri": "https://localhost:8080/",
          "height": 34
        }
      },
      "source": [
        "# Sumar\n",
        "2+1"
      ],
      "execution_count": 0,
      "outputs": [
        {
          "output_type": "execute_result",
          "data": {
            "text/plain": [
              "3"
            ]
          },
          "metadata": {
            "tags": []
          },
          "execution_count": 1
        }
      ]
    },
    {
      "cell_type": "code",
      "metadata": {
        "id": "ckaXjMYf9VTe",
        "colab_type": "code",
        "colab": {}
      },
      "source": [
        "# Restar\n",
        "2-1"
      ],
      "execution_count": 0,
      "outputs": []
    },
    {
      "cell_type": "code",
      "metadata": {
        "id": "ghIq4N5K9VAW",
        "colab_type": "code",
        "colab": {}
      },
      "source": [
        "# Multiplicacion\n",
        "2*2"
      ],
      "execution_count": 0,
      "outputs": []
    },
    {
      "cell_type": "code",
      "metadata": {
        "id": "fqQpVaAn9U2J",
        "colab_type": "code",
        "colab": {}
      },
      "source": [
        "# Division\n",
        "3/2"
      ],
      "execution_count": 0,
      "outputs": []
    },
    {
      "cell_type": "code",
      "metadata": {
        "id": "bINusLk39Yf9",
        "colab_type": "code",
        "colab": {}
      },
      "source": [
        "# Division Entera\n",
        "7//4"
      ],
      "execution_count": 0,
      "outputs": []
    },
    {
      "cell_type": "code",
      "metadata": {
        "id": "ooyonzXK9YOV",
        "colab_type": "code",
        "colab": {}
      },
      "source": [
        "# Modulo\n",
        "7%4"
      ],
      "execution_count": 0,
      "outputs": []
    },
    {
      "cell_type": "code",
      "metadata": {
        "id": "DzV2elvq9bIM",
        "colab_type": "code",
        "outputId": "a213044d-71e7-4912-f6cb-a7fcf0fce53d",
        "colab": {
          "base_uri": "https://localhost:8080/",
          "height": 34
        }
      },
      "source": [
        "# Aritmetica compleja\n",
        "(2+10) * (10+3)"
      ],
      "execution_count": 0,
      "outputs": [
        {
          "output_type": "execute_result",
          "data": {
            "text/plain": [
              "156"
            ]
          },
          "metadata": {
            "tags": []
          },
          "execution_count": 2
        }
      ]
    },
    {
      "cell_type": "markdown",
      "metadata": {
        "id": "s_pwZEtU4wnn",
        "colab_type": "text"
      },
      "source": [
        "### **Tipos de Datos**\n",
        "\n",
        "Python3 presentan varios tipos de datos, siendo estos:\n",
        "\n",
        "    1) Numericos\n",
        "    2) Cadenas\n",
        "    3) Logicos\n",
        "    4) None\n",
        "\n",
        "\n",
        "#### **Numericos**\n",
        "\n",
        "Los dos mas importantes son <span style=\"color:blue\">**integers**</span> y <span style=\"color:blue\">**floating point**</span>.\n",
        "\n",
        "Los _integers_ son numeros enteros positivos o negativos. Por ejemplo: 2 y -2 son numeros _integers_.\n",
        "\n",
        "Por su parte los números _Floating point_ son aquellos que presentan decimales. Por ejemplo: -22.3 y -10.455 son numeros _floating point_.\n",
        "\n",
        "#### **Strings**\n",
        "Los strings son usados en python para almanecar palabras, para definir un _string_ usted necesita usar comillas dobles o simple. Por ejemplo: **'hello word'**\n",
        "\n",
        "\n",
        "#### **Logicos**\n",
        "El tipo booleano es una especie de tipo numérico que es utilizado para evaluar expresiones lógicas. Pueden \n",
        "\n",
        "    . Si la expresión lógica es cierta, el resultado es True (con mayúscula al principio).\n",
        "    . Si la expresión lógica NO es cierta, el resultado es False (con mayúscula al principio).\n",
        "\n",
        "#### **None**\n",
        "Es una palabra **reservada** en Python3 utilizada para representar el vacio\n"
      ]
    },
    {
      "cell_type": "code",
      "metadata": {
        "id": "0Ya10DQ74x9t",
        "colab_type": "code",
        "outputId": "b9add95e-9abe-4896-f3ea-1a950301ba21",
        "colab": {
          "base_uri": "https://localhost:8080/",
          "height": 51
        }
      },
      "source": [
        "# Ejemplo de tipo de dato entero y flotante\n",
        "print(type(1))\n",
        "print(type(1.0))"
      ],
      "execution_count": 0,
      "outputs": [
        {
          "output_type": "stream",
          "text": [
            "<class 'int'>\n",
            "<class 'float'>\n"
          ],
          "name": "stdout"
        }
      ]
    },
    {
      "cell_type": "code",
      "metadata": {
        "id": "8OR-Wyh_9tXt",
        "colab_type": "code",
        "outputId": "6dd286bf-875e-4700-9590-4b377d198209",
        "colab": {
          "base_uri": "https://localhost:8080/",
          "height": 34
        }
      },
      "source": [
        "# Ejemplo de caracteres\n",
        "'Esto es un ejemplo de string'"
      ],
      "execution_count": 0,
      "outputs": [
        {
          "output_type": "execute_result",
          "data": {
            "text/plain": [
              "'Esto es un ejemplo de string'"
            ]
          },
          "metadata": {
            "tags": []
          },
          "execution_count": 4
        }
      ]
    },
    {
      "cell_type": "code",
      "metadata": {
        "id": "_FbJ5dcL9wO8",
        "colab_type": "code",
        "outputId": "8c76dc92-9c2f-4c41-8544-fad1b8b80dd5",
        "colab": {
          "base_uri": "https://localhost:8080/",
          "height": 34
        }
      },
      "source": [
        "type('Esto es un ejemplo de string')"
      ],
      "execution_count": 0,
      "outputs": [
        {
          "output_type": "execute_result",
          "data": {
            "text/plain": [
              "str"
            ]
          },
          "metadata": {
            "tags": []
          },
          "execution_count": 5
        }
      ]
    },
    {
      "cell_type": "code",
      "metadata": {
        "id": "xBOUKtJP9w5o",
        "colab_type": "code",
        "outputId": "ce9cd836-ea57-4a71-e293-1c57b5b8634d",
        "colab": {
          "base_uri": "https://localhost:8080/",
          "height": 34
        }
      },
      "source": [
        "# Concatenar caracteres\n",
        "'Hola' + 'Mundo'"
      ],
      "execution_count": 0,
      "outputs": [
        {
          "output_type": "execute_result",
          "data": {
            "text/plain": [
              "'HolaMundo'"
            ]
          },
          "metadata": {
            "tags": []
          },
          "execution_count": 6
        }
      ]
    },
    {
      "cell_type": "code",
      "metadata": {
        "id": "rOJL9oBu9xqF",
        "colab_type": "code",
        "outputId": "e011f83e-760d-47c2-a40e-b5d9448a0f9f",
        "colab": {
          "base_uri": "https://localhost:8080/",
          "height": 34
        }
      },
      "source": [
        "# Imprimir un string\n",
        "print('Hello World 1')"
      ],
      "execution_count": 0,
      "outputs": [
        {
          "output_type": "stream",
          "text": [
            "Hello World 1\n"
          ],
          "name": "stdout"
        }
      ]
    },
    {
      "cell_type": "code",
      "metadata": {
        "id": "sl44wXmL9yW-",
        "colab_type": "code",
        "colab": {}
      },
      "source": [
        "# Longitud de un string\n",
        "len('Hello')"
      ],
      "execution_count": 0,
      "outputs": []
    },
    {
      "cell_type": "code",
      "metadata": {
        "id": "gYTzwn4H90WR",
        "colab_type": "code",
        "outputId": "4bae423c-c02b-4663-cdac-a1a8b21ee735",
        "colab": {
          "base_uri": "https://localhost:8080/",
          "height": 34
        }
      },
      "source": [
        "#Obtener una posición especifica\n",
        "'Hello'[4]"
      ],
      "execution_count": 0,
      "outputs": [
        {
          "output_type": "execute_result",
          "data": {
            "text/plain": [
              "'o'"
            ]
          },
          "metadata": {
            "tags": []
          },
          "execution_count": 8
        }
      ]
    },
    {
      "cell_type": "code",
      "metadata": {
        "id": "nkW6725X91XU",
        "colab_type": "code",
        "outputId": "8604a831-0dec-4920-fbb8-d3f06fd00473",
        "colab": {
          "base_uri": "https://localhost:8080/",
          "height": 51
        }
      },
      "source": [
        "print('Hello'[2:])\n",
        "print('Hello'[:2])"
      ],
      "execution_count": 0,
      "outputs": [
        {
          "output_type": "stream",
          "text": [
            "llo\n",
            "He\n"
          ],
          "name": "stdout"
        }
      ]
    },
    {
      "cell_type": "code",
      "metadata": {
        "id": "h8xMkUfl93Mc",
        "colab_type": "code",
        "outputId": "a4c74856-0a8a-49f6-92ce-ec8373e7f4c2",
        "colab": {
          "base_uri": "https://localhost:8080/",
          "height": 51
        }
      },
      "source": [
        "print(True)\n",
        "print(False)"
      ],
      "execution_count": 0,
      "outputs": [
        {
          "output_type": "stream",
          "text": [
            "True\n",
            "False\n"
          ],
          "name": "stdout"
        }
      ]
    },
    {
      "cell_type": "markdown",
      "metadata": {
        "id": "40gRtQvB-Bgp",
        "colab_type": "text"
      },
      "source": [
        "### **Asignacion de Variables**\n",
        "\n",
        "Ahora que hemos aprendido sobre tipo de datos en Python3, veamos como podemos asignar nombres y crear variables.\n",
        "Usamos un solo signo igual para asignar etiquetas a las variables. Veamos algunos ejemplos de como podemos hacer esto."
      ]
    },
    {
      "cell_type": "code",
      "metadata": {
        "id": "4DnO7HAl-ZOH",
        "colab_type": "code",
        "colab": {}
      },
      "source": [
        "# - Creamos un objeto llamado \"a\" al cual se le asigna el valor 5.\n",
        "# - Creamos un objeto llamado \"b\" al cual se le asigna la palabra 'hola'.\n",
        "a = 5\n",
        "b = 'hola'"
      ],
      "execution_count": 0,
      "outputs": []
    },
    {
      "cell_type": "code",
      "metadata": {
        "id": "xr9WdIOQ-aTY",
        "colab_type": "code",
        "outputId": "b4b243da-eeff-4b4b-d431-1dca1603e0e7",
        "colab": {
          "base_uri": "https://localhost:8080/",
          "height": 51
        }
      },
      "source": [
        "# Suma de objetos\n",
        "print(a + a)\n",
        "print(b + b)"
      ],
      "execution_count": 0,
      "outputs": [
        {
          "output_type": "stream",
          "text": [
            "10\n",
            "holahola\n"
          ],
          "name": "stdout"
        }
      ]
    },
    {
      "cell_type": "code",
      "metadata": {
        "id": "M5fZ7eiL-bYx",
        "colab_type": "code",
        "colab": {}
      },
      "source": [
        "# Reasignacion\n",
        "a = 10\n",
        "b = 'Hi'"
      ],
      "execution_count": 0,
      "outputs": []
    },
    {
      "cell_type": "code",
      "metadata": {
        "id": "sX-1aZJP-cCu",
        "colab_type": "code",
        "outputId": "9d050ddd-0e17-44b1-d169-5d08f506fd7b",
        "colab": {
          "base_uri": "https://localhost:8080/",
          "height": 51
        }
      },
      "source": [
        "print(a + a)\n",
        "print(b + b)"
      ],
      "execution_count": 0,
      "outputs": [
        {
          "output_type": "stream",
          "text": [
            "20\n",
            "HiHi\n"
          ],
          "name": "stdout"
        }
      ]
    },
    {
      "cell_type": "code",
      "metadata": {
        "id": "0uehg4ys-dKb",
        "colab_type": "code",
        "outputId": "209cb20f-a15e-4d69-c40a-015f273c1d53",
        "colab": {
          "base_uri": "https://localhost:8080/",
          "height": 34
        }
      },
      "source": [
        "# Usa a para redefinir a\n",
        "a = a + a\n",
        "print(a)"
      ],
      "execution_count": 0,
      "outputs": [
        {
          "output_type": "stream",
          "text": [
            "20\n"
          ],
          "name": "stdout"
        }
      ]
    },
    {
      "cell_type": "code",
      "metadata": {
        "id": "rXA0C5Ak-d6g",
        "colab_type": "code",
        "colab": {}
      },
      "source": [
        "# Primer ejercicio ¿Cual sera el valor de taxes?\n",
        "my_income = 100\n",
        "tax_rate = 0.1\n",
        "\n",
        "my_taxes = my_income*tax_rate"
      ],
      "execution_count": 0,
      "outputs": []
    },
    {
      "cell_type": "markdown",
      "metadata": {
        "id": "-wQhwXTsCst5",
        "colab_type": "text"
      },
      "source": [
        "### **¿Dudas con este Jupyer-Notebook?**\n",
        "\n",
        "Estaremos felices de ayudarte!. Create una cuenta Github si es que no la tienes, luego detalla tu problema ampliamente en: https://github.com/csaybar/EarthEngineMasterGIS/issues\n",
        "\n",
        "**Tienes que dar clic en el boton verde!**\n",
        "\n",
        "<center>\n",
        "<img src=\"https://user-images.githubusercontent.com/16768318/79680748-d5511000-81d8-11ea-9f89-44bd010adf69.png\" width = 70%>\n",
        "</center>"
      ]
    }
  ]
}