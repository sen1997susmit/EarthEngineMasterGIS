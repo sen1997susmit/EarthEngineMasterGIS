{
  "nbformat": 4,
  "nbformat_minor": 0,
  "metadata": {
    "colab": {
      "name": "08_Modulos_y_Paquetes.ipynb",
      "provenance": [],
      "collapsed_sections": [],
      "toc_visible": true,
      "include_colab_link": true
    },
    "kernelspec": {
      "name": "python3",
      "display_name": "Python 3"
    }
  },
  "cells": [
    {
      "cell_type": "markdown",
      "metadata": {
        "id": "view-in-github",
        "colab_type": "text"
      },
      "source": [
        "<a href=\"https://colab.research.google.com/github/csaybar/EarthEngineMasterGIS/blob/master/module02/08_Modulos_y_Paquetes.ipynb\" target=\"_parent\"><img src=\"https://colab.research.google.com/assets/colab-badge.svg\" alt=\"Open In Colab\"/></a>"
      ]
    },
    {
      "cell_type": "markdown",
      "metadata": {
        "id": "-BhfM4sxGkac",
        "colab_type": "text"
      },
      "source": [
        "<!--COURSE_INFORMATION-->\n",
        "<img align=\"left\" style=\"padding-right:10px;\" src=\"https://user-images.githubusercontent.com/16768318/73986808-75b3ca00-4936-11ea-90f1-3a6c352766ce.png\" width=10% >\n",
        "<img align=\"right\" style=\"padding-left:10px;\" src=\"https://user-images.githubusercontent.com/16768318/73986811-764c6080-4936-11ea-9653-a3eacc47caed.png\" width=10% >\n",
        "\n",
        "**Bienvenidos!** Este *colab notebook* es parte del curso [**Introduccion a Google Earth Engine con Python**](https://github.com/csaybar/EarthEngineMasterGIS) desarrollado por el equipo [**MasterGIS**](https://www.mastergis.com/). Obten mas informacion del curso en este [**enlace**](https://www.mastergis.com/product/google-earth-engine/). El contenido del curso esta disponible en [**GitHub**](https://github.com/csaybar/EarthEngineMasterGIS) bajo licencia [**MIT**](https://opensource.org/licenses/MIT)."
      ]
    },
    {
      "cell_type": "markdown",
      "metadata": {
        "id": "gyQV6MxBbM0R",
        "colab_type": "text"
      },
      "source": [
        "# **MASTERGIS: Modulos y Paquetes**\n",
        "\n",
        "Esta seccion esta basado en [Python para Geociencias](https://github.com/vrrp/Workshop2018Python)\n",
        "\n",
        "En esta lectura, usted aprendera sobre los modulos y paquetes en Python.\n",
        "\n",
        "### **Modulos y paquetes**\n",
        "\n",
        "En la practica, una aplicacion tipicamente consiste de multiples archivos fuente. Y un proyecto en Python frecuentemente consiste de multiples modulos. Los modulos permiten organizar codigo, facilitando el mantenimiento y lectura de un proyecto. Mientras que los paquetes son carpetas (directorios) que contienen modulos.\n",
        "\n",
        "**\\_\\_init\\_\\_.py**: Identificar y automaticamente importar todos los modulos y funciones de un paquete.\n",
        "<center>\n",
        "<img src='https://i.stack.imgur.com/0qCTv.png'>\n",
        "</center>"
      ]
    },
    {
      "cell_type": "code",
      "metadata": {
        "id": "qBxMBaDD3v7O",
        "colab_type": "code",
        "colab": {}
      },
      "source": [
        "import NOMBRE_DEL_MODULO\n",
        "import NOMBRE_DEL_PAQUETE --> el primer archivo init que encuente"
      ],
      "execution_count": 0,
      "outputs": []
    },
    {
      "cell_type": "code",
      "metadata": {
        "id": "KIWN0fZibwOk",
        "colab_type": "code",
        "colab": {}
      },
      "source": [
        "import pandas"
      ],
      "execution_count": 0,
      "outputs": []
    },
    {
      "cell_type": "code",
      "metadata": {
        "id": "VfUwYUpmy7dA",
        "colab_type": "code",
        "outputId": "1906eb9c-7017-4366-9503-fd706b49b9c6",
        "colab": {
          "base_uri": "https://localhost:8080/",
          "height": 34
        }
      },
      "source": [
        "pd.read_excel"
      ],
      "execution_count": 0,
      "outputs": [
        {
          "output_type": "execute_result",
          "data": {
            "text/plain": [
              "<function pandas.io.excel._base.read_excel>"
            ]
          },
          "metadata": {
            "tags": []
          },
          "execution_count": 26
        }
      ]
    },
    {
      "cell_type": "code",
      "metadata": {
        "id": "FbBDAH4scx6O",
        "colab_type": "code",
        "outputId": "86cd6a2c-8f3d-4383-f886-88733a84807c",
        "colab": {
          "base_uri": "https://localhost:8080/",
          "height": 34
        }
      },
      "source": [
        "type(pandas)"
      ],
      "execution_count": 0,
      "outputs": [
        {
          "output_type": "execute_result",
          "data": {
            "text/plain": [
              "module"
            ]
          },
          "metadata": {
            "tags": []
          },
          "execution_count": 28
        }
      ]
    },
    {
      "cell_type": "code",
      "metadata": {
        "id": "TGp4Dkm6c4u8",
        "colab_type": "code",
        "colab": {}
      },
      "source": [
        "# Enumerar todos los modulos\n",
        "for i in range(len(dir(pandas))):\n",
        "  print(i, dir(pandas)[i])"
      ],
      "execution_count": 0,
      "outputs": []
    },
    {
      "cell_type": "code",
      "metadata": {
        "id": "av1VMyJ742fK",
        "colab_type": "code",
        "colab": {}
      },
      "source": [
        "from NOMBRE_DEL_MODULO_O_PAQUETE import NOMBRE_DE_LA_FUNCION"
      ],
      "execution_count": 0,
      "outputs": []
    },
    {
      "cell_type": "code",
      "metadata": {
        "id": "tOZ6OBDQeGFe",
        "colab_type": "code",
        "colab": {}
      },
      "source": [
        "from pandas import read_excel as r_e"
      ],
      "execution_count": 0,
      "outputs": []
    },
    {
      "cell_type": "code",
      "metadata": {
        "id": "TYo6xnTpeIVt",
        "colab_type": "code",
        "colab": {}
      },
      "source": [
        "from pandas import read_csv"
      ],
      "execution_count": 0,
      "outputs": []
    },
    {
      "cell_type": "code",
      "metadata": {
        "id": "m7FQS-2I5dKb",
        "colab_type": "code",
        "colab": {}
      },
      "source": [
        "from NOMBRE_DEL_PAQUETE.NOMBRE_DEL_SUBDIRECTORIO import  excel"
      ],
      "execution_count": 0,
      "outputs": []
    },
    {
      "cell_type": "code",
      "metadata": {
        "id": "q7NwwmXpevT4",
        "colab_type": "code",
        "colab": {}
      },
      "source": [
        "from pandas.io import excel"
      ],
      "execution_count": 0,
      "outputs": []
    },
    {
      "cell_type": "code",
      "metadata": {
        "id": "Em7pYS9C5m5B",
        "colab_type": "code",
        "outputId": "ac83f2b0-0eb1-4ada-e603-e422d98e8d3a",
        "colab": {
          "base_uri": "https://localhost:8080/",
          "height": 34
        }
      },
      "source": [
        "read_csv"
      ],
      "execution_count": 0,
      "outputs": [
        {
          "output_type": "execute_result",
          "data": {
            "text/plain": [
              "<function pandas.io.parsers._make_parser_function.<locals>.parser_f>"
            ]
          },
          "metadata": {
            "tags": []
          },
          "execution_count": 42
        }
      ]
    },
    {
      "cell_type": "markdown",
      "metadata": {
        "id": "5EKwkNqYHAWF",
        "colab_type": "text"
      },
      "source": [
        "### **¿Dudas con este Jupyer-Notebook?**\n",
        "\n",
        "Estaremos felices de ayudarte!. Create una cuenta Github si es que no la tienes, luego detalla tu problema ampliamente en: https://github.com/csaybar/EarthEngineMasterGIS/issues\n",
        "\n",
        "**Tienes que dar clic en el boton verde!**\n",
        "\n",
        "<center>\n",
        "<img src=\"https://user-images.githubusercontent.com/16768318/79680748-d5511000-81d8-11ea-9f89-44bd010adf69.png\" width = 70%>\n",
        "</center>"
      ]
    }
  ]
}