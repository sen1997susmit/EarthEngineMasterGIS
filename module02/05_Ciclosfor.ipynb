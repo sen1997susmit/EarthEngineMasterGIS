{
  "nbformat": 4,
  "nbformat_minor": 0,
  "metadata": {
    "colab": {
      "name": "05_Ciclosfor.ipynb",
      "provenance": [],
      "collapsed_sections": [],
      "include_colab_link": true
    },
    "kernelspec": {
      "name": "python3",
      "display_name": "Python 3"
    }
  },
  "cells": [
    {
      "cell_type": "markdown",
      "metadata": {
        "id": "view-in-github",
        "colab_type": "text"
      },
      "source": [
        "<a href=\"https://colab.research.google.com/github/csaybar/EarthEngineMasterGIS/blob/master/module02/05_Ciclosfor.ipynb\" target=\"_parent\"><img src=\"https://colab.research.google.com/assets/colab-badge.svg\" alt=\"Open In Colab\"/></a>"
      ]
    },
    {
      "cell_type": "markdown",
      "metadata": {
        "id": "Dt8WHCxbCEyA",
        "colab_type": "text"
      },
      "source": [
        "<!--COURSE_INFORMATION-->\n",
        "<img align=\"left\" style=\"padding-right:10px;\" src=\"https://user-images.githubusercontent.com/16768318/73986808-75b3ca00-4936-11ea-90f1-3a6c352766ce.png\" width=10% >\n",
        "<img align=\"right\" style=\"padding-left:10px;\" src=\"https://user-images.githubusercontent.com/16768318/73986811-764c6080-4936-11ea-9653-a3eacc47caed.png\" width=10% >\n",
        "\n",
        "**Bienvenidos!** Este *colab notebook* es parte del curso [**Introduccion a Google Earth Engine con Python**](https://github.com/csaybar/EarthEngineMasterGIS) desarrollado por el equipo [**MasterGIS**](https://www.mastergis.com/). Obten mas informacion del curso en este [**enlace**](https://www.mastergis.com/product/google-earth-engine/). El contenido del curso esta disponible en [**GitHub**](https://github.com/csaybar/EarthEngineMasterGIS) bajo licencia [**MIT**](https://opensource.org/licenses/MIT)."
      ]
    },
    {
      "cell_type": "markdown",
      "metadata": {
        "id": "vJmEsDmzK3j4",
        "colab_type": "text"
      },
      "source": [
        "# **MASTERGIS: Ciclo for**\n",
        "\n",
        "En esta lectura, usted aprendera lo esencial acerca del bucle _for.\n"
      ]
    },
    {
      "cell_type": "markdown",
      "metadata": {
        "id": "tOaWJHigJCP-",
        "colab_type": "text"
      },
      "source": [
        "Un bucle <code>**for**</code>  actua como un iterador en Python3; pasa por elementos que estan en una *secuencia* o cualquier otro elemento iterable. Los objetos que hemos aprendido sobre los que podemos iterar incluyen a los _strings_, listas y tuplas.\n",
        "\n",
        "Este es el formato general para un bubcle <code>**for**</code>\n",
        "\n",
        "    for item in objeto:\n",
        "        declaracion\n",
        "\n",
        "El nombre de variable a utilizar para los elementos depende completamente de usted!, por lo tanto, use su mejor juicio para elegir un nombre que tenga sentido y que pueda comprender al volver a revisar su codigo. A continuacion, se puede hacer referencia al nombre de este elemento dentro de su bucle, por ejemplo, si desea utilizar declaraciones <code> if </code> para realizar comprobaciones.\n",
        "\n",
        "Avancemos y trabajemos a traves de varios ejemplos de <code>**for**</code> usando una variedad de tipos de objetos de datos. Empezaremos de forma simple y desarrollaremos mas complejidad mas adelante."
      ]
    },
    {
      "cell_type": "markdown",
      "metadata": {
        "id": "MBPZnUh9LCft",
        "colab_type": "text"
      },
      "source": [
        "#### **Ejemplo 1**\n",
        "Iterar alrededor de una lista."
      ]
    },
    {
      "cell_type": "code",
      "metadata": {
        "id": "TjWQt8NeQcO6",
        "colab_type": "code",
        "colab": {}
      },
      "source": [
        "list1 = [1,2,3,4,5,6,7,8,9,10]"
      ],
      "execution_count": 0,
      "outputs": []
    },
    {
      "cell_type": "code",
      "metadata": {
        "id": "ENdeZFQxQecU",
        "colab_type": "code",
        "outputId": "d222c623-bcb1-4bdc-cde1-01db8a93a9f0",
        "colab": {
          "base_uri": "https://localhost:8080/",
          "height": 187
        }
      },
      "source": [
        "for num in list1:\n",
        "    print(num)"
      ],
      "execution_count": 0,
      "outputs": [
        {
          "output_type": "stream",
          "text": [
            "1\n",
            "2\n",
            "3\n",
            "4\n",
            "5\n",
            "6\n",
            "7\n",
            "8\n",
            "9\n",
            "10\n"
          ],
          "name": "stdout"
        }
      ]
    },
    {
      "cell_type": "markdown",
      "metadata": {
        "id": "gC5LLq-2QfJY",
        "colab_type": "text"
      },
      "source": [
        "#### **Ejemplo 2**\n",
        "Imprima los numeros pares de list1."
      ]
    },
    {
      "cell_type": "code",
      "metadata": {
        "id": "1xY0iu8CQitk",
        "colab_type": "code",
        "outputId": "1caa0f34-885f-4205-abec-84f52e9f9d6a",
        "colab": {
          "base_uri": "https://localhost:8080/",
          "height": 102
        }
      },
      "source": [
        "for num in list1:\n",
        "    if num % 2 == 0:\n",
        "        print(num)"
      ],
      "execution_count": 0,
      "outputs": [
        {
          "output_type": "stream",
          "text": [
            "2\n",
            "4\n",
            "6\n",
            "8\n",
            "10\n"
          ],
          "name": "stdout"
        }
      ]
    },
    {
      "cell_type": "markdown",
      "metadata": {
        "id": "j3LnQK5EQky-",
        "colab_type": "text"
      },
      "source": [
        "Al ejercicio anterior podemos agregarle condicionales!."
      ]
    },
    {
      "cell_type": "code",
      "metadata": {
        "id": "JQsAEqMlQmUE",
        "colab_type": "code",
        "outputId": "797404ca-545e-4c82-df53-8ebd02a0fcba",
        "colab": {
          "base_uri": "https://localhost:8080/",
          "height": 187
        }
      },
      "source": [
        "for num in list1:\n",
        "    if num % 2 == 0:\n",
        "        print(num)\n",
        "    else:\n",
        "        print('Odd number')"
      ],
      "execution_count": 0,
      "outputs": [
        {
          "output_type": "stream",
          "text": [
            "Odd number\n",
            "2\n",
            "Odd number\n",
            "4\n",
            "Odd number\n",
            "6\n",
            "Odd number\n",
            "8\n",
            "Odd number\n",
            "10\n"
          ],
          "name": "stdout"
        }
      ]
    },
    {
      "cell_type": "markdown",
      "metadata": {
        "id": "-ialxSLHQoOU",
        "colab_type": "text"
      },
      "source": [
        "#### **Ejemplo 3**\n",
        "Obtenga la suma de los elemento de list1."
      ]
    },
    {
      "cell_type": "code",
      "metadata": {
        "id": "2JHWtinuQtzH",
        "colab_type": "code",
        "outputId": "93943d51-a111-4f5c-9651-52e9367fcc35",
        "colab": {
          "base_uri": "https://localhost:8080/",
          "height": 34
        }
      },
      "source": [
        "# Empezar la suma desde cero\n",
        "list_sum = 0 \n",
        "\n",
        "for num in list1:\n",
        "    list_sum = list_sum + num\n",
        "\n",
        "print(list_sum)"
      ],
      "execution_count": 0,
      "outputs": [
        {
          "output_type": "stream",
          "text": [
            "55\n"
          ],
          "name": "stdout"
        }
      ]
    },
    {
      "cell_type": "markdown",
      "metadata": {
        "id": "1AWYP6rXQwMg",
        "colab_type": "text"
      },
      "source": [
        "Veamos algunos ejemplos mas, pero ahora usando **diccionarios!**."
      ]
    },
    {
      "cell_type": "code",
      "metadata": {
        "id": "GmC8-_tvQ31a",
        "colab_type": "code",
        "colab": {}
      },
      "source": [
        "d = {'k1':1,'k2':2,'k3':3}"
      ],
      "execution_count": 0,
      "outputs": []
    },
    {
      "cell_type": "code",
      "metadata": {
        "id": "8lA0onhjRQ-D",
        "colab_type": "code",
        "outputId": "06a5d0d4-7713-4697-8f3e-b697f9bc8d89",
        "colab": {
          "base_uri": "https://localhost:8080/",
          "height": 68
        }
      },
      "source": [
        "for item in d:\n",
        "    print(item)"
      ],
      "execution_count": 0,
      "outputs": [
        {
          "output_type": "stream",
          "text": [
            "k1\n",
            "k2\n",
            "k3\n"
          ],
          "name": "stdout"
        }
      ]
    },
    {
      "cell_type": "markdown",
      "metadata": {
        "id": "Vk4XStSSRRzD",
        "colab_type": "text"
      },
      "source": [
        "Observe como esto produce solo las _keys_. Entonces, ¿Como podemos obtener los valores? O ambas las claves y los valores?\n",
        "\n",
        "Pues usando los metodos que ya hemos aprendido. ¿Los recuerdas?, estos son: **.keys()**, **.values()** y **.items()**"
      ]
    },
    {
      "cell_type": "code",
      "metadata": {
        "id": "iC8txTGsRTcr",
        "colab_type": "code",
        "outputId": "01139b12-2fda-448f-ebd3-48e8d4750c36",
        "colab": {
          "base_uri": "https://localhost:8080/",
          "height": 34
        }
      },
      "source": [
        "# Create a dictionary view object\n",
        "d.items()"
      ],
      "execution_count": 0,
      "outputs": [
        {
          "output_type": "execute_result",
          "data": {
            "text/plain": [
              "dict_items([('k1', 1), ('k2', 2), ('k3', 3)])"
            ]
          },
          "metadata": {
            "tags": []
          },
          "execution_count": 8
        }
      ]
    },
    {
      "cell_type": "code",
      "metadata": {
        "id": "RKDjMJCrRV0a",
        "colab_type": "code",
        "outputId": "de1b8162-e660-4b89-a340-8ba1e0ef8315",
        "colab": {
          "base_uri": "https://localhost:8080/",
          "height": 68
        }
      },
      "source": [
        "for k,v in d.items():\n",
        "    print(k,v)"
      ],
      "execution_count": 0,
      "outputs": [
        {
          "output_type": "stream",
          "text": [
            "k1 1\n",
            "k2 2\n",
            "k3 3\n"
          ],
          "name": "stdout"
        }
      ]
    },
    {
      "cell_type": "markdown",
      "metadata": {
        "id": "lSPbXWmNRWlH",
        "colab_type": "text"
      },
      "source": [
        "Hemos aprendido como usar bucles para iterar a traves de listas, cadenas y diccionarios. Sera una herramienta importante para nosotros, así que asegurese de conocerla bien y comprender los ejemplos anteriores.\n",
        "\n",
        "[Más recursos] (http://www.tutorialspoint.com/python/python_for_loop.htm)"
      ]
    },
    {
      "cell_type": "markdown",
      "metadata": {
        "id": "6c3hBjN0F7G7",
        "colab_type": "text"
      },
      "source": [
        "### **¿Dudas con este Jupyer-Notebook?**\n",
        "\n",
        "Estaremos felices de ayudarte!. Create una cuenta Github si es que no la tienes, luego detalla tu problema ampliamente en: https://github.com/csaybar/EarthEngineMasterGIS/issues\n",
        "\n",
        "**Tienes que dar clic en el boton verde!**\n",
        "\n",
        "<center>\n",
        "<img src=\"https://user-images.githubusercontent.com/16768318/79680748-d5511000-81d8-11ea-9f89-44bd010adf69.png\" width = 70%>\n",
        "</center>"
      ]
    }
  ]
}