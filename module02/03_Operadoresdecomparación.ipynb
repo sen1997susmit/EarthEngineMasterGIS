{
  "nbformat": 4,
  "nbformat_minor": 0,
  "metadata": {
    "colab": {
      "name": "03_Operadoresdecomparación.ipynb",
      "provenance": [],
      "collapsed_sections": [],
      "include_colab_link": true
    },
    "kernelspec": {
      "name": "python3",
      "display_name": "Python 3"
    }
  },
  "cells": [
    {
      "cell_type": "markdown",
      "metadata": {
        "id": "view-in-github",
        "colab_type": "text"
      },
      "source": [
        "<a href=\"https://colab.research.google.com/github/csaybar/EarthEngineMasterGIS/blob/master/module02/03_Operadoresdecomparaci%C3%B3n.ipynb\" target=\"_parent\"><img src=\"https://colab.research.google.com/assets/colab-badge.svg\" alt=\"Open In Colab\"/></a>"
      ]
    },
    {
      "cell_type": "markdown",
      "metadata": {
        "id": "m8GxCP3O_KJ4",
        "colab_type": "text"
      },
      "source": [
        "<!--COURSE_INFORMATION-->\n",
        "<img align=\"left\" style=\"padding-right:10px;\" src=\"https://user-images.githubusercontent.com/16768318/73986808-75b3ca00-4936-11ea-90f1-3a6c352766ce.png\" width=10% >\n",
        "<img align=\"right\" style=\"padding-left:10px;\" src=\"https://user-images.githubusercontent.com/16768318/73986811-764c6080-4936-11ea-9653-a3eacc47caed.png\" width=10% >\n",
        "\n",
        "**Bienvenidos!** Este *colab notebook* es parte del curso [**Introduccion a Google Earth Engine con Python**](https://github.com/csaybar/EarthEngineMasterGIS) desarrollado por el equipo [**MasterGIS**](https://www.mastergis.com/). Obten mas informacion del curso en este [**enlace**](https://www.mastergis.com/product/google-earth-engine/). El contenido del curso esta disponible en [**GitHub**](https://github.com/csaybar/EarthEngineMasterGIS) bajo licencia [**MIT**](https://opensource.org/licenses/MIT)."
      ]
    },
    {
      "cell_type": "markdown",
      "metadata": {
        "id": "eftQxTXZC3Ly",
        "colab_type": "text"
      },
      "source": [
        "# **MASTERGIS:Operadores de comparacion**\n",
        "\n",
        "En esta lectura, usted aprendera lo esencial acerca de Operadores de Comparacion. Estos operadores siempre recordaran un valor booleano. Si usted tienen alguna nocion de matematicas esta leccion sera pan comido. \n",
        "\n",
        "\n",
        "<table class = \"table table-bordered\">\n",
        "<tr>\n",
        "<th style = \"width: 10%\"> Operador </th> <th style = \"width: 45%\"> Descripción </th> <th> Ejemplo </th>\n",
        "</tr>\n",
        "<tr>\n",
        "<td> == </td>\n",
        "<td> Si los valores de dos operandos son iguales, la condición se convierte en verdadera. </td>\n",
        "<td> (a == b) no es verdadero. </td>\n",
        "</tr>\n",
        "<tr>\n",
        "<td>! = </td>\n",
        "<td> Si los valores de dos operandos no son iguales, entonces la condición se convierte en verdadera. </td>\n",
        "<td> (a! = b) es verdadero </td>\n",
        "</tr>\n",
        "<tr>\n",
        "<td> &gt; </td>\n",
        "<td> Si el valor del operando izquierdo es mayor que el valor del operando derecho, entonces la condición se convierte en verdadera. </td>\n",
        "<td> (a &gt; b) no es verdadero. </td>\n",
        "</tr>\n",
        "<tr>\n",
        "<td> &lt; </td>\n",
        "<td> Si el valor del operando izquierdo es menor que el valor del operando derecho, entonces la condición se convierte en verdadera. </td>\n",
        "<td> (a &lt; b) es verdadero. </td>\n",
        "</tr>\n",
        "<tr>\n",
        "<td> &gt; = </td>\n",
        "<td> Si el valor del operando izquierdo es mayor o igual que el valor del operando derecho, entonces la condición se convierte en verdadera. </td>\n",
        "<td> (a &gt; = b) no es verdadero. </td>\n",
        "</tr>\n",
        "<tr>\n",
        "<td> &lt; = </td>\n",
        "<td> Si el valor del operando izquierdo es menor o igual que el valor del operando derecho, entonces la condición se convierte en verdadera. </td>\n",
        "<td> (a &lt; = b) es verdadero. </td>\n",
        "</tr>\n",
        "</table>\n",
        "\n",
        "\n",
        "Veamos ahora algunos ejemplos:"
      ]
    },
    {
      "cell_type": "markdown",
      "metadata": {
        "id": "oIUk8zbPEyKU",
        "colab_type": "text"
      },
      "source": [
        "### **Igual**"
      ]
    },
    {
      "cell_type": "code",
      "metadata": {
        "id": "YVAW6NcHEsjn",
        "colab_type": "code",
        "outputId": "37d4d308-730d-43b4-d713-f7df8f110038",
        "colab": {
          "base_uri": "https://localhost:8080/",
          "height": 34
        }
      },
      "source": [
        "2 == 2"
      ],
      "execution_count": 0,
      "outputs": [
        {
          "output_type": "execute_result",
          "data": {
            "text/plain": [
              "True"
            ]
          },
          "metadata": {
            "tags": []
          },
          "execution_count": 1
        }
      ]
    },
    {
      "cell_type": "code",
      "metadata": {
        "id": "HLxANumrEz-Y",
        "colab_type": "code",
        "outputId": "27a833d0-bd39-4eda-f06d-7e2fe6ae37f7",
        "colab": {
          "base_uri": "https://localhost:8080/",
          "height": 34
        }
      },
      "source": [
        "1 == 0"
      ],
      "execution_count": 0,
      "outputs": [
        {
          "output_type": "execute_result",
          "data": {
            "text/plain": [
              "False"
            ]
          },
          "metadata": {
            "tags": []
          },
          "execution_count": 2
        }
      ]
    },
    {
      "cell_type": "markdown",
      "metadata": {
        "id": "96l6x49HE0kV",
        "colab_type": "text"
      },
      "source": [
        "Recuerde que <code>==</code> es un operador de <em>comparasion</em>, mientras que <code>=</code> es un operador de <em>asignacion</em>."
      ]
    },
    {
      "cell_type": "markdown",
      "metadata": {
        "id": "xgmp4_wGE2E7",
        "colab_type": "text"
      },
      "source": [
        "### **No igual**"
      ]
    },
    {
      "cell_type": "code",
      "metadata": {
        "id": "KY_ZZ_QNE371",
        "colab_type": "code",
        "outputId": "6c797203-9d1c-4924-db9c-d5df3c8003db",
        "colab": {
          "base_uri": "https://localhost:8080/",
          "height": 34
        }
      },
      "source": [
        "2 != 1"
      ],
      "execution_count": 0,
      "outputs": [
        {
          "output_type": "execute_result",
          "data": {
            "text/plain": [
              "True"
            ]
          },
          "metadata": {
            "tags": []
          },
          "execution_count": 3
        }
      ]
    },
    {
      "cell_type": "code",
      "metadata": {
        "id": "SYJiY9cgE6vj",
        "colab_type": "code",
        "outputId": "8c1d5cc1-8d76-4245-e991-42478752ff6a",
        "colab": {
          "base_uri": "https://localhost:8080/",
          "height": 34
        }
      },
      "source": [
        "2 != 2"
      ],
      "execution_count": 0,
      "outputs": [
        {
          "output_type": "execute_result",
          "data": {
            "text/plain": [
              "False"
            ]
          },
          "metadata": {
            "tags": []
          },
          "execution_count": 4
        }
      ]
    },
    {
      "cell_type": "markdown",
      "metadata": {
        "id": "HAubbpjpE7iR",
        "colab_type": "text"
      },
      "source": [
        "### **Mayor que**"
      ]
    },
    {
      "cell_type": "code",
      "metadata": {
        "id": "0SWelRO-E89z",
        "colab_type": "code",
        "outputId": "c8dc313f-b360-40a6-a2ff-490dd32058cf",
        "colab": {
          "base_uri": "https://localhost:8080/",
          "height": 34
        }
      },
      "source": [
        "2 > 1"
      ],
      "execution_count": 0,
      "outputs": [
        {
          "output_type": "execute_result",
          "data": {
            "text/plain": [
              "True"
            ]
          },
          "metadata": {
            "tags": []
          },
          "execution_count": 6
        }
      ]
    },
    {
      "cell_type": "code",
      "metadata": {
        "id": "tCJCX2ZVFSwV",
        "colab_type": "code",
        "outputId": "b082db46-71f4-453a-ff34-696baa80be6e",
        "colab": {
          "base_uri": "https://localhost:8080/",
          "height": 34
        }
      },
      "source": [
        "2 > 4"
      ],
      "execution_count": 0,
      "outputs": [
        {
          "output_type": "execute_result",
          "data": {
            "text/plain": [
              "False"
            ]
          },
          "metadata": {
            "tags": []
          },
          "execution_count": 7
        }
      ]
    },
    {
      "cell_type": "markdown",
      "metadata": {
        "id": "fVS9TgZ4FTaa",
        "colab_type": "text"
      },
      "source": [
        "### **Menor que**"
      ]
    },
    {
      "cell_type": "code",
      "metadata": {
        "id": "iS2PsLj_FU-F",
        "colab_type": "code",
        "outputId": "0a240020-47ae-41fb-a6d9-54379af22ae6",
        "colab": {
          "base_uri": "https://localhost:8080/",
          "height": 34
        }
      },
      "source": [
        "2 < 4"
      ],
      "execution_count": 0,
      "outputs": [
        {
          "output_type": "execute_result",
          "data": {
            "text/plain": [
              "True"
            ]
          },
          "metadata": {
            "tags": []
          },
          "execution_count": 8
        }
      ]
    },
    {
      "cell_type": "code",
      "metadata": {
        "id": "E96nBXsKFczD",
        "colab_type": "code",
        "outputId": "491f93d9-82d8-424c-bfe6-c58a7518486b",
        "colab": {
          "base_uri": "https://localhost:8080/",
          "height": 34
        }
      },
      "source": [
        "2 < 1"
      ],
      "execution_count": 0,
      "outputs": [
        {
          "output_type": "execute_result",
          "data": {
            "text/plain": [
              "False"
            ]
          },
          "metadata": {
            "tags": []
          },
          "execution_count": 9
        }
      ]
    },
    {
      "cell_type": "markdown",
      "metadata": {
        "id": "quFmaDPJFdlS",
        "colab_type": "text"
      },
      "source": [
        "### **Mayor o igual que**"
      ]
    },
    {
      "cell_type": "code",
      "metadata": {
        "id": "n6PI0qRWFf8D",
        "colab_type": "code",
        "outputId": "b675b5b2-f786-40fa-80f2-d9663f36fc89",
        "colab": {
          "base_uri": "https://localhost:8080/",
          "height": 34
        }
      },
      "source": [
        "2 >= 2"
      ],
      "execution_count": 0,
      "outputs": [
        {
          "output_type": "execute_result",
          "data": {
            "text/plain": [
              "True"
            ]
          },
          "metadata": {
            "tags": []
          },
          "execution_count": 10
        }
      ]
    },
    {
      "cell_type": "code",
      "metadata": {
        "id": "DqnkDYTrFgsS",
        "colab_type": "code",
        "outputId": "9c42c72b-1d3d-472d-82f8-833ac00d1350",
        "colab": {
          "base_uri": "https://localhost:8080/",
          "height": 34
        }
      },
      "source": [
        "2 >= 1"
      ],
      "execution_count": 0,
      "outputs": [
        {
          "output_type": "execute_result",
          "data": {
            "text/plain": [
              "True"
            ]
          },
          "metadata": {
            "tags": []
          },
          "execution_count": 11
        }
      ]
    },
    {
      "cell_type": "markdown",
      "metadata": {
        "id": "ZWA5JbgRFhUe",
        "colab_type": "text"
      },
      "source": [
        "### **Menor o igual que**"
      ]
    },
    {
      "cell_type": "code",
      "metadata": {
        "id": "FfCocvzqFkuD",
        "colab_type": "code",
        "outputId": "92d03c81-fe78-4541-dffc-e267bbfdc018",
        "colab": {
          "base_uri": "https://localhost:8080/",
          "height": 34
        }
      },
      "source": [
        "2 <= 2"
      ],
      "execution_count": 0,
      "outputs": [
        {
          "output_type": "execute_result",
          "data": {
            "text/plain": [
              "True"
            ]
          },
          "metadata": {
            "tags": []
          },
          "execution_count": 12
        }
      ]
    },
    {
      "cell_type": "code",
      "metadata": {
        "id": "v0X6ElEdFlTU",
        "colab_type": "code",
        "outputId": "523bd66e-ade6-456a-b921-9a28badf33ce",
        "colab": {
          "base_uri": "https://localhost:8080/",
          "height": 34
        }
      },
      "source": [
        "2 <= 4"
      ],
      "execution_count": 0,
      "outputs": [
        {
          "output_type": "execute_result",
          "data": {
            "text/plain": [
              "True"
            ]
          },
          "metadata": {
            "tags": []
          },
          "execution_count": 13
        }
      ]
    },
    {
      "cell_type": "markdown",
      "metadata": {
        "id": "NfisWwuZFaas",
        "colab_type": "text"
      },
      "source": [
        "### **¿Dudas con este Jupyer-Notebook?**\n",
        "\n",
        "Estaremos felices de ayudarte!. Create una cuenta Github si es que no la tienes, luego detalla tu problema ampliamente en: https://github.com/csaybar/EarthEngineMasterGIS/issues\n",
        "\n",
        "**Tienes que dar clic en el boton verde!**\n",
        "\n",
        "<center>\n",
        "<img src=\"https://user-images.githubusercontent.com/16768318/79680748-d5511000-81d8-11ea-9f89-44bd010adf69.png\" width = 70%>\n",
        "</center>"
      ]
    }
  ]
}