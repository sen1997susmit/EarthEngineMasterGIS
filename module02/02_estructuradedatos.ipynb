{
  "nbformat": 4,
  "nbformat_minor": 0,
  "metadata": {
    "colab": {
      "name": "02_estructuradedatos.ipynb",
      "provenance": [],
      "collapsed_sections": [],
      "toc_visible": true,
      "include_colab_link": true
    },
    "kernelspec": {
      "name": "python3",
      "display_name": "Python 3"
    }
  },
  "cells": [
    {
      "cell_type": "markdown",
      "metadata": {
        "id": "view-in-github",
        "colab_type": "text"
      },
      "source": [
        "<a href=\"https://colab.research.google.com/github/csaybar/EarthEngineMasterGIS/blob/master/module02/02_estructuradedatos.ipynb\" target=\"_parent\"><img src=\"https://colab.research.google.com/assets/colab-badge.svg\" alt=\"Open In Colab\"/></a>"
      ]
    },
    {
      "cell_type": "markdown",
      "metadata": {
        "id": "5sHvEhH37__p",
        "colab_type": "text"
      },
      "source": [
        "<!--COURSE_INFORMATION-->\n",
        "<img align=\"left\" style=\"padding-right:10px;\" src=\"https://user-images.githubusercontent.com/16768318/73986808-75b3ca00-4936-11ea-90f1-3a6c352766ce.png\" width=10% >\n",
        "<img align=\"right\" style=\"padding-left:10px;\" src=\"https://user-images.githubusercontent.com/16768318/73986811-764c6080-4936-11ea-9653-a3eacc47caed.png\" width=10% >\n",
        "\n",
        "**Bienvenidos!** Este *colab notebook* es parte del curso [**Introduccion a Google Earth Engine con Python**](https://github.com/csaybar/EarthEngineMasterGIS) desarrollado por el equipo [**MasterGIS**](https://www.mastergis.com/). Obten mas informacion del curso en este [**enlace**](https://www.mastergis.com/product/google-earth-engine/). El contenido del curso esta disponible en [**GitHub**](https://github.com/csaybar/EarthEngineMasterGIS) bajo licencia [**MIT**](https://opensource.org/licenses/MIT)."
      ]
    },
    {
      "cell_type": "markdown",
      "metadata": {
        "id": "XOqUVkFKBByo",
        "colab_type": "text"
      },
      "source": [
        "# **MASTERGIS: Sintaxis de minima de Python para GEE**\n",
        "\n",
        "En esta lectura, usted aprendera lo esencial acerca de las **estructuras de datos mas utilizadas**.\n",
        "\n",
        "Veremos los siguientes topicos:\n",
        "\n",
        "    1) listas.\n",
        "    2) diccionarios.\n",
        "\n",
        "### **Listas**\n",
        "\n",
        "Las listas son el concepto mas basico de estructura de datos en python. A diferencia de los _string_, las **listas** pueden cambiar de elementos, es decir, son **mutables**.\n",
        "\n",
        "Para crear listas en python debemos usar [] y comas separando cada elemento.\n"
      ]
    },
    {
      "cell_type": "code",
      "metadata": {
        "id": "6JuUJ_cQBCbM",
        "colab_type": "code",
        "colab": {}
      },
      "source": [
        "# Asignacion de una lista\n",
        "my_list = [1,2,3]"
      ],
      "execution_count": 0,
      "outputs": []
    },
    {
      "cell_type": "code",
      "metadata": {
        "id": "--6MQHO6BSOI",
        "colab_type": "code",
        "colab": {}
      },
      "source": [
        "# No solamente podemos crear una lista con elementos del mismo tipo de datos.\n",
        "my_list = ['A string',23,100.232,'o']"
      ],
      "execution_count": 0,
      "outputs": []
    },
    {
      "cell_type": "code",
      "metadata": {
        "id": "6l6c91__BXFP",
        "colab_type": "code",
        "colab": {}
      },
      "source": [
        "# ¿Como saber la longitud de una lista?\n",
        "len(my_list)"
      ],
      "execution_count": 0,
      "outputs": []
    },
    {
      "cell_type": "markdown",
      "metadata": {
        "id": "EASVfdCDBYNe",
        "colab_type": "text"
      },
      "source": [
        "#### **_indexing y slicing_**\n",
        "_indexing and slicing_ funcionan de igual manera que con los _strings_. Hagamos unos ejercicios para refrescar lo aprendido.!\n"
      ]
    },
    {
      "cell_type": "code",
      "metadata": {
        "id": "j0CMujNVBaj9",
        "colab_type": "code",
        "colab": {}
      },
      "source": [
        "my_list = ['one','two','three',4,5]"
      ],
      "execution_count": 0,
      "outputs": []
    },
    {
      "cell_type": "code",
      "metadata": {
        "id": "BfVkALEqBd9i",
        "colab_type": "code",
        "outputId": "25768eac-8b22-44eb-f6aa-4a9ce9640af4",
        "colab": {
          "base_uri": "https://localhost:8080/",
          "height": 34
        }
      },
      "source": [
        "# Obtengamos el primer elemento (Recurda que en Python3 la identación empieza en cero!!)\n",
        "my_list[0]"
      ],
      "execution_count": 0,
      "outputs": [
        {
          "output_type": "execute_result",
          "data": {
            "text/plain": [
              "'one'"
            ]
          },
          "metadata": {
            "tags": []
          },
          "execution_count": 7
        }
      ]
    },
    {
      "cell_type": "code",
      "metadata": {
        "id": "CBRYk7b3Bekr",
        "colab_type": "code",
        "outputId": "c8119fac-009c-4718-cbba-03e2d7a93bb8",
        "colab": {
          "base_uri": "https://localhost:8080/",
          "height": 34
        }
      },
      "source": [
        "# Obten el segundo elemento hasta el ultimo\n",
        "my_list[1:]"
      ],
      "execution_count": 0,
      "outputs": [
        {
          "output_type": "execute_result",
          "data": {
            "text/plain": [
              "['two', 'three', 4, 5]"
            ]
          },
          "metadata": {
            "tags": []
          },
          "execution_count": 8
        }
      ]
    },
    {
      "cell_type": "code",
      "metadata": {
        "id": "UHC6H0uCBfLe",
        "colab_type": "code",
        "outputId": "2188f09c-93f9-4711-8127-7f5cc140e010",
        "colab": {
          "base_uri": "https://localhost:8080/",
          "height": 34
        }
      },
      "source": [
        "# Obten del tercer elemento al primero\n",
        "my_list[:3]"
      ],
      "execution_count": 0,
      "outputs": [
        {
          "output_type": "execute_result",
          "data": {
            "text/plain": [
              "['one', 'two', 'three']"
            ]
          },
          "metadata": {
            "tags": []
          },
          "execution_count": 9
        }
      ]
    },
    {
      "cell_type": "code",
      "metadata": {
        "id": "ArvC8Tf7BfzM",
        "colab_type": "code",
        "outputId": "76307ee7-b622-4ec3-c682-44d31ceafa9c",
        "colab": {
          "base_uri": "https://localhost:8080/",
          "height": 34
        }
      },
      "source": [
        "#Agregemos un elemento a una lista!\n",
        "my_list + ['hola']"
      ],
      "execution_count": 0,
      "outputs": [
        {
          "output_type": "execute_result",
          "data": {
            "text/plain": [
              "['one', 'two', 'three', 4, 5, 'hola']"
            ]
          },
          "metadata": {
            "tags": []
          },
          "execution_count": 10
        }
      ]
    },
    {
      "cell_type": "code",
      "metadata": {
        "id": "0GAQZ-QoBhAp",
        "colab_type": "code",
        "outputId": "66ef80bd-61ce-4463-ba9f-4d0145d3bdec",
        "colab": {
          "base_uri": "https://localhost:8080/",
          "height": 34
        }
      },
      "source": [
        "#Los cambios no fueron guardados.\n",
        "my_list"
      ],
      "execution_count": 0,
      "outputs": [
        {
          "output_type": "execute_result",
          "data": {
            "text/plain": [
              "['one', 'two', 'three', 4, 5]"
            ]
          },
          "metadata": {
            "tags": []
          },
          "execution_count": 11
        }
      ]
    },
    {
      "cell_type": "code",
      "metadata": {
        "id": "cYuI19yQBj4m",
        "colab_type": "code",
        "outputId": "3618542c-3408-4601-c58f-6d947ae62dff",
        "colab": {
          "base_uri": "https://localhost:8080/",
          "height": 34
        }
      },
      "source": [
        "#Guardando los cambios!\n",
        "my_list = my_list + ['hola']\n",
        "print(my_list)"
      ],
      "execution_count": 0,
      "outputs": [
        {
          "output_type": "stream",
          "text": [
            "['one', 'two', 'three', 4, 5, 'hola']\n"
          ],
          "name": "stdout"
        }
      ]
    },
    {
      "cell_type": "code",
      "metadata": {
        "id": "i_6_Q0nDBksH",
        "colab_type": "code",
        "outputId": "eb760ed1-245c-4887-8e3a-80d6b783aaec",
        "colab": {
          "base_uri": "https://localhost:8080/",
          "height": 34
        }
      },
      "source": [
        "# Duplicar mi lista\n",
        "my_list * 2"
      ],
      "execution_count": 0,
      "outputs": [
        {
          "output_type": "execute_result",
          "data": {
            "text/plain": [
              "['one', 'two', 'three', 4, 5, 'hola', 'one', 'two', 'three', 4, 5, 'hola']"
            ]
          },
          "metadata": {
            "tags": []
          },
          "execution_count": 13
        }
      ]
    },
    {
      "cell_type": "markdown",
      "metadata": {
        "id": "eH9-w7KXBlSS",
        "colab_type": "text"
      },
      "source": [
        "#### **Metodos Basicos en una lista**\n",
        "\n",
        "Si esta familiarizado con otros lenguaje de programacion (eg.C), usted podria pensar que los mismo conceptos referente a las listas son aplicables en python3. Sin embargo, las listas en python3 tienden a ser mas flexibles en comparacion a \n",
        "otros lenguajes, sobretodo porque aqui **Las listas no tienen un tamaño fijo!!**. Dicho esto,exploremos cuales son los metodos mas importantes en las listas:"
      ]
    },
    {
      "cell_type": "code",
      "metadata": {
        "id": "xzArnKtGBptY",
        "colab_type": "code",
        "colab": {}
      },
      "source": [
        "# Lista nueva\n",
        "list1 = [1,2,3]"
      ],
      "execution_count": 0,
      "outputs": []
    },
    {
      "cell_type": "markdown",
      "metadata": {
        "id": "vR7gbr3yBs5C",
        "colab_type": "text"
      },
      "source": [
        "Usamos __*append*__ para agregar un elemento permanentemente"
      ]
    },
    {
      "cell_type": "code",
      "metadata": {
        "id": "FOJqT5j9BttY",
        "colab_type": "code",
        "colab": {}
      },
      "source": [
        "# Append\n",
        "list1.append('append me!')"
      ],
      "execution_count": 0,
      "outputs": []
    },
    {
      "cell_type": "code",
      "metadata": {
        "id": "ELGTsoxcBuVf",
        "colab_type": "code",
        "outputId": "a62340e1-7b58-44af-c2a0-077447d0733d",
        "colab": {
          "base_uri": "https://localhost:8080/",
          "height": 34
        }
      },
      "source": [
        "print(list1)"
      ],
      "execution_count": 0,
      "outputs": [
        {
          "output_type": "stream",
          "text": [
            "[1, 2, 3, 'append me!']\n"
          ],
          "name": "stdout"
        }
      ]
    },
    {
      "cell_type": "markdown",
      "metadata": {
        "id": "VZKL1xdBBu3v",
        "colab_type": "text"
      },
      "source": [
        "Usamos __*reverse*__ para revertir el orden de los elementos"
      ]
    },
    {
      "cell_type": "code",
      "metadata": {
        "id": "OmKDHer2B1SR",
        "colab_type": "code",
        "colab": {}
      },
      "source": [
        "new_list = ['a','e','x','b','c']"
      ],
      "execution_count": 0,
      "outputs": []
    },
    {
      "cell_type": "code",
      "metadata": {
        "id": "I45077hIB2Qe",
        "colab_type": "code",
        "outputId": "20b8520b-55d5-4b8f-f020-f67aeb135221",
        "colab": {
          "base_uri": "https://localhost:8080/",
          "height": 34
        }
      },
      "source": [
        "new_list.reverse()\n",
        "print(new_list)"
      ],
      "execution_count": 0,
      "outputs": [
        {
          "output_type": "stream",
          "text": [
            "['c', 'b', 'x', 'e', 'a']\n"
          ],
          "name": "stdout"
        }
      ]
    },
    {
      "cell_type": "markdown",
      "metadata": {
        "id": "YQXzvCzZB4rk",
        "colab_type": "text"
      },
      "source": [
        "Usamos __*sort*__ para ordenar los elementos."
      ]
    },
    {
      "cell_type": "code",
      "metadata": {
        "id": "q_tVmODaB7uH",
        "colab_type": "code",
        "outputId": "dcd3686d-e96a-4d15-f35b-4ad5571e0b6f",
        "colab": {
          "base_uri": "https://localhost:8080/",
          "height": 34
        }
      },
      "source": [
        "new_list.sort()\n",
        "print(new_list)"
      ],
      "execution_count": 0,
      "outputs": [
        {
          "output_type": "stream",
          "text": [
            "['a', 'b', 'c', 'e', 'x']\n"
          ],
          "name": "stdout"
        }
      ]
    },
    {
      "cell_type": "markdown",
      "metadata": {
        "id": "ZvOttTYLB8xg",
        "colab_type": "text"
      },
      "source": [
        "#### **Listas Anidadas**\n",
        "Las listas no solo pueden contener numeros y string, tambien pueden contener otras listas!. Veamos algunos ejemplos."
      ]
    },
    {
      "cell_type": "code",
      "metadata": {
        "id": "b9hFr-kwB_VC",
        "colab_type": "code",
        "colab": {}
      },
      "source": [
        "# Creemos algunas listas de ejemplo\n",
        "lst_1=[1,2,3]\n",
        "lst_2=[4,5,6]\n",
        "lst_3=[7,8,9]\n",
        "\n",
        "# Creemos una lista de lista\n",
        "matrix = [lst_1,lst_2,lst_3]"
      ],
      "execution_count": 0,
      "outputs": []
    },
    {
      "cell_type": "code",
      "metadata": {
        "id": "trUulMUACBzr",
        "colab_type": "code",
        "outputId": "36d3144b-0715-4111-d29c-f495bc40f151",
        "colab": {
          "base_uri": "https://localhost:8080/",
          "height": 34
        }
      },
      "source": [
        "matrix[2][2]"
      ],
      "execution_count": 0,
      "outputs": [
        {
          "output_type": "execute_result",
          "data": {
            "text/plain": [
              "9"
            ]
          },
          "metadata": {
            "tags": []
          },
          "execution_count": 23
        }
      ]
    },
    {
      "cell_type": "markdown",
      "metadata": {
        "id": "E5k0iA85CCiW",
        "colab_type": "text"
      },
      "source": [
        "### **Diccionarios**\n",
        "\n",
        "Ya hemos aprendido acerca de listas, ahora aprenderemos sobre *diccionarios* en python3. Nuevamente si estas familiarizado con otros lenguajes de programacion, piensa en los diccionarios como tablas hash. Los diccionarios al igual que las listas son estructuras **mutables** , solamente que cambiamos los [] por {}.\n",
        "\n",
        "Empezos a construir diccionarios en python3!"
      ]
    },
    {
      "cell_type": "code",
      "metadata": {
        "id": "EzHzJm3GCJ6A",
        "colab_type": "code",
        "colab": {}
      },
      "source": [
        "# Diccionarios son una estructura dual {KEY:VALUE}\n",
        "my_dict = {'key1':'value1','key2':'value2'}"
      ],
      "execution_count": 0,
      "outputs": []
    },
    {
      "cell_type": "code",
      "metadata": {
        "id": "WIX0VlKzCLie",
        "colab_type": "code",
        "outputId": "aaf276de-b69d-4c4f-dd65-9b04ba5c68fa",
        "colab": {
          "base_uri": "https://localhost:8080/",
          "height": 34
        }
      },
      "source": [
        "#Al igual que los strings y listas podemos llamar a los elementos mediante []\n",
        "my_dict['key2']"
      ],
      "execution_count": 0,
      "outputs": [
        {
          "output_type": "execute_result",
          "data": {
            "text/plain": [
              "'value2'"
            ]
          },
          "metadata": {
            "tags": []
          },
          "execution_count": 25
        }
      ]
    },
    {
      "cell_type": "markdown",
      "metadata": {
        "id": "6aG4KDz5CM4G",
        "colab_type": "text"
      },
      "source": [
        "Es importante tener en cuenta que los diccionarios son muy flexibles en los tipos de datos que pueden contener. Por ejemplo:"
      ]
    },
    {
      "cell_type": "code",
      "metadata": {
        "id": "abeWUriZCRzm",
        "colab_type": "code",
        "colab": {}
      },
      "source": [
        "my_dict = {'key1':123,'key2':[12,23,33],'key3':['item0','item1','item2']}"
      ],
      "execution_count": 0,
      "outputs": []
    },
    {
      "cell_type": "code",
      "metadata": {
        "id": "DWXb0EmpCSmX",
        "colab_type": "code",
        "outputId": "a2a4871e-ee4e-426c-89a6-4ceb8cc44c20",
        "colab": {
          "base_uri": "https://localhost:8080/",
          "height": 34
        }
      },
      "source": [
        "# Llamemos a otro item del diccionario\n",
        "my_dict['key3']"
      ],
      "execution_count": 0,
      "outputs": [
        {
          "output_type": "execute_result",
          "data": {
            "text/plain": [
              "['item0', 'item1', 'item2']"
            ]
          },
          "metadata": {
            "tags": []
          },
          "execution_count": 27
        }
      ]
    },
    {
      "cell_type": "markdown",
      "metadata": {
        "id": "HzZLPPrxCTN8",
        "colab_type": "text"
      },
      "source": [
        "¿Recuerdas que dijimos que los diccionarios eran estructuras __mutables__?"
      ]
    },
    {
      "cell_type": "code",
      "metadata": {
        "id": "vhBTfMnxCaK1",
        "colab_type": "code",
        "outputId": "6d6e3539-4207-414e-a81c-c74f66eed18b",
        "colab": {
          "base_uri": "https://localhost:8080/",
          "height": 51
        }
      },
      "source": [
        "print(my_dict)\n",
        "my_dict['key1'] = my_dict['key1'] - 10\n",
        "print(my_dict)"
      ],
      "execution_count": 0,
      "outputs": [
        {
          "output_type": "stream",
          "text": [
            "{'key1': 123, 'key2': [12, 23, 33], 'key3': ['item0', 'item1', 'item2']}\n",
            "{'key1': 113, 'key2': [12, 23, 33], 'key3': ['item0', 'item1', 'item2']}\n"
          ],
          "name": "stdout"
        }
      ]
    },
    {
      "cell_type": "markdown",
      "metadata": {
        "id": "oG5LDcr5CazK",
        "colab_type": "text"
      },
      "source": [
        "#### **Metodos Basicos en un diccionario**\n",
        "\n",
        "Hay algunos metodos que podemos invocar en un diccionario. Veamos una breve introducción a algunos de ellos:"
      ]
    },
    {
      "cell_type": "code",
      "metadata": {
        "id": "i6ZzVAxpCegM",
        "colab_type": "code",
        "colab": {}
      },
      "source": [
        "d = {'key1':1,'key2':2,'key3':3}"
      ],
      "execution_count": 0,
      "outputs": []
    },
    {
      "cell_type": "code",
      "metadata": {
        "id": "QzAGeoeyCfq-",
        "colab_type": "code",
        "outputId": "665c94e9-21bc-4c99-8add-eeb1a7a13d70",
        "colab": {
          "base_uri": "https://localhost:8080/",
          "height": 34
        }
      },
      "source": [
        "# retorna los key del diccionario\n",
        "d.keys()"
      ],
      "execution_count": 0,
      "outputs": [
        {
          "output_type": "execute_result",
          "data": {
            "text/plain": [
              "dict_keys(['key1', 'key2', 'key3'])"
            ]
          },
          "metadata": {
            "tags": []
          },
          "execution_count": 30
        }
      ]
    },
    {
      "cell_type": "code",
      "metadata": {
        "id": "nrGDAMqWCgrq",
        "colab_type": "code",
        "outputId": "6ca8e58b-c08c-4653-b3c2-e4ceaa4c00d0",
        "colab": {
          "base_uri": "https://localhost:8080/",
          "height": 34
        }
      },
      "source": [
        "# retorna los values del diccionario\n",
        "d.values()"
      ],
      "execution_count": 0,
      "outputs": [
        {
          "output_type": "execute_result",
          "data": {
            "text/plain": [
              "dict_values([1, 2, 3])"
            ]
          },
          "metadata": {
            "tags": []
          },
          "execution_count": 31
        }
      ]
    },
    {
      "cell_type": "code",
      "metadata": {
        "id": "z3QwqUycChzl",
        "colab_type": "code",
        "outputId": "c77c0937-dfdb-42cd-ddb5-20562af36617",
        "colab": {
          "base_uri": "https://localhost:8080/",
          "height": 34
        }
      },
      "source": [
        "# Retorna todos los elementos como una tupla (lo veremos en breve!!)\n",
        "d.items()"
      ],
      "execution_count": 0,
      "outputs": [
        {
          "output_type": "execute_result",
          "data": {
            "text/plain": [
              "dict_items([('key1', 1), ('key2', 2), ('key3', 3)])"
            ]
          },
          "metadata": {
            "tags": []
          },
          "execution_count": 32
        }
      ]
    },
    {
      "cell_type": "markdown",
      "metadata": {
        "id": "4x_uCsOECjRK",
        "colab_type": "text"
      },
      "source": [
        "#### **Diccionarios Anidados**\n",
        "\n",
        "Es de esperar que comiences a ver cuan poderoso es Python con su flexibilidad de anidar objetos y metodos de invocacion sobre ellos. Veamos como anidar diccionarios!"
      ]
    },
    {
      "cell_type": "code",
      "metadata": {
        "id": "sJuCOIVUCnuJ",
        "colab_type": "code",
        "colab": {}
      },
      "source": [
        "d = {'key1':{'key2':{'key3':'value1'}}}"
      ],
      "execution_count": 0,
      "outputs": []
    },
    {
      "cell_type": "code",
      "metadata": {
        "id": "gXDkvxlCCosb",
        "colab_type": "code",
        "outputId": "d2239456-29c3-4c69-a0f9-08cb2c85bfef",
        "colab": {
          "base_uri": "https://localhost:8080/",
          "height": 34
        }
      },
      "source": [
        "# Como extraemos el valor de value1\n",
        "d['key1']['key2']['key3']"
      ],
      "execution_count": 0,
      "outputs": [
        {
          "output_type": "execute_result",
          "data": {
            "text/plain": [
              "'value1'"
            ]
          },
          "metadata": {
            "tags": []
          },
          "execution_count": 34
        }
      ]
    },
    {
      "cell_type": "markdown",
      "metadata": {
        "id": "a-Kgq6o6FDWg",
        "colab_type": "text"
      },
      "source": [
        "### **¿Dudas con este Jupyer-Notebook?**\n",
        "\n",
        "Estaremos felices de ayudarte!. Create una cuenta Github si es que no la tienes, luego detalla tu problema ampliamente en: https://github.com/csaybar/EarthEngineMasterGIS/issues\n",
        "\n",
        "**Tienes que dar clic en el boton verde!**\n",
        "\n",
        "<center>\n",
        "<img src=\"https://user-images.githubusercontent.com/16768318/79680748-d5511000-81d8-11ea-9f89-44bd010adf69.png\" width = 70%>\n",
        "</center>"
      ]
    }
  ]
}