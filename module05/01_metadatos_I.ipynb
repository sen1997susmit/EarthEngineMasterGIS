{
  "nbformat": 4,
  "nbformat_minor": 0,
  "metadata": {
    "colab": {
      "name": "01_metadatos_I.ipynb",
      "provenance": [],
      "collapsed_sections": [],
      "include_colab_link": true
    },
    "kernelspec": {
      "name": "python3",
      "display_name": "Python 3"
    }
  },
  "cells": [
    {
      "cell_type": "markdown",
      "metadata": {
        "id": "view-in-github",
        "colab_type": "text"
      },
      "source": [
        "<a href=\"https://colab.research.google.com/github/csaybar/EarthEngineMasterGIS/blob/master/module05/01_metadatos_I.ipynb\" target=\"_parent\"><img src=\"https://colab.research.google.com/assets/colab-badge.svg\" alt=\"Open In Colab\"/></a>"
      ]
    },
    {
      "cell_type": "markdown",
      "metadata": {
        "id": "yp7bpDUOLdKf",
        "colab_type": "text"
      },
      "source": [
        "<!--COURSE_INFORMATION-->\n",
        "<img align=\"left\" style=\"padding-right:10px;\" src=\"https://user-images.githubusercontent.com/16768318/73986808-75b3ca00-4936-11ea-90f1-3a6c352766ce.png\" width=10% >\n",
        "<img align=\"right\" style=\"padding-left:10px;\" src=\"https://user-images.githubusercontent.com/16768318/73986811-764c6080-4936-11ea-9653-a3eacc47caed.png\" width=10% >\n",
        "\n",
        "**Bienvenidos!** Este *colab notebook* es parte del curso [**Introduccion a Google Earth Engine con Python**](https://github.com/csaybar/EarthEngineMasterGIS) desarrollado por el equipo [**MasterGIS**](https://www.mastergis.com/). Obten mas informacion del curso en este [**enlace**](https://www.mastergis.com/product/google-earth-engine/). El contenido del curso esta disponible en [**GitHub**](https://github.com/csaybar/EarthEngineMasterGIS) bajo licencia [**MIT**](https://opensource.org/licenses/MIT)."
      ]
    },
    {
      "cell_type": "markdown",
      "metadata": {
        "colab_type": "text",
        "id": "Bs6-P-glqM0C"
      },
      "source": [
        "## **MASTERGIS: Exploracion de metadatos I**\n",
        "## **ee.Image y ImageCollection**\n",
        "\n",
        "En esta lectura, aprenderemos sobre:\n",
        "\n",
        "- Condicionales en ee.Image.\n",
        "- Como obtener metadatos en ee.Image.\n",
        "- Como obtener metadatos en ee.ImageCollection."
      ]
    },
    {
      "cell_type": "markdown",
      "metadata": {
        "id": "eSbf9zb8qOQN",
        "colab_type": "text"
      },
      "source": [
        "### **1) Autenticar y inicializar GEE**"
      ]
    },
    {
      "cell_type": "code",
      "metadata": {
        "id": "JOzotHU2qNrP",
        "colab_type": "code",
        "cellView": "both",
        "colab": {}
      },
      "source": [
        "#@title Credenciales Google Earth Engine\n",
        "import os \n",
        "credential = '{\"refresh_token\":\"PON_AQUI_TU_TOKEN\"}'\n",
        "credential_file_path = os.path.expanduser(\"~/.config/earthengine/\")\n",
        "os.makedirs(credential_file_path,exist_ok=True)\n",
        "with open(credential_file_path + 'credentials', 'w') as file:\n",
        "    file.write(credential)"
      ],
      "execution_count": 0,
      "outputs": []
    },
    {
      "cell_type": "code",
      "metadata": {
        "id": "NA68PD9vnZSE",
        "colab_type": "code",
        "colab": {}
      },
      "source": [
        "import ee\n",
        "ee.Initialize()"
      ],
      "execution_count": 0,
      "outputs": []
    },
    {
      "cell_type": "markdown",
      "metadata": {
        "id": "VGcirYfCqTCG",
        "colab_type": "text"
      },
      "source": [
        "### **2) Carga nuestra funcion de mapeo**"
      ]
    },
    {
      "cell_type": "code",
      "metadata": {
        "id": "uXkAtwMKqTQr",
        "colab_type": "code",
        "cellView": "form",
        "colab": {}
      },
      "source": [
        "#@title mapdisplay: Crea mapas interactivos usando folium\n",
        "import folium\n",
        "def mapdisplay(center, dicc, Tiles=\"OpensTreetMap\",zoom_start=10):\n",
        "    '''\n",
        "    :param center: Center of the map (Latitude and Longitude).\n",
        "    :param dicc: Earth Engine Geometries or Tiles dictionary\n",
        "    :param Tiles: Mapbox Bright,Mapbox Control Room,Stamen Terrain,Stamen Toner,stamenwatercolor,cartodbpositron.\n",
        "    :zoom_start: Initial zoom level for the map.\n",
        "    :return: A folium.Map object.\n",
        "    '''\n",
        "    center = center[::-1]\n",
        "    mapViz = folium.Map(location=center,tiles=Tiles, zoom_start=zoom_start)\n",
        "    for k,v in dicc.items():\n",
        "      if ee.image.Image in [type(x) for x in v.values()]:\n",
        "        folium.TileLayer(\n",
        "            tiles = v[\"tile_fetcher\"].url_format,\n",
        "            attr  = 'Google Earth Engine',\n",
        "            overlay =True,\n",
        "            name  = k\n",
        "          ).add_to(mapViz)\n",
        "      else:\n",
        "        folium.GeoJson(\n",
        "        data = v,\n",
        "        name = k\n",
        "          ).add_to(mapViz)\n",
        "    mapViz.add_child(folium.LayerControl())\n",
        "    return mapViz"
      ],
      "execution_count": 0,
      "outputs": []
    },
    {
      "cell_type": "markdown",
      "metadata": {
        "id": "sVQceN-yqZ4t",
        "colab_type": "text"
      },
      "source": [
        "### **3) Analisis multicriterio en Google Earth Engine**"
      ]
    },
    {
      "cell_type": "markdown",
      "metadata": {
        "id": "Y6F7AuGausIw",
        "colab_type": "text"
      },
      "source": [
        "Para realizar comparaciones por pixel entre imagenes, utilice **operadores relacionales**. Para extraer las zonas urbanizadas de una imagen, este ejemplo utiliza **operadores relacionales** para los indices espectrales, combinando los umbrales con And():\n",
        "\n",
        " _ | _ | GEE\n",
        "--------------|-------------|-------------\n",
        "Arithmetic\t|+ - * / % **\t|add, subtract, multiply, divide, mod, exp\n",
        "Comparison\t| == != < > <= >= |\teq, neq, lt, gt, lte,gte.\n",
        "Logical |\t&& \\|\\| ! ^\t| And, Or, Not, Xor"
      ]
    },
    {
      "cell_type": "code",
      "metadata": {
        "id": "ecc3bSFduffp",
        "colab_type": "code",
        "colab": {}
      },
      "source": [
        "# Cargar imagen (en esta caso Landsat8-California)\n",
        "image = ee.Image('LANDSAT/LC08/C01/T1_TOA/LC08_044034_20140318')\n",
        "\n",
        "# Crear NDVI y NDWI\n",
        "ndvi = image.normalizedDifference(['B5', 'B4'])\n",
        "ndwi = image.normalizedDifference(['B5', 'B6'])\n",
        "\n",
        "# Crear una imagen binaria usando operadores logicos.\n",
        "bare = ndvi.lt(0.2).And(ndwi.lt(0))\n",
        "\n",
        "#Enmascarar los valores no deseados\n",
        "bare = bare.updateMask(bare)\n",
        "BareId = bare.getMapId()\n",
        "\n",
        "tiles = {\"Bare\": BareId}\n",
        "center = [-122.3578, 37.7726]\n",
        "mapdisplay(center, tiles, \"Stamen Terrain\")"
      ],
      "execution_count": 0,
      "outputs": []
    },
    {
      "cell_type": "markdown",
      "metadata": {
        "id": "CWdrdj9Vv32c",
        "colab_type": "text"
      },
      "source": [
        "Como se ilustra en el ejemplo anterior, el resultado de los operadores relacionales y booleanos es verdadero (1) o falso (0). Para enmascarar los 0, se puede enmascarar la imagen binaria resultante con ella misma. \n",
        "\n",
        "Las imagenes binarias devueltas por los operadores relacionales y booleanos se pueden utilizar con operadores matematicos. Este ejemplo crea zonas de urbanizacion en una imagen de luces nocturnas usando **operadores relacionales** y la el metodo image.add():"
      ]
    },
    {
      "cell_type": "code",
      "metadata": {
        "id": "3uNJvaceqe69",
        "colab_type": "code",
        "colab": {}
      },
      "source": [
        "# Cargar imagen de luces noturnas promedio del 2012.\n",
        "nl2012 = ee.Image('NOAA/DMSP-OLS/NIGHTTIME_LIGHTS/F182012')\n",
        "lights = nl2012.select('stable_lights')\n",
        "\n",
        "# Defina umbrales arbitrarios en la banda de luces estables de 6 bits.\n",
        "zones = lights.gt(30).add(lights.gt(55)).add(lights.gt(62))\n",
        "\n",
        "# Muestre la imagen clasificada como tres zonas distintas cerca de Paris.\n",
        "palette = ['000000', '0000FF', '00FF00', 'FF0000']\n",
        "center = [2.373, 48.8683]\n",
        "\n",
        "zonesId = zones.getMapId({'min': 0, 'max': 3, 'palette': palette})\n",
        "tiles = {\"Zonas\": zonesId}\n",
        "\n",
        "mapdisplay(center, tiles)"
      ],
      "execution_count": 0,
      "outputs": []
    },
    {
      "cell_type": "markdown",
      "metadata": {
        "id": "rK4BqbcrswOZ",
        "colab_type": "text"
      },
      "source": [
        "Observese que el codigo del ejemplo anterior equivale a utilizar un **operador ternario** implementado por **expression()**.\n"
      ]
    },
    {
      "cell_type": "code",
      "metadata": {
        "id": "9o55P09Fswrv",
        "colab_type": "code",
        "colab": {}
      },
      "source": [
        "zonesExp = nl2012.expression(\n",
        "    \"(b('stable_lights') > 62) ? 3:\\\n",
        "     (b('stable_lights') > 55) ? 2:\\\n",
        "     (b('stable_lights') > 30) ? 1: 0\")\n",
        "\n",
        "zonesId = zonesExp.getMapId({'min': 0, 'max': 3, 'palette': palette})\n",
        "tiles = {\"Zonas\": zonesId}\n",
        "\n",
        "mapdisplay(center, tiles)"
      ],
      "execution_count": 0,
      "outputs": []
    },
    {
      "cell_type": "markdown",
      "metadata": {
        "id": "33qSoRVeqWha",
        "colab_type": "text"
      },
      "source": [
        "### **4. Metadatos en ee.Image**\n",
        "\n",
        "> Imagen: Bandas + Metadatos (JSON)\n",
        "\n",
        "\n",
        "Para explorar las bandas y propiedades de la imagen en el API de Python. Use **.getInfo()** en la imagen e inspeccione la salida en la consola. Esta informacion tambien puede ser accedida programaticamente. Por ejemplo, a continuacion se muestra como acceder a la informacion sobre bandas, proyecciones y otros metadatos:\n"
      ]
    },
    {
      "cell_type": "code",
      "metadata": {
        "id": "xli-Q36hqXsQ",
        "colab_type": "code",
        "colab": {}
      },
      "source": [
        "# Carga imagen de referencia\n",
        "image = ee.Image('LANDSAT/LC08/C01/T1/LC08_044034_20140318')\n",
        "\n",
        "# Obtener nombre de las bandas como una lista de Python\n",
        "bandNames = image.bandNames()\n",
        "print('Band names: ', bandNames.getInfo())\n",
        "\n",
        "# Obtener informationn de la projeccion de la primera banda\n",
        "b1proj = image.select('B1').projection()\n",
        "print('Band 1 projection: \\n', b1proj.getInfo()) \n",
        "\n",
        "# Obtener informacion de la escala de la primera banda\n",
        "b1scale = image.select('B1').projection().nominalScale()\n",
        "print('Band 1 scale: \\n', b1scale.getInfo()) \n",
        "\n",
        "# Note que las diferentes bandas pueden tener distantas escalas o projecciones.\n",
        "b8scale = image.select('B8').projection().nominalScale()\n",
        "print('Band 8 scale: \\n', b8scale.getInfo()) # ee.Number\n",
        "\n",
        "# Obtenga una lista de todas las propiedades de metadatos.\n",
        "properties = image.propertyNames()\n",
        "print('Metadata properties:', ) \n",
        "properties.getInfo()"
      ],
      "execution_count": 0,
      "outputs": []
    },
    {
      "cell_type": "code",
      "metadata": {
        "id": "ksdrEyHXyoAV",
        "colab_type": "code",
        "colab": {}
      },
      "source": [
        "# Obtenga una propiedad de metadatos especifica.\n",
        "cloudiness = image.get('CLOUD_COVER')\n",
        "print('CLOUD_COVER: ')\n",
        "cloudiness.getInfo() "
      ],
      "execution_count": 0,
      "outputs": []
    },
    {
      "cell_type": "code",
      "metadata": {
        "id": "TTZjPVqByrLf",
        "colab_type": "code",
        "colab": {}
      },
      "source": [
        "from datetime import datetime as dt\n",
        "\n",
        "# Obtenga los milisegundos a partir del timestamp y conviertalo en fecha.\n",
        "date = ee.Date(image.get('system:time_start'))\n",
        "\n",
        "# Dividimos por 1000 porque Earth Engine devuelve el tiempo en milisegundos y Python en segundos.\n",
        "tmstp = date.getInfo()['value']/1000 \n",
        "\n",
        "print('Timestamp:', dt.utcfromtimestamp(tmstp).strftime('%Y-%m-%d %H:%M:%S'))"
      ],
      "execution_count": 0,
      "outputs": []
    },
    {
      "cell_type": "markdown",
      "metadata": {
        "id": "vW9OOaXa1C1Q",
        "colab_type": "text"
      },
      "source": [
        "### **5. Metadatos en ee.ImageCollection**\n",
        "\n",
        "```\n",
        " Collecion de Imagenes: \n",
        " [\n",
        "    'imagen01': [imagen_01 + Metadatos (JSON)],\n",
        "    'imagen02': [imagen_02 + Metadatos (JSON)],\n",
        "    'imagen03': ....\n",
        "    'imagen04': ....\n",
        "    ....\n",
        " ] + METADATOS (JSON)\n",
        "```\n",
        "\n",
        "Al igual que con las imagenes, hay una variedad de formas de obtener información sobre una coleccion de imagenes. La coleccion puede ser impresa directamente en la consola, pero recuerde que la impresion de la consola esta limitada a solo **5000 elementos**. Las colecciones de mas de 5000 imagenes tendran que ser filtradas antes de la impresion. La impresion de una gran coleccion sera correspondientemente mas lenta. El siguiente ejemplo muestra varias formas de obtener información sobre las colecciones de imagenes mediante programacion."
      ]
    },
    {
      "cell_type": "code",
      "metadata": {
        "id": "o65JYxXt1DNK",
        "colab_type": "code",
        "colab": {}
      },
      "source": [
        "# Cargue una Landsat 8 ImageCollection para una sola fila de ruta.\n",
        "collection = ee.ImageCollection('LANDSAT/LC08/C01/T1_TOA')\\\n",
        "               .filter(ee.Filter.eq('WRS_PATH', 44))\\\n",
        "               .filter(ee.Filter.eq('WRS_ROW', 34))\\\n",
        "               .filterDate('2014-03-01', '2014-08-01')\n",
        "print('Collection: ')\n",
        "collection.getInfo()"
      ],
      "execution_count": 0,
      "outputs": []
    },
    {
      "cell_type": "code",
      "metadata": {
        "id": "y3KVVIUw5GTP",
        "colab_type": "code",
        "outputId": "9f52ff7e-6ed6-44e3-d2e5-504aec5b3464",
        "colab": {
          "base_uri": "https://localhost:8080/",
          "height": 34
        }
      },
      "source": [
        "# Obtenga el numero de imagenes.\n",
        "count = collection.size()\n",
        "print('Count: ', count.getInfo())"
      ],
      "execution_count": 0,
      "outputs": [
        {
          "output_type": "stream",
          "text": [
            "Count:  9\n"
          ],
          "name": "stdout"
        }
      ]
    },
    {
      "cell_type": "code",
      "metadata": {
        "id": "_w9Lu8tP5MgL",
        "colab_type": "code",
        "outputId": "77e3bf7b-b1ba-47b2-c1a0-246e7282d070",
        "colab": {
          "base_uri": "https://localhost:8080/",
          "height": 34
        }
      },
      "source": [
        "from datetime import datetime as dt\n",
        "# Obtenga el rango de fechas de las imágenes en la colección.\n",
        "rango = collection.reduceColumns(ee.Reducer.minMax(), [\"system:time_start\"])\n",
        "\n",
        "# Pasando la fecha numérica a ISO standard 8601 \n",
        "init_date = ee.Date(rango.get('min')).getInfo()['value']/1000.\n",
        "init_date_f = dt.utcfromtimestamp(init_date).strftime('%Y-%m-%d %H:%M:%S')\n",
        "\n",
        "last_date = ee.Date(rango.get('max')).getInfo()['value']/1000.\n",
        "last_date_f = dt.utcfromtimestamp(last_date).strftime('%Y-%m-%d %H:%M:%S')\n",
        "\n",
        "print('Date range: ',init_date_f,' - ',last_date_f)"
      ],
      "execution_count": 0,
      "outputs": [
        {
          "output_type": "stream",
          "text": [
            "Date range:  2014-03-18 18:46:32  -  2014-07-24 18:45:57\n"
          ],
          "name": "stdout"
        }
      ]
    },
    {
      "cell_type": "code",
      "metadata": {
        "id": "Bi0iAxJN5P0q",
        "colab_type": "code",
        "colab": {}
      },
      "source": [
        "# Obtenga estadísticas para una propiedad de las imágenes en la colección.\n",
        "sunStats = collection.aggregate_stats('SUN_ELEVATION')\n",
        "print('Sun elevation statistics: ')\n",
        "sunStats.getInfo()"
      ],
      "execution_count": 0,
      "outputs": []
    },
    {
      "cell_type": "code",
      "metadata": {
        "id": "n3m_IPpn5Uhx",
        "colab_type": "code",
        "colab": {}
      },
      "source": [
        "# Ordenar por una propiedad de cobertura de nubes, obtener la imagen menos nublada.\n",
        "image = ee.Image(collection.sort('CLOUD_COVER').first())\n",
        "print('Least cloudy image: ', )\n",
        "image.getInfo()"
      ],
      "execution_count": 0,
      "outputs": []
    },
    {
      "cell_type": "code",
      "metadata": {
        "id": "8br7weQF5V-D",
        "colab_type": "code",
        "colab": {}
      },
      "source": [
        "# Limite la coleccion a las 10 imagenes mas recientes.\n",
        "recent = collection.sort('system:time_start', False).limit(10)\n",
        "print('Recent images: ')\n",
        "recent.getInfo()"
      ],
      "execution_count": 0,
      "outputs": []
    },
    {
      "cell_type": "markdown",
      "metadata": {
        "id": "FqmnfaOkDll2",
        "colab_type": "text"
      },
      "source": [
        "### **6. Ejemplo: Condicionales y pasando fechas a cada Imagen**"
      ]
    },
    {
      "cell_type": "code",
      "metadata": {
        "id": "xJ3inex4Dn3z",
        "colab_type": "code",
        "colab": {}
      },
      "source": [
        "from pprint import pprint \n",
        "# Cargue una coleccion Landsat 8 para una sola fila de ruta.\n",
        "collection = ee.ImageCollection('LANDSAT/LC8_L1T_TOA')\\\n",
        "               .filter(ee.Filter.eq('WRS_PATH', 44))\\\n",
        "               .filter(ee.Filter.eq('WRS_ROW', 34))\n",
        "\n",
        "# Esta funcion utiliza una declaracion condicional para devolver si en la imagen \n",
        "# la elevacion solar es mayor de 40 grados. De lo contrario, devuelve una imagen cero.\n",
        "def conditional(image):\n",
        "  new_image = ee.Algorithms.If(ee.Number(image.get('SUN_ELEVATION')).gt(40), image, ee.Image(0))\n",
        "  new_image = ee.Image(new_image).set('system:time_start', image.get('system:time_start'))\n",
        "  return new_image\n",
        "\n",
        "# Aplique la funcion sobre cada elemento (imagen) de la coleccion, conviertala en una lista e imprima el resultado.\n",
        "print('Size: ',collection.size().getInfo())\n",
        "print('Expand this to see the result: ')\n",
        "pprint(collection.map(conditional).limit(1).getInfo())"
      ],
      "execution_count": 0,
      "outputs": []
    },
    {
      "cell_type": "markdown",
      "metadata": {
        "id": "naQB70-LYX3K",
        "colab_type": "text"
      },
      "source": [
        "### **¿Dudas con este Jupyer-Notebook?**\n",
        "\n",
        "Estaremos felices de ayudarte!. Create una cuenta Github si es que no la tienes, luego detalla tu problema ampliamente en: https://github.com/csaybar/EarthEngineMasterGIS/issues\n",
        "\n",
        "**Tienes que dar clic en el boton verde!**\n",
        "\n",
        "<center>\n",
        "<img src=\"https://user-images.githubusercontent.com/16768318/79680748-d5511000-81d8-11ea-9f89-44bd010adf69.png\" width = 70%>\n",
        "</center>"
      ]
    }
  ]
}