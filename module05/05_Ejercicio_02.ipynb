{
  "nbformat": 4,
  "nbformat_minor": 0,
  "metadata": {
    "colab": {
      "name": "05_Ejercicio_02.ipynb",
      "provenance": [],
      "collapsed_sections": [],
      "toc_visible": true,
      "include_colab_link": true
    },
    "kernelspec": {
      "name": "python3",
      "display_name": "Python 3"
    }
  },
  "cells": [
    {
      "cell_type": "markdown",
      "metadata": {
        "id": "view-in-github",
        "colab_type": "text"
      },
      "source": [
        "<a href=\"https://colab.research.google.com/github/csaybar/EarthEngineMasterGIS/blob/master/module05/05_Ejercicio_02.ipynb\" target=\"_parent\"><img src=\"https://colab.research.google.com/assets/colab-badge.svg\" alt=\"Open In Colab\"/></a>"
      ]
    },
    {
      "cell_type": "markdown",
      "metadata": {
        "id": "lGc7epKGa4i-",
        "colab_type": "text"
      },
      "source": [
        "<!--COURSE_INFORMATION-->\n",
        "<img align=\"left\" style=\"padding-right:10px;\" src=\"https://user-images.githubusercontent.com/16768318/73986808-75b3ca00-4936-11ea-90f1-3a6c352766ce.png\" width=10% >\n",
        "<img align=\"right\" style=\"padding-left:10px;\" src=\"https://user-images.githubusercontent.com/16768318/73986811-764c6080-4936-11ea-9653-a3eacc47caed.png\" width=10% >\n",
        "\n",
        "**Bienvenidos!** Este *colab notebook* es parte del curso [**Introduccion a Google Earth Engine con Python**](https://github.com/csaybar/EarthEngineMasterGIS) desarrollado por el equipo [**MasterGIS**](https://www.mastergis.com/). Obten mas informacion del curso en este [**enlace**](https://www.mastergis.com/product/google-earth-engine/). El contenido del curso esta disponible en [**GitHub**](https://github.com/csaybar/EarthEngineMasterGIS) bajo licencia [**MIT**](https://opensource.org/licenses/MIT)."
      ]
    },
    {
      "cell_type": "markdown",
      "metadata": {
        "id": "FAGmoEYk7ZCm",
        "colab_type": "text"
      },
      "source": [
        "### **Ejercicio N°02:**\n",
        " - Cree una funcion (o funciones) que simplifique el proceso de control de calidad de imagenes sentinel2. Esta funcion debe tener como argumentos:\n",
        "   **clean_s2(init_date, last_date, roi, cloud_per, calendar, bands)**\n",
        "   - **init_data** : La fecha de inicio\n",
        "   - **last_date** : La fecha de fin.\n",
        "   - **roi** : El ambito de estudio.\n",
        "   - **cloud_per** : El porcentaje de nubes.\n",
        "   - **calendar** : Los meses a considerar para la seleccion de imagenes.\n",
        "   - **bands** : Las bandas de interes.\n",
        "\n",
        "<img src=\"https://user-images.githubusercontent.com/16768318/73661182-8bed2c00-4691-11ea-8c5d-f96a0ad3e827.png\" align=\"right\" width = 60%/>"
      ]
    },
    {
      "cell_type": "markdown",
      "metadata": {
        "id": "l8ZAX9tD_E7M",
        "colab_type": "text"
      },
      "source": [
        "#### **1) Autenticar y inicializar GEE**"
      ]
    },
    {
      "cell_type": "code",
      "metadata": {
        "id": "TNrAP31B_FZY",
        "colab_type": "code",
        "cellView": "both",
        "colab": {}
      },
      "source": [
        "#@title Credenciales Google Earth Engine\n",
        "import os \n",
        "credential = '{\"refresh_token\":\"PON_AQUI_TU_TOKEN\"}'\n",
        "credential_file_path = os.path.expanduser(\"~/.config/earthengine/\")\n",
        "os.makedirs(credential_file_path,exist_ok=True)\n",
        "with open(credential_file_path + 'credentials', 'w') as file:\n",
        "    file.write(credential)"
      ],
      "execution_count": 0,
      "outputs": []
    },
    {
      "cell_type": "code",
      "metadata": {
        "id": "AMZDynDF_NDo",
        "colab_type": "code",
        "colab": {}
      },
      "source": [
        "import ee\n",
        "ee.Initialize()"
      ],
      "execution_count": 0,
      "outputs": []
    },
    {
      "cell_type": "markdown",
      "metadata": {
        "id": "joZXwVgc_FyY",
        "colab_type": "text"
      },
      "source": [
        "#### **2) Carga nuestra funcion de mapeo**"
      ]
    },
    {
      "cell_type": "code",
      "metadata": {
        "id": "xYSB9Sxl_GGf",
        "colab_type": "code",
        "cellView": "form",
        "colab": {}
      },
      "source": [
        "#@title mapdisplay: Crea mapas interactivos usando folium\n",
        "import folium\n",
        "def mapdisplay(center, dicc, Tiles=\"OpensTreetMap\",zoom_start=10):\n",
        "    '''\n",
        "    :param center: Center of the map (Latitude and Longitude).\n",
        "    :param dicc: Earth Engine Geometries or Tiles dictionary\n",
        "    :param Tiles: Mapbox Bright,Mapbox Control Room,Stamen Terrain,Stamen Toner,stamenwatercolor,cartodbpositron.\n",
        "    :zoom_start: Initial zoom level for the map.\n",
        "    :return: A folium.Map object.\n",
        "    '''\n",
        "    center = center[::-1]\n",
        "    mapViz = folium.Map(location=center,tiles=Tiles, zoom_start=zoom_start)\n",
        "    for k,v in dicc.items():\n",
        "      if ee.image.Image in [type(x) for x in v.values()]:\n",
        "        folium.TileLayer(\n",
        "            tiles = v[\"tile_fetcher\"].url_format,\n",
        "            attr  = 'Google Earth Engine',\n",
        "            overlay =True,\n",
        "            name  = k\n",
        "          ).add_to(mapViz)\n",
        "      else:\n",
        "        folium.GeoJson(\n",
        "        data = v,\n",
        "        name = k\n",
        "          ).add_to(mapViz)\n",
        "    mapViz.add_child(folium.LayerControl())\n",
        "    return mapViz"
      ],
      "execution_count": 0,
      "outputs": []
    },
    {
      "cell_type": "markdown",
      "metadata": {
        "id": "AFN3ZkRE-oVf",
        "colab_type": "text"
      },
      "source": [
        "####**3) Area de Estudio**"
      ]
    },
    {
      "cell_type": "code",
      "metadata": {
        "id": "Q0-kIxaUzTHQ",
        "colab_type": "code",
        "cellView": "form",
        "colab": {}
      },
      "source": [
        "#@title piura\n",
        "piura =  {\n",
        "  \"type\": \"FeatureCollection\",\n",
        "  \"features\": [\n",
        "    {\n",
        "      \"type\": \"Feature\",\n",
        "      \"properties\": {},\n",
        "      \"geometry\": {\n",
        "        \"type\": \"Polygon\",\n",
        "        \"coordinates\": [\n",
        "          [\n",
        "            [\n",
        "              -80.70144653320312,\n",
        "              -5.247546429206079\n",
        "            ],\n",
        "            [\n",
        "              -80.59295654296875,\n",
        "              -5.247546429206079\n",
        "            ],\n",
        "            [\n",
        "              -80.59295654296875,\n",
        "              -5.153521331735138\n",
        "            ],\n",
        "            [\n",
        "              -80.70144653320312,\n",
        "              -5.153521331735138\n",
        "            ],\n",
        "            [\n",
        "              -80.70144653320312,\n",
        "              -5.247546429206079\n",
        "            ]\n",
        "          ]\n",
        "        ]\n",
        "      }\n",
        "    }\n",
        "  ]\n",
        "}\n",
        "\n",
        "ee_piura = ee.Feature(piura['features'][0])\n",
        "centroide = ee_piura.geometry().centroid().getInfo()['coordinates']"
      ],
      "execution_count": 0,
      "outputs": []
    },
    {
      "cell_type": "code",
      "metadata": {
        "id": "iVHiVr1Z-7LO",
        "colab_type": "code",
        "outputId": "718610e6-aab6-4a34-b96e-5faab14d78fb",
        "colab": {
          "base_uri": "https://localhost:8080/",
          "height": 715
        }
      },
      "source": [
        "dicc = {'area_de_estudio':ee_piura.getInfo()}\n",
        "mapdisplay(centroide, dicc, zoom_start= 10)"
      ],
      "execution_count": 0,
      "outputs": [
        {
          "output_type": "execute_result",
          "data": {
            "text/html": [
              "<div style=\"width:100%;\"><div style=\"position:relative;width:100%;height:0;padding-bottom:60%;\"><iframe src=\"data:text/html;charset=utf-8;base64,PCFET0NUWVBFIGh0bWw+CjxoZWFkPiAgICAKICAgIDxtZXRhIGh0dHAtZXF1aXY9ImNvbnRlbnQtdHlwZSIgY29udGVudD0idGV4dC9odG1sOyBjaGFyc2V0PVVURi04IiAvPgogICAgPHNjcmlwdD5MX1BSRUZFUl9DQU5WQVM9ZmFsc2U7IExfTk9fVE9VQ0g9ZmFsc2U7IExfRElTQUJMRV8zRD1mYWxzZTs8L3NjcmlwdD4KICAgIDxzY3JpcHQgc3JjPSJodHRwczovL2Nkbi5qc2RlbGl2ci5uZXQvbnBtL2xlYWZsZXRAMS40LjAvZGlzdC9sZWFmbGV0LmpzIj48L3NjcmlwdD4KICAgIDxzY3JpcHQgc3JjPSJodHRwczovL2NvZGUuanF1ZXJ5LmNvbS9qcXVlcnktMS4xMi40Lm1pbi5qcyI+PC9zY3JpcHQ+CiAgICA8c2NyaXB0IHNyYz0iaHR0cHM6Ly9tYXhjZG4uYm9vdHN0cmFwY2RuLmNvbS9ib290c3RyYXAvMy4yLjAvanMvYm9vdHN0cmFwLm1pbi5qcyI+PC9zY3JpcHQ+CiAgICA8c2NyaXB0IHNyYz0iaHR0cHM6Ly9jZG5qcy5jbG91ZGZsYXJlLmNvbS9hamF4L2xpYnMvTGVhZmxldC5hd2Vzb21lLW1hcmtlcnMvMi4wLjIvbGVhZmxldC5hd2Vzb21lLW1hcmtlcnMuanMiPjwvc2NyaXB0PgogICAgPGxpbmsgcmVsPSJzdHlsZXNoZWV0IiBocmVmPSJodHRwczovL2Nkbi5qc2RlbGl2ci5uZXQvbnBtL2xlYWZsZXRAMS40LjAvZGlzdC9sZWFmbGV0LmNzcyIvPgogICAgPGxpbmsgcmVsPSJzdHlsZXNoZWV0IiBocmVmPSJodHRwczovL21heGNkbi5ib290c3RyYXBjZG4uY29tL2Jvb3RzdHJhcC8zLjIuMC9jc3MvYm9vdHN0cmFwLm1pbi5jc3MiLz4KICAgIDxsaW5rIHJlbD0ic3R5bGVzaGVldCIgaHJlZj0iaHR0cHM6Ly9tYXhjZG4uYm9vdHN0cmFwY2RuLmNvbS9ib290c3RyYXAvMy4yLjAvY3NzL2Jvb3RzdHJhcC10aGVtZS5taW4uY3NzIi8+CiAgICA8bGluayByZWw9InN0eWxlc2hlZXQiIGhyZWY9Imh0dHBzOi8vbWF4Y2RuLmJvb3RzdHJhcGNkbi5jb20vZm9udC1hd2Vzb21lLzQuNi4zL2Nzcy9mb250LWF3ZXNvbWUubWluLmNzcyIvPgogICAgPGxpbmsgcmVsPSJzdHlsZXNoZWV0IiBocmVmPSJodHRwczovL2NkbmpzLmNsb3VkZmxhcmUuY29tL2FqYXgvbGlicy9MZWFmbGV0LmF3ZXNvbWUtbWFya2Vycy8yLjAuMi9sZWFmbGV0LmF3ZXNvbWUtbWFya2Vycy5jc3MiLz4KICAgIDxsaW5rIHJlbD0ic3R5bGVzaGVldCIgaHJlZj0iaHR0cHM6Ly9yYXdjZG4uZ2l0aGFjay5jb20vcHl0aG9uLXZpc3VhbGl6YXRpb24vZm9saXVtL21hc3Rlci9mb2xpdW0vdGVtcGxhdGVzL2xlYWZsZXQuYXdlc29tZS5yb3RhdGUuY3NzIi8+CiAgICA8c3R5bGU+aHRtbCwgYm9keSB7d2lkdGg6IDEwMCU7aGVpZ2h0OiAxMDAlO21hcmdpbjogMDtwYWRkaW5nOiAwO308L3N0eWxlPgogICAgPHN0eWxlPiNtYXAge3Bvc2l0aW9uOmFic29sdXRlO3RvcDowO2JvdHRvbTowO3JpZ2h0OjA7bGVmdDowO308L3N0eWxlPgogICAgCiAgICA8bWV0YSBuYW1lPSJ2aWV3cG9ydCIgY29udGVudD0id2lkdGg9ZGV2aWNlLXdpZHRoLAogICAgICAgIGluaXRpYWwtc2NhbGU9MS4wLCBtYXhpbXVtLXNjYWxlPTEuMCwgdXNlci1zY2FsYWJsZT1ubyIgLz4KICAgIDxzdHlsZT4jbWFwXzgzZDljNzI0NjkwNDQ0NmU5MzE4MWM0NTllNDI2NjY1IHsKICAgICAgICBwb3NpdGlvbjogcmVsYXRpdmU7CiAgICAgICAgd2lkdGg6IDEwMC4wJTsKICAgICAgICBoZWlnaHQ6IDEwMC4wJTsKICAgICAgICBsZWZ0OiAwLjAlOwogICAgICAgIHRvcDogMC4wJTsKICAgICAgICB9CiAgICA8L3N0eWxlPgo8L2hlYWQ+Cjxib2R5PiAgICAKICAgIAogICAgPGRpdiBjbGFzcz0iZm9saXVtLW1hcCIgaWQ9Im1hcF84M2Q5YzcyNDY5MDQ0NDZlOTMxODFjNDU5ZTQyNjY2NSIgPjwvZGl2Pgo8L2JvZHk+CjxzY3JpcHQ+ICAgIAogICAgCiAgICAKICAgICAgICB2YXIgYm91bmRzID0gbnVsbDsKICAgIAoKICAgIHZhciBtYXBfODNkOWM3MjQ2OTA0NDQ2ZTkzMTgxYzQ1OWU0MjY2NjUgPSBMLm1hcCgKICAgICAgICAnbWFwXzgzZDljNzI0NjkwNDQ0NmU5MzE4MWM0NTllNDI2NjY1JywgewogICAgICAgIGNlbnRlcjogWy01LjIwMDUzNTAyODEwMjc1NywgLTgwLjY0NzIwMTUzODA4NjI5XSwKICAgICAgICB6b29tOiAxMCwKICAgICAgICBtYXhCb3VuZHM6IGJvdW5kcywKICAgICAgICBsYXllcnM6IFtdLAogICAgICAgIHdvcmxkQ29weUp1bXA6IGZhbHNlLAogICAgICAgIGNyczogTC5DUlMuRVBTRzM4NTcsCiAgICAgICAgem9vbUNvbnRyb2w6IHRydWUsCiAgICAgICAgfSk7CgoKICAgIAogICAgdmFyIHRpbGVfbGF5ZXJfNGExZTMwNjBiMjllNGRlZWEwOGQ1MmY3NjY1ZTQ2YzggPSBMLnRpbGVMYXllcigKICAgICAgICAnaHR0cHM6Ly97c30udGlsZS5vcGVuc3RyZWV0bWFwLm9yZy97en0ve3h9L3t5fS5wbmcnLAogICAgICAgIHsKICAgICAgICAiYXR0cmlidXRpb24iOiBudWxsLAogICAgICAgICJkZXRlY3RSZXRpbmEiOiBmYWxzZSwKICAgICAgICAibWF4TmF0aXZlWm9vbSI6IDE4LAogICAgICAgICJtYXhab29tIjogMTgsCiAgICAgICAgIm1pblpvb20iOiAwLAogICAgICAgICJub1dyYXAiOiBmYWxzZSwKICAgICAgICAib3BhY2l0eSI6IDEsCiAgICAgICAgInN1YmRvbWFpbnMiOiAiYWJjIiwKICAgICAgICAidG1zIjogZmFsc2UKfSkuYWRkVG8obWFwXzgzZDljNzI0NjkwNDQ0NmU5MzE4MWM0NTllNDI2NjY1KTsKICAgIAogICAgICAgIHZhciBnZW9fanNvbl80ZDY0ZDQzY2U0NDM0YzExYmYwYmVjZTE4ZDY4Mzg5MCA9IEwuZ2VvSnNvbigKICAgICAgICAgICAgeyJmZWF0dXJlcyI6IFt7Imdlb21ldHJ5IjogeyJjb29yZGluYXRlcyI6IFtbWy04MC43MDE0NDY1MzMyMDMxMiwgLTUuMjQ3NTQ2NDI5MjA2MDc5XSwgWy04MC41OTI5NTY1NDI5Njg3NSwgLTUuMjQ3NTQ2NDI5MjA2MDc5XSwgWy04MC41OTI5NTY1NDI5Njg3NSwgLTUuMTUzNTIxMzMxNzM1MTM4XSwgWy04MC43MDE0NDY1MzMyMDMxMiwgLTUuMTUzNTIxMzMxNzM1MTM4XSwgWy04MC43MDE0NDY1MzMyMDMxMiwgLTUuMjQ3NTQ2NDI5MjA2MDc5XV1dLCAidHlwZSI6ICJQb2x5Z29uIn0sICJwcm9wZXJ0aWVzIjogeyJoaWdobGlnaHQiOiB7fSwgInN0eWxlIjoge319LCAidHlwZSI6ICJGZWF0dXJlIn1dLCAidHlwZSI6ICJGZWF0dXJlQ29sbGVjdGlvbiJ9LAogICAgICAgICAgICB7CiAgICAgICAgICAgIH0KICAgICAgICApLmFkZFRvKG1hcF84M2Q5YzcyNDY5MDQ0NDZlOTMxODFjNDU5ZTQyNjY2NSApOwogICAgICAgIGdlb19qc29uXzRkNjRkNDNjZTQ0MzRjMTFiZjBiZWNlMThkNjgzODkwLnNldFN0eWxlKGZ1bmN0aW9uKGZlYXR1cmUpIHtyZXR1cm4gZmVhdHVyZS5wcm9wZXJ0aWVzLnN0eWxlO30pOwogICAgICAgIAogICAgCiAgICAgICAgICAgIHZhciBsYXllcl9jb250cm9sXzI2NTYxZGViMTlmYTRhZjJhYjVkOWZmOThmYTFmMmVkID0gewogICAgICAgICAgICAgICAgYmFzZV9sYXllcnMgOiB7ICJvcGVuc3RyZWV0bWFwIiA6IHRpbGVfbGF5ZXJfNGExZTMwNjBiMjllNGRlZWEwOGQ1MmY3NjY1ZTQ2YzgsIH0sCiAgICAgICAgICAgICAgICBvdmVybGF5cyA6IHsgImFyZWFfZGVfZXN0dWRpbyIgOiBnZW9fanNvbl80ZDY0ZDQzY2U0NDM0YzExYmYwYmVjZTE4ZDY4Mzg5MCwgfQogICAgICAgICAgICAgICAgfTsKICAgICAgICAgICAgTC5jb250cm9sLmxheWVycygKICAgICAgICAgICAgICAgIGxheWVyX2NvbnRyb2xfMjY1NjFkZWIxOWZhNGFmMmFiNWQ5ZmY5OGZhMWYyZWQuYmFzZV9sYXllcnMsCiAgICAgICAgICAgICAgICBsYXllcl9jb250cm9sXzI2NTYxZGViMTlmYTRhZjJhYjVkOWZmOThmYTFmMmVkLm92ZXJsYXlzLAogICAgICAgICAgICAgICAge3Bvc2l0aW9uOiAndG9wcmlnaHQnLAogICAgICAgICAgICAgICAgIGNvbGxhcHNlZDogdHJ1ZSwKICAgICAgICAgICAgICAgICBhdXRvWkluZGV4OiB0cnVlCiAgICAgICAgICAgICAgICB9KS5hZGRUbyhtYXBfODNkOWM3MjQ2OTA0NDQ2ZTkzMTgxYzQ1OWU0MjY2NjUpOwogICAgICAgICAgICAKICAgICAgICAKPC9zY3JpcHQ+\" style=\"position:absolute;width:100%;height:100%;left:0;top:0;border:none !important;\" allowfullscreen webkitallowfullscreen mozallowfullscreen></iframe></div></div>"
            ],
            "text/plain": [
              "<folium.folium.Map at 0x7fdc1ed8ebe0>"
            ]
          },
          "metadata": {
            "tags": []
          },
          "execution_count": 5
        }
      ]
    },
    {
      "cell_type": "markdown",
      "metadata": {
        "id": "9f0bDEc585lp",
        "colab_type": "text"
      },
      "source": [
        "####**4) Funcion para crear ee.ImageCollection**\n",
        "<center>\n",
        "<img src=\"https://user-images.githubusercontent.com/16768318/72954392-1b403880-3d90-11ea-9956-15e607f00fcb.png\" align=\"right\" width = 60%/>\n",
        "</center>"
      ]
    },
    {
      "cell_type": "code",
      "metadata": {
        "id": "_lGxFyfw_vq0",
        "colab_type": "code",
        "colab": {}
      },
      "source": [
        "def clean_s2(init_date, last_date, roi, cloud_per, calendar, bands):\n",
        "  def maskS2clouds(image):\n",
        "    qa = image.select('QA60')\n",
        "    opaque_cloud = 1 << 10\n",
        "    cirrus_cloud = 1 << 11\n",
        "    mask = qa.bitwiseAnd(opaque_cloud).eq(0)\\\n",
        "             .And(qa.bitwiseAnd(cirrus_cloud).eq(0))\n",
        "    clean_image = image.updateMask(mask).select(bands)\n",
        "    return clean_image.copyProperties(image, ['system:time_start'])\n",
        "  ic_s2 = ee.ImageCollection(\"COPERNICUS/S2_SR\")\\\n",
        "               .filterBounds(roi)\\\n",
        "               .filterDate(init_date, last_date)\\\n",
        "               .filter(ee.Filter.calendarRange(calendar[0], calendar[1],'month'))\\\n",
        "               .filter(ee.Filter.lt('CLOUDY_PIXEL_PERCENTAGE', cloud_per))\\\n",
        "               .map(maskS2clouds)\n",
        "  return ic_s2"
      ],
      "execution_count": 0,
      "outputs": []
    },
    {
      "cell_type": "markdown",
      "metadata": {
        "id": "oUOTOph4kwuM",
        "colab_type": "text"
      },
      "source": [
        "#### **5) Funcion para obtener las fechas en Google Earth Engine**"
      ]
    },
    {
      "cell_type": "code",
      "metadata": {
        "id": "Rc6m7S7pkxRu",
        "colab_type": "code",
        "colab": {}
      },
      "source": [
        "from datetime import datetime as dt\n",
        "def get_dates(ic):\n",
        "  dates = ic.aggregate_array('system:time_start').getInfo()\n",
        "  anonym = lambda x: dt.utcfromtimestamp(x/1000).strftime('%Y-%m-%d %H:%M:%S')\n",
        "  return list(map(anonym, dates))"
      ],
      "execution_count": 0,
      "outputs": []
    },
    {
      "cell_type": "markdown",
      "metadata": {
        "id": "st6L9iazkYXn",
        "colab_type": "text"
      },
      "source": [
        "#### **6) Funcion para monitorear las descargar automaticamente**"
      ]
    },
    {
      "cell_type": "code",
      "metadata": {
        "id": "dDndTqIkkYwv",
        "colab_type": "code",
        "colab": {}
      },
      "source": [
        "from ee.batch import Export\n",
        "from datetime import datetime\n",
        "import time \n",
        "\n",
        "def ee_monitoring(ee_task):\n",
        "  while ee_task.active():\n",
        "    print('Sondeo de la tarea (id: {}).'.format(ee_task.id))\n",
        "    time.sleep(5)"
      ],
      "execution_count": 0,
      "outputs": []
    },
    {
      "cell_type": "markdown",
      "metadata": {
        "id": "0OCkFoqd_wkB",
        "colab_type": "text"
      },
      "source": [
        "#### **7) Funcion para descargar automaticamente**"
      ]
    },
    {
      "cell_type": "code",
      "metadata": {
        "id": "nzOe3xT3_zSP",
        "colab_type": "code",
        "colab": {}
      },
      "source": [
        "def ee_download_images(ic, region, prefix, folder, scale):\n",
        "  nimages = ic.size().getInfo()\n",
        "  ic_list = ic.toList(nimages)  \n",
        "  for n_img in range(nimages):\n",
        "    to_download = ee.Image(ic_list.get(n_img))\n",
        "    timestamp = to_download.get('system:time_start').getInfo()\n",
        "    dt_object = datetime.fromtimestamp(timestamp/1000).strftime('%Y_%m_%d_%H_%M_%S')\n",
        "    task = Export.image.toDrive(\n",
        "      image=to_download,\n",
        "      description= prefix+dt_object,\n",
        "      folder=folder,     \n",
        "      scale=scale,\n",
        "      region = region\n",
        "    )\n",
        "    print('Descargando: '+prefix+dt_object+'.tif')\n",
        "    task.start()\n",
        "    ee_monitoring(task)"
      ],
      "execution_count": 0,
      "outputs": []
    },
    {
      "cell_type": "markdown",
      "metadata": {
        "id": "Lka3bVU1mUjr",
        "colab_type": "text"
      },
      "source": [
        "#### **8) Usa tus funciones para descargar masivamente los datos**"
      ]
    },
    {
      "cell_type": "code",
      "metadata": {
        "id": "lMZ_ikk5m7yb",
        "colab_type": "code",
        "cellView": "form",
        "colab": {}
      },
      "source": [
        "#@title piura\n",
        "piura =  {\n",
        "  \"type\": \"FeatureCollection\",\n",
        "  \"features\": [\n",
        "    {\n",
        "      \"type\": \"Feature\",\n",
        "      \"properties\": {},\n",
        "      \"geometry\": {\n",
        "        \"type\": \"Polygon\",\n",
        "        \"coordinates\": [\n",
        "          [\n",
        "            [\n",
        "              -80.70144653320312,\n",
        "              -5.247546429206079\n",
        "            ],\n",
        "            [\n",
        "              -80.59295654296875,\n",
        "              -5.247546429206079\n",
        "            ],\n",
        "            [\n",
        "              -80.59295654296875,\n",
        "              -5.153521331735138\n",
        "            ],\n",
        "            [\n",
        "              -80.70144653320312,\n",
        "              -5.153521331735138\n",
        "            ],\n",
        "            [\n",
        "              -80.70144653320312,\n",
        "              -5.247546429206079\n",
        "            ]\n",
        "          ]\n",
        "        ]\n",
        "      }\n",
        "    }\n",
        "  ]\n",
        "}\n",
        "\n",
        "ee_piura = ee.Feature(piura['features'][0])\n",
        "centroide = ee_piura.geometry().centroid().getInfo()['coordinates']"
      ],
      "execution_count": 0,
      "outputs": []
    },
    {
      "cell_type": "code",
      "metadata": {
        "id": "YN_X2KAUmT87",
        "colab_type": "code",
        "colab": {}
      },
      "source": [
        "s2 = clean_s2(init_date = '2019-01-01',\n",
        "              last_date = '2019-12-01',\n",
        "              roi = ee_piura.geometry(),\n",
        "              cloud_per = 1,\n",
        "              calendar =  [4,10], \n",
        "              bands =  ['B4','B3','B2'])"
      ],
      "execution_count": 0,
      "outputs": []
    },
    {
      "cell_type": "code",
      "metadata": {
        "id": "9uM2DbzzJHbK",
        "colab_type": "code",
        "colab": {}
      },
      "source": [
        "ee_download_images(ic = s2,\n",
        "                   region =  ee_piura.geometry(),\n",
        "                   prefix =  'PIURA_SENTINEL2_',\n",
        "                   folder = 'MASTERGIS_GEE2',\n",
        "                   scale =  10)"
      ],
      "execution_count": 0,
      "outputs": []
    },
    {
      "cell_type": "markdown",
      "metadata": {
        "id": "73S40nn1atJJ",
        "colab_type": "text"
      },
      "source": [
        "### **¿Dudas con este Jupyer-Notebook?**\n",
        "\n",
        "Estaremos felices de ayudarte!. Create una cuenta Github si es que no la tienes, luego detalla tu problema ampliamente en: https://github.com/csaybar/EarthEngineMasterGIS/issues\n",
        "\n",
        "**Tienes que dar clic en el boton verde!**\n",
        "\n",
        "<center>\n",
        "<img src=\"https://user-images.githubusercontent.com/16768318/79680748-d5511000-81d8-11ea-9f89-44bd010adf69.png\" width = 70%>\n",
        "</center>"
      ]
    }
  ]
}