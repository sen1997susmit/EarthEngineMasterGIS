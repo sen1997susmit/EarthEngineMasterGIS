{
  "nbformat": 4,
  "nbformat_minor": 0,
  "metadata": {
    "colab": {
      "name": "02_metadatos_II.ipynb",
      "provenance": [],
      "collapsed_sections": [],
      "include_colab_link": true
    },
    "kernelspec": {
      "name": "python3",
      "display_name": "Python 3"
    }
  },
  "cells": [
    {
      "cell_type": "markdown",
      "metadata": {
        "id": "view-in-github",
        "colab_type": "text"
      },
      "source": [
        "<a href=\"https://colab.research.google.com/github/csaybar/EarthEngineMasterGIS/blob/master/module05/02_metadatos_II.ipynb\" target=\"_parent\"><img src=\"https://colab.research.google.com/assets/colab-badge.svg\" alt=\"Open In Colab\"/></a>"
      ]
    },
    {
      "cell_type": "markdown",
      "metadata": {
        "id": "SZqKY54uSGSw",
        "colab_type": "text"
      },
      "source": [
        "<!--COURSE_INFORMATION-->\n",
        "<img align=\"left\" style=\"padding-right:10px;\" src=\"https://user-images.githubusercontent.com/16768318/73986808-75b3ca00-4936-11ea-90f1-3a6c352766ce.png\" width=10% >\n",
        "<img align=\"right\" style=\"padding-left:10px;\" src=\"https://user-images.githubusercontent.com/16768318/73986811-764c6080-4936-11ea-9653-a3eacc47caed.png\" width=10% >\n",
        "\n",
        "**Bienvenidos!** Este *colab notebook* es parte del curso [**Introduccion a Google Earth Engine con Python**](https://github.com/csaybar/EarthEngineMasterGIS) desarrollado por el equipo [**MasterGIS**](https://www.mastergis.com/). Obten mas informacion del curso en este [**enlace**](https://www.mastergis.com/product/google-earth-engine/). El contenido del curso esta disponible en [**GitHub**](https://github.com/csaybar/EarthEngineMasterGIS) bajo licencia [**MIT**](https://opensource.org/licenses/MIT)."
      ]
    },
    {
      "cell_type": "markdown",
      "metadata": {
        "id": "e6uboH0S6YrU",
        "colab_type": "text"
      },
      "source": [
        "## **MASTERGIS: Exploración de metadatos II**\n",
        "## **ee.Geometry, ee.Feature y ee.FeatureCollection**\n",
        "\n",
        "En esta lectura, aprenderemos sobre:\n",
        "\n",
        "- Como obtener metadatos en ee.Geometry.\n",
        "- Como obtener metadatos en ee.Feature.\n",
        "- Como obtener metadatos en ee.FeatureCollection."
      ]
    },
    {
      "cell_type": "markdown",
      "metadata": {
        "id": "xWVWjuWy6g55",
        "colab_type": "text"
      },
      "source": [
        "### **1) Autenticar y inicializar GEE**"
      ]
    },
    {
      "cell_type": "code",
      "metadata": {
        "colab_type": "code",
        "id": "aESGl1xq6kve",
        "cellView": "both",
        "colab": {}
      },
      "source": [
        "#@title Credenciales Google Earth Engine\n",
        "import os \n",
        "credential = '{\"refresh_token\":\"PON_AQUI_TU_TOKEN\"}'\n",
        "credential_file_path = os.path.expanduser(\"~/.config/earthengine/\")\n",
        "os.makedirs(credential_file_path,exist_ok=True)\n",
        "with open(credential_file_path + 'credentials', 'w') as file:\n",
        "    file.write(credential)"
      ],
      "execution_count": 0,
      "outputs": []
    },
    {
      "cell_type": "code",
      "metadata": {
        "id": "KaeMXqn46m-y",
        "colab_type": "code",
        "colab": {}
      },
      "source": [
        "import ee\n",
        "ee.Initialize()"
      ],
      "execution_count": 0,
      "outputs": []
    },
    {
      "cell_type": "markdown",
      "metadata": {
        "id": "4DOx7lTq6l0S",
        "colab_type": "text"
      },
      "source": [
        "### **2) Carga nuestra funcion de mapeo**"
      ]
    },
    {
      "cell_type": "code",
      "metadata": {
        "id": "BQ62LLxN6oGR",
        "colab_type": "code",
        "cellView": "form",
        "colab": {}
      },
      "source": [
        "#@title mapdisplay: Crea mapas interactivos usando folium\n",
        "import folium\n",
        "def mapdisplay(center, dicc, Tiles=\"OpensTreetMap\",zoom_start=10):\n",
        "    '''\n",
        "    :param center: Center of the map (Latitude and Longitude).\n",
        "    :param dicc: Earth Engine Geometries or Tiles dictionary\n",
        "    :param Tiles: Mapbox Bright,Mapbox Control Room,Stamen Terrain,Stamen Toner,stamenwatercolor,cartodbpositron.\n",
        "    :zoom_start: Initial zoom level for the map.\n",
        "    :return: A folium.Map object.\n",
        "    '''\n",
        "    center = center[::-1]\n",
        "    mapViz = folium.Map(location=center,tiles=Tiles, zoom_start=zoom_start)\n",
        "    for k,v in dicc.items():\n",
        "      if ee.image.Image in [type(x) for x in v.values()]:\n",
        "        folium.TileLayer(\n",
        "            tiles = v[\"tile_fetcher\"].url_format,\n",
        "            attr  = 'Google Earth Engine',\n",
        "            overlay =True,\n",
        "            name  = k\n",
        "          ).add_to(mapViz)\n",
        "      else:\n",
        "        folium.GeoJson(\n",
        "        data = v,\n",
        "        name = k\n",
        "          ).add_to(mapViz)\n",
        "    mapViz.add_child(folium.LayerControl())\n",
        "    return mapViz"
      ],
      "execution_count": 0,
      "outputs": []
    },
    {
      "cell_type": "markdown",
      "metadata": {
        "id": "oWsFqoA36tHa",
        "colab_type": "text"
      },
      "source": [
        "### **3) Metadatos ee.Geometry y ee.Feature**\n",
        "\n",
        "Para ver la informacion sobre una geometria, solo utilize **.getInfo**. Para acceder a la informacion de forma programada. Earth Engine proporciona varios metodos:\n",
        "\n",
        "\n"
      ]
    },
    {
      "cell_type": "code",
      "metadata": {
        "id": "G3QbPCtB9CUt",
        "colab_type": "code",
        "colab": {}
      },
      "source": [
        "polygon = ee.Geometry.Polygon([[[-5, 40], [65, 40], [65, 60], [-5, 60], [-5, 60]]])"
      ],
      "execution_count": 0,
      "outputs": []
    },
    {
      "cell_type": "code",
      "metadata": {
        "id": "WRceF7GM6vhH",
        "colab_type": "code",
        "outputId": "1485c0a6-c591-4d2a-fe5b-76d79fa2a5e1",
        "colab": {
          "base_uri": "https://localhost:8080/",
          "height": 34
        }
      },
      "source": [
        "print('Polygon printout: ', polygon.getInfo())\n",
        "\n",
        "# Imprime el area del poligono en kilometros cuadrados.\n",
        "print('Polygon area: ', polygon.area().divide(1000 * 1000).getInfo())\n",
        "\n",
        "# Imprimir el perimetro del poligono en kilometros.\n",
        "print('Polygon perimeter: ', polygon.perimeter().divide(1000).getInfo())\n",
        "\n",
        "# Imprime la geometria como una cadena GeoJSON.\n",
        "print('Polygon GeoJSON: ', polygon.toGeoJSONString())\n",
        "\n",
        "# Imprima el 'tipo' GeoJSON\n",
        "print('Geometry type: ', polygon.type().getInfo())\n",
        "\n",
        "# Imprimir las coordenadas como listas\n",
        "print('Polygon coordinates: ', polygon.coordinates().getInfo())"
      ],
      "execution_count": 0,
      "outputs": [
        {
          "output_type": "stream",
          "text": [
            "Polygon GeoJSON:  {\"type\": \"Polygon\", \"coordinates\": [[[-5, 40], [65, 40], [65, 60], [-5, 60], [-5, 60]]], \"evenOdd\": true}\n"
          ],
          "name": "stdout"
        }
      ]
    },
    {
      "cell_type": "code",
      "metadata": {
        "id": "5hRJeTX-9OuE",
        "colab_type": "code",
        "outputId": "437c1dd8-0cc8-450a-aed7-d29e1111b536",
        "colab": {
          "base_uri": "https://localhost:8080/",
          "height": 34
        }
      },
      "source": [
        "ee_demop = ee.Feature(polygon)\n",
        "ee_demop = ee_demop.set('area2',10000)\n",
        "ee_demop.get('area2').getInfo()"
      ],
      "execution_count": 0,
      "outputs": [
        {
          "output_type": "execute_result",
          "data": {
            "text/plain": [
              "10000"
            ]
          },
          "metadata": {
            "tags": []
          },
          "execution_count": 21
        }
      ]
    },
    {
      "cell_type": "markdown",
      "metadata": {
        "id": "GqxurdPj9Nj9",
        "colab_type": "text"
      },
      "source": [
        "### **4) Metadatos ee.FeatureCollection**\n"
      ]
    },
    {
      "cell_type": "code",
      "metadata": {
        "id": "NxRQjE6c9_gG",
        "colab_type": "code",
        "outputId": "afffe188-62e5-45de-a559-fd31ee1ba946",
        "colab": {
          "base_uri": "https://localhost:8080/",
          "height": 302
        }
      },
      "source": [
        "from pprint import pprint\n",
        "\n",
        "# Cargar los datos de cuencas\n",
        "sheds = ee.FeatureCollection('USGS/WBD/2017/HUC06')\n",
        "\n",
        "# Verifique el numero de cuencas hidrograficas despues de filtrar por ubicacion.\n",
        "print('Count after filter:', sheds.size().getInfo())\n",
        "\n",
        "print('Primer feature: \\n')\n",
        "pprint(sheds.first().toDictionary().getInfo())"
      ],
      "execution_count": 0,
      "outputs": [
        {
          "output_type": "stream",
          "text": [
            "Count after filter: 387\n",
            "Primer feature: \n",
            "\n",
            "{'areaacres': '17935746.85',\n",
            " 'areasqkm': '72583.46',\n",
            " 'gnis_id': '',\n",
            " 'huc6': '190301',\n",
            " 'loaddate': '20120611075458',\n",
            " 'metasource': '',\n",
            " 'name': 'Aleutian Islands',\n",
            " 'shape_area': '9.9308571861444',\n",
            " 'shape_leng': '81.5083456556245',\n",
            " 'sourcedata': '',\n",
            " 'sourcefeat': '',\n",
            " 'sourceorig': '',\n",
            " 'states': 'AK',\n",
            " 'tnmid': '{7D8E9EC1-6A0D-4FED-8063-94688560AC75}'}\n"
          ],
          "name": "stdout"
        }
      ]
    },
    {
      "cell_type": "code",
      "metadata": {
        "id": "AwK6SUUQAIbN",
        "colab_type": "code",
        "colab": {}
      },
      "source": [
        "ee.Feature(sheds.toList(2).get(1)).toDictionary().getInfo()"
      ],
      "execution_count": 0,
      "outputs": []
    },
    {
      "cell_type": "markdown",
      "metadata": {
        "id": "p2EATtsHYqCt",
        "colab_type": "text"
      },
      "source": [
        "### **¿Dudas con este Jupyer-Notebook?**\n",
        "\n",
        "Estaremos felices de ayudarte!. Create una cuenta Github si es que no la tienes, luego detalla tu problema ampliamente en: https://github.com/csaybar/EarthEngineMasterGIS/issues\n",
        "\n",
        "**Tienes que dar clic en el boton verde!**\n",
        "\n",
        "<center>\n",
        "<img src=\"https://user-images.githubusercontent.com/16768318/79680748-d5511000-81d8-11ea-9f89-44bd010adf69.png\" width = 70%>\n",
        "</center>"
      ]
    }
  ]
}