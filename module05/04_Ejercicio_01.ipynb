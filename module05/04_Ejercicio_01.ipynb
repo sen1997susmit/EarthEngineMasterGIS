{
  "nbformat": 4,
  "nbformat_minor": 0,
  "metadata": {
    "colab": {
      "name": "04_Ejercicio_01.ipynb",
      "provenance": [],
      "collapsed_sections": [],
      "toc_visible": true,
      "include_colab_link": true
    },
    "kernelspec": {
      "name": "python3",
      "display_name": "Python 3"
    }
  },
  "cells": [
    {
      "cell_type": "markdown",
      "metadata": {
        "id": "view-in-github",
        "colab_type": "text"
      },
      "source": [
        "<a href=\"https://colab.research.google.com/github/csaybar/EarthEngineMasterGIS/blob/master/module05/04_Ejercicio_01.ipynb\" target=\"_parent\"><img src=\"https://colab.research.google.com/assets/colab-badge.svg\" alt=\"Open In Colab\"/></a>"
      ]
    },
    {
      "cell_type": "markdown",
      "metadata": {
        "id": "sVXn0OgCZQt3",
        "colab_type": "text"
      },
      "source": [
        "<!--COURSE_INFORMATION-->\n",
        "<img align=\"left\" style=\"padding-right:10px;\" src=\"https://user-images.githubusercontent.com/16768318/73986808-75b3ca00-4936-11ea-90f1-3a6c352766ce.png\" width=10% >\n",
        "<img align=\"right\" style=\"padding-left:10px;\" src=\"https://user-images.githubusercontent.com/16768318/73986811-764c6080-4936-11ea-9653-a3eacc47caed.png\" width=10% >\n",
        "\n",
        "**Bienvenidos!** Este *colab notebook* es parte del curso [**Introduccion a Google Earth Engine con Python**](https://github.com/csaybar/EarthEngineMasterGIS) desarrollado por el equipo [**MasterGIS**](https://www.mastergis.com/). Obten mas informacion del curso en este [**enlace**](https://www.mastergis.com/product/google-earth-engine/). El contenido del curso esta disponible en [**GitHub**](https://github.com/csaybar/EarthEngineMasterGIS) bajo licencia [**MIT**](https://opensource.org/licenses/MIT)."
      ]
    },
    {
      "cell_type": "markdown",
      "metadata": {
        "id": "FAGmoEYk7ZCm",
        "colab_type": "text"
      },
      "source": [
        "### **Ejercicio N°01:**\n",
        "  <img src=\"https://user-images.githubusercontent.com/16768318/73651798-21ca8c00-467d-11ea-8186-07fae58d7958.jpg\" align=\"right\" width = 60%/>\n",
        "\n",
        "Genere una funcion para generar una pequena base de datos. Para la ciudad de Piura-Peru de las siguientes variables:\n",
        "\n",
        "- Elevacion\n",
        "- NDVI\n",
        "- Pendiente\n",
        "- Aspecto\n",
        "- Mapa de sombras\n",
        "- Direccion de flujo\n",
        "- Acumulacion de flujo\n",
        "- Porcentaje de materia organica\n",
        "- densidad aparente del suelo\n",
        "- Precipitacion\n",
        "- ETP\n",
        "- NDVI\n",
        "- Uso del suelo"
      ]
    },
    {
      "cell_type": "markdown",
      "metadata": {
        "id": "l8ZAX9tD_E7M",
        "colab_type": "text"
      },
      "source": [
        "#### **1) Autenticar y inicializar GEE**"
      ]
    },
    {
      "cell_type": "code",
      "metadata": {
        "id": "TNrAP31B_FZY",
        "colab_type": "code",
        "cellView": "both",
        "colab": {}
      },
      "source": [
        "#@title Credenciales Google Earth Engine\n",
        "import os \n",
        "credential = '{\"refresh_token\":\"PON_AQUI_TU_TOKEN\"}'\n",
        "credential_file_path = os.path.expanduser(\"~/.config/earthengine/\")\n",
        "os.makedirs(credential_file_path,exist_ok=True)\n",
        "with open(credential_file_path + 'credentials', 'w') as file:\n",
        "    file.write(credential)"
      ],
      "execution_count": 0,
      "outputs": []
    },
    {
      "cell_type": "code",
      "metadata": {
        "id": "AMZDynDF_NDo",
        "colab_type": "code",
        "colab": {}
      },
      "source": [
        "import ee\n",
        "ee.Initialize()"
      ],
      "execution_count": 0,
      "outputs": []
    },
    {
      "cell_type": "markdown",
      "metadata": {
        "id": "joZXwVgc_FyY",
        "colab_type": "text"
      },
      "source": [
        "#### **2) Carga nuestra funcion de mapeo**"
      ]
    },
    {
      "cell_type": "code",
      "metadata": {
        "id": "xYSB9Sxl_GGf",
        "colab_type": "code",
        "cellView": "form",
        "colab": {}
      },
      "source": [
        "#@title mapdisplay: Crea mapas interactivos usando folium\n",
        "import folium\n",
        "def mapdisplay(center, dicc, Tiles=\"OpensTreetMap\",zoom_start=10):\n",
        "    '''\n",
        "    :param center: Center of the map (Latitude and Longitude).\n",
        "    :param dicc: Earth Engine Geometries or Tiles dictionary\n",
        "    :param Tiles: Mapbox Bright,Mapbox Control Room,Stamen Terrain,Stamen Toner,stamenwatercolor,cartodbpositron.\n",
        "    :zoom_start: Initial zoom level for the map.\n",
        "    :return: A folium.Map object.\n",
        "    '''\n",
        "    center = center[::-1]\n",
        "    mapViz = folium.Map(location=center,tiles=Tiles, zoom_start=zoom_start)\n",
        "    for k,v in dicc.items():\n",
        "      if ee.image.Image in [type(x) for x in v.values()]:\n",
        "        folium.TileLayer(\n",
        "            tiles = v[\"tile_fetcher\"].url_format,\n",
        "            attr  = 'Google Earth Engine',\n",
        "            overlay =True,\n",
        "            name  = k\n",
        "          ).add_to(mapViz)\n",
        "      else:\n",
        "        folium.GeoJson(\n",
        "        data = v,\n",
        "        name = k\n",
        "          ).add_to(mapViz)\n",
        "    mapViz.add_child(folium.LayerControl())\n",
        "    return mapViz"
      ],
      "execution_count": 0,
      "outputs": []
    },
    {
      "cell_type": "markdown",
      "metadata": {
        "id": "AFN3ZkRE-oVf",
        "colab_type": "text"
      },
      "source": [
        "####**3) Area de Estudio**"
      ]
    },
    {
      "cell_type": "code",
      "metadata": {
        "id": "Q0-kIxaUzTHQ",
        "colab_type": "code",
        "cellView": "form",
        "colab": {}
      },
      "source": [
        "#@title piura\n",
        "piura =  {\n",
        "  \"type\": \"FeatureCollection\",\n",
        "  \"features\": [\n",
        "    {\n",
        "      \"type\": \"Feature\",\n",
        "      \"properties\": {},\n",
        "      \"geometry\": {\n",
        "        \"type\": \"Polygon\",\n",
        "        \"coordinates\": [\n",
        "          [\n",
        "            [\n",
        "              -80.70144653320312,\n",
        "              -5.247546429206079\n",
        "            ],\n",
        "            [\n",
        "              -80.59295654296875,\n",
        "              -5.247546429206079\n",
        "            ],\n",
        "            [\n",
        "              -80.59295654296875,\n",
        "              -5.153521331735138\n",
        "            ],\n",
        "            [\n",
        "              -80.70144653320312,\n",
        "              -5.153521331735138\n",
        "            ],\n",
        "            [\n",
        "              -80.70144653320312,\n",
        "              -5.247546429206079\n",
        "            ]\n",
        "          ]\n",
        "        ]\n",
        "      }\n",
        "    }\n",
        "  ]\n",
        "}"
      ],
      "execution_count": 0,
      "outputs": []
    },
    {
      "cell_type": "code",
      "metadata": {
        "id": "iVHiVr1Z-7LO",
        "colab_type": "code",
        "colab": {}
      },
      "source": [
        "ee_piura = ee.Feature(piura['features'][0])\n",
        "centroide = ee_piura.geometry().centroid().getInfo()['coordinates']\n",
        "\n",
        "# Displaye los resultados\n",
        "dicc = {'area_de_estudio':ee_piura.getInfo()}\n",
        "mapdisplay(centroide, dicc, zoom_start= 10)"
      ],
      "execution_count": 0,
      "outputs": []
    },
    {
      "cell_type": "markdown",
      "metadata": {
        "id": "rFikxtzU-ITZ",
        "colab_type": "text"
      },
      "source": [
        "### **5) Funcion para generar y descargar bases de datos**"
      ]
    },
    {
      "cell_type": "code",
      "metadata": {
        "id": "h9wN3jOS-bDH",
        "colab_type": "code",
        "colab": {}
      },
      "source": [
        "def spatial_dataset(geom, prefix, folder, scale, variables = None):\n",
        "  '''\n",
        "  Genere una base de datos espacial. Para cualquier parte del Mundo usando \n",
        "  Google Earth Engine.\n",
        "\n",
        "  SRTM: Modelo de Elevacion hidrologicamente condicionado. \n",
        "        Lehner, B., Verdin, K., Jarvis, A. (2008): New global hydrography \n",
        "        derived from spaceborne elevation data. Eos, Transactions, AGU, \n",
        "        89(10): 93-94.\n",
        "\n",
        "  SLOPE: Mapa de pendiente generado a partir de MDE.\n",
        "\n",
        "  ASPECT: Mapa de aspecto generado a partir de MDE.\n",
        "\n",
        "  HILLSHADE: Modelo de sombras generado a partir de MDE.\n",
        "\n",
        "  FLOWDIR: Direccion de flujo generado a partir de los datos\n",
        "           SRTM.\n",
        "  \n",
        "  FLOWACC: Acumulacion de flujo generado a partir de los datos\n",
        "           SRTM.\n",
        "\n",
        "  ORGANIC: Materia organica (g/kg) al raz del suelo.\n",
        "           Tomislav Hengl, & Ichsani Wheeler. (2018). Soil organic carbo\n",
        "           n content in x 5 g / kg at 6 standard depths (0, 10, 30, 60,\n",
        "           100 and 200 cm) at 250 m resolution (Version v02) [Data set].\n",
        "            Zenodo. 10.5281/zenodo.1475457\n",
        "\n",
        "  DENSITY: Densidad aparente del suelo al raz del suelo.\n",
        "\n",
        "  RAIN: Datos de lluvia mensual (mm/month). \n",
        "        Abatzoglou, J.T., S.Z. Dobrowski, S.A. Parks, K.C. Hegewisch, 2018,\n",
        "        Terraclimate, a high-resolution global dataset of monthly climate \n",
        "        and climatic water balance from 1958-2015, Scientific Data 5:170191,\n",
        "         doi: 10.1038/sdata.2017.191\n",
        "\n",
        "  ETP: Datos de evapotranspiracion de referencia (ASCE Penman-Montieth).\n",
        "\n",
        "  NDVI_mean: Datos de NVDI calculado a partir de datos Landsat.\n",
        "\n",
        "  LANDUSE: Uso de suelo Copernicus.\n",
        "           Buchhorn, M. ; Smets, B. ; Bertels, L. ; Lesiv, M. ; Tsendbazar,\n",
        "           N. - E. ; Herold, M. ; Fritz, S. Copernicus Global Land Service:\n",
        "           Land Cover 100m: epoch 2015: Globe. Dataset of the global component\n",
        "           of the Copernicus Land Monitoring Service 2019. DOI \n",
        "           10.5281/zenodo.3243509\n",
        "  '''\n",
        "  if variables is None:\n",
        "    variables = ['srtm','slope','aspect','hillshade','flowdir','flowacc',\n",
        "                 'organic','density','rain','etp','ndvi_mean','landcover']\n",
        "\n",
        "  ee_var = {}\n",
        "  \n",
        "  # 1. ee.Image relacionadas a un key\n",
        "  #    e.g: srtm ---> WWF/HydroSHEDS/03CONDEM\n",
        "  if 'srtm' in variables:\n",
        "    srtm = ee.Image(\"WWF/HydroSHEDS/03CONDEM\")\n",
        "    ee_var['srtm'] = srtm    \n",
        "  if 'slope' in variables:\n",
        "    slope = ee.Terrain.slope(srtm)\n",
        "    ee_var['slope'] = slope\n",
        "  if 'aspect' in variables:\n",
        "    aspect = ee.Terrain.aspect(srtm)\n",
        "    ee_var['aspect'] = aspect    \n",
        "  if 'hillshade' in variables:\n",
        "    hillshade = ee.Terrain.hillshade(srtm)\n",
        "    ee_var['hillshade'] = hillshade\n",
        "  if 'flowdir' in variables:   \n",
        "    flowdir = ee.Image(\"WWF/HydroSHEDS/03DIR\")\n",
        "    ee_var['flowdir'] = flowdir\n",
        "  if 'flowacc' in variables:   \n",
        "    flowacc = ee.Image(\"WWF/HydroSHEDS/15ACC\")\n",
        "    ee_var['flowacc'] = flowacc\n",
        "  if 'organic' in variables:       \n",
        "    organic = ee.Image(\"OpenLandMap/SOL/SOL_ORGANIC-CARBON_USDA-6A1C_M/v02\")\n",
        "    ee_var['organic'] = organic\n",
        "  if 'density' in variables:       \n",
        "    density = ee.Image(\"OpenLandMap/SOL/SOL_BULKDENS-FINEEARTH_USDA-4A1H_M/v02\")\n",
        "    ee_var['density'] = density\n",
        "  if 'rain' in variables:           \n",
        "    rain = ee.ImageCollection(\"IDAHO_EPSCOR/TERRACLIMATE\").mean().select('pr')\n",
        "    ee_var['rain'] = rain\n",
        "  if 'etp' in variables:           \n",
        "    etp = ee.ImageCollection(\"IDAHO_EPSCOR/TERRACLIMATE\").mean().select('pet')    \n",
        "    ee_var['etp'] = etp\n",
        "  if 'ndvi_mean' in variables:               \n",
        "    ndvi_mean = ee.ImageCollection(\"LANDSAT/LT05/C01/T1_32DAY_NDVI\").mean().select('NDVI')\n",
        "    ee_var['ndvi_mean'] = ndvi_mean\n",
        "  if 'landcover' in variables:                   \n",
        "    landcover = ee.ImageCollection(\"COPERNICUS/Landcover/100m/Proba-V/Global\").first().select('discrete_classification')\n",
        "    ee_var['landcover'] = landcover\n",
        "\n",
        "  # 2. Descargar imagenes \n",
        "  for key, value in ee_var.items():\n",
        "    to_download = ee.Image(value).clip(geom)\n",
        "    task = ee.batch.Export.image.toDrive(\n",
        "      image=to_download,\n",
        "      description= prefix+key,\n",
        "      folder=folder,      \n",
        "      scale=scale,\n",
        "      region = geom\n",
        "    ) \n",
        "    task.start()\n",
        "    print('Descargando: '+prefix+key+'.tif')"
      ],
      "execution_count": 0,
      "outputs": []
    },
    {
      "cell_type": "code",
      "metadata": {
        "id": "euPK3QgISoDY",
        "colab_type": "code",
        "outputId": "b641610a-59aa-4088-ed1f-20ede5f9a769",
        "colab": {
          "base_uri": "https://localhost:8080/",
          "height": 221
        }
      },
      "source": [
        "spatial_dataset(ee_piura.geometry(), 'Piura_', 'ejemplo_02', 30)"
      ],
      "execution_count": 0,
      "outputs": [
        {
          "output_type": "stream",
          "text": [
            "Descargando: Piura_srtm.tif\n",
            "Descargando: Piura_slope.tif\n",
            "Descargando: Piura_aspect.tif\n",
            "Descargando: Piura_hillshade.tif\n",
            "Descargando: Piura_flowdir.tif\n",
            "Descargando: Piura_flowacc.tif\n",
            "Descargando: Piura_organic.tif\n",
            "Descargando: Piura_density.tif\n",
            "Descargando: Piura_rain.tif\n",
            "Descargando: Piura_etp.tif\n",
            "Descargando: Piura_ndvi_mean.tif\n",
            "Descargando: Piura_landcover.tif\n"
          ],
          "name": "stdout"
        }
      ]
    },
    {
      "cell_type": "markdown",
      "metadata": {
        "id": "JHN4mvXQZ6RG",
        "colab_type": "text"
      },
      "source": [
        "### **¿Dudas con este Jupyer-Notebook?**\n",
        "\n",
        "Estaremos felices de ayudarte!. Create una cuenta Github si es que no la tienes, luego detalla tu problema ampliamente en: https://github.com/csaybar/EarthEngineMasterGIS/issues\n",
        "\n",
        "**Tienes que dar clic en el boton verde!**\n",
        "\n",
        "<center>\n",
        "<img src=\"https://user-images.githubusercontent.com/16768318/79680748-d5511000-81d8-11ea-9f89-44bd010adf69.png\" width = 70%>\n",
        "</center>"
      ]
    }
  ]
}