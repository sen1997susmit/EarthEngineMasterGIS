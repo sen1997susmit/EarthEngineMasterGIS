{
  "nbformat": 4,
  "nbformat_minor": 0,
  "metadata": {
    "colab": {
      "name": "03_reducer.ipynb",
      "provenance": [],
      "collapsed_sections": [],
      "toc_visible": true,
      "include_colab_link": true
    },
    "kernelspec": {
      "name": "python3",
      "display_name": "Python 3"
    }
  },
  "cells": [
    {
      "cell_type": "markdown",
      "metadata": {
        "id": "view-in-github",
        "colab_type": "text"
      },
      "source": [
        "<a href=\"https://colab.research.google.com/github/csaybar/EarthEngineMasterGIS/blob/master/module05/03_reducer.ipynb\" target=\"_parent\"><img src=\"https://colab.research.google.com/assets/colab-badge.svg\" alt=\"Open In Colab\"/></a>"
      ]
    },
    {
      "cell_type": "markdown",
      "metadata": {
        "id": "1Qv4QlofTHCa",
        "colab_type": "text"
      },
      "source": [
        "<!--COURSE_INFORMATION-->\n",
        "<img align=\"left\" style=\"padding-right:10px;\" src=\"https://user-images.githubusercontent.com/16768318/73986808-75b3ca00-4936-11ea-90f1-3a6c352766ce.png\" width=10% >\n",
        "<img align=\"right\" style=\"padding-left:10px;\" src=\"https://user-images.githubusercontent.com/16768318/73986811-764c6080-4936-11ea-9653-a3eacc47caed.png\" width=10% >\n",
        "\n",
        "**Bienvenidos!** Este *colab notebook* es parte del curso [**Introduccion a Google Earth Engine con Python**](https://github.com/csaybar/EarthEngineMasterGIS) desarrollado por el equipo [**MasterGIS**](https://www.mastergis.com/). Obten mas informacion del curso en este [**enlace**](https://www.mastergis.com/product/google-earth-engine/). El contenido del curso esta disponible en [**GitHub**](https://github.com/csaybar/EarthEngineMasterGIS) bajo licencia [**MIT**](https://opensource.org/licenses/MIT)."
      ]
    },
    {
      "cell_type": "markdown",
      "metadata": {
        "id": "axWZxLe9ItUH",
        "colab_type": "text"
      },
      "source": [
        "## **MASTERGIS: Reducciones espaciales y temporales en colecciones de imágenes**\n",
        "\n",
        "En esta lectura, aprenderemos sobre:\n",
        "\n",
        "- Descripción general de los objetos ee.Reducer()\n",
        "- Reducciones en ImageCollection.\n",
        "- Reducciones en imagenes.\n",
        "- Estadisticas regionales de imagenes\n",
        "- Estadisticas de regiones de imagenes"
      ]
    },
    {
      "cell_type": "markdown",
      "metadata": {
        "id": "PG_-9n7CjtLC",
        "colab_type": "text"
      },
      "source": [
        "### **1) Autenticar y inicializar GEE**"
      ]
    },
    {
      "cell_type": "code",
      "metadata": {
        "id": "P9pLTc3SIrrt",
        "colab_type": "code",
        "cellView": "both",
        "colab": {}
      },
      "source": [
        "#@title Credenciales Google Earth Engine\n",
        "import os \n",
        "credential = '{\"refresh_token\":\"PON_AQUI_TU_TOKEN\"}'\n",
        "credential_file_path = os.path.expanduser(\"~/.config/earthengine/\")\n",
        "os.makedirs(credential_file_path,exist_ok=True)\n",
        "with open(credential_file_path + 'credentials', 'w') as file:\n",
        "    file.write(credential)"
      ],
      "execution_count": 0,
      "outputs": []
    },
    {
      "cell_type": "code",
      "metadata": {
        "id": "znW_bCKJjv33",
        "colab_type": "code",
        "colab": {}
      },
      "source": [
        "import ee\n",
        "ee.Initialize()"
      ],
      "execution_count": 0,
      "outputs": []
    },
    {
      "cell_type": "markdown",
      "metadata": {
        "id": "-v-I-8F0jx4O",
        "colab_type": "text"
      },
      "source": [
        "### **2) Carga nuestra funcion de mapeo**"
      ]
    },
    {
      "cell_type": "code",
      "metadata": {
        "id": "nDMpBweXjyJP",
        "colab_type": "code",
        "cellView": "form",
        "colab": {}
      },
      "source": [
        "#@title mapdisplay: Crea mapas interactivos usando folium\n",
        "import folium\n",
        "def mapdisplay(center, dicc, Tiles=\"OpensTreetMap\",zoom_start=10):\n",
        "    '''\n",
        "    :param center: Center of the map (Latitude and Longitude).\n",
        "    :param dicc: Earth Engine Geometries or Tiles dictionary\n",
        "    :param Tiles: Mapbox Bright,Mapbox Control Room,Stamen Terrain,Stamen Toner,stamenwatercolor,cartodbpositron.\n",
        "    :zoom_start: Initial zoom level for the map.\n",
        "    :return: A folium.Map object.\n",
        "    '''\n",
        "    center = center[::-1]\n",
        "    mapViz = folium.Map(location=center,tiles=Tiles, zoom_start=zoom_start)\n",
        "    for k,v in dicc.items():\n",
        "      if ee.image.Image in [type(x) for x in v.values()]:\n",
        "        folium.TileLayer(\n",
        "            tiles = v[\"tile_fetcher\"].url_format,\n",
        "            attr  = 'Google Earth Engine',\n",
        "            overlay =True,\n",
        "            name  = k\n",
        "          ).add_to(mapViz)\n",
        "      else:\n",
        "        folium.GeoJson(\n",
        "        data = v,\n",
        "        name = k\n",
        "          ).add_to(mapViz)\n",
        "    mapViz.add_child(folium.LayerControl())\n",
        "    return mapViz"
      ],
      "execution_count": 0,
      "outputs": []
    },
    {
      "cell_type": "markdown",
      "metadata": {
        "id": "XL2hvgeKj0pQ",
        "colab_type": "text"
      },
      "source": [
        "### **3) Descripcion general de los objetos ee.Reducer()**\n",
        "\n",
        "Los reductores (**ee.Reducer()**) son la forma de agregar datos a traves del tiempo, el espacio, las bandas de una imagen, las dimensiones de una matriz y otras estructuras de datos en Earth Engine. La clase **ee.Reducer** especifica como se agregan los datos. Los reductores de esta clase pueden especificar una estadistica simple para usar para la agregacion (por ejemplo, minimo, maximo, media, mediana, desviacion estandar, etc.) o un resumen mas complejo de los datos de entrada (por ejemplo, histograma, regresión lineal, lista). Se pueden producir reducciones sobre:\n",
        "\n",
        "- **time** = `imageCollection.reduce()`\n",
        "- **space** = `image.reduceRegion()` `and image.reduceNeighborhood()`\n",
        "- **bands** = `image.reduce()`\n",
        "\n",
        "O el espacio de atributos de un FeatureCollection (`featureCollection.reduceColumns()` o los metodos de FeatureCollection que comienzan con `aggregate_`).\n",
        "\n",
        "<center>\n",
        "<img src='https://user-images.githubusercontent.com/16768318/73318354-0997de80-4231-11ea-9398-26183673343b.png'>\n",
        "</center>"
      ]
    },
    {
      "cell_type": "code",
      "metadata": {
        "id": "5L0aLkaHj845",
        "colab_type": "code",
        "outputId": "e174ce9d-d07f-4a94-e5ad-6d85743644ec",
        "colab": {
          "base_uri": "https://localhost:8080/",
          "height": 138
        }
      },
      "source": [
        "# Load and filter the Sentinel-2 image collection.\n",
        "collection = ee.ImageCollection('COPERNICUS/S2')\\\n",
        "               .filterDate('2016-01-01', '2016-12-31')\\\n",
        "               .filterBounds(ee.Geometry.Point([-81.31, 29.90]))\n",
        "\n",
        "# Reduce the collection.\n",
        "extreme = collection.reduce(ee.Reducer.median())\n",
        "print(\"Tamaño de collection: \", collection.size().getInfo())\n",
        "print(\"Tipo de ED de extreme:\",type(extreme))\n",
        "print(\"Nombre de las bandas:\",extreme.bandNames().getInfo())\n",
        "print(\"------\")\n",
        "extreme_extreme = extreme.reduce(ee.Reducer.mean())\n",
        "print(\"Tipo de ED de extreme_extreme:\",type(extreme))\n",
        "print(\"Nombre de las bandas:\",extreme_extreme.bandNames().getInfo())\n"
      ],
      "execution_count": 0,
      "outputs": [
        {
          "output_type": "stream",
          "text": [
            "Tamaño de collection:  28\n",
            "Tipo de ED de extreme: <class 'ee.image.Image'>\n",
            "Nombre de las bandas: ['B1_median', 'B2_median', 'B3_median', 'B4_median', 'B5_median', 'B6_median', 'B7_median', 'B8_median', 'B8A_median', 'B9_median', 'B10_median', 'B11_median', 'B12_median', 'QA10_median', 'QA20_median', 'QA60_median']\n",
            "------\n",
            "Tipo de ED de extreme_extreme: <class 'ee.image.Image'>\n",
            "Nombre de las bandas: ['mean']\n"
          ],
          "name": "stdout"
        }
      ]
    },
    {
      "cell_type": "markdown",
      "metadata": {
        "id": "RlrhOO6Ir8W3",
        "colab_type": "text"
      },
      "source": [
        "Esto producirá una salida con el **doble del numero de bandas de las entradas**, donde los nombres de banda en la salida tienen \"min\" o \"max\" agregado al nombre de la banda."
      ]
    },
    {
      "cell_type": "markdown",
      "metadata": {
        "id": "SngbzX0EsArH",
        "colab_type": "text"
      },
      "source": [
        "### **4) Reduccion en un ee.ImageCollection**\n",
        "\n",
        "Por ejemplo, consideremos que necesitamos tomar el estado medio (e.g la mediana)  de una coleccion temporal de imagenes (representadas en un ee.ImageCollection). Para reducir el ee.ImageCollection, utilize **imageCollection.reduce()**. Esto reduce la coleccion de imagenes a una imagen individual como se ilustra en la Figura en esta celda. Especificamente, la salida se calcula por pixeles, de manera que cada pixel de la salida esta compuesto por el valor medio de todas las imagenes de la coleccion en esa ubicacion. Para obtener otras estadísticas, como la media, la suma, la varianza, un percentil arbitrario, etc., se debe seleccionar y aplicar el reductor apropiado. Para las estadisticas basicas como min, max, media, etc., **ImageCollection** tiene metodos abreviados como min(), max(), median(), etc. Funcionan exactamente de la misma manera que cuando se llama a **reduce()**, excepto que los nombres de las bandas resultantes no tendran el nombre del reductor adjunto.\n",
        "\n",
        "<center>\n",
        "<img src='https://user-images.githubusercontent.com/16768318/73318354-0997de80-4231-11ea-9398-26183673343b.png'>\n",
        "</center>"
      ]
    },
    {
      "cell_type": "code",
      "metadata": {
        "id": "LMayQtnprKFk",
        "colab_type": "code",
        "outputId": "2930ffcf-7ea3-4067-b0d6-8a3cd166ad52",
        "colab": {
          "base_uri": "https://localhost:8080/",
          "height": 891
        }
      },
      "source": [
        "# Cargue una colección de imágenes, filtrada para que no sean demasiados datos.\n",
        "collection = ee.ImageCollection('LANDSAT/LT05/C01/T1')\\\n",
        "               .filterDate('2008-01-01', '2008-12-31')\\\n",
        "               .filter(ee.Filter.eq('WRS_PATH', 44))\\\n",
        "               .filter(ee.Filter.eq('WRS_ROW', 34))\n",
        "\n",
        "# Calcular la mediana en cada banda, cada píxel.\n",
        "# Los nombres de las bandas son B1_median, B2_median, etc.\n",
        "median = collection.reduce(ee.Reducer.mean())\n",
        "print(collection.first().bandNames().getInfo())\n",
        "print(median.bandNames().getInfo())\n",
        "# La salida es una imagen. Añádelo al mapa.\n",
        "vis_param = {'bands': ['B4_mean', 'B3_mean', 'B2_mean'], 'gamma': 1.6}\n",
        "median_tk = median.getMapId(vis_param)\n",
        "\n",
        "center = [-122.3355, 37.7924]\n",
        "mapdisplay(center,{'Landsat 5':median_tk},zoom_start=9)"
      ],
      "execution_count": 0,
      "outputs": [
        {
          "output_type": "stream",
          "text": [
            "['B1', 'B2', 'B3', 'B4', 'B5', 'B6', 'B7', 'BQA']\n",
            "['B1_mean', 'B2_mean', 'B3_mean', 'B4_mean', 'B5_mean', 'B6_mean', 'B7_mean', 'BQA_mean']\n"
          ],
          "name": "stdout"
        },
        {
          "output_type": "execute_result",
          "data": {
            "text/html": [
              "<div style=\"width:100%;\"><div style=\"position:relative;width:100%;height:0;padding-bottom:60%;\"><iframe src=\"data:text/html;charset=utf-8;base64,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\" style=\"position:absolute;width:100%;height:100%;left:0;top:0;border:none !important;\" allowfullscreen webkitallowfullscreen mozallowfullscreen></iframe></div></div>"
            ],
            "text/plain": [
              "<folium.folium.Map at 0x7f4d82e52630>"
            ]
          },
          "metadata": {
            "tags": []
          },
          "execution_count": 24
        }
      ]
    },
    {
      "cell_type": "markdown",
      "metadata": {
        "id": "FFgv_U1Fz03L",
        "colab_type": "text"
      },
      "source": [
        "Esto devuelve una imagen multibanda, donde cada pixel representa la mediana de todos los pixeles del ImageCollection. Específicamente, el reductor se ha repetido para cada pixel de las imagenes de entrada. Tenga en cuenta que los nombres de las bandas tienen el nombre del reductor adjunto: \"B1_median\", \"B2_median\", etc."
      ]
    },
    {
      "cell_type": "markdown",
      "metadata": {
        "id": "VYU5TCCH0TjB",
        "colab_type": "text"
      },
      "source": [
        "### **5) Reduccion en ee.Image**\n",
        "\n",
        "Para reducir una imagen, tambien puede usar **image.reduce()**. La reduccion de una imagen funciona de manera analoga a **imageCollection.reduce()**, excepto que las bandas de la imagen se ingresan al reductor en lugar de las imagenes de la coleccion. La salida tambien es una imagen con un numero de bandas igual al numero de salidas del reductor. Por ejemplo:\n"
      ]
    },
    {
      "cell_type": "code",
      "metadata": {
        "id": "Cq0Ziqnb0HW9",
        "colab_type": "code",
        "outputId": "3eb8ee57-9fb4-4ea8-b0f0-8d247b99a5fa",
        "colab": {
          "base_uri": "https://localhost:8080/",
          "height": 858
        }
      },
      "source": [
        "# Cargue una imagen y seleccione algunas bandas de interés.\n",
        "image = ee.Image('LANDSAT/LC08/C01/T1/LC08_044034_20140318')\\\n",
        "          .select(['B4', 'B3', 'B2'])\n",
        "\n",
        "# Reduzca la imagen para obtener una imagen de valor máximo de una banda.\n",
        "maxValue = image.reduce(ee.Reducer.max())\n",
        "\n",
        "# Mostrar el resultado\n",
        "vis_param = {'max': 13000, 'gamma': 1.6}\n",
        "center = [-122.3355, 37.7924]\n",
        "\n",
        "maxValue_tk = maxValue.getMapId(vis_param)\n",
        "mapdisplay(center,{'Landsat 5':maxValue_tk},zoom_start=10)"
      ],
      "execution_count": 0,
      "outputs": [
        {
          "output_type": "execute_result",
          "data": {
            "text/html": [
              "<div style=\"width:100%;\"><div style=\"position:relative;width:100%;height:0;padding-bottom:60%;\"><iframe src=\"data:text/html;charset=utf-8;base64,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\" style=\"position:absolute;width:100%;height:100%;left:0;top:0;border:none !important;\" allowfullscreen webkitallowfullscreen mozallowfullscreen></iframe></div></div>"
            ],
            "text/plain": [
              "<folium.folium.Map at 0x7f4d82b30cf8>"
            ]
          },
          "metadata": {
            "tags": []
          },
          "execution_count": 27
        }
      ]
    },
    {
      "cell_type": "markdown",
      "metadata": {
        "id": "ppGx1atA4fR1",
        "colab_type": "text"
      },
      "source": [
        "### **5) Estadisticas en una ee.Image considerando un dominio espacial - I**\n",
        "\n",
        "Supongamos que es necesario calcular estadisticas sobre una region (o regiones) de un ee.Image. Para obtener estadisticas de los valores de pixeles en una region de imagen, use **image.reduceRegion()**. Esto reduce todos los pixeles de las regiones a una representacion estadistica u otra representacion compacta de los datos de pixeles en la region (por ejemplo, histograma). La region se representa como un **ee.Geometry**, que podria ser un poligono, que contiene muchos pixeles, o podria ser un solo punto, en cuyo caso solo habra un pixel en la region. En cualquier caso, como se ilustra en la figura de abajo, la salida es una estadistica derivada de los pixeles en la region.\n",
        "\n",
        "<center>\n",
        "<img src='https://user-images.githubusercontent.com/16768318/73318368-17e5fa80-4231-11ea-86dd-db5e71715d23.png'>\n",
        "</center>"
      ]
    },
    {
      "cell_type": "code",
      "metadata": {
        "id": "EsOb3bZd4nyw",
        "colab_type": "code",
        "outputId": "7ae264c5-741b-4571-ee07-486d3885242b",
        "colab": {
          "base_uri": "https://localhost:8080/",
          "height": 134
        }
      },
      "source": [
        "from pprint import pprint\n",
        "\n",
        "# Cargar imágenes de entrada: Landsat 7 compuesto de 5 años.\n",
        "image = ee.Image('LANDSAT/LE7_TOA_5YEAR/2008_2012')\n",
        "\n",
        "# Cargar una region de entrada: bosque de coniferas mixtas de Sierra Nevada.\n",
        "region = ee.Feature(ee.FeatureCollection('EPA/Ecoregions/2013/L3')\n",
        "  .filter(ee.Filter.eq('us_l3name', 'Sierra Nevada'))\\\n",
        "  .first())\n",
        "\n",
        "# Reducir la region. El parametro de la region es Geometria de entidades.\n",
        "meanDictionary = image.reduceRegion(\n",
        "  reducer = ee.Reducer.mean(),\n",
        "  geometry = region.geometry(),\n",
        "  scale = 30,\n",
        "  maxPixels = 10**9\n",
        ")\n",
        "\n",
        "# El resultado es un diccionario. Imprimelo.\n",
        "pprint(meanDictionary.getInfo())"
      ],
      "execution_count": 0,
      "outputs": [
        {
          "output_type": "stream",
          "text": [
            "{'B1': 25.40602971681686,\n",
            " 'B2': 23.97149701423899,\n",
            " 'B3': 22.91059593763104,\n",
            " 'B4': 54.831641332934055,\n",
            " 'B5': 38.076554725736784,\n",
            " 'B6_VCID_2': 198.93216428012914,\n",
            " 'B7': 24.06326163496157}\n"
          ],
          "name": "stdout"
        }
      ]
    },
    {
      "cell_type": "markdown",
      "metadata": {
        "id": "I1xlmrZRqqqv",
        "colab_type": "text"
      },
      "source": [
        "Tenga en cuenta que en este ejemplo la reduccion se especifica al proporcionar el reductor (`ee.Reducer.mean()`), la geometría (`region.geometry()`), la escala (30 metros) y **maxPixels** para la cantidad maxima de pixeles para ingresar al reductor. Siempre se debe especificar una escala en las llamadas a `reduceRegion()`. Esto se debe a que en los flujos de procesamiento se puede involucrar datos de diferentes fuentes con diferentes escalas, la escala de la salida no se determinara inequivocamente a partir de los datos de entrada. En ese caso, **la escala por defecto es de 1 grado**, lo que generalmente produce resultados insatisfactorios. Consulte esta pagina para obtener mas informacion sobre como Earth Engine maneja la [escala](https://developers.google.com/earth-engine/scale)."
      ]
    },
    {
      "cell_type": "markdown",
      "metadata": {
        "id": "qXmbT1U3jFSk",
        "colab_type": "text"
      },
      "source": [
        "### **6) Estadisticas en una ee.Image considerando un dominio espacial - II**"
      ]
    },
    {
      "cell_type": "markdown",
      "metadata": {
        "id": "jYmuzgYDrrDm",
        "colab_type": "text"
      },
      "source": [
        "Para obtener estadisticas de imagenes en multiples regiones almacenadas en una `FeatureCollection`, puede usar **image.reduceRegions()** para reducir multiples regiones a la vez. La entrada para ***.reduceRegions()** es una imagen y una función `FeatureCollection`. La salida es otra `FeatureCollection` con la salida de ***.reduceRegions()** establecida como propiedades en cada `Feature`. En este ejemplo, los compuestos anuales de Landsat 7 en cada geometria de entidad se agregaran como propiedades a las entidades (features) de entrada:"
      ]
    },
    {
      "cell_type": "code",
      "metadata": {
        "id": "JNylqoJujIEg",
        "colab_type": "code",
        "colab": {}
      },
      "source": [
        "# Cargar imágenes de entrada: Landsat 7 compuesto de 5 años.\n",
        "image = ee.Image('LANDSAT/LE7_TOA_5YEAR/2008_2012')\n",
        "\n",
        "# Cargar un FeatureCollection\n",
        "maineCounties = ee.FeatureCollection('TIGER/2016/Counties')\\\n",
        "                  .filter(ee.Filter.eq('STATEFP', '23'))\n",
        "\n",
        "# Agregue la salida del reductor al FeatureCollection especificado.\n",
        "maineMeansFeatures = image.reduceRegions(\n",
        "  reducer = ee.Reducer.mean(),\n",
        "  collection = maineCounties,\n",
        "  scale = 30\n",
        ")\n",
        "\n",
        "# Imprima el primer feature, para ilustrar el resultado.\n",
        "feature_first = ee.Feature(maineMeansFeatures.first())\n",
        "pprint(feature_first.toDictionary().getInfo())\n",
        "pprint(maineCounties.first().toDictionary().getInfo())"
      ],
      "execution_count": 0,
      "outputs": []
    },
    {
      "cell_type": "markdown",
      "metadata": {
        "id": "WP10Bp2-JqZR",
        "colab_type": "text"
      },
      "source": [
        "#### **7) Reduccion de las propiedades de un ee.FeatureCollection o ee.ImagenCollection**"
      ]
    },
    {
      "cell_type": "code",
      "metadata": {
        "id": "rxy8lSEYKDYT",
        "colab_type": "code",
        "outputId": "16231f83-c74c-4617-8957-c06e918b33e0",
        "colab": {
          "base_uri": "https://localhost:8080/",
          "height": 34
        }
      },
      "source": [
        "from pprint import pprint \n",
        "\n",
        "# Cree un FeatureCollection de ejemplo.\n",
        "aFeatureCollection = ee.FeatureCollection([\n",
        "  ee.Feature(None, {'foo': 1, 'weight': 1}),\n",
        "  ee.Feature(None, {'foo': 2, 'weight': 2}),\n",
        "  ee.Feature(None, {'foo': 3, 'weight': 3}),\n",
        "])\n",
        "\n",
        "# Calcule una media ponderada y muestrela.\n",
        "pprint(aFeatureCollection.reduceColumns(\n",
        "  reducer = ee.Reducer.mean(),\n",
        "  selectors = ['foo'],\n",
        "  weightSelectors = ['weight']\n",
        "  ).getInfo())"
      ],
      "execution_count": 0,
      "outputs": [
        {
          "output_type": "stream",
          "text": [
            "{'mean': 2.3333333333333335}\n"
          ],
          "name": "stdout"
        }
      ]
    },
    {
      "cell_type": "markdown",
      "metadata": {
        "id": "zgkiKTogZI8q",
        "colab_type": "text"
      },
      "source": [
        "### **¿Dudas con este Jupyer-Notebook?**\n",
        "\n",
        "Estaremos felices de ayudarte!. Create una cuenta Github si es que no la tienes, luego detalla tu problema ampliamente en: https://github.com/csaybar/EarthEngineMasterGIS/issues\n",
        "\n",
        "**Tienes que dar clic en el boton verde!**\n",
        "\n",
        "<center>\n",
        "<img src=\"https://user-images.githubusercontent.com/16768318/79680748-d5511000-81d8-11ea-9f89-44bd010adf69.png\" width = 70%>\n",
        "</center>"
      ]
    }
  ]
}