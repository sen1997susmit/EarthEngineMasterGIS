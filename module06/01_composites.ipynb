{
  "nbformat": 4,
  "nbformat_minor": 0,
  "metadata": {
    "colab": {
      "name": "01_composites.ipynb",
      "provenance": [],
      "collapsed_sections": [],
      "toc_visible": true,
      "include_colab_link": true
    },
    "kernelspec": {
      "name": "python3",
      "display_name": "Python 3"
    }
  },
  "cells": [
    {
      "cell_type": "markdown",
      "metadata": {
        "id": "view-in-github",
        "colab_type": "text"
      },
      "source": [
        "<a href=\"https://colab.research.google.com/github/csaybar/EarthEngineMasterGIS/blob/master/module06/01_composites.ipynb\" target=\"_parent\"><img src=\"https://colab.research.google.com/assets/colab-badge.svg\" alt=\"Open In Colab\"/></a>"
      ]
    },
    {
      "cell_type": "markdown",
      "metadata": {
        "id": "5Uf067cMfYj3",
        "colab_type": "text"
      },
      "source": [
        "<!--COURSE_INFORMATION-->\n",
        "<img align=\"left\" style=\"padding-right:10px;\" src=\"https://user-images.githubusercontent.com/16768318/73986808-75b3ca00-4936-11ea-90f1-3a6c352766ce.png\" width=10% >\n",
        "<img align=\"right\" style=\"padding-left:10px;\" src=\"https://user-images.githubusercontent.com/16768318/73986811-764c6080-4936-11ea-9653-a3eacc47caed.png\" width=10% >\n",
        "\n",
        "**Bienvenidos!** Este *colab notebook* es parte del curso [**Introduccion a Google Earth Engine con Python**](https://github.com/csaybar/EarthEngineMasterGIS) desarrollado por el equipo [**MasterGIS**](https://www.mastergis.com/). Obten mas informacion del curso en este [**enlace**](https://www.mastergis.com/product/google-earth-engine/). El contenido del curso esta disponible en [**GitHub**](https://github.com/csaybar/EarthEngineMasterGIS) bajo licencia [**MIT**](https://opensource.org/licenses/MIT)."
      ]
    },
    {
      "cell_type": "markdown",
      "metadata": {
        "id": "bfc3m1gZvKpX",
        "colab_type": "text"
      },
      "source": [
        "## **MASTERGIS: Composicion y mosaicos**\n",
        "\n",
        "En esta lectura, aprenderemos sobre:\n",
        "\n",
        "- Como realizar mosaicos espaciales.\n",
        "- Como realizar un mosaico considerando imagenes Landsat 8 y Landsat 7.\n",
        "\n",
        "<img src=\"https://user-images.githubusercontent.com/16768318/73668658-120f6f80-469e-11ea-9c31-84ef520817f2.jpg\" align=\"right\" width = 60%/>"
      ]
    },
    {
      "cell_type": "code",
      "metadata": {
        "id": "GrDx4Z5RvTzg",
        "colab_type": "code",
        "cellView": "both",
        "colab": {}
      },
      "source": [
        "#@title Credenciales Google Earth Engine\n",
        "import os \n",
        "credential = '{\"refresh_token\":\"PON_AQUI_TU_TOKEN\"}'\n",
        "credential_file_path = os.path.expanduser(\"~/.config/earthengine/\")\n",
        "os.makedirs(credential_file_path,exist_ok=True)\n",
        "with open(credential_file_path + 'credentials', 'w') as file:\n",
        "    file.write(credential)"
      ],
      "execution_count": 0,
      "outputs": []
    },
    {
      "cell_type": "code",
      "metadata": {
        "id": "92VRkLJ2vWWE",
        "colab_type": "code",
        "colab": {}
      },
      "source": [
        "import ee\n",
        "ee.Initialize()"
      ],
      "execution_count": 0,
      "outputs": []
    },
    {
      "cell_type": "code",
      "metadata": {
        "id": "hH5N4i30vbvr",
        "colab_type": "code",
        "cellView": "form",
        "colab": {}
      },
      "source": [
        "#@title mapdisplay: Crea mapas interactivos usando folium\n",
        "import folium\n",
        "def mapdisplay(center, dicc, Tiles=\"OpensTreetMap\",zoom_start=10):\n",
        "    '''\n",
        "    :param center: Center of the map (Latitude and Longitude).\n",
        "    :param dicc: Earth Engine Geometries or Tiles dictionary\n",
        "    :param Tiles: Mapbox Bright,Mapbox Control Room,Stamen Terrain,Stamen Toner,stamenwatercolor,cartodbpositron.\n",
        "    :zoom_start: Initial zoom level for the map.\n",
        "    :return: A folium.Map object.\n",
        "    '''\n",
        "    center = center[::-1]\n",
        "    mapViz = folium.Map(location=center,tiles=Tiles, zoom_start=zoom_start)\n",
        "    for k,v in dicc.items():\n",
        "      if ee.image.Image in [type(x) for x in v.values()]:\n",
        "        folium.TileLayer(\n",
        "            tiles = v[\"tile_fetcher\"].url_format,\n",
        "            attr  = 'Google Earth Engine',\n",
        "            overlay =True,\n",
        "            name  = k\n",
        "          ).add_to(mapViz)\n",
        "      else:\n",
        "        folium.GeoJson(\n",
        "        data = v,\n",
        "        name = k\n",
        "          ).add_to(mapViz)\n",
        "    mapViz.add_child(folium.LayerControl())\n",
        "    return mapViz"
      ],
      "execution_count": 0,
      "outputs": []
    },
    {
      "cell_type": "markdown",
      "metadata": {
        "id": "bHdKfpEj9WN2",
        "colab_type": "text"
      },
      "source": [
        "En general, la **composicion** se refiere al proceso de combinar imagenes superpuestas espacialmente en una sola imagen basada en una funcion de agregacion. El **mosaico** se refiere al proceso de ensamblar conjuntos de datos de imagenes **espacialmente** para producir una imagen espacialmente continua. En Earth Engine, estos terminos se usan indistintamente, aunque se admiten tanto la composicion como el mosaico. Por ejemplo, considere la tarea de **componer varias imagenes en la misma ubicacion**. El siguiente ejemplo demuestra como hacer un compuesto cuya funcion de agregacion es tomar el maximo valor:"
      ]
    },
    {
      "cell_type": "code",
      "metadata": {
        "id": "s-S-W1hCvLCr",
        "colab_type": "code",
        "colab": {}
      },
      "source": [
        "# Cargue los datos NAIP\n",
        "naip2004_2012 = ee.ImageCollection('USDA/NAIP/DOQQ')\\\n",
        "                  .filterBounds(ee.Geometry.Point(-71.08841, 42.39823))\\\n",
        "                  .filterDate('2004-07-01', '2012-12-31')\\\n",
        "                  .select(['R', 'G', 'B'])\n",
        "\n",
        "# Realize un \"composite\" temporal de las imagenes con una funcion de valor maximo.\n",
        "composite = naip2004_2012.max()\n",
        "center = [-71.12532, 42.3712]\n",
        "mapdisplay(center, {'max value composite':composite.getMapId()},zoom_start=12)"
      ],
      "execution_count": 0,
      "outputs": []
    },
    {
      "cell_type": "markdown",
      "metadata": {
        "id": "kiv2Qnng_P1G",
        "colab_type": "text"
      },
      "source": [
        "Considere la necesidad de mosaico para cuatro diferentes escenas realizadas al mismo tiempo, pero en diferentes ubicaciones. El siguiente ejemplo demuestra que usando el metodo `imageCollection.mosaic()` puede solucionarlo:"
      ]
    },
    {
      "cell_type": "code",
      "metadata": {
        "id": "2AzKz0QkBT3W",
        "colab_type": "code",
        "colab": {}
      },
      "source": [
        "roi = ee.Geometry.Rectangle(-71.17965, 42.35125, -71.08824, 42.40584)\n",
        "mapdisplay(center,{'roi':roi.getInfo(), 'composite_01':composite.getMapId()}, zoom_start=12)"
      ],
      "execution_count": 0,
      "outputs": []
    },
    {
      "cell_type": "code",
      "metadata": {
        "id": "PhWkW2m0BCJu",
        "colab_type": "code",
        "colab": {}
      },
      "source": [
        "# Cargue los datos NAIP\n",
        "naip2012 = ee.ImageCollection('USDA/NAIP/DOQQ')\\\n",
        "             .filterBounds(roi)\\\n",
        "             .filterDate('2012-01-01', '2012-12-31')\n",
        "\n",
        "# Creamos un mosaico espacial y displayamos\n",
        "mosaic = naip2012.mosaic()\n",
        "center = [-71.12532, 42.3712]\n",
        "mapdisplay(center,{'roi':roi.getInfo(), 'spatial mosaic':mosaic.getMapId()},zoom_start=12)"
      ],
      "execution_count": 0,
      "outputs": []
    },
    {
      "cell_type": "markdown",
      "metadata": {
        "id": "jqQYfxW7DtW5",
        "colab_type": "text"
      },
      "source": [
        "### **Ejercicio:**\n",
        "**Crear un composite del año 2018, en la selva de Peru, considerando los datos de las imagenes Landsat. Automatizar el proceso mediante una funcion.**"
      ]
    },
    {
      "cell_type": "code",
      "metadata": {
        "id": "wz7-pscsKC0z",
        "colab_type": "code",
        "colab": {}
      },
      "source": [
        "#  Parametros globales\n",
        "range_date = ['2018-01-01', '2018-12-31']\n",
        "center = [-72.628,-10.609]\n",
        "roi = ee.Geometry.Point(center)\n",
        "l7_viz_params = {'bands':['B5','B4','B3'],'min':0,'max': 4000, 'gamma':1.2}\n",
        "l8_viz_params = {'bands':['B6','B5','B4'],'min':0,'max': 4000, 'gamma':1.2}\n",
        "l78_viz_params = {'bands':['SWIR','NIR','RED'],'min':0,'max': 4000, 'gamma':1.2}"
      ],
      "execution_count": 0,
      "outputs": []
    },
    {
      "cell_type": "markdown",
      "metadata": {
        "id": "F3rowIXQyZs4",
        "colab_type": "text"
      },
      "source": [
        "Funcion para obtener el tiempo de cada imagen"
      ]
    },
    {
      "cell_type": "code",
      "metadata": {
        "id": "cfJUvCtxKl8m",
        "colab_type": "code",
        "colab": {}
      },
      "source": [
        "from datetime import datetime as dt\n",
        "def get_dates(ic):\n",
        "  dates = ic.aggregate_array('system:time_start').getInfo()\n",
        "  anonym = lambda x: dt.utcfromtimestamp(x/1000).strftime('%Y-%m-%d %H:%M:%S')\n",
        "  return list(map(anonym, dates))"
      ],
      "execution_count": 0,
      "outputs": []
    },
    {
      "cell_type": "markdown",
      "metadata": {
        "id": "7fK_1vuKJ1Rg",
        "colab_type": "text"
      },
      "source": [
        "##### **Landsat 7 - sin mascara**"
      ]
    },
    {
      "cell_type": "code",
      "metadata": {
        "id": "-z2YdhfB5Fbk",
        "colab_type": "code",
        "colab": {}
      },
      "source": [
        "l7 = ee.ImageCollection('LANDSAT/LE07/C01/T1_SR')\\\n",
        "       .filterBounds(roi)\\\n",
        "       .filterDate(range_date[0], range_date[1])\\\n",
        "       .filterMetadata('CLOUD_COVER','less_than',20)"
      ],
      "execution_count": 0,
      "outputs": []
    },
    {
      "cell_type": "code",
      "metadata": {
        "id": "d2Wjnnt_vexS",
        "colab_type": "code",
        "colab": {}
      },
      "source": [
        "# Displaye los resultados\n",
        "to_plot_median = l7.median().getMapId(l7_viz_params)\n",
        "mapdisplay(center,{'median_l7_cloud':to_plot_median})"
      ],
      "execution_count": 0,
      "outputs": []
    },
    {
      "cell_type": "markdown",
      "metadata": {
        "id": "doduTvrsM_s_",
        "colab_type": "text"
      },
      "source": [
        "##### **Landsat 7 - con mascara**"
      ]
    },
    {
      "cell_type": "code",
      "metadata": {
        "id": "jQZsCmYvyo5P",
        "colab_type": "code",
        "colab": {}
      },
      "source": [
        "def l7_maskcloud(image):\n",
        "  qa = image.select('pixel_qa')\n",
        "  my_mask = (1 << 3) + (1 << 5) + (1 << 7)\n",
        "  mask = qa.bitwiseAnd(my_mask).eq(0)\n",
        "  ndvi = image.normalizedDifference(['B4', 'B3']).rename('NDVI')  \n",
        "  return image.select([\"B.*\"]).addBands(ndvi).updateMask(mask).copyProperties(image, [\"system:time_start\"])"
      ],
      "execution_count": 0,
      "outputs": []
    },
    {
      "cell_type": "code",
      "metadata": {
        "id": "AYUSiGBRy9Zt",
        "colab_type": "code",
        "colab": {}
      },
      "source": [
        "l7_nocloud = l7.map(l7_maskcloud)\n",
        "l7_nocloud_nvdi = l7_nocloud.qualityMosaic('NDVI')\n",
        "l7_nocloud_getmapid = l7_nocloud_nvdi.getMapId(l7_viz_params)\n",
        "mapdisplay(center,{'ndvi_l7_nocloud':l7_nocloud_getmapid,\n",
        "                   'median_l7_cloud':to_plot_median})"
      ],
      "execution_count": 0,
      "outputs": []
    },
    {
      "cell_type": "markdown",
      "metadata": {
        "id": "K_A_mnLZSc9_",
        "colab_type": "text"
      },
      "source": [
        "##### **Landsat 8 - sin mascara**"
      ]
    },
    {
      "cell_type": "code",
      "metadata": {
        "id": "Ow6xcEmG3TbH",
        "colab_type": "code",
        "colab": {}
      },
      "source": [
        "l8 = ee.ImageCollection(\"LANDSAT/LC08/C01/T1_SR\")\\\n",
        "       .filterBounds(roi)\\\n",
        "       .filterDate(range_date[0], range_date[1])\\\n",
        "       .filterMetadata('CLOUD_COVER','less_than',20)"
      ],
      "execution_count": 0,
      "outputs": []
    },
    {
      "cell_type": "code",
      "metadata": {
        "id": "Pf7R78U8UzqQ",
        "colab_type": "code",
        "colab": {}
      },
      "source": [
        "# Displaye los resultados\n",
        "l8_to_plot_median = l8.median().getMapId(l8_viz_params)\n",
        "mapdisplay(center,{'median_l8_cloud':l8_to_plot_median})"
      ],
      "execution_count": 0,
      "outputs": []
    },
    {
      "cell_type": "markdown",
      "metadata": {
        "id": "lgYwqqwAV76J",
        "colab_type": "text"
      },
      "source": [
        "##### **Landsat 8 - con mascara**"
      ]
    },
    {
      "cell_type": "code",
      "metadata": {
        "id": "K36w0xXiV87Z",
        "colab_type": "code",
        "colab": {}
      },
      "source": [
        "def l8_maskcloud(image):\n",
        "  qa = image.select('pixel_qa')\n",
        "  my_mask = (1 << 3) + (1 << 5) + (1 << 7) + (1 << 9) + (1 << 10)\n",
        "  mask = qa.bitwiseAnd(my_mask).eq(0)\n",
        "  ndvi = image.normalizedDifference(['B4', 'B3']).rename('NDVI')  \n",
        "  return image.select([\"B.*\"]).addBands(ndvi).updateMask(mask).copyProperties(image, [\"system:time_start\"])"
      ],
      "execution_count": 0,
      "outputs": []
    },
    {
      "cell_type": "code",
      "metadata": {
        "id": "aCYCBZprWg-t",
        "colab_type": "code",
        "colab": {}
      },
      "source": [
        "l8_nocloud = l8.map(l8_maskcloud)\n",
        "l8_nocloud_nvdi = l8_nocloud.qualityMosaic('NDVI')\n",
        "l8_nocloud_getmapid = l8_nocloud_nvdi.getMapId(l8_viz_params)\n",
        "mapdisplay(center,{'ndvi_l8_nocloud':l8_nocloud_getmapid,\n",
        "                   'median_l8_cloud':l8_to_plot_median})"
      ],
      "execution_count": 0,
      "outputs": []
    },
    {
      "cell_type": "markdown",
      "metadata": {
        "id": "wB6szwF-XXl7",
        "colab_type": "text"
      },
      "source": [
        "##### **Landsat 7 y 8 - con mascara**"
      ]
    },
    {
      "cell_type": "code",
      "metadata": {
        "id": "0diV3pDmXbl3",
        "colab_type": "code",
        "colab": {}
      },
      "source": [
        "def select_image_l8(img):\n",
        "  return img.select(['B6','B5','B4','NDVI']).rename('SWIR','NIR','RED','NDVI')\n",
        "def select_image_l7(img):\n",
        "  return img.select(['B5','B4','B3','NDVI']).rename('SWIR','NIR','RED','NDVI')\n",
        "\n",
        "l7_veg = l7_nocloud.map(select_image_l7)\n",
        "l8_veg = l8_nocloud.map(select_image_l8)\n",
        "l78 =l8_veg.merge(l7_veg)"
      ],
      "execution_count": 0,
      "outputs": []
    },
    {
      "cell_type": "code",
      "metadata": {
        "id": "x-wYFi3DYJBT",
        "colab_type": "code",
        "colab": {}
      },
      "source": [
        "l78_nocloud_nvdi = l78.qualityMosaic('NDVI')\n",
        "l78_nocloud_median = l78.median()\n",
        "l78_nocloud_getmapid_ndvi = l78_nocloud_nvdi.getMapId(l78_viz_params)\n",
        "l78_nocloud_getmapid_median = l78_nocloud_median.getMapId(l78_viz_params)\n",
        "mapdisplay(center,{'l78_nocloud_getmapid_ndvi':l78_nocloud_getmapid_ndvi,\n",
        "                   'l78_nocloud_getmapid_median':l78_nocloud_getmapid_median})"
      ],
      "execution_count": 0,
      "outputs": []
    },
    {
      "cell_type": "markdown",
      "metadata": {
        "id": "awgpXjgKy6cF",
        "colab_type": "text"
      },
      "source": [
        "### **Funcion para generar composites a partir de L7 y L8 - vegetacion**"
      ]
    },
    {
      "cell_type": "code",
      "metadata": {
        "id": "KBvHCLMCzCxC",
        "colab_type": "code",
        "colab": {}
      },
      "source": [
        "def composite_l7l8_vegetation(init_date, last_date, roi, cloud_per, calendar, composite = 'median'):\n",
        "  '''\n",
        "  Crear un composite de vegetacion a partir de datos Landsat 8 y Landsat  7\n",
        "\n",
        "  init_date: Fecha de inicio\n",
        "  last_date: Fecha de fin\n",
        "  roi: Ambito de estudio\n",
        "  cloud_per: Porcentaje de nubes\n",
        "  calendar: Lista numerica de dos elementos. Que indica los meses a filtrar.\n",
        "  composite: Funcion utilizada para realizar el composite. Actualmente \n",
        "             disponible: mean, ndvi (max) y none (no composite).\n",
        "  '''\n",
        "  def l7_maskcloud(image):\n",
        "    qa = image.select('pixel_qa')\n",
        "    my_mask = (1 << 3) + (1 << 5) + (1 << 7)\n",
        "    mask = qa.bitwiseAnd(my_mask).eq(0)\n",
        "    ndvi = image.normalizedDifference(['B4', 'B3']).rename('NDVI')  \n",
        "    return image.addBands(ndvi)\\\n",
        "                .select(['B5','B4','B3','NDVI'])\\\n",
        "                .rename('SWIR','NIR','RED','NDVI')\\\n",
        "                .updateMask(mask)\\\n",
        "                .copyProperties(image, [\"system:time_start\"])\n",
        "  def l8_maskcloud(image):\n",
        "    qa = image.select('pixel_qa')\n",
        "    my_mask = (1 << 3) + (1 << 5) + (1 << 7) + (1 << 9) + (1 << 10)\n",
        "    mask = qa.bitwiseAnd(my_mask).eq(0)\n",
        "    ndvi = image.normalizedDifference(['B5', 'B4']).rename('NDVI')  \n",
        "    return image.addBands(ndvi)\\\n",
        "                .select(['B6','B5','B4','NDVI'])\\\n",
        "                .rename('SWIR','NIR','RED','NDVI')\\\n",
        "                .updateMask(mask)\\\n",
        "                .copyProperties(image, [\"system:time_start\"])\n",
        "  l7 = ee.ImageCollection('LANDSAT/LE07/C01/T1_SR')\\\n",
        "        .filterBounds(roi)\\\n",
        "        .filterDate(init_date, last_date)\\\n",
        "        .filterMetadata('CLOUD_COVER','less_than',cloud_per)\\\n",
        "        .filter(ee.Filter.calendarRange(calendar[0], calendar[1],'month'))\\\n",
        "        .map(l7_maskcloud)\n",
        "  l8 = ee.ImageCollection(\"LANDSAT/LC08/C01/T1_SR\")\\\n",
        "        .filterBounds(roi)\\\n",
        "        .filterDate(init_date, last_date)\\\n",
        "        .filterMetadata('CLOUD_COVER','less_than',cloud_per)\\\n",
        "        .filter(ee.Filter.calendarRange(calendar[0], calendar[1],'month'))\\\n",
        "        .map(l8_maskcloud)\n",
        "  l78 =l8.merge(l7)\n",
        "  if composite == 'median':\n",
        "    return l78.median()\n",
        "  elif composite == 'ndvi':\n",
        "    return l78.qualityMosaic('NDVI')\n",
        "  else:\n",
        "    return l78"
      ],
      "execution_count": 0,
      "outputs": []
    },
    {
      "cell_type": "markdown",
      "metadata": {
        "id": "moB5nKly90kA",
        "colab_type": "text"
      },
      "source": [
        "Correr **composite_l7l8_vegetation** para una area determinada"
      ]
    },
    {
      "cell_type": "code",
      "metadata": {
        "id": "EjLI571z8rl_",
        "colab_type": "code",
        "colab": {}
      },
      "source": [
        "# ------------------------------\n",
        "#  PARAMETROS GLOBALES\n",
        "# ------------------------------\n",
        "range_date = ['2019-01-01', '2019-12-31'] #fecha de inicio y fin\n",
        "center = [-72.628,-10.609]\n",
        "roi = ee.Geometry.Point(center) #Area de interes (seleccione el path and row)\n",
        "calendar = [4,11] # Seleccionar imagenes de Abril a Noviembre\n",
        "cloud_per = 20 # Maximo porcentaje de cobertura de nubes a considerar\n",
        "composite = 'median' # Funcion para generar el composite (median, ndvi)"
      ],
      "execution_count": 0,
      "outputs": []
    },
    {
      "cell_type": "code",
      "metadata": {
        "id": "yDFraqsT9phW",
        "colab_type": "code",
        "colab": {}
      },
      "source": [
        "composite = composite_l7l8_vegetation(init_date=range_date[0],\n",
        "                                      last_date=range_date[1],\n",
        "                                      roi=roi,\n",
        "                                      cloud_per=cloud_per,\n",
        "                                      calendar=calendar,\n",
        "                                      composite=composite)"
      ],
      "execution_count": 0,
      "outputs": []
    },
    {
      "cell_type": "code",
      "metadata": {
        "id": "08mU6tAP-_LD",
        "colab_type": "code",
        "colab": {}
      },
      "source": [
        "l78_viz_params = {'bands':['SWIR','NIR','RED'],'min':0,'max': 4000, 'gamma':1.2}\n",
        "mapdisplay(center,{'composite_median':composite.getMapId(l78_viz_params)})"
      ],
      "execution_count": 0,
      "outputs": []
    },
    {
      "cell_type": "markdown",
      "metadata": {
        "id": "0HoK5tSWa8Nq",
        "colab_type": "text"
      },
      "source": [
        "### **¿Dudas con este Jupyer-Notebook?**\n",
        "\n",
        "Estaremos felices de ayudarte!. Create una cuenta Github si es que no la tienes, luego detalla tu problema ampliamente en: https://github.com/csaybar/EarthEngineMasterGIS/issues\n",
        "\n",
        "**Tienes que dar clic en el boton verde!**\n",
        "\n",
        "<center>\n",
        "<img src=\"https://user-images.githubusercontent.com/16768318/79680748-d5511000-81d8-11ea-9f89-44bd010adf69.png\" width = 70%>\n",
        "</center>"
      ]
    }
  ]
}