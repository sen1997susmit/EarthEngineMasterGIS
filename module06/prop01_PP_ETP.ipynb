{
  "nbformat": 4,
  "nbformat_minor": 0,
  "metadata": {
    "colab": {
      "name": "prop01_PP_ETP.ipynb",
      "provenance": [],
      "collapsed_sections": [],
      "include_colab_link": true
    },
    "kernelspec": {
      "name": "python3",
      "display_name": "Python 3"
    }
  },
  "cells": [
    {
      "cell_type": "markdown",
      "metadata": {
        "id": "view-in-github",
        "colab_type": "text"
      },
      "source": [
        "<a href=\"https://colab.research.google.com/github/csaybar/EarthEngineMasterGIS/blob/master/module06/prop01_PP_ETP.ipynb\" target=\"_parent\"><img src=\"https://colab.research.google.com/assets/colab-badge.svg\" alt=\"Open In Colab\"/></a>"
      ]
    },
    {
      "cell_type": "markdown",
      "metadata": {
        "id": "d4OVVnXpvs94",
        "colab_type": "text"
      },
      "source": [
        "<!--COURSE_INFORMATION-->\n",
        "<img align=\"left\" style=\"padding-right:10px;\" src=\"https://user-images.githubusercontent.com/16768318/73986808-75b3ca00-4936-11ea-90f1-3a6c352766ce.png\" width=10% >\n",
        "<img align=\"right\" style=\"padding-left:10px;\" src=\"https://user-images.githubusercontent.com/16768318/73986811-764c6080-4936-11ea-9653-a3eacc47caed.png\" width=10% >\n",
        "\n",
        "**Bienvenidos!** Este *colab notebook* es parte del curso [**Introduccion a Google Earth Engine con Python**](https://github.com/csaybar/EarthEngineMasterGIS) desarrollado por el equipo [**MasterGIS**](https://www.mastergis.com/). Obten mas informacion del curso en este [**enlace**](https://www.mastergis.com/product/google-earth-engine/). El contenido del curso esta disponible en [**GitHub**](https://github.com/csaybar/EarthEngineMasterGIS) bajo licencia [**MIT**](https://opensource.org/licenses/MIT)."
      ]
    },
    {
      "cell_type": "markdown",
      "metadata": {
        "id": "8GQvVDijmF_W",
        "colab_type": "text"
      },
      "source": [
        "### **Ejercicio Propuesto: Estimar la precipitacion y evapotranspiracion areal climatica mensual para todos los distritos del departamento de Amazonas, Peru* (Opcional)**\n",
        "\n",
        "\n",
        "[Respuesta aqui](https://gist.github.com/csaybar/d10c67ada2506842247c9419320d5051)\n",
        "\n",
        "El resultado final debe ser un **SHAPEFILE (o GeoJSON)** que presente una tabla que indique:\n",
        "\n",
        "1) El nombre del departamento, distrito y provincia.\n",
        "\n",
        "2) **12** campos referidos a precipitacion climatica mensual.\n",
        "\n",
        "3) **12** campos referidos a evapotranspiracion climatica mensual.\n",
        "\n",
        "**La tarea se considerara como concluida luego de enviar un print de pantalla con la informacion alfanumerica del shapefile generado al correo indicado en la plataforma: tareas@mastergis.com**\n",
        "\n",
        "La imagen inferior es un ejemplo de lo que se debe adjuntar en el mensaje\n",
        "<center>\n",
        "<img src='https://user-images.githubusercontent.com/16768318/73798741-b6330c80-47ab-11ea-938a-2faee3eb1c89.png' width=100%>\n",
        "\n",
        "</center>\n"
      ]
    },
    {
      "cell_type": "code",
      "metadata": {
        "id": "jo7JQFjIorD2",
        "colab_type": "code",
        "cellView": "both",
        "colab": {}
      },
      "source": [
        "#@title Credenciales Google Earth Engine\n",
        "import os \n",
        "credential = '{\"refresh_token\":\"PON_TU_TOKEN_AQUI\"}'\n",
        "credential_file_path = os.path.expanduser(\"~/.config/earthengine/\")\n",
        "os.makedirs(credential_file_path,exist_ok=True)\n",
        "with open(credential_file_path + 'credentials', 'w') as file:\n",
        "    file.write(credential)"
      ],
      "execution_count": 0,
      "outputs": []
    },
    {
      "cell_type": "code",
      "metadata": {
        "id": "_ngmndh7m7hF",
        "colab_type": "code",
        "colab": {}
      },
      "source": [
        "import ee\n",
        "ee.Initialize()"
      ],
      "execution_count": 0,
      "outputs": []
    },
    {
      "cell_type": "code",
      "metadata": {
        "id": "5bXYfwDum8ki",
        "colab_type": "code",
        "cellView": "form",
        "colab": {}
      },
      "source": [
        "#@title mapdisplay: Crea mapas interactivos usando folium\n",
        "import folium\n",
        "def mapdisplay(center, dicc, Tiles=\"OpensTreetMap\",zoom_start=10):\n",
        "    '''\n",
        "    :param center: Center of the map (Latitude and Longitude).\n",
        "    :param dicc: Earth Engine Geometries or Tiles dictionary\n",
        "    :param Tiles: Mapbox Bright,Mapbox Control Room,Stamen Terrain,Stamen Toner,stamenwatercolor,cartodbpositron.\n",
        "    :zoom_start: Initial zoom level for the map.\n",
        "    :return: A folium.Map object.\n",
        "    '''\n",
        "    center = center[::-1]\n",
        "    mapViz = folium.Map(location=center,tiles=Tiles, zoom_start=zoom_start)\n",
        "    for k,v in dicc.items():\n",
        "      if ee.image.Image in [type(x) for x in v.values()]:\n",
        "        folium.TileLayer(\n",
        "            tiles = v[\"tile_fetcher\"].url_format,\n",
        "            attr  = 'Google Earth Engine',\n",
        "            overlay =True,\n",
        "            name  = k\n",
        "          ).add_to(mapViz)\n",
        "      else:\n",
        "        folium.GeoJson(\n",
        "        data = v,\n",
        "        name = k\n",
        "          ).add_to(mapViz)\n",
        "    mapViz.add_child(folium.LayerControl())\n",
        "    return mapViz"
      ],
      "execution_count": 0,
      "outputs": []
    },
    {
      "cell_type": "markdown",
      "metadata": {
        "id": "m-JWXGEBnAtP",
        "colab_type": "text"
      },
      "source": [
        "### **1. Cargar datos vectoriales**"
      ]
    },
    {
      "cell_type": "code",
      "metadata": {
        "id": "4dJSCqTWnALl",
        "colab_type": "code",
        "colab": {}
      },
      "source": [
        "amazonas = ee.FeatureCollection('users/csaybardemo/amazonas')\n",
        "amazonas_img = amazonas.draw(color = \"000000\", strokeWidth = 3, pointRadius = 3)\n",
        "center = [-78.05,-5.07]\n",
        "mapdisplay(center,{'amazonas':amazonas_img.getMapId()})"
      ],
      "execution_count": 0,
      "outputs": []
    },
    {
      "cell_type": "markdown",
      "metadata": {
        "id": "ezT33CR-pfFP",
        "colab_type": "text"
      },
      "source": [
        "### **2. Cargar datos raster (Imagenes)**"
      ]
    },
    {
      "cell_type": "code",
      "metadata": {
        "id": "rI3x1gfWpZ_o",
        "colab_type": "code",
        "colab": {}
      },
      "source": [
        ""
      ],
      "execution_count": 0,
      "outputs": []
    },
    {
      "cell_type": "markdown",
      "metadata": {
        "id": "TlJjiWu3qgEw",
        "colab_type": "text"
      },
      "source": [
        "### **3. Extraer los valores**\n",
        "Utiliza reduce y map para solucionar este ejercicio!"
      ]
    },
    {
      "cell_type": "code",
      "metadata": {
        "id": "jI9HrLmHqkCs",
        "colab_type": "code",
        "colab": {}
      },
      "source": [
        ""
      ],
      "execution_count": 0,
      "outputs": []
    },
    {
      "cell_type": "markdown",
      "metadata": {
        "id": "Ik-xcnfkqohM",
        "colab_type": "text"
      },
      "source": [
        "### **4. Descargar los resultados (De Google Earth Engine a Google Drive)**\n",
        "**ee.batch.Export.table.toDrive():** Guarda FeatureCollection como shapefile en Google Drive.\n",
        "\n",
        "**ee.batch.Export.image.toDrive():** Guarda Images como GeoTIFF en Google Drive."
      ]
    },
    {
      "cell_type": "code",
      "metadata": {
        "id": "VSQ0MhViqr9V",
        "colab_type": "code",
        "colab": {}
      },
      "source": [
        "# Donde\n",
        "# collection: es el FeatureCollection con la informacion climatica\n",
        "# description: es el nombre que tendra el archivo SHP en Google Drive.\n",
        "# folder: es la carpeta que se creara en Google Drive.\n",
        "# fileFormat: es el formato del archivo de salida ('GeoJSON','KML','KMZ','SHP','CSV','TFRecord')\n",
        "task = ee.batch.Export.table.toDrive(\n",
        "    collection=amazonas,\n",
        "    description='amazon_climatic',\n",
        "    folder='TareaMASTERGIS',\n",
        "    fileFormat='SHP')\n",
        "task.start()"
      ],
      "execution_count": 0,
      "outputs": []
    },
    {
      "cell_type": "code",
      "metadata": {
        "id": "_fJJzqG0sXt4",
        "colab_type": "code",
        "cellView": "form",
        "outputId": "2a8f9610-4be2-4437-e2bf-c24c6c122afa",
        "colab": {
          "base_uri": "https://localhost:8080/",
          "height": 38
        }
      },
      "source": [
        "#@title Mensage Final del curso\n",
        "%%html\n",
        "<marquee style='width: 30%; color: blue;'><b>MUCHAS GRACIAS ESPERO TE HAYAS DIVERTIDO TOMANDO ESTE CURSO :3 ... HASTA UNA PROXIMA OPORTUNIDAD</b></marquee>"
      ],
      "execution_count": 0,
      "outputs": [
        {
          "output_type": "display_data",
          "data": {
            "text/html": [
              "<marquee style='width: 30%; color: blue;'><b>MUCHAS GRACIAS ESPERO TE HAYAS DIVERTIDO TOMANDO ESTE CURSO :3 ... HASTA UNA PROXIMA OPORTUNIDAD</b></marquee>"
            ],
            "text/plain": [
              "<IPython.core.display.HTML object>"
            ]
          },
          "metadata": {
            "tags": []
          }
        }
      ]
    },
    {
      "cell_type": "markdown",
      "metadata": {
        "id": "82KkfvXXqrrl",
        "colab_type": "text"
      },
      "source": [
        "### **¿Dudas con este Jupyer-Notebook?**\n",
        "\n",
        "Estaremos felices de ayudarte!. Create una cuenta Github si es que no la tienes, luego detalla tu problema ampliamente en: https://github.com/csaybar/EarthEngineMasterGIS/issues\n",
        "\n",
        "**Tienes que dar clic en el boton verde!**\n",
        "\n",
        "<center>\n",
        "<img src=\"https://user-images.githubusercontent.com/16768318/79680748-d5511000-81d8-11ea-9f89-44bd010adf69.png\" width = 70%>\n",
        "</center>"
      ]
    }
  ]
}