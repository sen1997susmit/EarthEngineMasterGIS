{
  "nbformat": 4,
  "nbformat_minor": 0,
  "metadata": {
    "colab": {
      "name": "03_class.ipynb",
      "provenance": [],
      "collapsed_sections": [],
      "include_colab_link": true
    },
    "kernelspec": {
      "name": "python3",
      "display_name": "Python 3"
    }
  },
  "cells": [
    {
      "cell_type": "markdown",
      "metadata": {
        "id": "view-in-github",
        "colab_type": "text"
      },
      "source": [
        "<a href=\"https://colab.research.google.com/github/csaybar/EarthEngineMasterGIS/blob/master/module06/03_class.ipynb\" target=\"_parent\"><img src=\"https://colab.research.google.com/assets/colab-badge.svg\" alt=\"Open In Colab\"/></a>"
      ]
    },
    {
      "cell_type": "markdown",
      "metadata": {
        "id": "0Zmfz0cvhu6C",
        "colab_type": "text"
      },
      "source": [
        "<!--COURSE_INFORMATION-->\n",
        "<img align=\"left\" style=\"padding-right:10px;\" src=\"https://user-images.githubusercontent.com/16768318/73986808-75b3ca00-4936-11ea-90f1-3a6c352766ce.png\" width=10% >\n",
        "<img align=\"right\" style=\"padding-left:10px;\" src=\"https://user-images.githubusercontent.com/16768318/73986811-764c6080-4936-11ea-9653-a3eacc47caed.png\" width=10% >\n",
        "\n",
        "**Bienvenidos!** Este *colab notebook* es parte del curso [**Introduccion a Google Earth Engine con Python**](https://github.com/csaybar/EarthEngineMasterGIS) desarrollado por el equipo [**MasterGIS**](https://www.mastergis.com/). Obten mas informacion del curso en este [**enlace**](https://www.mastergis.com/product/google-earth-engine/). El contenido del curso esta disponible en [**GitHub**](https://github.com/csaybar/EarthEngineMasterGIS) bajo licencia [**MIT**](https://opensource.org/licenses/MIT)."
      ]
    },
    {
      "cell_type": "markdown",
      "metadata": {
        "id": "zj30q4zj0Yn5",
        "colab_type": "text"
      },
      "source": [
        "## **MASTERGIS: Clasificacion de Imagenes Satelitales**\n",
        "\n",
        "En esta lectura, aprenderemos sobre:\n",
        "\n",
        "- **Clasificacion supervisada**.\n",
        "- **Clasificacion no supervisada**.\n",
        "<center>\n",
        "<img src='https://user-images.githubusercontent.com/16768318/73627817-0a23e100-4646-11ea-83f4-07293b85c4d9.png' width = 50% align=\"right\">\n",
        " \n",
        "<img src='https://user-images.githubusercontent.com/16768318/73627849-2aec3680-4646-11ea-9dd3-b52b13652833.gif' width = 30% align=\"left\">\n",
        "</center>"
      ]
    },
    {
      "cell_type": "code",
      "metadata": {
        "id": "TAxCIYC8zpeP",
        "colab_type": "code",
        "cellView": "both",
        "colab": {}
      },
      "source": [
        "#@title Credenciales Google Earth Engine\n",
        "import os \n",
        "credential = '{\"refresh_token\":\"PON_AQUI_TU_TOKEN\"}'\n",
        "credential_file_path = os.path.expanduser(\"~/.config/earthengine/\")\n",
        "os.makedirs(credential_file_path,exist_ok=True)\n",
        "with open(credential_file_path + 'credentials', 'w') as file:\n",
        "    file.write(credential)"
      ],
      "execution_count": 0,
      "outputs": []
    },
    {
      "cell_type": "code",
      "metadata": {
        "id": "UBIvjC2Q0mH0",
        "colab_type": "code",
        "colab": {}
      },
      "source": [
        "import ee\n",
        "ee.Initialize()"
      ],
      "execution_count": 0,
      "outputs": []
    },
    {
      "cell_type": "code",
      "metadata": {
        "id": "2MNiULAI0pbs",
        "colab_type": "code",
        "cellView": "form",
        "colab": {}
      },
      "source": [
        "#@title mapdisplay: Crea mapas interactivos usando folium\n",
        "import folium\n",
        "def mapdisplay(center, dicc, Tiles=\"OpensTreetMap\",zoom_start=10):\n",
        "    '''\n",
        "    :param center: Center of the map (Latitude and Longitude).\n",
        "    :param dicc: Earth Engine Geometries or Tiles dictionary\n",
        "    :param Tiles: Mapbox Bright,Mapbox Control Room,Stamen Terrain,Stamen Toner,stamenwatercolor,cartodbpositron.\n",
        "    :zoom_start: Initial zoom level for the map.\n",
        "    :return: A folium.Map object.\n",
        "    '''\n",
        "    center = center[::-1]\n",
        "    mapViz = folium.Map(location=center,tiles=Tiles, zoom_start=zoom_start)\n",
        "    for k,v in dicc.items():\n",
        "      if ee.image.Image in [type(x) for x in v.values()]:\n",
        "        folium.TileLayer(\n",
        "            tiles = v[\"tile_fetcher\"].url_format,\n",
        "            attr  = 'Google Earth Engine',\n",
        "            overlay =True,\n",
        "            name  = k\n",
        "          ).add_to(mapViz)\n",
        "      else:\n",
        "        folium.GeoJson(\n",
        "        data = v,\n",
        "        name = k\n",
        "          ).add_to(mapViz)\n",
        "    mapViz.add_child(folium.LayerControl())\n",
        "    return mapViz"
      ],
      "execution_count": 0,
      "outputs": []
    },
    {
      "cell_type": "markdown",
      "metadata": {
        "id": "xtn-Dl0p0-Kw",
        "colab_type": "text"
      },
      "source": [
        "### **1. Clasificación supervisada**\n",
        "El modulo **ee.Classifier** maneja la clasificacion supervisada en Earth Engine. El flujo de trabajo general para la clasificacion es:\n",
        "\n",
        "1. Recopilar datos de entrenamiento. Reuna puntos que tienen como propiedad el **\"target\"** y las variables predictoras.\n",
        "\n",
        "2. Instanciar un clasificador. Establezca sus parametros si es necesario.\n",
        "\n",
        "3. Entrene al clasificador utilizando los datos de entrenamiento.\n",
        "\n",
        "4. Clasificar una imagen o FeatureCollection.\n",
        "\n",
        "5. Estime el error de clasificacion con datos de validacion independientes.\n",
        "\n",
        "\n",
        "Los datos de entrenamiento siempre deben definirse como un **ee.FeatureCollection** con una propiedad que almacene el target y propiedades que almacenen las variables predictoras. El **target** debe ser enteros pequeños, consecutivos y no negativos que representen clases. Si es necesario, utilice **remap()** para convertir los valores de clase en enteros consecutivos a partir de 0. Los predictores deben ser numericos.\n",
        "\n",
        "Obtenga un clasificador de uno de los constructores en **ee.Classifier**. Entrene al clasificador usando **classifier.train()**. Clasifique una imagen o FeatureCollection usando **classify()**. El siguiente ejemplo utiliza un clasificador de arboles de clasificacion y regresion (CART) (Breiman et al. 1984) para predecir areas forestales y no forestales en la Amazonia:"
      ]
    },
    {
      "cell_type": "code",
      "metadata": {
        "id": "VOqAc3yY-MO3",
        "colab_type": "code",
        "colab": {}
      },
      "source": [
        "# Cargar puntos de entrenamiento. La propiedad numerica 'clase' almacena etiquetas conocidas\n",
        "points = ee.FeatureCollection('GOOGLE/EE/DEMOS/demo_landcover_labels')\n",
        "\n",
        "# Las imagenes de entrada son un compuesto Landsat 8 sin nubes.\n",
        "l8 = ee.ImageCollection('LANDSAT/LC08/C01/T1')\\\n",
        "       .filterBounds(points)\n",
        "\n",
        "image = ee.Algorithms.Landsat.simpleComposite(\n",
        "  collection = l8.filterDate('2018-01-01', '2018-12-31'),\n",
        "  asFloat =  True\n",
        ")\n",
        "\n",
        "# Use estas bandas para la prediccion.\n",
        "bands = ['B2', 'B3', 'B4', 'B5', 'B6', 'B7', 'B10', 'B11']"
      ],
      "execution_count": 0,
      "outputs": []
    },
    {
      "cell_type": "markdown",
      "metadata": {
        "id": "TBWDYMpuELz9",
        "colab_type": "text"
      },
      "source": [
        "**Visualizemos los datos de entrada**"
      ]
    },
    {
      "cell_type": "code",
      "metadata": {
        "id": "RQ8TSbHYBgw6",
        "colab_type": "code",
        "colab": {}
      },
      "source": [
        "center = points.geometry().centroid().coordinates().getInfo()\n",
        "print(points.first().getInfo())\n",
        "mapdisplay(center,{'train_dataset':points.getInfo(),\n",
        "                   'image':image.getMapId({'bands':['B5','B4','B3'],'gamma':1.4})})"
      ],
      "execution_count": 0,
      "outputs": []
    },
    {
      "cell_type": "markdown",
      "metadata": {
        "id": "8zX69LegUF9Q",
        "colab_type": "text"
      },
      "source": [
        "**Clasificar una imagen landsat 8 usando arboles de decision (CART)**"
      ]
    },
    {
      "cell_type": "code",
      "metadata": {
        "id": "s-V_Df2mEUZ7",
        "colab_type": "code",
        "colab": {}
      },
      "source": [
        "# Esta propiedad de la tabla almacena el target (cobertura del suelo).\n",
        "label = 'landcover'\n",
        "\n",
        "# Superponga los puntos en las imagenes para obtener los datos de entrenamiento.\n",
        "training = image.select(bands).sampleRegions(\n",
        "  collection = points,\n",
        "  properties = [label],\n",
        "  scale = 30)\n",
        "\n",
        "# Entrena un clasificador CART con parámetros predeterminados.\n",
        "trained = ee.Classifier.cart().train(training, label, bands)\n",
        "\n",
        "# Clasifique la imagen con las mismas bandas utilizadas para el entrenamiento.\n",
        "classified = image.select(bands).classify(trained)"
      ],
      "execution_count": 0,
      "outputs": []
    },
    {
      "cell_type": "code",
      "metadata": {
        "id": "PIbuAv_JEhwG",
        "colab_type": "code",
        "colab": {}
      },
      "source": [
        "mapdisplay(center,{'train_dataset':points.getInfo(),\n",
        "                   'image':image.getMapId({'bands':['B5','B4','B3'],'gamma':1.4}),\n",
        "                   'clasificacion':classified.getMapId({'min': 0, 'max': 2, 'palette': ['red', 'green', 'blue']})})"
      ],
      "execution_count": 0,
      "outputs": []
    },
    {
      "cell_type": "code",
      "metadata": {
        "id": "1SQAe3RudyH5",
        "colab_type": "code",
        "outputId": "9e5dccce-43d0-4646-9e73-6286f85e0334",
        "colab": {
          "base_uri": "https://localhost:8080/",
          "height": 51
        }
      },
      "source": [
        "train_accuracy = trained.confusionMatrix()\n",
        "\n",
        "print('Validation error matrix: ', train_accuracy.getInfo())\n",
        "print('Validation overall accuracy: ', train_accuracy.accuracy().getInfo())"
      ],
      "execution_count": 0,
      "outputs": [
        {
          "output_type": "stream",
          "text": [
            "Validation error matrix:  [[32, 0, 0], [0, 32, 0], [0, 0, 34]]\n",
            "Validation overall accuracy:  1\n"
          ],
          "name": "stdout"
        }
      ]
    },
    {
      "cell_type": "markdown",
      "metadata": {
        "id": "9l6mfSW8JRce",
        "colab_type": "text"
      },
      "source": [
        "Este siguiente ejemplo utiliza un clasificador **Random Forest** con 10 arboles ([Breiman 2001](https://rd.springer.com/article/10.1023/A:1010933404324)). Para evaluar la precision de un clasificador, utilizamos una **matriz de confusion**(Stehman 1997). "
      ]
    },
    {
      "cell_type": "code",
      "metadata": {
        "id": "xQ1fSt7wJR7L",
        "colab_type": "code",
        "colab": {}
      },
      "source": [
        "# Las imagenes de entrada son un compuesto Landsat 8 sin nubes.\n",
        "center = [-62.836, -9.2399]\n",
        "l8 = ee.ImageCollection('LANDSAT/LC08/C01/T1')\\\n",
        "       .filterBounds(ee.Geometry.Point(center))\n",
        "\n",
        "image = ee.Algorithms.Landsat.simpleComposite(\n",
        "  collection = l8.filterDate('2018-01-01', '2018-12-31'),\n",
        "  asFloat = True\n",
        ")\n",
        "\n",
        "# Use estas bandas para la prediccion.\n",
        "bands = ['B2', 'B3', 'B4', 'B5', 'B6', 'B7', 'B10', 'B11'];\n",
        "\n",
        "# Poligonos creados manualmente.\n",
        "forest1 = ee.Geometry.Rectangle(-63.0187, -9.3958, -62.9793, -9.3443)\n",
        "forest2 = ee.Geometry.Rectangle(-62.8145, -9.206, -62.7688, -9.1735)\n",
        "nonForest1 = ee.Geometry.Rectangle(-62.8161, -9.5001, -62.7921, -9.4486)\n",
        "nonForest2 = ee.Geometry.Rectangle(-62.6788, -9.044, -62.6459, -8.9986)\n",
        "\n",
        "# Hacer un FeatureCollection de las geometrias hechas a mano.\n",
        "polygons = ee.FeatureCollection([\n",
        "  ee.Feature(nonForest1, {'class': 0}),\n",
        "  ee.Feature(nonForest2, {'class': 0}),\n",
        "  ee.Feature(forest1, {'class': 1}),\n",
        "  ee.Feature(forest2, {'class': 1}),\n",
        "])\n",
        "\n",
        "# Obtenga los valores para todos los pixeles en cada poligono en el entrenamiento.\n",
        "# Obtenga la muestra de los poligonos FeatureCollection.\n",
        "# Mantenga esta lista de propiedades de los poligonos.\n",
        "# Establezca la escala para obtener pixeles Landsat en los poligonos.\n",
        "training = image.sampleRegions(\n",
        "  collection = polygons,  \n",
        "  properties = ['class'],  \n",
        "  scale = 30\n",
        ")\n",
        "\n",
        "# Crear un clasificador RF con parámetros personalizados.\n",
        "classifier = ee.Classifier.randomForest(10)\n",
        "\n",
        "# Entrenar el clasificador\n",
        "trained = classifier.train(training, 'class', bands)\n",
        "\n",
        "# Clasificar la imagen\n",
        "classified = image.classify(trained)"
      ],
      "execution_count": 0,
      "outputs": []
    },
    {
      "cell_type": "code",
      "metadata": {
        "id": "gKW0C6-9WyYs",
        "colab_type": "code",
        "outputId": "b671d034-4a80-4e25-f1b5-690ffbe07dea",
        "colab": {
          "base_uri": "https://localhost:8080/",
          "height": 895
        }
      },
      "source": [
        "mapdisplay(center, {'composite':image.getMapId({'bands': ['B4', 'B3', 'B2'], 'max': 0.5, 'gamma': 2},),\n",
        "                    'deforestation': classified.getMapId({'min': 0, 'max': 1, 'palette': ['red', 'green']}),\n",
        "                    'polygon':polygons.getInfo()})"
      ],
      "execution_count": 0,
      "outputs": [
        {
          "output_type": "execute_result",
          "data": {
            "text/html": [
              "<div style=\"width:100%;\"><div style=\"position:relative;width:100%;height:0;padding-bottom:60%;\"><iframe src=\"data:text/html;charset=utf-8;base64,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\" style=\"position:absolute;width:100%;height:100%;left:0;top:0;border:none !important;\" allowfullscreen webkitallowfullscreen mozallowfullscreen></iframe></div></div>"
            ],
            "text/plain": [
              "<folium.folium.Map at 0x7fde2139cc50>"
            ]
          },
          "metadata": {
            "tags": []
          },
          "execution_count": 12
        }
      ]
    },
    {
      "cell_type": "code",
      "metadata": {
        "id": "PI2HxJRjWtXg",
        "colab_type": "code",
        "colab": {}
      },
      "source": [
        "train_accuracy = training.classify(trained)\n",
        "\n",
        "# Obtenga una matriz de confusión que represente la precisión esperada.\n",
        "trainAccuracy = train_accuracy.errorMatrix('class', 'classification')\n",
        "print('Validation error matrix: ', trainAccuracy.getInfo())\n",
        "print('Validation overall accuracy: ', trainAccuracy.accuracy().getInfo())\n"
      ],
      "execution_count": 0,
      "outputs": []
    },
    {
      "cell_type": "markdown",
      "metadata": {
        "id": "XQ4_nrmJcRan",
        "colab_type": "text"
      },
      "source": [
        "### **2. Clasificacion no supervisada (clustering)**\n",
        "\n",
        "El modulo **ee.Clusterer** maneja la clasificacion no supervisada (o agrupamiento) en Earth Engine. Estos algoritmos se basan actualmente en los algoritmos con el mismo nombre en [Weka](https://www.cs.waikato.ac.nz/ml/weka/).\n",
        "\n",
        "Los clusteres se usan de la misma manera que los **clasificadores** en Earth Engine. El flujo de trabajo general para la agrupacion es el siguiente:\n",
        "\n",
        "1. Ensamblar entidades con propiedades numericas en las que encontrar clusteres.\n",
        "\n",
        "2. Instanciar un clusterer. Establezca sus parametros si es necesario.\n",
        "\n",
        "3. Entrene al clusterer usando los datos de entrenamiento.\n",
        "\n",
        "4. Aplique el clusterer a una colección de imagenes o caracteristicas.\n",
        "\n",
        "5. Ponga nombre a los clusters.\n",
        "\n",
        "Los datos de entrenamiento son un **ee.FeatureCollection** con propiedades que se ingresaran al clusterer. A diferencia de los clasificadores, **no hay un valor de clase de entrada para un ee.Clusterer**. Al igual que los clasificadores, se espera que los datos para el entrenamiento y los pasos de aplicacion tengan el mismo numero de valores. Cuando se aplica un cluster entrenado a una imagen o tabla, asigna una ID de cluster entero a cada pixel o feature."
      ]
    },
    {
      "cell_type": "code",
      "metadata": {
        "id": "xtiEgNX1gYgR",
        "colab_type": "code",
        "colab": {}
      },
      "source": [
        "# Cargue un compuesto Landsat previamente calculado para la entrada.\n",
        "Input = ee.Image('LANDSAT/LE7_TOA_1YEAR/2001')\n",
        "\n",
        "# Defina una region en la que generar una muestra de la entrada.\n",
        "region = ee.Geometry.Rectangle(29.7, 30, 32.5, 31.7)\n",
        "region_img = ee.Image().paint(region, 0, 2)\n",
        "\n",
        "# Mostrar la region de muestra.\n",
        "center = [31.0,31.5]\n",
        "Mapdisplay(center,{'Region':region_img.getMapId()},zoom_start=8)"
      ],
      "execution_count": 0,
      "outputs": []
    },
    {
      "cell_type": "code",
      "metadata": {
        "id": "1wBuz2MggaVd",
        "colab_type": "code",
        "colab": {}
      },
      "source": [
        "# Hacer el conjunto de datos de entrenamiento.\n",
        "training = Input.sample(\n",
        "  region=region,\n",
        "  scale=30,\n",
        "  numPixels=5000\n",
        ")\n",
        "\n",
        "# Instanciar al clusterer y entrenarlo.\n",
        "clusterer = ee.Clusterer.wekaKMeans(15).train(training)\n",
        "\n",
        "# Agrupe la entrada utilizando el agrupador capacitado.\n",
        "result = Input.cluster(clusterer)\n",
        "result_tk = result.randomVisualizer().getMapId()"
      ],
      "execution_count": 0,
      "outputs": []
    },
    {
      "cell_type": "code",
      "metadata": {
        "id": "sGRw_Ordgcrg",
        "colab_type": "code",
        "colab": {}
      },
      "source": [
        "# Mostrar los grupos con colores aleatorios.\n",
        "mapdisplay(center, {'results':result_tk},zoom_start=8)"
      ],
      "execution_count": 0,
      "outputs": []
    },
    {
      "cell_type": "markdown",
      "metadata": {
        "id": "Co9GvXiNpjN1",
        "colab_type": "text"
      },
      "source": [
        "### **¿Dudas con este Jupyer-Notebook?**\n",
        "\n",
        "Estaremos felices de ayudarte!. Create una cuenta Github si es que no la tienes, luego detalla tu problema ampliamente en: https://github.com/csaybar/EarthEngineMasterGIS/issues\n",
        "\n",
        "**Tienes que dar clic en el boton verde!**\n",
        "\n",
        "<center>\n",
        "<img src=\"https://user-images.githubusercontent.com/16768318/79680748-d5511000-81d8-11ea-9f89-44bd010adf69.png\" width = 70%>\n",
        "</center>"
      ]
    }
  ]
}