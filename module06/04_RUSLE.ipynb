{
  "nbformat": 4,
  "nbformat_minor": 0,
  "metadata": {
    "colab": {
      "name": "04_RUSLE.ipynb",
      "provenance": [],
      "collapsed_sections": [],
      "include_colab_link": true
    },
    "kernelspec": {
      "name": "python3",
      "display_name": "Python 3"
    }
  },
  "cells": [
    {
      "cell_type": "markdown",
      "metadata": {
        "id": "view-in-github",
        "colab_type": "text"
      },
      "source": [
        "<a href=\"https://colab.research.google.com/github/csaybar/EarthEngineMasterGIS/blob/master/module06/04_RUSLE.ipynb\" target=\"_parent\"><img src=\"https://colab.research.google.com/assets/colab-badge.svg\" alt=\"Open In Colab\"/></a>"
      ]
    },
    {
      "cell_type": "markdown",
      "metadata": {
        "id": "-Zl2SU5CqJsJ",
        "colab_type": "text"
      },
      "source": [
        "<!--COURSE_INFORMATION-->\n",
        "<img align=\"left\" style=\"padding-right:10px;\" src=\"https://user-images.githubusercontent.com/16768318/73986808-75b3ca00-4936-11ea-90f1-3a6c352766ce.png\" width=10% >\n",
        "<img align=\"right\" style=\"padding-left:10px;\" src=\"https://user-images.githubusercontent.com/16768318/73986811-764c6080-4936-11ea-9653-a3eacc47caed.png\" width=10% >\n",
        "\n",
        "**Bienvenidos!** Este *colab notebook* es parte del curso [**Introduccion a Google Earth Engine con Python**](https://github.com/csaybar/EarthEngineMasterGIS) desarrollado por el equipo [**MasterGIS**](https://www.mastergis.com/). Obten mas informacion del curso en este [**enlace**](https://www.mastergis.com/product/google-earth-engine/). El contenido del curso esta disponible en [**GitHub**](https://github.com/csaybar/EarthEngineMasterGIS) bajo licencia [**MIT**](https://opensource.org/licenses/MIT)."
      ]
    },
    {
      "cell_type": "markdown",
      "metadata": {
        "id": "4HfdNOuz37oi",
        "colab_type": "text"
      },
      "source": [
        "### **Ejercicio N°01: RUSLE a Nivel Mundial**\n",
        "  <img src=\"https://user-images.githubusercontent.com/16768318/73690808-1604b700-46c9-11ea-8bdd-43e0e490a0a3.gif\" align=\"right\" width = 60%/>\n",
        "\n",
        "Genere una funcion para calcular la Ecuacion Universal de Perdida de Suelo (RUSLE) para cualquier parte del mundo. La funcion debe tener los siguientes parametros.**rusle(roi, prefix, folder, scale)**\n",
        "\n",
        "http://cybertesis.unmsm.edu.pe/handle/cybertesis/10078\n"
      ]
    },
    {
      "cell_type": "code",
      "metadata": {
        "id": "tGfUCO7Vgv2Q",
        "colab_type": "code",
        "cellView": "both",
        "colab": {}
      },
      "source": [
        "#@title Credenciales Google Earth Engine\n",
        "import os \n",
        "credential = '{\"refresh_token\":\"PON_AQUI_TU_TOKEN\"}'\n",
        "credential_file_path = os.path.expanduser(\"~/.config/earthengine/\")\n",
        "os.makedirs(credential_file_path,exist_ok=True)\n",
        "with open(credential_file_path + 'credentials', 'w') as file:\n",
        "    file.write(credential)"
      ],
      "execution_count": 0,
      "outputs": []
    },
    {
      "cell_type": "code",
      "metadata": {
        "id": "bQZNW-c74xba",
        "colab_type": "code",
        "colab": {}
      },
      "source": [
        "import ee\n",
        "ee.Initialize()"
      ],
      "execution_count": 0,
      "outputs": []
    },
    {
      "cell_type": "code",
      "metadata": {
        "id": "EiCTu4NB4yAk",
        "colab_type": "code",
        "cellView": "form",
        "colab": {}
      },
      "source": [
        "#@title mapdisplay: Crea mapas interactivos usando folium\n",
        "import folium\n",
        "def mapdisplay(center, dicc, Tiles=\"OpensTreetMap\",zoom_start=10):\n",
        "    '''\n",
        "    :param center: Center of the map (Latitude and Longitude).\n",
        "    :param dicc: Earth Engine Geometries or Tiles dictionary\n",
        "    :param Tiles: Mapbox Bright,Mapbox Control Room,Stamen Terrain,Stamen Toner,stamenwatercolor,cartodbpositron.\n",
        "    :zoom_start: Initial zoom level for the map.\n",
        "    :return: A folium.Map object.\n",
        "    '''\n",
        "    center = center[::-1]\n",
        "    mapViz = folium.Map(location=center,tiles=Tiles, zoom_start=zoom_start)\n",
        "    for k,v in dicc.items():\n",
        "      if ee.image.Image in [type(x) for x in v.values()]:\n",
        "        folium.TileLayer(\n",
        "            tiles = v[\"tile_fetcher\"].url_format,\n",
        "            attr  = 'Google Earth Engine',\n",
        "            overlay =True,\n",
        "            name  = k\n",
        "          ).add_to(mapViz)\n",
        "      else:\n",
        "        folium.GeoJson(\n",
        "        data = v,\n",
        "        name = k\n",
        "          ).add_to(mapViz)\n",
        "    mapViz.add_child(folium.LayerControl())\n",
        "    return mapViz"
      ],
      "execution_count": 0,
      "outputs": []
    },
    {
      "cell_type": "markdown",
      "metadata": {
        "id": "PKlMu7elDd-I",
        "colab_type": "text"
      },
      "source": [
        "### **1) Factor R**\n",
        "\n",
        "El **factor R** es el factor de erosividad de la lluvia. Este factor indica el potencial erosivo de la lluvia que afecta en el proceso de erosion del suelo. Haciendo una analogia, se podria decir que una lluvia fuerte un dia al año puede producir suficiente energia para erosionar el suelo que varias lluvias de mediana intensidad a lo largo de un ano.\n",
        "\n",
        "El factor erosividad (R) es definido como la sumatoria anual de los promedios de los valores individuales del indice de tormenta de erosion (EI30). Donde E es la energia cinetica por unidad de area e I30 es la maxima intensidad en 30 minutos de precipitacion. Esto se puede definir en la siguiente ecuacion: \n",
        "\n",
        "<img src=\"https://user-images.githubusercontent.com/16768318/73694650-67fd0b00-46d0-11ea-87f6-4ed9501cf964.png\"  width = 60%>\n",
        "\n",
        "Por tanto, la energia de la tormenta (EI o R) indica el volumen de lluvia y escurrimiento, pero una larga y suave lluvia puede tener el mismo valor de E que una lluvia de corta y mas alta intensidad. (Mannaerts, 1999). La energia se calcula a partir de la formula de Brown y Foster: \n",
        "\n",
        "<img src=\"https://user-images.githubusercontent.com/16768318/73694782-b3171e00-46d0-11ea-94fe-94f3f57941c5.png\"  width = 40%>\n",
        "\n",
        "A partir de la ecuación anterior, el calculo del factor R es un proceso complejo y requiere datos horarios o diarios de varios anos. Por lo que se han desarrollado diferentes ecuaciones que adaptan la erosividad local mediante una formula que solo requiera una data mensual o anual de precipitacion. A continuacion, se muestran algunas de las formulas adaptadas para una precipitacion media anual. \n",
        "\n",
        "<img src=\"https://user-images.githubusercontent.com/16768318/73694993-228d0d80-46d1-11ea-8bc4-9962963850b7.png\">\n",
        "\n",
        "\n",
        "Si bien es cierto, se usa ampliamente una precipitacion media anual para estimar el **factor R** debido a la escasez de informacion, para este ejemplo se ha optado por  utilizar la formula desarrollada por **(Wischmeier & Smith, 1978)** debido a que se cuenta con una serie historica de informacion de precipitacion mensual. La formula es: \n",
        "\n",
        "\n",
        "<img src=\"https://user-images.githubusercontent.com/16768318/73695488-2b321380-46d2-11ea-8033-0063f27698d8.png\" width = 50%>"
      ]
    },
    {
      "cell_type": "code",
      "metadata": {
        "id": "eImkby9KHNuf",
        "colab_type": "code",
        "colab": {}
      },
      "source": [
        "# Monthly precipitation in mm at 1 km resolution: \n",
        "# https://zenodo.org/record/3256275#.XjibuDJKiM8\n",
        "clim_rainmap = ee.Image(\"OpenLandMap/CLM/CLM_PRECIPITATION_SM2RAIN_M/v01\")\n",
        "year = clim_rainmap.reduce(ee.Reducer.sum())\n",
        "R_monthly = ee.Image(10).pow(ee.Image(1.5).multiply(clim_rainmap.pow(2).divide(year).log10().subtract(-0.08188))).multiply(1.735)\n",
        "factorR = R_monthly.reduce(ee.Reducer.sum())"
      ],
      "execution_count": 0,
      "outputs": []
    },
    {
      "cell_type": "code",
      "metadata": {
        "id": "erho-vrbLtYi",
        "colab_type": "code",
        "colab": {}
      },
      "source": [
        "center_coordinate = [0,0]\n",
        "palette_rain = [\"#450155\", \"#3B528C\", \"#21918D\", \"#5DCA63\",\"#FFE925\"]\n",
        "mapdisplay(center_coordinate, {'Factor_R':factorR.getMapId({'min':0,'max':6000,'palette':palette_rain})},zoom_start=3)"
      ],
      "execution_count": 0,
      "outputs": []
    },
    {
      "cell_type": "markdown",
      "metadata": {
        "id": "TtGuoiN15n0R",
        "colab_type": "text"
      },
      "source": [
        "### **2) Factor K**\n",
        "\n",
        "A diferencia del factor R, el factor K muestra qué tan susceptible es el suelo a la erosion hidrica, esto es determinado por las propiedades fisicas y quimicas del suelo, que dependen de las caracteristicas de estos. Para determinar el factor K, existen una gran cantidad de formulas empiricas, adecuadas para diversos lugares del mundo y donde intervienen caracteristicas del suelo como porcentaje de arena, limo, arcilla; estructura del suelo; contenido de carbono organico o materia orgánica; entre otros.\n",
        "\n",
        "El factor K puede variar en una escala de 0 a 1, donde 0 indica suelos con la menor susceptibilidad a la erosion y 1 indica suelos altamente susceptibles a la erosion hidrica del suelo; cabe mencionar que esta escala fue hecha para el sistema de unidades americanas, y adaptandose al sistema internacional, la escala varia a normalmente entre 0 y 0.07.\n",
        "\n",
        "A continuacion, se muestran algunas ecuaciones para la estimación de este factor:\n",
        "\n",
        "<img src=\"https://user-images.githubusercontent.com/16768318/73704444-039b7500-46eb-11ea-9ccd-b7850bb17911.png\" width = 50%>\n",
        "<img src=\"https://user-images.githubusercontent.com/16768318/73704442-039b7500-46eb-11ea-870c-a557ca50b777.png\" width = 50%>\n",
        "<img src=\"https://user-images.githubusercontent.com/16768318/73704443-039b7500-46eb-11ea-9469-104f04983dfd.png\" width = 50%>\n",
        "\n",
        "\n",
        "Para este ejemplo se ha optado por  utilizar la formula desarrollada por **Williams (1975)**.\n",
        "\n"
      ]
    },
    {
      "cell_type": "code",
      "metadata": {
        "id": "c2f4KFJY5rwQ",
        "colab_type": "code",
        "colab": {}
      },
      "source": [
        "# Cargamos toda la informacion necesaria para estimar el factor K\n",
        "sand = ee.Image(\"OpenLandMap/SOL/SOL_CLAY-WFRACTION_USDA-3A1A1A_M/v02\").select('b0')\n",
        "silt = ee.Image('users/aschwantes/SLTPPT_I').divide(100)\n",
        "clay = ee.Image(\"OpenLandMap/SOL/SOL_SAND-WFRACTION_USDA-3A1A1A_M/v02\").select('b0')\n",
        "morg = ee.Image(\"OpenLandMap/SOL/SOL_ORGANIC-CARBON_USDA-6A1C_M/v02\").select('b0').multiply(0.58)\n",
        "sn1 = sand.expression('1 - b0 / 100', {'b0': sand})\n",
        "orgcar = ee.Image(\"OpenLandMap/SOL/SOL_ORGANIC-CARBON_USDA-6A1C_M/v02\").select('b0')"
      ],
      "execution_count": 0,
      "outputs": []
    },
    {
      "cell_type": "code",
      "metadata": {
        "id": "uRHRfFcO3Q1O",
        "colab_type": "code",
        "colab": {}
      },
      "source": [
        "#Juntando todas las imagenes en una sola\n",
        "soil = ee.Image([sand, silt, clay, morg, sn1, orgcar]).rename(['sand', 'silt', 'clay', 'morg', 'sn1', 'orgcar'] )"
      ],
      "execution_count": 0,
      "outputs": []
    },
    {
      "cell_type": "code",
      "metadata": {
        "id": "lB1wV7ECyKFh",
        "colab_type": "code",
        "colab": {}
      },
      "source": [
        "factorK = soil.expression(\n",
        "  '(0.2 + 0.3 * exp(-0.0256 * SAND * (1 - (SILT / 100)))) * (1 - (0.25 * CLAY / (CLAY + exp(3.72 - 2.95 * CLAY)))) * (1 - (0.7 * SN1 / (SN1 + exp(-5.51 + 22.9 * SN1))))',\n",
        "  {\n",
        "    'SAND': soil.select('sand'),\n",
        "    'SILT': soil.select('silt'),\n",
        "    'CLAY': soil.select('clay'),\n",
        "    'MORG': soil.select('morg'),\n",
        "    'SN1':  soil.select('sn1'),\n",
        "    'CORG': soil.select('orgcar')\n",
        "  });"
      ],
      "execution_count": 0,
      "outputs": []
    },
    {
      "cell_type": "code",
      "metadata": {
        "id": "RzP4Ta2h7c8_",
        "colab_type": "code",
        "colab": {}
      },
      "source": [
        "center_coordinate = [0,0]\n",
        "palette_k = palette = [\n",
        "    'FFFFFF', 'CE7E45', 'DF923D', 'F1B555', 'FCD163', '99B718', '74A901',\n",
        "    '66A000', '529400', '3E8601', '207401', '056201', '004C00', '023B01',\n",
        "    '012E01', '011D01', '011301'\n",
        "  ]\n",
        "viz_param_k = {'min': 0.0, 'max': 0.5, 'palette': palette_k};\n",
        "mapdisplay(center_coordinate, {'Factor_K':factorK.getMapId(viz_param_k)},zoom_start=3)"
      ],
      "execution_count": 0,
      "outputs": []
    },
    {
      "cell_type": "markdown",
      "metadata": {
        "id": "Kknq-v_33f68",
        "colab_type": "text"
      },
      "source": [
        "### **3) Factor LS**\n",
        "\n",
        "El factor LS expresa el efecto de la topografia local sobre la tasa de erosion del suelo, combinando los efectos de la longitud de la pendiente (L) y la inclinación de la pendiente (S). A medida que mayor sea la longitud de la pendiente, mayor sera la cantidad de escorrentia acumulada y de la misma forma, mientras mas pronunciada sea la pendiente de la superficie, mayor sera la velocidad de la escorrentia, que influye directamente en la erosion. Existen diversas metodologias basadas en SIG para calcular estos factores, como se pueden mostrar a continuación: \n",
        "\n",
        "<img src=\"https://user-images.githubusercontent.com/16768318/73706484-7ce99680-46f0-11ea-8e0e-5fbb4a00731d.png\" width = 50%>"
      ]
    },
    {
      "cell_type": "code",
      "metadata": {
        "id": "Gtu7sQ2h9bur",
        "colab_type": "code",
        "colab": {}
      },
      "source": [
        "facc = ee.Image(\"WWF/HydroSHEDS/15ACC\")\n",
        "dem = ee.Image(\"WWF/HydroSHEDS/03CONDEM\")\n",
        "slope = ee.Terrain.slope(dem)\n",
        "\n",
        "ls_factors = ee.Image([facc, slope]).rename(['facc','slope'])"
      ],
      "execution_count": 0,
      "outputs": []
    },
    {
      "cell_type": "code",
      "metadata": {
        "id": "Yv4kdbmZFcHf",
        "colab_type": "code",
        "colab": {}
      },
      "source": [
        "factorLS = ls_factors.expression(\n",
        "  '(FACC*270/22.13)**0.4*(SLOPE/0.0896)**1.3',\n",
        "  {\n",
        "    'FACC': ls_factors.select('facc'),\n",
        "    'SLOPE': ls_factors.select('slope')     \n",
        "  });"
      ],
      "execution_count": 0,
      "outputs": []
    },
    {
      "cell_type": "code",
      "metadata": {
        "id": "2c98Zn_1GaOn",
        "colab_type": "code",
        "colab": {}
      },
      "source": [
        "center_coordinate = [0,0]\n",
        "palette_ls = palette = [\n",
        "    'FFFFFF', 'CE7E45', 'DF923D', 'F1B555', 'FCD163', '99B718', '74A901',\n",
        "    '66A000', '529400', '3E8601', '207401', '056201', '004C00', '023B01',\n",
        "    '012E01', '011D01', '011301'\n",
        "  ]\n",
        "viz_param_k = {'min': 0, 'max': 100, 'palette': palette_ls};\n",
        "mapdisplay(center_coordinate, {'Factor_LS':factorLS.getMapId(viz_param_k)},zoom_start=3)"
      ],
      "execution_count": 0,
      "outputs": []
    },
    {
      "cell_type": "markdown",
      "metadata": {
        "id": "HV4zlFetUH0I",
        "colab_type": "text"
      },
      "source": [
        "### **4) Factor C**\n",
        "\n",
        "El factor C se utiliza para determinar la eficacia relativa de los sistemas de manejo del suelo y de los cultivos en terminos de prevencion o reduccion de la perdida de suelo. Este factor indica como la cobertura vegetal y los cultivos afectaran la perdida media anual de suelos y como se distribuira el potencial de perdida de suelos en el tiempo (Rahaman, 2015).\n",
        "\n",
        "El valor de C depende del tipo de vegetacion, la etapa de crecimiento y el porcentaje de cobertura. Valores mas altos del factor C indican que no hay efecto de cobertura y perdida de suelo, mientras que el menor valor de C significa un efecto de cobertura muy fuerte que no produce erosion.\n",
        "\n"
      ]
    },
    {
      "cell_type": "code",
      "metadata": {
        "id": "ZdTMn78VUj7b",
        "colab_type": "code",
        "colab": {}
      },
      "source": [
        "ndvi_median = ee.ImageCollection(\"MODIS/006/MOD13A2\").median().multiply(0.0001).select('NDVI')"
      ],
      "execution_count": 0,
      "outputs": []
    },
    {
      "cell_type": "code",
      "metadata": {
        "id": "CEgvwdUzVNV0",
        "colab_type": "code",
        "colab": {}
      },
      "source": [
        "geo_ndvi = [\n",
        "    'FFFFFF', 'CE7E45', 'DF923D', 'F1B555', 'FCD163', '99B718', '74A901',\n",
        "    '66A000', '529400', '3E8601', '207401', '056201', '004C00', '023B01',\n",
        "    '012E01', '011D01', '011301'\n",
        "]\n",
        "l8_viz_params = {'palette':geo_ndvi,'min':0,'max': 0.8}\n",
        "mapdisplay([0,0],{'composite_median':ndvi_median.getMapId(l8_viz_params)},zoom_start=3)"
      ],
      "execution_count": 0,
      "outputs": []
    },
    {
      "cell_type": "markdown",
      "metadata": {
        "id": "OcMByLHSYSae",
        "colab_type": "text"
      },
      "source": [
        "Otra forma de hallar este factor C, es haciendo una comparación entre el NDVI a partir de las fórmulas Van de Kniff (1999) [C1] y su adaptacion para paises asiaticos, que tambien se adecuan a la realidad de la costa peruana de Lin (2002) [C2]. Por ultimo se tiene la ecuacion formulada por De Jong(1994) [C3] adaptado a estudios de degradacion de suelos en un entorno mediterraneo.\n",
        "<center>\n",
        "<img src=\"https://user-images.githubusercontent.com/16768318/73713048-e6bf6b80-4703-11ea-80b1-1940e6b55707.png\" width = 50%>\n",
        "</center>"
      ]
    },
    {
      "cell_type": "code",
      "metadata": {
        "id": "bPj-eXMNZLfG",
        "colab_type": "code",
        "colab": {}
      },
      "source": [
        "factorC = ee.Image(0.805).multiply(ndvi_median).multiply(-1).add(0.431)"
      ],
      "execution_count": 0,
      "outputs": []
    },
    {
      "cell_type": "markdown",
      "metadata": {
        "id": "Bp5B172zZJLy",
        "colab_type": "text"
      },
      "source": [
        "### **5) Calculo de la Erosion**\n",
        "\n",
        "**A = R\\*K\\*LS\\*C\\*1**\n",
        "\n",
        "  <img src=\"https://user-images.githubusercontent.com/16768318/73690808-1604b700-46c9-11ea-8bdd-43e0e490a0a3.gif\">"
      ]
    },
    {
      "cell_type": "code",
      "metadata": {
        "id": "YDsavOPYYMWx",
        "colab_type": "code",
        "colab": {}
      },
      "source": [
        "erosion = factorC.multiply(factorR).multiply(factorLS).multiply(factorK)"
      ],
      "execution_count": 0,
      "outputs": []
    },
    {
      "cell_type": "code",
      "metadata": {
        "id": "iWXlpv_bbHRw",
        "colab_type": "code",
        "colab": {}
      },
      "source": [
        "geo_erosion = [\"#00BFBF\", \"#00FF00\", \"#FFFF00\", \"#FF7F00\", \"#BF7F3F\", \"#141414\"]\n",
        "l8_viz_params = {'palette':geo_erosion,'min':0,'max': 6000}\n",
        "mapdisplay([0,0],{'composite_median':erosion.getMapId(l8_viz_params)},zoom_start=3)"
      ],
      "execution_count": 0,
      "outputs": []
    },
    {
      "cell_type": "markdown",
      "metadata": {
        "id": "uDrzlwocdUvp",
        "colab_type": "text"
      },
      "source": [
        "### **Funcion para descargar RUSLE en cualquier parte del mundo**\n",
        "[Respuesta aqui](https://gist.github.com/csaybar/19a9db35f8c8044448d885b68e8c9eb8)"
      ]
    },
    {
      "cell_type": "code",
      "metadata": {
        "id": "TlnkZmAfdXSm",
        "colab_type": "code",
        "colab": {}
      },
      "source": [
        "#Ponga su funcion aqui (cree un snippet!)\n"
      ],
      "execution_count": 0,
      "outputs": []
    },
    {
      "cell_type": "code",
      "metadata": {
        "id": "2-Ol7GrqzPiB",
        "colab_type": "code",
        "colab": {}
      },
      "source": [
        "# Ambito de estudio aqui\n",
        "geometry = ee.Geometry.Polygon([[[-81.9580078125,-5.659718554577273],\n",
        "                                [-74.99267578125,-5.659718554577273],\n",
        "                                [-74.99267578125,2.04302395742204],\n",
        "                                [-81.9580078125,2.04302395742204],\n",
        "                                [-81.9580078125,-5.659718554577273]]])\n",
        "ec_erosion = rusle(geometry,'RUSLE_','RUSLE_MASTERGIS', scale = 100)"
      ],
      "execution_count": 0,
      "outputs": []
    },
    {
      "cell_type": "code",
      "metadata": {
        "id": "xfo5sr0U9aOj",
        "colab_type": "code",
        "colab": {}
      },
      "source": [
        "# Genere una vizualizacion de su ambito de estudio\n",
        "geo_erosion = [\"#00BFBF\", \"#00FF00\", \"#FFFF00\", \"#FF7F00\", \"#BF7F3F\", \"#141414\"]\n",
        "l8_viz_params = {'palette':geo_erosion,'min':0,'max': 6000}\n",
        "center = geometry.centroid().coordinates().getInfo()\n",
        "mapdisplay(center,{'composite_median':ec_erosion.select('A').getMapId(l8_viz_params)},zoom_start=6)"
      ],
      "execution_count": 0,
      "outputs": []
    },
    {
      "cell_type": "markdown",
      "metadata": {
        "id": "v41ueZ40qCYa",
        "colab_type": "text"
      },
      "source": [
        "### **¿Dudas con este Jupyer-Notebook?**\n",
        "\n",
        "Estaremos felices de ayudarte!. Create una cuenta Github si es que no la tienes, luego detalla tu problema ampliamente en: https://github.com/csaybar/EarthEngineMasterGIS/issues\n",
        "\n",
        "**Tienes que dar clic en el boton verde!**\n",
        "\n",
        "<center>\n",
        "<img src=\"https://user-images.githubusercontent.com/16768318/79680748-d5511000-81d8-11ea-9f89-44bd010adf69.png\" width = 70%>\n",
        "</center>"
      ]
    }
  ]
}