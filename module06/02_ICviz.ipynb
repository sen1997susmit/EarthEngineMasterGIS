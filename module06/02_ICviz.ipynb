{
  "nbformat": 4,
  "nbformat_minor": 0,
  "metadata": {
    "colab": {
      "name": "02_ICviz.ipynb",
      "provenance": [],
      "collapsed_sections": [],
      "include_colab_link": true
    },
    "kernelspec": {
      "name": "python3",
      "display_name": "Python 3"
    }
  },
  "cells": [
    {
      "cell_type": "markdown",
      "metadata": {
        "id": "view-in-github",
        "colab_type": "text"
      },
      "source": [
        "<a href=\"https://colab.research.google.com/github/csaybar/EarthEngineMasterGIS/blob/master/module06/02_ICviz.ipynb\" target=\"_parent\"><img src=\"https://colab.research.google.com/assets/colab-badge.svg\" alt=\"Open In Colab\"/></a>"
      ]
    },
    {
      "cell_type": "markdown",
      "metadata": {
        "id": "oivplLpzgkzF",
        "colab_type": "text"
      },
      "source": [
        "<!--COURSE_INFORMATION-->\n",
        "<img align=\"left\" style=\"padding-right:10px;\" src=\"https://user-images.githubusercontent.com/16768318/73986808-75b3ca00-4936-11ea-90f1-3a6c352766ce.png\" width=10% >\n",
        "<img align=\"right\" style=\"padding-left:10px;\" src=\"https://user-images.githubusercontent.com/16768318/73986811-764c6080-4936-11ea-9653-a3eacc47caed.png\" width=10% >\n",
        "\n",
        "**Bienvenidos!** Este *colab notebook* es parte del curso [**Introduccion a Google Earth Engine con Python**](https://github.com/csaybar/EarthEngineMasterGIS) desarrollado por el equipo [**MasterGIS**](https://www.mastergis.com/). Obten mas informacion del curso en este [**enlace**](https://www.mastergis.com/product/google-earth-engine-python/). El contenido del curso esta disponible en [**GitHub**](https://github.com/csaybar/EarthEngineMasterGIS) bajo licencia [**MIT**](https://opensource.org/licenses/MIT)."
      ]
    },
    {
      "cell_type": "markdown",
      "metadata": {
        "id": "Y1nnDvK4czwy",
        "colab_type": "text"
      },
      "source": [
        "## **MASTERGIS: Visualizacion de un ee.ImageCollection**\n",
        "\n",
        "En esta lectura, aprenderemos sobre como realizar vizualizaciones en colecciones de imagenes."
      ]
    },
    {
      "cell_type": "code",
      "metadata": {
        "id": "7wPkdVhCg2iG",
        "colab_type": "code",
        "cellView": "form",
        "colab": {}
      },
      "source": [
        "#@title Credenciales Google Earth Engine\n",
        "import os \n",
        "credential = '{\"refresh_token\":\"PON_AQUI_TU_TOKEN\"}'\n",
        "credential_file_path = os.path.expanduser(\"~/.config/earthengine/\")\n",
        "os.makedirs(credential_file_path,exist_ok=True)\n",
        "with open(credential_file_path + 'credentials', 'w') as file:\n",
        "    file.write(credential)"
      ],
      "execution_count": 0,
      "outputs": []
    },
    {
      "cell_type": "code",
      "metadata": {
        "id": "O1-X6F4Vg4PH",
        "colab_type": "code",
        "colab": {}
      },
      "source": [
        "import ee\n",
        "ee.Initialize()"
      ],
      "execution_count": 0,
      "outputs": []
    },
    {
      "cell_type": "code",
      "metadata": {
        "id": "yRfmrqAgg6su",
        "colab_type": "code",
        "cellView": "form",
        "colab": {}
      },
      "source": [
        "#@title mapdisplay: Crea mapas interactivos usando folium\n",
        "import folium\n",
        "def mapdisplay(center, dicc, Tiles=\"OpensTreetMap\",zoom_start=10):\n",
        "    '''\n",
        "    :param center: Center of the map (Latitude and Longitude).\n",
        "    :param dicc: Earth Engine Geometries or Tiles dictionary\n",
        "    :param Tiles: Mapbox Bright,Mapbox Control Room,Stamen Terrain,Stamen Toner,stamenwatercolor,cartodbpositron.\n",
        "    :zoom_start: Initial zoom level for the map.\n",
        "    :return: A folium.Map object.\n",
        "    '''\n",
        "    center = center[::-1]\n",
        "    mapViz = folium.Map(location=center,tiles=Tiles, zoom_start=zoom_start)\n",
        "    for k,v in dicc.items():\n",
        "      if ee.image.Image in [type(x) for x in v.values()]:\n",
        "        folium.TileLayer(\n",
        "            tiles = v[\"tile_fetcher\"].url_format,\n",
        "            attr  = 'Google Earth Engine',\n",
        "            overlay =True,\n",
        "            name  = k\n",
        "          ).add_to(mapViz)\n",
        "      else:\n",
        "        folium.GeoJson(\n",
        "        data = v,\n",
        "        name = k\n",
        "          ).add_to(mapViz)\n",
        "    mapViz.add_child(folium.LayerControl())\n",
        "    return mapViz"
      ],
      "execution_count": 0,
      "outputs": []
    },
    {
      "cell_type": "code",
      "metadata": {
        "id": "hvC23xexhVA7",
        "colab_type": "code",
        "colab": {}
      },
      "source": [
        "# !pip install earthengine-api==0.1.210 esto ya no es necesario en ultima versiones"
      ],
      "execution_count": 0,
      "outputs": []
    },
    {
      "cell_type": "markdown",
      "metadata": {
        "id": "aL11MwZpg9SU",
        "colab_type": "text"
      },
      "source": [
        "### **Ejercicio**\n",
        "\n",
        "Las animaciones de series temporales de imagenes satelitales son una forma atractivas de mostrar tus resultados. En esta seccion, aprenderemos como generar un GIF animado que represente un **NDVI promedio de 20 anos para compuestos MODIS de 16 dias que abarcan del 1 de enero al 31 de diciembre**.\n",
        "<center>\n",
        "<img src='https://user-images.githubusercontent.com/16768318/73617762-142fea80-461a-11ea-8c8a-0a124a0735c1.gif'>\n",
        "</center>"
      ]
    },
    {
      "cell_type": "markdown",
      "metadata": {
        "id": "Trp7Ed4_NVa4",
        "colab_type": "text"
      },
      "source": [
        "#### **Contexto**\n",
        "\n",
        "**MODIS** es un sistema de imagenes satelitales de resolución moderada y el **NDVI** es un indice de vegetacion basado en bandas reflectancia. En la animacion superior, el NDVI se asigna a un gradiente de color de marron a verde oscuro, representando una capacidad fotosintetica baja a alta respectivamente."
      ]
    },
    {
      "cell_type": "markdown",
      "metadata": {
        "id": "5008XHNPOoc3",
        "colab_type": "text"
      },
      "source": [
        "**Instrucciones**\n",
        "\n",
        "El flujo de trabajo basico para realizar una animacion es el siguiente:\n",
        "\n",
        "1. Definir region de interes.\n",
        "\n",
        "2. Obtenga el conjunto de datos de indices de vegetación MODIS y seleccione la banda de NDVI.\n",
        "\n",
        "3. **Agrupe las imagenes de la misma ventana temporal (16 dias) utilizando un _join_**.\n",
        "\n",
        "4. Reduzca el grupo de compuestos de NDVI (por la media) para producir la animacion.\n",
        "\n",
        "5. Defina los parametros de visualizacion y convierta los datos en imagenes de visualizacion RGB.\n",
        "\n",
        "6. Genere una URL que produzca un GIF en el navegador"
      ]
    },
    {
      "cell_type": "markdown",
      "metadata": {
        "id": "73qWGSmfozg8",
        "colab_type": "text"
      },
      "source": [
        "### **1. Area de estudio**\n",
        "La variable **mask** sera usada para recortar las imagenes, este es un paso opcional que establece los pixeles fuera de un area de interes como nulos, lo que es util para exhaltar los valores sobre un area particular dentro de una region. Aqui, el conjunto de datos vectoriales **LSIB** se filtra para incluir solo la geometria de Peru (que servira como geometria de recorte).\n",
        "\n",
        "**geom_Peru** es utilizado dentro de _ee.ImageCollection.filterBounds()_."
      ]
    },
    {
      "cell_type": "code",
      "metadata": {
        "id": "CPMLNKCOphci",
        "colab_type": "code",
        "colab": {}
      },
      "source": [
        "mask = ee.FeatureCollection('USDOS/LSIB_SIMPLE/2017')\\\n",
        "         .filter(ee.Filter.eq('country_co', 'PE'))\n",
        "geom_peru = mask.geometry().bounds()"
      ],
      "execution_count": 0,
      "outputs": []
    },
    {
      "cell_type": "markdown",
      "metadata": {
        "id": "-JC80SjYCtxi",
        "colab_type": "text"
      },
      "source": [
        "### **2. Filtrando dataset**\n",
        "**ee.Date.getRelative(...)**: Devuelve la diferencia (considerando desde 0) de esta fecha en relación con una unidad mas grande, por ejemplo, **getRelative('day', 'year')** devuelve un valor entre 0 y 365."
      ]
    },
    {
      "cell_type": "code",
      "metadata": {
        "id": "S4ZUIpQPC87Q",
        "colab_type": "code",
        "colab": {}
      },
      "source": [
        "# Cargamos los datos de NDVI de MODIS\n",
        "col = ee.ImageCollection('MODIS/006/MOD13A2').select('NDVI')\n",
        "\n",
        "# Agregamos la propiedad day-of-year (DOY) para cada imagen\n",
        "def add_day(img):\n",
        "  doy = ee.Date(img.get('system:time_start')).getRelative('day', 'year')\n",
        "  return img.set('doy', doy)\n",
        "  \n",
        "col = col.map(add_day)"
      ],
      "execution_count": 0,
      "outputs": []
    },
    {
      "cell_type": "markdown",
      "metadata": {
        "id": "n9o6rMHKTNwE",
        "colab_type": "text"
      },
      "source": [
        "### **3. Join**\n",
        "\n",
        "**Join en GEE nos permite agrupar imagenes o features mediante propiedades**. Para este ejercicio, se implementara una operacion **join** para agrupar dos grupos de imagenes (ImageCollection) bajo la propiedad **'doy'** que acabamos de generar en la celda anterior. \n",
        "\n",
        "**ee.join** siempre espera dos colecciones: una **coleccion de referencia** y una **coleccion completa**, que al final sera modificada para incluir las propiedades de la **coleccion de referencia**. La coleccion completa (col) ya existe, la **colección de referencia** necesita ser definida. Para ello, filtre la coleccion completa en un solo año de datos (no importa el año que escoja), por ejemplo 2013.\n",
        "\n",
        "Para crear un **ee.join** considere:\n",
        "\n",
        "1. Crear un filtro que identificara imagenes coincidentes entre la **coleccion de referencia** y **coleccion completa** por la propiedad **doy**.\n",
        "2. Defina un **saveALL join**  que producira una lista de todas las coincidencias por **'doy'** distintas en una propiedad llamada **'doy_matches'**.\n",
        "3. Aplicando la **join**.\n",
        "\n",
        "**TENER EN CUENTA QUE luego de aplicar un ee.Join.SaveAll el resultado siempre sera un ee.FeatureCollection**"
      ]
    },
    {
      "cell_type": "code",
      "metadata": {
        "id": "24yt0Zlkb1X9",
        "colab_type": "code",
        "colab": {}
      },
      "source": [
        "# Obtenga una colección de imagenes distintas de 'doy' (COLLECCION DE REFERENCIA).\n",
        "distinctDOY = col.filterDate('2013-01-01', '2014-01-01')\n",
        "\n",
        "# Defina un filtro que identifique que imagenes de la 'coleccion completa'\n",
        "# coincide con el DOY de la colección de referencia.\n",
        "my_filter = ee.Filter.equals(leftField = 'doy', rightField = 'doy')\n",
        "\n",
        "# Define el Join \n",
        "join = ee.Join.saveAll('doy_matches')\n",
        "\n",
        "# Aplicar el join y convertir el FeatureCollection resultante en un ImageCollection.\n",
        "joinCol = ee.ImageCollection(join.apply(distinctDOY, col, my_filter))\n",
        "\n",
        "# Aplicar la mediana entre las colecciones DOY coincidentes.\n",
        "def reduce_each_image(img):\n",
        "  doyCol = ee.ImageCollection.fromImages(img.get('doy_matches'))\n",
        "  return doyCol.reduce(ee.Reducer.median())\n",
        "\n",
        "comp = joinCol.map(reduce_each_image)"
      ],
      "execution_count": 0,
      "outputs": []
    },
    {
      "cell_type": "markdown",
      "metadata": {
        "id": "Tol3tjNbdPSL",
        "colab_type": "text"
      },
      "source": [
        "#### **4. Hacer imagenes de visualizacion**\n",
        "\n",
        "Establezca las propiedades de visualizacion (**ee.Image.vizualize**) para controlar la apariencia de los datos en los cuadros de animacion. Defina las propiedades de visualizacion que incluyen una paleta de colores y valores minimos y maximos para estirar o comprimir la paleta. Asigne el metodo de visualizacion sobre cada imagen utilizando las propiedades de visualizacion definidas y recorte los datos a la mascara definida en el seccin 1 para establecer los pixeles de fondo nulo (negro)."
      ]
    },
    {
      "cell_type": "code",
      "metadata": {
        "id": "FV0FOqxbisPh",
        "colab_type": "code",
        "colab": {}
      },
      "source": [
        "def vizparam(img):\n",
        "  # Parametros de vizualicion.\n",
        "  return img.visualize( \n",
        "       min = 0.0,\n",
        "       max = 9000.0,\n",
        "       palette = ['FFFFFF', 'CE7E45', 'DF923D', 'F1B555', 'FCD163', '99B718', '74A901',\n",
        "                  '66A000', '529400', '3E8601', '207401', '056201', '004C00', '023B01',\n",
        "                  '012E01', '011D01', '011301']\n",
        "                ).clip(mask)"
      ],
      "execution_count": 0,
      "outputs": []
    },
    {
      "cell_type": "markdown",
      "metadata": {
        "id": "GnXeDPAUfRrd",
        "colab_type": "text"
      },
      "source": [
        "### **5. Crea un GIF animado**\n",
        "\n",
        "El paso final es definir argumentos para el método **getVideoThumbURL** que creara una animación a partir de la colección de imágenes de visualización RGB generadas en el paso anterior. Los parámetros relevantes incluyen:\n",
        "\n",
        "region: establecer en la región definida en el Paso 2 anterior\n",
        "dimensiones: establecido en 600 que define la dimensión más grande del GIF resultante como 600px (la dimensión más pequeña se escala proporcionalmente)\n",
        "crs: establecido en 'EPSG: 3857' para que coincida con el sistema de referencia de coordenadas del mapa del editor de código\n",
        "framesPerSecond: establecido en 10 (cuadros por segundo)"
      ]
    },
    {
      "cell_type": "code",
      "metadata": {
        "id": "H2SIO4ZEjCP-",
        "colab_type": "code",
        "colab": {}
      },
      "source": [
        "# Create RGB visualization images for use as animation frames.\n",
        "rgbVis = comp.map(vizparam)\n",
        "\n",
        "# Define GIF visualization arguments.\n",
        "gifParams = {\n",
        "  'region': geom_peru,\n",
        "  'dimensions': 600,\n",
        "  'crs': 'EPSG:4326',\n",
        "  'framesPerSecond': 10,\n",
        "  'format': 'gif'\n",
        "}\n",
        "\n",
        "# Print the GIF URL to the console.\n",
        "gif = rgbVis.getVideoThumbURL(gifParams)"
      ],
      "execution_count": 0,
      "outputs": []
    },
    {
      "cell_type": "code",
      "metadata": {
        "id": "gESwrzWjvcS3",
        "colab_type": "code",
        "colab": {}
      },
      "source": [
        "from IPython.display import Image\n",
        "from IPython.core.display import HTML \n",
        "Image(url= gif)"
      ],
      "execution_count": 0,
      "outputs": []
    },
    {
      "cell_type": "markdown",
      "metadata": {
        "id": "joL6sqZYaJhd",
        "colab_type": "text"
      },
      "source": [
        "#### **Funcion para crear animaciones de NDVI en cualquier parte del mundo**"
      ]
    },
    {
      "cell_type": "code",
      "metadata": {
        "id": "VXouDZj6aOTG",
        "colab_type": "code",
        "colab": {}
      },
      "source": [
        "def monthly_ndvi_animation(area, vizparams = None, framesPerSecond = 10):\n",
        "  if vizparams is None:\n",
        "    vizparams = {'min' : 0.0,\n",
        "                 'max' : 9000.0,\n",
        "                 'palette' : ['#051852', '#FFFFFF', '#C7B59B', '#A8B255',\n",
        "                              '#A3C020', '#76AD00', '#429001', '#006400',\n",
        "                              '#003B00', '#000000']\n",
        "                 }\n",
        "  # Cargamos los datos de NDVI de MODIS\n",
        "  col = ee.ImageCollection('MODIS/006/MOD13A2').select('NDVI')\n",
        "\n",
        "  # Agregamos la propiedad day-of-year (DOY) para cada imagen\n",
        "  def add_day(img):\n",
        "    doy = ee.Date(img.get('system:time_start')).getRelative('day', 'year')\n",
        "    return img.set('doy', doy)\n",
        "  \n",
        "  col = col.map(add_day)\n",
        "\n",
        "  # Obtenga una colección de imágenes distintas de 'doy'.\n",
        "  distinctDOY = col.filterDate('2013-01-01', '2014-01-01')\n",
        "\n",
        "  # Defina un filtro que identifique que imagenes de la 'coleccion completa'\n",
        "  # coincide con el DOY de la colección de referencia.\n",
        "  my_filter = ee.Filter.equals(leftField = 'doy', rightField = 'doy')\n",
        "\n",
        "  # Define el Join \n",
        "  join = ee.Join.saveAll('doy_matches')\n",
        "\n",
        "  # Aplicar el join y convertir el FeatureCollection resultante en un ImageCollection.\n",
        "  joinCol = ee.ImageCollection(join.apply(distinctDOY, col, my_filter))\n",
        "\n",
        "  # Aplicar la mediana entre las colecciones DOY coincidentes.\n",
        "  def reduce_each_image(img):\n",
        "    doyCol = ee.ImageCollection.fromImages(img.get('doy_matches'))\n",
        "    return doyCol.reduce(ee.Reducer.median())\n",
        "\n",
        "  comp = joinCol.map(reduce_each_image)\n",
        "\n",
        "  # Cree imagenes de visualizacion RGB para usar como cuadros de animacion.\n",
        "  rgbVis = comp.map(lambda x:x.visualize(**vizparams).clip(area))\n",
        "\n",
        "  # Definir argumentos de visualización GIF.\n",
        "  gifParams = {\n",
        "    'region': area.bounds(),\n",
        "    'dimensions': 600,\n",
        "    'crs': 'EPSG:3857',\n",
        "    'framesPerSecond': framesPerSecond,\n",
        "    'format': 'gif'\n",
        "  }\n",
        "  # Imprima la URL GIF en la consola.\n",
        "  return rgbVis.getVideoThumbURL(gifParams)"
      ],
      "execution_count": 0,
      "outputs": []
    },
    {
      "cell_type": "code",
      "metadata": {
        "id": "kuLjSb6Mrmit",
        "colab_type": "code",
        "colab": {}
      },
      "source": [
        "ecuador = ee.Geometry.Polygon([\n",
        "          [\n",
        "            [\n",
        "              -82.37548828125,\n",
        "              -5.7908968128719565\n",
        "            ],\n",
        "            [\n",
        "              -74.86083984375,\n",
        "              -5.7908968128719565\n",
        "            ],\n",
        "            [\n",
        "              -74.86083984375,\n",
        "              1.9551868337565232\n",
        "            ],\n",
        "            [\n",
        "              -82.37548828125,\n",
        "              1.9551868337565232\n",
        "            ],\n",
        "            [\n",
        "              -82.37548828125,\n",
        "              -5.7908968128719565\n",
        "            ]\n",
        "          ]\n",
        "        ])\n",
        "monthly_ndvi_animation(ecuador, framesPerSecond = 5)"
      ],
      "execution_count": 0,
      "outputs": []
    },
    {
      "cell_type": "markdown",
      "metadata": {
        "id": "4DR_VBnwpBt9",
        "colab_type": "text"
      },
      "source": [
        "### **¿Dudas con este Jupyer-Notebook?**\n",
        "\n",
        "Estaremos felices de ayudarte!. Create una cuenta Github si es que no la tienes, luego detalla tu problema ampliamente en: https://github.com/csaybar/EarthEngineMasterGIS/issues\n",
        "\n",
        "**Tienes que dar clic en el boton verde!**\n",
        "\n",
        "<center>\n",
        "<img src=\"https://user-images.githubusercontent.com/16768318/79680748-d5511000-81d8-11ea-9f89-44bd010adf69.png\" width = 70%>\n",
        "</center>"
      ]
    }
  ]
}