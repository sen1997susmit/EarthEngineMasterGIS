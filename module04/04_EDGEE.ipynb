{
  "nbformat": 4,
  "nbformat_minor": 0,
  "metadata": {
    "colab": {
      "name": "04_EDGEE.ipynb",
      "provenance": [],
      "collapsed_sections": [],
      "include_colab_link": true
    },
    "kernelspec": {
      "name": "python3",
      "display_name": "Python 3"
    }
  },
  "cells": [
    {
      "cell_type": "markdown",
      "metadata": {
        "id": "view-in-github",
        "colab_type": "text"
      },
      "source": [
        "<a href=\"https://colab.research.google.com/github/csaybar/EarthEngineMasterGIS/blob/master/module04/04_EDGEE.ipynb\" target=\"_parent\"><img src=\"https://colab.research.google.com/assets/colab-badge.svg\" alt=\"Open In Colab\"/></a>"
      ]
    },
    {
      "cell_type": "markdown",
      "metadata": {
        "id": "TKGezoZcFlbh",
        "colab_type": "text"
      },
      "source": [
        "<!--COURSE_INFORMATION-->\n",
        "<img align=\"left\" style=\"padding-right:10px;\" src=\"https://user-images.githubusercontent.com/16768318/73986808-75b3ca00-4936-11ea-90f1-3a6c352766ce.png\" width=10% >\n",
        "<img align=\"right\" style=\"padding-left:10px;\" src=\"https://user-images.githubusercontent.com/16768318/73986811-764c6080-4936-11ea-9653-a3eacc47caed.png\" width=10% >\n",
        "\n",
        "**Bienvenidos!** Este *colab notebook* es parte del curso [**Introduccion a Google Earth Engine con Python**](https://github.com/csaybar/EarthEngineMasterGIS) desarrollado por el equipo [**MasterGIS**](https://www.mastergis.com/). Obten mas informacion del curso en este [**enlace**](https://www.mastergis.com/product/google-earth-engine/). El contenido del curso esta disponible en [**GitHub**](https://github.com/csaybar/EarthEngineMasterGIS) bajo licencia [**MIT**](https://opensource.org/licenses/MIT)."
      ]
    },
    {
      "cell_type": "markdown",
      "metadata": {
        "id": "qar7CNxI9nca",
        "colab_type": "text"
      },
      "source": [
        "## **MASTERGIS: ED espaciales en Google Earth Engine III**\n",
        "## **ee.Geometry, ee.Feature y ee.FeatureCollection**\n",
        "\n",
        "En esta lectura, aprenderemos sobre:\n",
        "\n",
        "- ee.ImageCollection como ED nativa de GEE.\n",
        "- Filtar y mapear FeatureCollections.\n",
        "- Puntos aleatorios\n"
      ]
    },
    {
      "cell_type": "markdown",
      "metadata": {
        "id": "T-Y_YUABB3s-",
        "colab_type": "text"
      },
      "source": [
        "### **1) Autenticar y inicializar GEE**"
      ]
    },
    {
      "cell_type": "code",
      "metadata": {
        "id": "Mp08vKhM7tES",
        "colab_type": "code",
        "cellView": "both",
        "colab": {}
      },
      "source": [
        "#@title Credenciales Google Earth Engine\n",
        "import os \n",
        "credential = '{\"refresh_token\":\"PON_AQUI_TU_TOKEN\"}'\n",
        "credential_file_path = os.path.expanduser(\"~/.config/earthengine/\")\n",
        "os.makedirs(credential_file_path,exist_ok=True)\n",
        "with open(credential_file_path + 'credentials', 'w') as file:\n",
        "    file.write(credential)"
      ],
      "execution_count": 0,
      "outputs": []
    },
    {
      "cell_type": "code",
      "metadata": {
        "id": "q74mE-6DB-zp",
        "colab_type": "code",
        "colab": {}
      },
      "source": [
        "import ee\n",
        "ee.Initialize()"
      ],
      "execution_count": 0,
      "outputs": []
    },
    {
      "cell_type": "markdown",
      "metadata": {
        "id": "0kljSm5KCAYI",
        "colab_type": "text"
      },
      "source": [
        "### **2) Carga nuestra funcion de mapeo**"
      ]
    },
    {
      "cell_type": "code",
      "metadata": {
        "id": "ON3loW2dCDJa",
        "colab_type": "code",
        "cellView": "form",
        "colab": {}
      },
      "source": [
        "#@title mapdisplay: Crea mapas interactivos usando folium\n",
        "import folium\n",
        "def mapdisplay(center, dicc, Tiles=\"OpensTreetMap\",zoom_start=10):\n",
        "    '''\n",
        "    :param center: Center of the map (Latitude and Longitude).\n",
        "    :param dicc: Earth Engine Geometries or Tiles dictionary\n",
        "    :param Tiles: Mapbox Bright,Mapbox Control Room,Stamen Terrain,Stamen Toner,stamenwatercolor,cartodbpositron.\n",
        "    :zoom_start: Initial zoom level for the map.\n",
        "    :return: A folium.Map object.\n",
        "    '''\n",
        "    center = center[::-1]\n",
        "    mapViz = folium.Map(location=center,tiles=Tiles, zoom_start=zoom_start)\n",
        "    for k,v in dicc.items():\n",
        "      if ee.image.Image in [type(x) for x in v.values()]:\n",
        "        folium.TileLayer(\n",
        "            tiles = v[\"tile_fetcher\"].url_format,\n",
        "            attr  = 'Google Earth Engine',\n",
        "            overlay =True,\n",
        "            name  = k\n",
        "          ).add_to(mapViz)\n",
        "      else:\n",
        "        folium.GeoJson(\n",
        "        data = v,\n",
        "        name = k\n",
        "          ).add_to(mapViz)\n",
        "    mapViz.add_child(folium.LayerControl())\n",
        "    return mapViz"
      ],
      "execution_count": 0,
      "outputs": []
    },
    {
      "cell_type": "markdown",
      "metadata": {
        "id": "tTWrSaWRkCB2",
        "colab_type": "text"
      },
      "source": [
        "<center>\n",
        "<h3>GeoJSON: FeatureCollection  --> Feature --> Geometry --> Coordinates</h3>\n",
        "</center>"
      ]
    },
    {
      "cell_type": "markdown",
      "metadata": {
        "id": "h-Cfz5qsCiGG",
        "colab_type": "text"
      },
      "source": [
        "### **3.  Geometrias en GEE (ee.Geometry)**\n",
        "\n",
        "\n",
        "Earth Engine maneja datos vectoriales del tipo `Geometry`. La [especificacion de GeoJSON](https://geojson.org/geojson-spec.html) describe en detalle el tipo de geometrias admitidas por Earth Engine. Estas incluyen: `Point` (una lista de coordenadas en alguna proyeccion),`LineString` (una lista de puntos), `LinearRing` (un` LineString` cerrado) y `Polygon` (una lista de` LinearRings` donde el primero es un caparazon y los anillos posteriores son agujeros). Earth Engine tambien admite `MultiPoint`,` MultiLineString` y `MultiPolygon`. GeoJSON GeometryCollection tambien es compatible, aunque tiene el nombre `MultiGeometry` dentro de Earth Engine.\n",
        "\n",
        "#### **Crear un objeto ee.Geometry**\n",
        "\n",
        "Para crear una **geometria**, proporcione al constructor las listas de coordenadas adecuadas. Por ejemplo:"
      ]
    },
    {
      "cell_type": "code",
      "metadata": {
        "id": "IOWiofPeCtuw",
        "colab_type": "code",
        "colab": {}
      },
      "source": [
        "point = ee.Geometry.Point([1.5, 1.5])\n",
        "lineString = ee.Geometry.LineString([[-35, -10], [35, -10], [35, 10], [-35, 10]])\n",
        "linearRing = ee.Geometry.LinearRing([[-35, -10], [35, -10], [35, 10], [-35, 10], [-35, -10]])\n",
        "rectangle = ee.Geometry.Rectangle([-40, -20, 40, 20])\n",
        "polygon = ee.Geometry.Polygon([[[-5, 40], [65, 40], [65, 60], [-5, 60], [-5, 60]]])"
      ],
      "execution_count": 0,
      "outputs": []
    },
    {
      "cell_type": "markdown",
      "metadata": {
        "id": "VyRhIieFEDtm",
        "colab_type": "text"
      },
      "source": [
        "En los ejemplos anteriores, tenga en cuenta que la distinción entre un \"LineString\" y un \"LinearRing\" es que el \"LinearRing\" está \"cerrado\" al tener la misma coordenada al principio y al final de la lista.\n",
        "\n",
        "Para dividir una `geometria` compuesta en sus geometrias simples, use `geometry.geometries()`. Por ejemplo:"
      ]
    },
    {
      "cell_type": "code",
      "metadata": {
        "id": "8-U_uXsCECq3",
        "colab_type": "code",
        "colab": {}
      },
      "source": [
        "# Crear una geometria compuesta\n",
        "multiPoint = ee.Geometry.MultiPoint([[-121.68, 39.91], [-97.38, 40.34]])\n",
        "\n",
        "# Obtenga geometrias simples\n",
        "geometries = multiPoint.geometries()\n",
        "\n",
        "# Obtenga cada geometría individual de la lista e imprímala.\n",
        "pt1 = geometries.get(0)\n",
        "pt2 = geometries.get(1)\n",
        "print('Point 1', pt1)\n",
        "print('Point 2', pt2)"
      ],
      "execution_count": 0,
      "outputs": []
    },
    {
      "cell_type": "markdown",
      "metadata": {
        "id": "EkuuGnYaFwHu",
        "colab_type": "text"
      },
      "source": [
        "### **4. Operaciones geometricas**\n",
        "\n",
        "Earth Engine admite una amplia variedad de operaciones en objetos `Geometry`. Estos incluyen operaciones en geometrias individuales, como calcular un búfer, centroide, cuadro delimitador, perimetro, casco convexo, etc. Por ejemplo:"
      ]
    },
    {
      "cell_type": "code",
      "metadata": {
        "id": "_ZsHj9RCGEs3",
        "colab_type": "code",
        "colab": {}
      },
      "source": [
        "# Crear un poligono\n",
        "polygon = ee.Geometry.Polygon(coords = [[[-5, 40], [65, 40], [65, 60], [-5, 60], [-5, 60]]])\n",
        "\n",
        "# Obtener buffer\n",
        "buffer = polygon.buffer(1000000).getInfo()\n",
        "\n",
        "# Obtener el centroide del poligono\n",
        "centroid = polygon.centroid().getInfo()\n",
        "\n",
        "#Generar mapa!\n",
        "mapdisplay(center=centroid['coordinates'],dicc={'buffer':buffer, 'centroid':centroid}, zoom_start=3)"
      ],
      "execution_count": 0,
      "outputs": []
    },
    {
      "cell_type": "markdown",
      "metadata": {
        "id": "Jne5FJZTIePW",
        "colab_type": "text"
      },
      "source": [
        "### **5. Feature en GEE (ee.Feature)**\n",
        "Un `Feature` en Earth Engine se define identicamente que un `Feature` de GeoJSON. Específicamente, un `Feature` es un objeto que almacena un objeto `geometria` (o nulo) y `propiedades` almacenadas en un diccionario.\n",
        "\n",
        "\n",
        "#### **Creacion de objetos Features**\n",
        "\n",
        "Para crear un `Feature`, proporcione una `geometria` y (opcionalmente) un diccionario de propiedades. Por ejemplo:"
      ]
    },
    {
      "cell_type": "code",
      "metadata": {
        "id": "CVlWqynGInGr",
        "colab_type": "code",
        "colab": {}
      },
      "source": [
        "# Crear un ee.Gometry.Polygon\n",
        "polygon = ee.Geometry.Polygon([[[-35, -10], [35, -10], [35, 10], [-35, 10], [-35, -10]]])\n",
        "\n",
        "# Crear un Feature a partir de la geometria\n",
        "polyFeature = ee.Feature(polygon, {'foo': 42, 'bar': 'tart','roi':'Sudamerica'})"
      ],
      "execution_count": 0,
      "outputs": []
    },
    {
      "cell_type": "markdown",
      "metadata": {
        "id": "BJsuxo5kP944",
        "colab_type": "text"
      },
      "source": [
        "Un `Feature` no necesita tener una geometria y puede simplemente envolver un diccionario de propiedades. Por ejemplo:"
      ]
    },
    {
      "cell_type": "code",
      "metadata": {
        "id": "ucudwzM4QDTs",
        "colab_type": "code",
        "colab": {}
      },
      "source": [
        "# Crear un diccionario de propiedades.\n",
        "dict_01 = {'foo': ee.Number(8).add(88), 'bar': 'nihao'}\n",
        "nowhereFeature = ee.Feature(None, dict_01)"
      ],
      "execution_count": 0,
      "outputs": []
    },
    {
      "cell_type": "markdown",
      "metadata": {
        "id": "DyhXCcUDQRs-",
        "colab_type": "text"
      },
      "source": [
        "Agrega nuevas propriedades usando el metodo `*.set`."
      ]
    },
    {
      "cell_type": "code",
      "metadata": {
        "id": "Uekvz6fqn434",
        "colab_type": "code",
        "outputId": "b7037179-8465-4883-e946-55ae998f9dca",
        "colab": {
          "base_uri": "https://localhost:8080/",
          "height": 34
        }
      },
      "source": [
        "feature = ee.Feature(ee.Geometry.Point([-122.22599, 37.17605]), {'genus':'Sequoia','species':'sempervirens'})\n",
        "feature.get('species').getInfo()"
      ],
      "execution_count": 11,
      "outputs": [
        {
          "output_type": "execute_result",
          "data": {
            "text/plain": [
              "'sempervirens'"
            ]
          },
          "metadata": {
            "tags": []
          },
          "execution_count": 11
        }
      ]
    },
    {
      "cell_type": "code",
      "metadata": {
        "id": "YoHpv5XcQ_sg",
        "colab_type": "code",
        "colab": {}
      },
      "source": [
        "from pprint import pprint\n",
        "\n",
        "# Agrega propiedades usando el metodo set\n",
        "feature = ee.Feature(ee.Geometry.Point([-122.22599, 37.17605]))\\\n",
        "            .set('genus', 'Sequoia').set('species', 'sempervirens')\n",
        "feature.getInfo()\n",
        "# Obtenga una propiedad de la caracteristica\n",
        "species = feature.get('species')\n",
        "print(species.getInfo())\n",
        "\n",
        "# Establecer una nueva propiedad\n",
        "feature = feature.set('presence', 1)\n",
        "\n",
        "# Sobrescribir las propiedades antiguas con un nuevo diccionario\n",
        "newDict = {'genus': 'Brachyramphus', 'species': 'marmoratus'}\n",
        "feature = feature.set(newDict)\n",
        "\n",
        "# Comprueba el resultado.\n",
        "pprint(feature.getInfo())"
      ],
      "execution_count": 0,
      "outputs": []
    },
    {
      "cell_type": "markdown",
      "metadata": {
        "id": "JbaJon37Rq2V",
        "colab_type": "text"
      },
      "source": [
        "### **5. FeatureCollection en GEE (ee.FeatureCollection)**\n",
        "\n",
        "Grupos de `Features` relacionados se pueden combinar en un `FeatureCollection`, para permitir operaciones adicionales en todo el conjunto de datos, como el filtrado, la clasificacion y el renderizado. Ademas de los `Features` (geometrias + propiedades), los `FeatureCollection` tambien pueden contener otras colecciones.\n",
        "\n",
        "#### **Creacion de objetos FeatureCollection**\n",
        " \n",
        "Una forma de crear una `FeatureCollection` es proporcionar al constructor una lista de `Features`. Los `Features` no necesitan tener el mismo tipo de geometria o las mismas propiedades. Por ejemplo:"
      ]
    },
    {
      "cell_type": "code",
      "metadata": {
        "id": "aTMZVcEjRxJR",
        "colab_type": "code",
        "colab": {}
      },
      "source": [
        "# Haga una lista de features.\n",
        "features = [\n",
        "  ee.Feature(ee.Geometry.Rectangle(30.01, 59.80, 30.59, 60.15), {'name': 'Voronoi'}),\n",
        "  ee.Feature(ee.Geometry.Point(-73.96, 40.781), {'name': 'Thiessen'}),\n",
        "  ee.Feature(ee.Geometry.Point(6.4806, 50.8012), {'name': 'Dirichlet'})\n",
        "]\n",
        "\n",
        "# Cree un ee.FeatureCollection a partir de la lista e imprimala.\n",
        "fromList = ee.FeatureCollection(features)\n",
        "fromList.getInfo()"
      ],
      "execution_count": 0,
      "outputs": []
    },
    {
      "cell_type": "code",
      "metadata": {
        "id": "7t-DLby8o6ux",
        "colab_type": "code",
        "outputId": "ab5b6539-f267-4fe5-813c-df904f6a5676",
        "colab": {
          "base_uri": "https://localhost:8080/",
          "height": 204
        }
      },
      "source": [
        "geom_01 = ee.Geometry.Rectangle(30.01, 59.80, 30.59, 60.15)\n",
        "geom_01_fc = ee.FeatureCollection([ee.Feature(geom_01,{})])\n",
        "geom_01_fc.getInfo()"
      ],
      "execution_count": 14,
      "outputs": [
        {
          "output_type": "execute_result",
          "data": {
            "text/plain": [
              "{'columns': {'system:index': 'String'},\n",
              " 'features': [{'geometry': {'coordinates': [[[30.01, 59.8],\n",
              "      [30.59, 59.8],\n",
              "      [30.59, 60.15],\n",
              "      [30.01, 60.15],\n",
              "      [30.01, 59.8]]],\n",
              "    'type': 'Polygon'},\n",
              "   'id': '0',\n",
              "   'properties': {},\n",
              "   'type': 'Feature'}],\n",
              " 'type': 'FeatureCollection'}"
            ]
          },
          "metadata": {
            "tags": []
          },
          "execution_count": 14
        }
      ]
    },
    {
      "cell_type": "markdown",
      "metadata": {
        "id": "R4-F0v0vU3Bb",
        "colab_type": "text"
      },
      "source": [
        "### **6. Map sobre un FeatureCollection**\n",
        "\n",
        "Para aplicar la misma operación a cada `Feature` en una` FeatureCollection`, use `featureCollection.map ()`. Por ejemplo, para agregar otro atributo de área a cada entidad en una `FeatureCollection` de cuencas,use:"
      ]
    },
    {
      "cell_type": "code",
      "metadata": {
        "id": "IJbLLTj6TYYS",
        "colab_type": "code",
        "colab": {}
      },
      "source": [
        "from pprint import pprint\n",
        "\n",
        "# Cargar los datos de cuencas\n",
        "sheds = ee.FeatureCollection('USGS/WBD/2017/HUC06').limit(10)\n",
        "\n",
        "# Esta funcion calcula el area de geometria de la entidad y la agrega como una propiedad.\n",
        "def addArea(feature):\n",
        "  return feature.set({'areaHa': feature.geometry().area().divide(100 * 100)})\n",
        "\n",
        "# Map! para obtener la nueva propiedad 'areaHa'\n",
        "areaAdded = sheds.map(addArea)\n",
        "centroid = sheds.geometry().centroid().coordinates().getInfo()\n",
        "\n",
        "print('Primer feature: \\n')\n",
        "pprint(sheds.first().toDictionary().getInfo())\n",
        "\n",
        "print('Primer feature: \\n')\n",
        "pprint(areaAdded.first().toDictionary().getInfo())\n",
        "\n",
        "mapdisplay(center=centroid,\n",
        "           dicc={'cuencas':sheds.draw(color = \"FF0000\").getMapId()},\n",
        "           zoom_start=5)"
      ],
      "execution_count": 0,
      "outputs": []
    },
    {
      "cell_type": "markdown",
      "metadata": {
        "id": "S1fiWv2tbo0v",
        "colab_type": "text"
      },
      "source": [
        "### **7. Muestras aleatorias**\n",
        "\n",
        "Para obtener una coleccion de puntos aleatorios en una region especifica puede usar:"
      ]
    },
    {
      "cell_type": "code",
      "metadata": {
        "id": "7z-HxjNBatrw",
        "colab_type": "code",
        "colab": {}
      },
      "source": [
        "# Defina una region arbitraria en la que calcular puntos aleatorios.\n",
        "region = ee.Geometry.Rectangle(-119.224, 34.669, -99.536, 50.064)\n",
        "center_coord = region.centroid().coordinates().getInfo()\n",
        "\n",
        "# Crea 1000 puntos aleatorios en la region.\n",
        "randomPoints = ee.FeatureCollection.randomPoints(region=region,points=5000)\n",
        "\n",
        "# Mostrar los puntos.\n",
        "mapdisplay(center_coord,{'randomPoints':randomPoints.getInfo()},zoom_start=5)"
      ],
      "execution_count": 0,
      "outputs": []
    },
    {
      "cell_type": "markdown",
      "metadata": {
        "id": "JgOjQKM-UtK4",
        "colab_type": "text"
      },
      "source": [
        "### **¿Dudas con este Jupyer-Notebook?**\n",
        "\n",
        "Estaremos felices de ayudarte!. Create una cuenta Github si es que no la tienes, luego detalla tu problema ampliamente en: https://github.com/csaybar/EarthEngineMasterGIS/issues\n",
        "\n",
        "**Tienes que dar clic en el boton verde!**\n",
        "\n",
        "<center>\n",
        "<img src=\"https://user-images.githubusercontent.com/16768318/79680748-d5511000-81d8-11ea-9f89-44bd010adf69.png\" width = 70%>\n",
        "</center>"
      ]
    }
  ]
}