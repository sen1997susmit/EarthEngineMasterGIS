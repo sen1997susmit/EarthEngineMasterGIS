{
  "nbformat": 4,
  "nbformat_minor": 0,
  "metadata": {
    "colab": {
      "name": "01_EDGEE.ipynb",
      "provenance": [],
      "collapsed_sections": [],
      "toc_visible": true,
      "include_colab_link": true
    },
    "kernelspec": {
      "name": "python3",
      "display_name": "Python 3"
    }
  },
  "cells": [
    {
      "cell_type": "markdown",
      "metadata": {
        "id": "view-in-github",
        "colab_type": "text"
      },
      "source": [
        "<a href=\"https://colab.research.google.com/github/csaybar/EarthEngineMasterGIS/blob/master/module04/01_EDGEE.ipynb\" target=\"_parent\"><img src=\"https://colab.research.google.com/assets/colab-badge.svg\" alt=\"Open In Colab\"/></a>"
      ]
    },
    {
      "cell_type": "markdown",
      "metadata": {
        "id": "9QcQKgzTRV5z",
        "colab_type": "text"
      },
      "source": [
        "<!--COURSE_INFORMATION-->\n",
        "<img align=\"left\" style=\"padding-right:10px;\" src=\"https://user-images.githubusercontent.com/16768318/73986808-75b3ca00-4936-11ea-90f1-3a6c352766ce.png\" width=10% >\n",
        "<img align=\"right\" style=\"padding-left:10px;\" src=\"https://user-images.githubusercontent.com/16768318/73986811-764c6080-4936-11ea-9653-a3eacc47caed.png\" width=10% >\n",
        "\n",
        "**Bienvenidos!** Este *colab notebook* es parte del curso [**Introduccion a Google Earth Engine con Python**](https://github.com/csaybar/EarthEngineMasterGIS) desarrollado por el equipo [**MasterGIS**](https://www.mastergis.com/). Obten mas informacion del curso en este [**enlace**](https://www.mastergis.com/product/google-earth-engine-python/). El contenido del curso esta disponible en [**GitHub**](https://github.com/csaybar/EarthEngineMasterGIS) bajo licencia [**MIT**](https://opensource.org/licenses/MIT)."
      ]
    },
    {
      "cell_type": "markdown",
      "metadata": {
        "id": "kRHZXGGX_ZUc",
        "colab_type": "text"
      },
      "source": [
        "# **MASTERGIS: Como inicializar la Earth Engine Python API**\n",
        "\n",
        "En esta lectura, aprenderemos sobre como inicializar la Earth Engine Python API (**oauth2**).\n"
      ]
    },
    {
      "cell_type": "code",
      "metadata": {
        "id": "E642mOztV8Tq",
        "colab_type": "code",
        "colab": {}
      },
      "source": [
        "#!pip install earthengine-api\n",
        "import ee\n",
        "ee.Initialize()"
      ],
      "execution_count": 0,
      "outputs": []
    },
    {
      "cell_type": "markdown",
      "metadata": {
        "id": "nAmiRwCpnlI_",
        "colab_type": "text"
      },
      "source": [
        "<center>\n",
        "<img src='https://user-images.githubusercontent.com/16768318/72866807-9512ec00-3cd4-11ea-8263-33cfd6c3db85.png' width=\"65%\">\n",
        "</center>"
      ]
    },
    {
      "cell_type": "markdown",
      "metadata": {
        "id": "_0VrK1HHu31B",
        "colab_type": "text"
      },
      "source": [
        "### **1) Inicializa la Earth Engine de Python**"
      ]
    },
    {
      "cell_type": "code",
      "metadata": {
        "id": "Gni7mfiGu4L3",
        "colab_type": "code",
        "colab": {}
      },
      "source": [
        "!earthengine authenticate "
      ],
      "execution_count": 0,
      "outputs": []
    },
    {
      "cell_type": "markdown",
      "metadata": {
        "id": "ReJokSGZtEWI",
        "colab_type": "text"
      },
      "source": [
        "### **2) Autentifica la Earth Engine Python API  como un experto!**"
      ]
    },
    {
      "cell_type": "code",
      "metadata": {
        "id": "CtHI4BT8LDYY",
        "colab_type": "code",
        "colab": {}
      },
      "source": [
        "# Funciones necesarias debido a cambios recientes en la API!\n",
        "import os\n",
        "import base64\n",
        "import hashlib\n",
        "\n",
        "def _base64param(byte_string):\n",
        "  \"\"\"Encodes bytes for use as a URL parameter.\"\"\"\n",
        "  return base64.urlsafe_b64encode(byte_string).rstrip(b'=')\n",
        "\n",
        "def create_codes():\n",
        "  code_verifier = _base64param(os.urandom(32))\n",
        "  code_challenge = _base64param(hashlib.sha256(code_verifier).digest())\n",
        "  return code_verifier, code_challenge"
      ],
      "execution_count": 0,
      "outputs": []
    },
    {
      "cell_type": "code",
      "metadata": {
        "id": "BzXzBURxoZtT",
        "colab_type": "code",
        "colab": {}
      },
      "source": [
        "#!earthengine authenticate \n",
        "# Debido a cambios recientes en la API iniciar de esta forma\n",
        "oauth_codes = create_codes()\n",
        "earthengine_auth = ee.oauth.get_authorization_url(oauth_codes[1])\n",
        "earthengine_auth"
      ],
      "execution_count": 0,
      "outputs": []
    },
    {
      "cell_type": "code",
      "metadata": {
        "id": "8xbkjnpbIsAn",
        "colab_type": "code",
        "colab": {}
      },
      "source": [
        "auth_code = \"Poner el codigo de autorizacion AQUI\"\n",
        "ee_token = ee.oauth.request_token(auth_code, oauth_codes[0])\n",
        "ee_token"
      ],
      "execution_count": 0,
      "outputs": []
    },
    {
      "cell_type": "code",
      "metadata": {
        "id": "wsitADG3_PbX",
        "colab_type": "code",
        "cellView": "both",
        "colab": {}
      },
      "source": [
        "#@title Credenciales Google Earth Engine\n",
        "import os \n",
        "credential = '{\"refresh_token\":\"PON_AQUI_TU_TOKEN\"}'\n",
        "credential_file_path = os.path.expanduser(\"~/.config/earthengine/\")\n",
        "os.makedirs(credential_file_path,exist_ok=True)\n",
        "with open(credential_file_path + 'credentials', 'w') as file:\n",
        "    file.write(credential)"
      ],
      "execution_count": 0,
      "outputs": []
    },
    {
      "cell_type": "code",
      "metadata": {
        "id": "Tx-JJpcUO3tt",
        "colab_type": "code",
        "colab": {}
      },
      "source": [
        "import ee \n",
        "ee.Initialize()"
      ],
      "execution_count": 0,
      "outputs": []
    },
    {
      "cell_type": "markdown",
      "metadata": {
        "id": "eX1tC-s6HMkp",
        "colab_type": "text"
      },
      "source": [
        "### **3) Crear mapas interactivos**"
      ]
    },
    {
      "cell_type": "code",
      "metadata": {
        "id": "Qp-MclR4nTG4",
        "colab_type": "code",
        "cellView": "form",
        "colab": {}
      },
      "source": [
        "#@title mapdisplay: Crea mapas interactivos usando folium\n",
        "import folium\n",
        "def mapdisplay(center, dicc, Tiles=\"OpensTreetMap\",zoom_start=10):\n",
        "    '''\n",
        "    :param center: Center of the map (Latitude and Longitude).\n",
        "    :param dicc: Earth Engine Geometries or Tiles dictionary\n",
        "    :param Tiles: Mapbox Bright,Mapbox Control Room,Stamen Terrain,Stamen Toner,stamenwatercolor,cartodbpositron.\n",
        "    :zoom_start: Initial zoom level for the map.\n",
        "    :return: A folium.Map object.\n",
        "    '''\n",
        "    center = center[::-1]\n",
        "    mapViz = folium.Map(location=center,tiles=Tiles, zoom_start=zoom_start)\n",
        "    for k,v in dicc.items():\n",
        "      if ee.image.Image in [type(x) for x in v.values()]:\n",
        "        folium.TileLayer(\n",
        "            tiles = v[\"tile_fetcher\"].url_format,\n",
        "            attr  = 'Google Earth Engine',\n",
        "            overlay =True,\n",
        "            name  = k\n",
        "          ).add_to(mapViz)\n",
        "      else:\n",
        "        folium.GeoJson(\n",
        "        data = v,\n",
        "        name = k\n",
        "          ).add_to(mapViz)\n",
        "    mapViz.add_child(folium.LayerControl())\n",
        "    return mapViz"
      ],
      "execution_count": 0,
      "outputs": []
    },
    {
      "cell_type": "markdown",
      "metadata": {
        "id": "Lz6B6f-jS-pQ",
        "colab_type": "text"
      },
      "source": [
        "### **4. Estructuras de datos fundamentales de Earth Engine**\n",
        "\n",
        "Las dos estructuras de datos espaciales mas fundamentales en Earth Engine son **`Image`** y **` Feature`** correspondientes a los tipos de datos raster y vectoriales, respectivamente. Las imagenes estan compuestas por bandas y un diccionario de propiedades. Los **features** se componen de una **`Geometria`** y un diccionario de propiedades. Una pila de imagenes (por ejemplo, una serie temporal de imagenes) se maneja mediante un **`ImageCollection`**. Una coleccion de features es manejada por un **`FeatureCollection`**. Otras estructuras de datos fundamentales en Earth Engine incluyen:\n",
        "\n",
        "- `Diccionario`\n",
        "- `Lista`\n",
        "- `Matriz`\n",
        "- `Geometría`\n",
        "- `Fecha`\n",
        "- `Número`\n",
        "- `Cadena`.\n",
        "\n",
        "Es importante recordar que estos objetos son todos **objetos del lado del servidor (o contenedores)**. Es decir, su navegador (cliente) no sabe nada sobre los objetos en su secuencia de comandos a menos que solicite explicitamente informacion sobre ellos (**\\*.getInfo()**). Esa solicitud activa un mensaje que se pasa del servidor web a la API de Python. Si el mensaje es grande, la conexion se volvera lenta. existentem dos formas de inspeccionar **contenedores de Earth Engine** en la consola de Python. El primero, `print()` que devuelve información de la peticion (como JSON) y `* .getInfo ()` que devuelve el contenido del `contenedor`. La siguiente sección resume todas las estructuras de datos mencionadas anteriormente."
      ]
    },
    {
      "cell_type": "markdown",
      "metadata": {
        "id": "XecZnUGGVMX1",
        "colab_type": "text"
      },
      "source": [
        "#### **String**\n",
        "\n",
        "Defina un String de Python, luego colóquela en el contenedor **`ee.String()`** para enviarlo a Earth Engine:"
      ]
    },
    {
      "cell_type": "code",
      "metadata": {
        "id": "PIjyLwgvU9qj",
        "colab_type": "code",
        "colab": {
          "base_uri": "https://localhost:8080/",
          "height": 51
        },
        "outputId": "86f8d5ab-6343-454b-c5fb-cfbf139e7a96"
      },
      "source": [
        "# Defina una cadena, luego pongala en un contenedor de GEE.\n",
        "aString = 'To the cloud!'\n",
        "eeString = ee.String(aString)\n",
        "print('Where to?', eeString)\n",
        "eeString"
      ],
      "execution_count": 87,
      "outputs": [
        {
          "output_type": "stream",
          "text": [
            "Where to? ee.String(\"To the cloud!\")\n"
          ],
          "name": "stdout"
        },
        {
          "output_type": "execute_result",
          "data": {
            "text/plain": [
              "<ee.ee_string.String at 0x7f737ab39dd8>"
            ]
          },
          "metadata": {
            "tags": []
          },
          "execution_count": 87
        }
      ]
    },
    {
      "cell_type": "markdown",
      "metadata": {
        "id": "zmp1_juJVgm0",
        "colab_type": "text"
      },
      "source": [
        "Piense en **`ee.Thing`** como un contenedor para algo que existe en el servidor. En este ejemplo, la cadena se define primero, luego se coloca en el contenedor.\n",
        "\n",
        "#### **Number**\n",
        "\n",
        "Use **`ee.Number()`** para crear objetos numericos en el servidor."
      ]
    },
    {
      "cell_type": "code",
      "metadata": {
        "id": "C4UNEk8rU9_k",
        "colab_type": "code",
        "colab": {}
      },
      "source": [
        "import numpy as np\n",
        "serverNumber = ee.Number(np.e)\n",
        "print('e=', serverNumber)\n",
        "serverNumber"
      ],
      "execution_count": 0,
      "outputs": []
    },
    {
      "cell_type": "markdown",
      "metadata": {
        "id": "3wNr9Nm5VuC6",
        "colab_type": "text"
      },
      "source": [
        "#### **Lists**\n",
        "\n",
        "Para hacer una lista de Python en un objeto **`ee.List`** en el servidor, puede poner un lista de Python en un contenedor como con numeros y cadenas. Earth Engine tambien proporciona metodos del lado del servidor para hacer secuencias de numeros."
      ]
    },
    {
      "cell_type": "code",
      "metadata": {
        "id": "iR8PzwMHU_wJ",
        "colab_type": "code",
        "colab": {}
      },
      "source": [
        "eeList = ee.List([1, 2, 3, 4, 5])\n",
        "sequence = ee.List.sequence(1, 5);\n",
        "\n",
        "print('Secuencia:', sequence)\n",
        "print('Abrir el contenedor:', sequence.getInfo())"
      ],
      "execution_count": 0,
      "outputs": []
    },
    {
      "cell_type": "markdown",
      "metadata": {
        "id": "bsFyj3PMWhTG",
        "colab_type": "text"
      },
      "source": [
        "####**Dictionaries**\n",
        "\n",
        "Puede construir un \"_Diccionario_\" de Earth Engine a partir de un objeto Python, como con strings, numeros y listas. En el momento de la construccion, puede usar la funcionalidad de Python para inicializar el objeto Earth Engine. En este caso, un **ee.Dictionary** se construye directamente a partir de un objeto literal de Python:"
      ]
    },
    {
      "cell_type": "code",
      "metadata": {
        "id": "ZjjQRcKSVBmb",
        "colab_type": "code",
        "colab": {
          "base_uri": "https://localhost:8080/",
          "height": 85
        },
        "outputId": "29934732-f415-44d1-c4d7-8e1295df4cee"
      },
      "source": [
        "dicccionario_de_python = {\n",
        "  'e': np.e,\n",
        "  'pi': np.pi,\n",
        "  'phi': (1 + np.sqrt(5))/2\n",
        "}\n",
        "\n",
        "ee_dict  = ee.Dictionary(dicccionario_de_python)\n",
        "\n",
        "# Obtener valores del diccionario\n",
        "print('Euler:', ee_dict.get('e').getInfo())\n",
        "print('Pi:', ee_dict.get('pi').getInfo())\n",
        "print('Golden ratio:', ee_dict.get('phi').getInfo())\n",
        "\n",
        "# Obtener todas las llaves\n",
        "print('Keys: ', ee_dict.keys().getInfo())"
      ],
      "execution_count": 90,
      "outputs": [
        {
          "output_type": "stream",
          "text": [
            "Euler: 2.718281828459045\n",
            "Pi: 3.141592653589793\n",
            "Golden ratio: 1.618033988749895\n",
            "Keys:  ['e', 'phi', 'pi']\n"
          ],
          "name": "stdout"
        }
      ]
    },
    {
      "cell_type": "markdown",
      "metadata": {
        "id": "--dINKTgW88N",
        "colab_type": "text"
      },
      "source": [
        "####**Dates**\n",
        "\n",
        "Los objetos de fecha son la forma en que Earth Engine representa el tiempo. Como en los ejemplos anteriores, es importante distinguir entre un objeto \"Python Date\" y un objeto Earth Engine `ee.Date`.\n",
        "\n",
        "Se puede construir un `ee.Date` a partir de:\n",
        "   - Un string.\n",
        "   - Un Objeto Python [datetime] (https://docs.python.org/3/library/datetime.html).\n",
        "   - Métodos estaticos proporcionados por la clase `ee.Date`.\n",
        "  \n"
      ]
    },
    {
      "cell_type": "code",
      "metadata": {
        "id": "KglePS9EXTet",
        "colab_type": "code",
        "colab": {}
      },
      "source": [
        "# Defina un objeto date en Earth Engine.\n",
        "date = ee.Date('2015-12-31')\n",
        "print('Date:', date)\n",
        "print('Date:', date.getInfo())"
      ],
      "execution_count": 0,
      "outputs": []
    },
    {
      "cell_type": "code",
      "metadata": {
        "id": "O6HU8zbxVDfi",
        "colab_type": "code",
        "colab": {}
      },
      "source": [
        "import datetime as dt\n",
        "now = dt.datetime.now()\n",
        "print('Millisegundos desde el primero de enero de 1970: ', now)\n",
        "\n",
        "eeNow = ee.Date(now)\n",
        "print('Now:', eeNow)"
      ],
      "execution_count": 0,
      "outputs": []
    },
    {
      "cell_type": "markdown",
      "metadata": {
        "id": "jokbZZNquNwT",
        "colab_type": "text"
      },
      "source": [
        "### **5) Hello world**\n",
        "**Vizualize los datos SRTM a nivel mundial**"
      ]
    },
    {
      "cell_type": "code",
      "metadata": {
        "id": "rZPfPB20t4f3",
        "colab_type": "code",
        "colab": {}
      },
      "source": [
        "image = ee.Image('CGIAR/SRTM90_V4')\n",
        "print(image)"
      ],
      "execution_count": 0,
      "outputs": []
    },
    {
      "cell_type": "code",
      "metadata": {
        "id": "cWKan-1t3EKf",
        "colab_type": "code",
        "colab": {}
      },
      "source": [
        "image.getInfo()"
      ],
      "execution_count": 0,
      "outputs": []
    },
    {
      "cell_type": "markdown",
      "metadata": {
        "id": "_fFViWb82YFK",
        "colab_type": "text"
      },
      "source": [
        "<center>\n",
        "<img src='https://user-images.githubusercontent.com/16768318/72869359-e030fd00-3cdc-11ea-955b-ec275406e262.png' width=\"45%\">\n",
        "</center>"
      ]
    },
    {
      "cell_type": "markdown",
      "metadata": {
        "id": "FubkfdEt5ZeS",
        "colab_type": "text"
      },
      "source": [
        "- **ee.Image.getMapId(vis_params=None)**: Obtenga y devuelva un diccionario de ID de mapa, adecuado para usar en una superposicion de mapa."
      ]
    },
    {
      "cell_type": "code",
      "metadata": {
        "id": "tPeL2IQRvX86",
        "colab_type": "code",
        "colab": {
          "base_uri": "https://localhost:8080/",
          "height": 583
        },
        "outputId": "7b95bffe-cdf5-40b3-ba05-7feb5aca70e3"
      },
      "source": [
        "inferno_pal = [\"#000004\", \"#560F6D\", \"#BB3654\", \"#F98C09\", \"#FCFFA4\"]\n",
        "center = [0,0]\n",
        "mydicc = {'simple': image.getMapId(),\n",
        "          'inferno': image.getMapId({'min':0,'max':5000,'palette':inferno_pal})}\n",
        "mapdisplay(center, mydicc, Tiles=\"OpensTreetMap\",zoom_start=4)"
      ],
      "execution_count": 95,
      "outputs": [
        {
          "output_type": "execute_result",
          "data": {
            "text/html": [
              "<div style=\"width:100%;\"><div style=\"position:relative;width:100%;height:0;padding-bottom:60%;\"><iframe src=\"about:blank\" style=\"position:absolute;width:100%;height:100%;left:0;top:0;border:none !important;\" data-html=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 onload=\"this.contentDocument.open();this.contentDocument.write(atob(this.getAttribute('data-html')));this.contentDocument.close();\" allowfullscreen webkitallowfullscreen mozallowfullscreen></iframe></div></div>"
            ],
            "text/plain": [
              "<folium.folium.Map at 0x7f737a133048>"
            ]
          },
          "metadata": {
            "tags": []
          },
          "execution_count": 95
        }
      ]
    },
    {
      "cell_type": "markdown",
      "metadata": {
        "id": "RhriEL7tV9BJ",
        "colab_type": "text"
      },
      "source": [
        "**Vizualize sus propios datos!**"
      ]
    },
    {
      "cell_type": "code",
      "metadata": {
        "id": "KHigDAjXWAgk",
        "colab_type": "code",
        "colab": {}
      },
      "source": [
        "rain_peru = ee.Image('users/csaybardemo/P99')\n",
        "nc_shp = ee.FeatureCollection('users/csaybardemo/nc_wgs84')\n",
        "\n",
        "dicc_viz_02 = {'rain_peru_max': rain_peru.getMapId({'min':0,'max':200}),\n",
        "               'nc_wgs84': nc_shp.getInfo()}\n",
        "center = [-76,-12]\n",
        "mapdisplay(center,dicc_viz_02,zoom_start=7)"
      ],
      "execution_count": 0,
      "outputs": []
    },
    {
      "cell_type": "markdown",
      "metadata": {
        "id": "KYgg4H4kAo4g",
        "colab_type": "text"
      },
      "source": [
        "**Cree un diagrama de dispersión**"
      ]
    },
    {
      "cell_type": "code",
      "metadata": {
        "id": "Ch_0bqF55Sp-",
        "colab_type": "code",
        "colab": {}
      },
      "source": [
        "# matplotlib.pyplot: Esta es una libreria para realizar graficos estaticos\n",
        "import matplotlib.pyplot as plt\n",
        "\n",
        "# Obtenga una imagen Landsat.\n",
        "img = ee.Image('LANDSAT/LC08/C01/T1_TOA/LC08_044034_20140318')\n",
        "centroid = img.geometry().centroid().getInfo()['coordinates']\n",
        "mydicc = {'landsat5': img.getMapId({'min':0,'max':0.5,'bands':['B5','B4','B3']})}\n",
        "mapdisplay(centroid, mydicc, Tiles=\"OpensTreetMap\",zoom_start=9)"
      ],
      "execution_count": 0,
      "outputs": []
    },
    {
      "cell_type": "code",
      "metadata": {
        "id": "aWKT8rzU9DXv",
        "colab_type": "code",
        "outputId": "82cdc58c-0c02-4756-b44e-ca2a727a3047",
        "colab": {
          "base_uri": "https://localhost:8080/",
          "height": 282
        }
      },
      "source": [
        "# Seleccione las bandas rojas y NIR, escalelas y muestree 500 puntos.\n",
        "samp_fc = img.select(['B4','B5']).sample(scale=30, numPixels=5000)\n",
        "ee.Reducer.toList().repeat(2).getInfo()\n",
        "# Organice la muestra como una lista de listas.\n",
        "samp_dict = samp_fc.reduceColumns(ee.Reducer.toList().repeat(2), ['B4', 'B5'])\n",
        "ee.Reducer.toList().repeat(2).getInfo()\n",
        "samp_list = ee.List(samp_dict.get('list'))\n",
        "\n",
        "# Guardar ee.List del lado del servidor como una lista de Python del lado del cliente.\n",
        "samp_data = samp_list.getInfo()\n",
        "\n",
        "# Visualice un diagrama de dispersion Red vs NIR usando matplotlib.\n",
        "plt.scatter(samp_data[0], samp_data[1], alpha=0.2)\n",
        "plt.xlabel('Red', fontsize=12)\n",
        "plt.ylabel('NIR', fontsize=12)\n",
        "plt.show()"
      ],
      "execution_count": 98,
      "outputs": [
        {
          "output_type": "display_data",
          "data": {
            "image/png": "[encoded data removed]",
            "text/plain": [
              "<Figure size 432x288 with 1 Axes>"
            ]
          },
          "metadata": {
            "tags": [],
            "needs_background": "light"
          }
        }
      ]
    },
    {
      "cell_type": "markdown",
      "metadata": {
        "id": "J2aZp_OyRIUn",
        "colab_type": "text"
      },
      "source": [
        "### **¿Dudas con este Jupyer-Notebook?**\n",
        "\n",
        "Estaremos felices de ayudarte!. Create una cuenta Github si es que no la tienes, luego detalla tu problema ampliamente en: https://github.com/csaybar/EarthEngineMasterGIS/issues\n",
        "\n",
        "**Tienes que dar clic en el boton verde!**\n",
        "\n",
        "<center>\n",
        "<img src=\"https://user-images.githubusercontent.com/16768318/79680748-d5511000-81d8-11ea-9f89-44bd010adf69.png\" width = 70%>\n",
        "</center>"
      ]
    }
  ]
}