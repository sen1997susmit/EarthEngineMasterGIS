{
  "nbformat": 4,
  "nbformat_minor": 0,
  "metadata": {
    "colab": {
      "name": "03_EDGEE.ipynb",
      "provenance": [],
      "collapsed_sections": [],
      "toc_visible": true,
      "include_colab_link": true
    },
    "kernelspec": {
      "name": "python3",
      "display_name": "Python 3"
    }
  },
  "cells": [
    {
      "cell_type": "markdown",
      "metadata": {
        "id": "view-in-github",
        "colab_type": "text"
      },
      "source": [
        "<a href=\"https://colab.research.google.com/github/csaybar/EarthEngineMasterGIS/blob/master/module04/03_EDGEE.ipynb\" target=\"_parent\"><img src=\"https://colab.research.google.com/assets/colab-badge.svg\" alt=\"Open In Colab\"/></a>"
      ]
    },
    {
      "cell_type": "markdown",
      "metadata": {
        "id": "y4X9VJi4BUQp",
        "colab_type": "text"
      },
      "source": [
        "<!--COURSE_INFORMATION-->\n",
        "<img align=\"left\" style=\"padding-right:10px;\" src=\"https://user-images.githubusercontent.com/16768318/73986808-75b3ca00-4936-11ea-90f1-3a6c352766ce.png\" width=10% >\n",
        "<img align=\"right\" style=\"padding-left:10px;\" src=\"https://user-images.githubusercontent.com/16768318/73986811-764c6080-4936-11ea-9653-a3eacc47caed.png\" width=10% >\n",
        "\n",
        "**Bienvenidos!** Este *colab notebook* es parte del curso [**Introduccion a Google Earth Engine con Python**](https://github.com/csaybar/EarthEngineMasterGIS) desarrollado por el equipo [**MasterGIS**](https://www.mastergis.com/). Obten mas informacion del curso en este [**enlace**](https://www.mastergis.com/product/google-earth-engine/). El contenido del curso esta disponible en [**GitHub**](https://github.com/csaybar/EarthEngineMasterGIS) bajo licencia [**MIT**](https://opensource.org/licenses/MIT)."
      ]
    },
    {
      "cell_type": "markdown",
      "metadata": {
        "id": "j17__TTls1j4",
        "colab_type": "text"
      },
      "source": [
        "## **MASTERGIS: ED espaciales en Google Earth Engine II**\n",
        "## **ee.ImageCollection**\n",
        "\n",
        "En esta lectura, aprenderemos sobre:\n",
        "\n",
        "- ee.ImageCollection como ED nativa de GEE.\n",
        "- Filtar y mapear imagenes.\n",
        "- Ejercicio N°01: Preprocesamiento de Imagenes Sentinel-2 y Landsat-8\n",
        "\n"
      ]
    },
    {
      "cell_type": "markdown",
      "metadata": {
        "id": "OSD5qKx3s5Et",
        "colab_type": "text"
      },
      "source": [
        "### **1) Autenticar y inicializar GEE**"
      ]
    },
    {
      "cell_type": "code",
      "metadata": {
        "id": "9LsDEwTZr3Ar",
        "colab_type": "code",
        "cellView": "both",
        "colab": {}
      },
      "source": [
        "#@title Credenciales Google Earth Engine\n",
        "import os \n",
        "credential = '{\"refresh_token\":\"PON_AQUI_TU_TOKEN\"}'\n",
        "credential_file_path = os.path.expanduser(\"~/.config/earthengine/\")\n",
        "os.makedirs(credential_file_path,exist_ok=True)\n",
        "with open(credential_file_path + 'credentials', 'w') as file:\n",
        "    file.write(credential)"
      ],
      "execution_count": 0,
      "outputs": []
    },
    {
      "cell_type": "code",
      "metadata": {
        "id": "O62Rzbv1xyIs",
        "colab_type": "code",
        "colab": {}
      },
      "source": [
        "import ee\n",
        "ee.Initialize()"
      ],
      "execution_count": 0,
      "outputs": []
    },
    {
      "cell_type": "markdown",
      "metadata": {
        "id": "A6Fzzrb8x00_",
        "colab_type": "text"
      },
      "source": [
        "### **2) Carga nuestra funcion de mapeo**"
      ]
    },
    {
      "cell_type": "code",
      "metadata": {
        "id": "lIYEpOYAx1xX",
        "colab_type": "code",
        "cellView": "form",
        "colab": {}
      },
      "source": [
        "#@title mapdisplay: Crea mapas interactivos usando folium\n",
        "import folium\n",
        "def mapdisplay(center, dicc, Tiles=\"OpensTreetMap\",zoom_start=10):\n",
        "    '''\n",
        "    :param center: Center of the map (Latitude and Longitude).\n",
        "    :param dicc: Earth Engine Geometries or Tiles dictionary\n",
        "    :param Tiles: Mapbox Bright,Mapbox Control Room,Stamen Terrain,Stamen Toner,stamenwatercolor,cartodbpositron.\n",
        "    :zoom_start: Initial zoom level for the map.\n",
        "    :return: A folium.Map object.\n",
        "    '''\n",
        "    center = center[::-1]\n",
        "    mapViz = folium.Map(location=center,tiles=Tiles, zoom_start=zoom_start)\n",
        "    for k,v in dicc.items():\n",
        "      if ee.image.Image in [type(x) for x in v.values()]:\n",
        "        folium.TileLayer(\n",
        "            tiles = v[\"tile_fetcher\"].url_format,\n",
        "            attr  = 'Google Earth Engine',\n",
        "            overlay =True,\n",
        "            name  = k\n",
        "          ).add_to(mapViz)\n",
        "      else:\n",
        "        folium.GeoJson(\n",
        "        data = v,\n",
        "        name = k\n",
        "          ).add_to(mapViz)\n",
        "    mapViz.add_child(folium.LayerControl())\n",
        "    return mapViz"
      ],
      "execution_count": 0,
      "outputs": []
    },
    {
      "cell_type": "markdown",
      "metadata": {
        "id": "GAMUhB-tx4A1",
        "colab_type": "text"
      },
      "source": [
        "### **3. ImageCollection en GEE (ee.ImageCollection)**\n",
        "```\n",
        " Collecion de Imagenes: \n",
        " [\n",
        "    'imagen01': [imagen_01 + Metadatos (JSON)],\n",
        "    'imagen02': [imagen_02 + Metadatos (JSON)],\n",
        "    'imagen03': ....\n",
        "    'imagen04': ....\n",
        "    ....\n",
        " ] + METADATOS (JSON)\n",
        "```\n",
        "\n",
        "Una `ImageCollection` es una **pila o serie temporal de imagenes**. Ademas de cargar una `ImageCollection` usando una ID de coleccion de Earth Engine, Earth Engine tiene metodos para crear colecciones de imagenes. El constructor `ee.ImageCollection()` o el metodo de conveniencia `ee.ImageCollection.fromImages()` crean colecciones de imagenes a partir de listas de imagenes. Tambien puede crear nuevas colecciones de imagenes fusionando colecciones existentes. Por ejemplo:"
      ]
    },
    {
      "cell_type": "code",
      "metadata": {
        "id": "-pY2_YKWx6P3",
        "colab_type": "code",
        "colab": {}
      },
      "source": [
        "# Crear imagenes arbitrarias\n",
        "constant1 = ee.Image(1)\n",
        "constant2 = ee.Image(2)\n",
        "\n",
        "# Crear una coleccion de datos\n",
        "collectionFromConstructor = ee.ImageCollection([constant1, constant2])\n",
        "print('collectionFromConstructor: ')\n",
        "collectionFromConstructor.getInfo()"
      ],
      "execution_count": 0,
      "outputs": []
    },
    {
      "cell_type": "code",
      "metadata": {
        "id": "nv0r7MCP5OLx",
        "colab_type": "code",
        "colab": {}
      },
      "source": [
        "# Crear una coleccion de datos con fromImages().\n",
        "collectionFromImages = ee.ImageCollection.fromImages([ee.Image(3), ee.Image(4)])\n",
        "print('collectionFromImages: ')\n",
        "collectionFromImages.getInfo()"
      ],
      "execution_count": 0,
      "outputs": []
    },
    {
      "cell_type": "code",
      "metadata": {
        "id": "Kmf9mKsC5POR",
        "colab_type": "code",
        "colab": {}
      },
      "source": [
        "# Fusiona dos colecciones de datos\n",
        "mergedCollection = collectionFromConstructor.merge(collectionFromImages)\n",
        "print('mergedCollection: ')\n",
        "mergedCollection.getInfo()"
      ],
      "execution_count": 0,
      "outputs": []
    },
    {
      "cell_type": "markdown",
      "metadata": {
        "id": "NZuEZ7RK8Gvk",
        "colab_type": "text"
      },
      "source": [
        "### **4. Filtrando un Image.Collection**\n",
        "\n",
        "Earth Engine proporciona una variedad de metodos convenientes para filtrar colecciones de imagenes. Especificamente, muchos casos de uso comunes son manejados por **imageCollection.filterDate()** y **imageCollection.filterBounds()**. Para el filtrado de uso general, use **imageCollection.filter()** con un **ee.Filter** como argumento. El siguiente ejemplo muestra los metodos comunes y **filter()** para identificar y eliminar imagenes con un registro incorrecto de una **ImageCollection**.\n"
      ]
    },
    {
      "cell_type": "code",
      "metadata": {
        "id": "ilCX2aUF8RoS",
        "colab_type": "code",
        "colab": {}
      },
      "source": [
        "# Cargamos los datos landsat 5, y filtramos por fecha y area.\n",
        "collection = ee.ImageCollection('LANDSAT/LT05/C01/T2')\\\n",
        "               .filterDate('1987-01-01', '1990-05-01')\\\n",
        "               .filterBounds(ee.Geometry.Point(25.8544, -18.08874))              \n",
        "\n",
        "#Filtramos tambien por una propieda:IMAGE_QUALITY\n",
        "filtered = collection.filterMetadata('IMAGE_QUALITY', 'equals', 9)\n",
        "\n",
        "# Cree dos compuestos para verificar el efecto del filtrado por IMAGE_QUALITY.\n",
        "badComposite = ee.Algorithms.Landsat.simpleComposite(collection, 75, 3)\n",
        "goodComposite = ee.Algorithms.Landsat.simpleComposite(filtered, 75, 3)\n",
        "\n",
        "dicc = {\n",
        "    'Bad composite' : badComposite.getMapId({'bands': ['B3', 'B2', 'B1'], 'gain': 3.5}),\n",
        "    'Good composite': goodComposite.getMapId({'bands': ['B3', 'B2', 'B1'], 'gain': 3.5})\n",
        "}\n",
        "\n",
        "# ploteamos los resultados!\n",
        "center = [25.8544, -18.08874]\n",
        "mapdisplay(center, dicc, zoom_start= 13)"
      ],
      "execution_count": 0,
      "outputs": []
    },
    {
      "cell_type": "markdown",
      "metadata": {
        "id": "kfC4sUnnB3z8",
        "colab_type": "text"
      },
      "source": [
        "# **4. Mapping sobre una ImageCollection**\n",
        "\n",
        "Para aplicar una funcion a cada imagen en una ImageCollection, use `imageCollection.map()`. El unico argumento para `map()` es una funcion que toma un parametro: un `ee.Image`. Por ejemplo, el siguiente codigo agrega una banda de marca de tiempo a cada imagen de la coleccion.\n",
        "\n",
        "<center>\n",
        "<img src = 'https://user-images.githubusercontent.com/16768318/72934781-27aa9e00-3d5c-11ea-99f9-15117ab864bb.png' width  =300px>\n",
        "</center>"
      ]
    },
    {
      "cell_type": "code",
      "metadata": {
        "id": "Sz_KvwIRCAXV",
        "colab_type": "code",
        "colab": {}
      },
      "source": [
        "# Carga imagenes Landsat 8 TOA\n",
        "collection = ee.ImageCollection('LANDSAT/LC08/C01/T1_TOA')\\\n",
        "               .filter(ee.Filter.eq('WRS_PATH', 44))\\\n",
        "               .filter(ee.Filter.eq('WRS_ROW', 34))\n",
        "\n",
        "# Esta funcion calcula el NDVI de cada imagen\n",
        "def ndvi(image):\n",
        "\treturn image.normalizedDifference(['B5', 'B4']).rename('NDVI')\n",
        "\n",
        "# MAP la funcipn sobre la cada elemento de la coleccion y muestra el resultado.\n",
        "new_collection = collection.map(ndvi)\n",
        "new_collection_mean = new_collection.mean()"
      ],
      "execution_count": 0,
      "outputs": []
    },
    {
      "cell_type": "code",
      "metadata": {
        "id": "tLZ-TUW1Hw_u",
        "colab_type": "code",
        "colab": {}
      },
      "source": [
        "ndvi_palette = [\"#051852\", \"#FFFFFF\", \"#C7B59B\", \"#A8B255\", \"#A3C020\", \"#76AD00\",\"#429001\", \"#006400\", \"#003B00\", \"#000000\"]\n",
        "dicc = {'MEAN_NDVI': new_collection_mean.getMapId({'min':-0.1,'max':0.8,'palette':ndvi_palette})}\n",
        "# ploteamos los resultados!\n",
        "center = [25.8544, -18.08874]\n",
        "mapdisplay(center, dicc, zoom_start= 13)"
      ],
      "execution_count": 0,
      "outputs": []
    },
    {
      "cell_type": "markdown",
      "metadata": {
        "id": "G5AGn8nXIsDE",
        "colab_type": "text"
      },
      "source": [
        "### **5. Ejercicio: Preprocesamiento de Imagenes Sentinel-2**\n",
        "\n",
        "**Define tu ambito de estudio**"
      ]
    },
    {
      "cell_type": "code",
      "metadata": {
        "id": "sess1ylQIxUa",
        "colab_type": "code",
        "colab": {}
      },
      "source": [
        "cusco =  {\n",
        "  \"type\": \"FeatureCollection\",\n",
        "  \"features\": [\n",
        "    {\n",
        "      \"type\": \"Feature\",\n",
        "      \"properties\": {},\n",
        "      \"geometry\": {\n",
        "        \"type\": \"Polygon\",\n",
        "        \"coordinates\": [\n",
        "          [\n",
        "            [\n",
        "              -72.48504638671875,\n",
        "              -13.832746147381965\n",
        "            ],\n",
        "            [\n",
        "              -72.158203125,\n",
        "              -13.832746147381965\n",
        "            ],\n",
        "            [\n",
        "              -72.158203125,\n",
        "              -13.512496627038248\n",
        "            ],\n",
        "            [\n",
        "              -72.48504638671875,\n",
        "              -13.512496627038248\n",
        "            ],\n",
        "            [\n",
        "              -72.48504638671875,\n",
        "              -13.832746147381965\n",
        "            ]\n",
        "          ]\n",
        "        ]\n",
        "      }\n",
        "    }\n",
        "  ]\n",
        "}"
      ],
      "execution_count": 0,
      "outputs": []
    },
    {
      "cell_type": "code",
      "metadata": {
        "id": "xpbXjAhzK34K",
        "colab_type": "code",
        "colab": {}
      },
      "source": [
        "# de GeoJSON a ee.Feature\n",
        "ee_cusco = ee.Feature(cusco['features'][0])\n",
        "\n",
        "# Obtenemos el centroide\n",
        "centroide = ee_cusco.geometry().centroid().getInfo()['coordinates']\n",
        "\n",
        "#Vizualizamos el geo\n",
        "dicc = {'area_de_estudio':ee_cusco.getInfo()}\n",
        "mapdisplay(centroide, dicc, zoom_start= 10)"
      ],
      "execution_count": 0,
      "outputs": []
    },
    {
      "cell_type": "markdown",
      "metadata": {
        "id": "or7hOonwP6lh",
        "colab_type": "text"
      },
      "source": [
        "**Cargamos nuestras images**\n",
        "\n",
        "\n",
        "<center>\n",
        "<img src = 'https://user-images.githubusercontent.com/16768318/72939661-36e21980-3d65-11ea-9add-ca1603966a1f.png' width  =70%>\n",
        "</center>\n",
        "\n",
        "**Control de calidad**\n",
        "<center>\n",
        "<img src = 'https://user-images.githubusercontent.com/16768318/72954392-1b403880-3d90-11ea-9956-15e607f00fcb.png' width  =70%>\n",
        "</center>\n",
        "\n"
      ]
    },
    {
      "cell_type": "markdown",
      "metadata": {
        "id": "gPBINKBHe_UD",
        "colab_type": "text"
      },
      "source": [
        "**Funcion para enmascarar nubes**"
      ]
    },
    {
      "cell_type": "code",
      "metadata": {
        "id": "klaoiXBkTp67",
        "colab_type": "code",
        "colab": {}
      },
      "source": [
        "def maskS2clouds(image):\n",
        "  qa = image.select('QA60')\n",
        "  opaque_cloud = 1 << 10\n",
        "  cirrus_cloud = 1 << 11\n",
        "  mask = qa.bitwiseAnd(opaque_cloud).eq(0)\\\n",
        "           .And(qa.bitwiseAnd(cirrus_cloud).eq(0))\n",
        "  clean_image = image.updateMask(mask)\n",
        "  return clean_image"
      ],
      "execution_count": 0,
      "outputs": []
    },
    {
      "cell_type": "markdown",
      "metadata": {
        "id": "so7RriutfHZX",
        "colab_type": "text"
      },
      "source": [
        "**Filtrar imagenes**"
      ]
    },
    {
      "cell_type": "code",
      "metadata": {
        "id": "407aSb3uP87E",
        "colab_type": "code",
        "colab": {}
      },
      "source": [
        "sen2_nqc = ee.ImageCollection(\"COPERNICUS/S2_SR\")\\\n",
        "         .filterDate('2019-01-01', '2019-12-31')\\\n",
        "         .filterBounds(ee_cusco.geometry())\n",
        "\n",
        "sen2_qc = sen2_nqc.filter(ee.Filter.calendarRange(4,10,'month'))\\\n",
        "                  .filter(ee.Filter.lt('CLOUDY_PIXEL_PERCENTAGE', 5))\\\n",
        "                  .map(maskS2clouds)                           \n",
        "\n",
        "sen2_nqc_clip = sen2_nqc.select(['B4','B3','B2']).mean().clip(ee_cusco).divide(10000)\n",
        "sen2_qc_clip = sen2_qc.select(['B4','B3','B2']).mean().clip(ee_cusco).divide(10000)"
      ],
      "execution_count": 0,
      "outputs": []
    },
    {
      "cell_type": "code",
      "metadata": {
        "id": "OrQ14oACzrQG",
        "colab_type": "code",
        "colab": {}
      },
      "source": [
        "mydicc = {\n",
        "    'sennqc': sen2_nqc_clip.getMapId({'min':0,'max':0.5,'bands':['B4','B3','B2']}),\n",
        "    'senqc': sen2_qc_clip.getMapId({'min':0,'max':0.5,'bands':['B4','B3','B2']}),\n",
        "}\n",
        "\n",
        "mapdisplay(centroide, mydicc, Tiles=\"OpensTreetMap\",zoom_start=9)"
      ],
      "execution_count": 0,
      "outputs": []
    },
    {
      "cell_type": "markdown",
      "metadata": {
        "id": "L5mhaeE3URVV",
        "colab_type": "text"
      },
      "source": [
        "### **¿Dudas con este Jupyer-Notebook?**\n",
        "\n",
        "Estaremos felices de ayudarte!. Create una cuenta Github si es que no la tienes, luego detalla tu problema ampliamente en: https://github.com/csaybar/EarthEngineMasterGIS/issues\n",
        "\n",
        "**Tienes que dar clic en el boton verde!**\n",
        "\n",
        "<center>\n",
        "<img src=\"https://user-images.githubusercontent.com/16768318/79680748-d5511000-81d8-11ea-9f89-44bd010adf69.png\" width = 70%>\n",
        "</center>"
      ]
    }
  ]
}