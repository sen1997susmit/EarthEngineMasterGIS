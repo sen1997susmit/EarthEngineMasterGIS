{
  "nbformat": 4,
  "nbformat_minor": 0,
  "metadata": {
    "colab": {
      "name": "02_EDGEE.ipynb",
      "provenance": [],
      "collapsed_sections": [],
      "toc_visible": true,
      "include_colab_link": true
    },
    "kernelspec": {
      "name": "python3",
      "display_name": "Python 3"
    }
  },
  "cells": [
    {
      "cell_type": "markdown",
      "metadata": {
        "id": "view-in-github",
        "colab_type": "text"
      },
      "source": [
        "<a href=\"https://colab.research.google.com/github/csaybar/EarthEngineMasterGIS/blob/master/module04/02_EDGEE.ipynb\" target=\"_parent\"><img src=\"https://colab.research.google.com/assets/colab-badge.svg\" alt=\"Open In Colab\"/></a>"
      ]
    },
    {
      "cell_type": "markdown",
      "metadata": {
        "id": "RzUxmlYh9fhc",
        "colab_type": "text"
      },
      "source": [
        "<!--COURSE_INFORMATION-->\n",
        "<img align=\"left\" style=\"padding-right:10px;\" src=\"https://user-images.githubusercontent.com/16768318/73986808-75b3ca00-4936-11ea-90f1-3a6c352766ce.png\" width=10% >\n",
        "<img align=\"right\" style=\"padding-left:10px;\" src=\"https://user-images.githubusercontent.com/16768318/73986811-764c6080-4936-11ea-9653-a3eacc47caed.png\" width=10% >\n",
        "\n",
        "**Bienvenidos!** Este *colab notebook* es parte del curso [**Introduccion a Google Earth Engine con Python**](https://github.com/csaybar/EarthEngineMasterGIS) desarrollado por el equipo [**MasterGIS**](https://www.mastergis.com/). Obten mas informacion del curso en este [**enlace**](https://www.mastergis.com/product/google-earth-engine/). El contenido del curso esta disponible en [**GitHub**](https://github.com/csaybar/EarthEngineMasterGIS) bajo licencia [**MIT**](https://opensource.org/licenses/MIT)."
      ]
    },
    {
      "cell_type": "markdown",
      "metadata": {
        "id": "uFfXpU77PrVl",
        "colab_type": "text"
      },
      "source": [
        "## **MASTERGIS: ED espaciales en Google Earth Engine I**\n",
        "## **ee.Image**\n",
        "\n",
        "En esta lectura, aprenderemos sobre:\n",
        "\n",
        "- ee.Image como ED nativa de GEE.\n",
        "- Expresiones matematicas (indices espectrales).\n",
        "- Como exportar una imagen a google drive"
      ]
    },
    {
      "cell_type": "markdown",
      "metadata": {
        "id": "YOuXcfAgs_LN",
        "colab_type": "text"
      },
      "source": [
        "### **1) Autenticar y inicializar GEE**"
      ]
    },
    {
      "cell_type": "code",
      "metadata": {
        "id": "Rev9pD_ktOHo",
        "colab_type": "code",
        "cellView": "both",
        "colab": {}
      },
      "source": [
        "#@title Credenciales Google Earth Engine\n",
        "import os \n",
        "credential = '{\"refresh_token\":\"PON_AQUI_TU_TOKEN\"}'\n",
        "credential_file_path = os.path.expanduser(\"~/.config/earthengine/\")\n",
        "os.makedirs(credential_file_path,exist_ok=True)\n",
        "with open(credential_file_path + 'credentials', 'w') as file:\n",
        "    file.write(credential)"
      ],
      "execution_count": 0,
      "outputs": []
    },
    {
      "cell_type": "code",
      "metadata": {
        "id": "OERW3m-BPnKP",
        "colab_type": "code",
        "colab": {}
      },
      "source": [
        "import ee\n",
        "ee.Initialize()"
      ],
      "execution_count": 0,
      "outputs": []
    },
    {
      "cell_type": "markdown",
      "metadata": {
        "id": "5AnDWHcXtRMZ",
        "colab_type": "text"
      },
      "source": [
        "### **2) Carga nuestra funcion de mapeo**"
      ]
    },
    {
      "cell_type": "code",
      "metadata": {
        "id": "dkJ9EL_RvBS8",
        "colab_type": "code",
        "cellView": "form",
        "colab": {}
      },
      "source": [
        "#@title mapdisplay: Crea mapas interactivos usando folium\n",
        "import folium\n",
        "def mapdisplay(center, dicc, Tiles=\"OpensTreetMap\",zoom_start=10):\n",
        "    '''\n",
        "    :param center: Center of the map (Latitude and Longitude).\n",
        "    :param dicc: Earth Engine Geometries or Tiles dictionary\n",
        "    :param Tiles: Mapbox Bright,Mapbox Control Room,Stamen Terrain,Stamen Toner,stamenwatercolor,cartodbpositron.\n",
        "    :zoom_start: Initial zoom level for the map.\n",
        "    :return: A folium.Map object.\n",
        "    '''\n",
        "    center = center[::-1]\n",
        "    mapViz = folium.Map(location=center,tiles=Tiles, zoom_start=zoom_start)\n",
        "    for k,v in dicc.items():\n",
        "      if ee.image.Image in [type(x) for x in v.values()]:\n",
        "        folium.TileLayer(\n",
        "            tiles = v[\"tile_fetcher\"].url_format,\n",
        "            attr  = 'Google Earth Engine',\n",
        "            overlay =True,\n",
        "            name  = k\n",
        "          ).add_to(mapViz)\n",
        "      else:\n",
        "        folium.GeoJson(\n",
        "        data = v,\n",
        "        name = k\n",
        "          ).add_to(mapViz)\n",
        "    mapViz.add_child(folium.LayerControl())\n",
        "    return mapViz"
      ],
      "execution_count": 0,
      "outputs": []
    },
    {
      "cell_type": "markdown",
      "metadata": {
        "id": "265cWN3dvbn2",
        "colab_type": "text"
      },
      "source": [
        "### **3. Images en GEE (ee.Image)**\n",
        "\n",
        "> Imagen: Bandas + Metadatos (JSON)\n",
        "\n",
        "\n",
        "Ademas de cargar imagenes del catalogo de datos de GEE mediante una **ID de imagen**, tambien puede crear imagenes a partir de constantes, listas u otros objetos de Earth Engine. Esta seccion ilustra los metodos para crear imagenes, obtener subconjuntos de bandas y manipular bandas.\n",
        "\n",
        "Metodos que usara en esta seccion:\n",
        "\n",
        "  - **ee.Image.cat**\n",
        "  - **ee.Image.addBands**\n",
        "  - **ee.Image.rename**\n",
        "  - **ee.Image.Select**"
      ]
    },
    {
      "cell_type": "code",
      "metadata": {
        "id": "aflAlYbwwWul",
        "colab_type": "code",
        "outputId": "87d8d29b-3350-4291-e9c5-16e580c6263c",
        "colab": {
          "base_uri": "https://localhost:8080/",
          "height": 238
        }
      },
      "source": [
        "# 3.1 Crear una imagen constante\n",
        "image1 = ee.Image(1)\n",
        "print(image1,'\\n')\n",
        "image1.getInfo()"
      ],
      "execution_count": 4,
      "outputs": [
        {
          "output_type": "stream",
          "text": [
            "ee.Image({\n",
            "  \"type\": \"Invocation\",\n",
            "  \"arguments\": {\n",
            "    \"value\": 1\n",
            "  },\n",
            "  \"functionName\": \"Image.constant\"\n",
            "}) \n",
            "\n"
          ],
          "name": "stdout"
        },
        {
          "output_type": "execute_result",
          "data": {
            "text/plain": [
              "{'bands': [{'crs': 'EPSG:4326',\n",
              "   'crs_transform': [1, 0, 0, 0, 1, 0],\n",
              "   'data_type': {'max': 1, 'min': 1, 'precision': 'int', 'type': 'PixelType'},\n",
              "   'id': 'constant'}],\n",
              " 'type': 'Image'}"
            ]
          },
          "metadata": {
            "tags": []
          },
          "execution_count": 4
        }
      ]
    },
    {
      "cell_type": "markdown",
      "metadata": {
        "id": "KEWZKtfgxAvs",
        "colab_type": "text"
      },
      "source": [
        "- **ee.Image.cat (lista)**: Concatenar las imágenes dadas en una sola imagen."
      ]
    },
    {
      "cell_type": "code",
      "metadata": {
        "id": "JKJr6oB3wfHK",
        "colab_type": "code",
        "colab": {}
      },
      "source": [
        "#3.2 Concatenar dos imagenes en una imagen multibanda.\n",
        "image2 = ee.Image(2)\n",
        "image3 = ee.Image.cat([image1, image2])\n",
        "print(image3,'\\n')\n",
        "image3.getInfo()"
      ],
      "execution_count": 0,
      "outputs": []
    },
    {
      "cell_type": "code",
      "metadata": {
        "id": "ZwTlSzomxIe_",
        "colab_type": "code",
        "colab": {}
      },
      "source": [
        "# Cree una imagen multibanda a partir de una lista de constantes.\n",
        "multiband = ee.Image([1, 2, 3])\n",
        "print(multiband,'\\n')\n",
        "multiband.getInfo()"
      ],
      "execution_count": 0,
      "outputs": []
    },
    {
      "cell_type": "markdown",
      "metadata": {
        "id": "buYBDzs1yeMK",
        "colab_type": "text"
      },
      "source": [
        "- **ee.Image.addBands**: Devuelve una imagen que contiene todas las bandas de la primera entrada y las bandas seleccionadas de la segunda entrada, opcionalmente sobrescribiendo las bandas en la primera imagen con el mismo nombre. La nueva imagen tiene los **metadatos** y la huella de la primera imagen de entrada."
      ]
    },
    {
      "cell_type": "code",
      "metadata": {
        "id": "M3sbswIuyZf-",
        "colab_type": "code",
        "colab": {}
      },
      "source": [
        "# Agregar bandas a una imagen.\n",
        "image4 = image3.addBands(ee.Image(42))\n",
        "print(image4)"
      ],
      "execution_count": 0,
      "outputs": []
    },
    {
      "cell_type": "code",
      "metadata": {
        "id": "R_0roeQg05HR",
        "colab_type": "code",
        "colab": {}
      },
      "source": [
        "image4.getInfo()"
      ],
      "execution_count": 0,
      "outputs": []
    },
    {
      "cell_type": "markdown",
      "metadata": {
        "id": "HBzVIrvq2NjJ",
        "colab_type": "text"
      },
      "source": [
        "- **ee.Image.rename**: Nos permite renombrar las bandas.\n",
        "\n",
        "\n"
      ]
    },
    {
      "cell_type": "code",
      "metadata": {
        "id": "umS8ULg72TbX",
        "colab_type": "code",
        "outputId": "70220bf3-6b2e-4010-c705-912d1b4a8c7f",
        "colab": {
          "base_uri": "https://localhost:8080/",
          "height": 34
        }
      },
      "source": [
        "image4.bandNames().getInfo()\n",
        "image5 = image4.rename(['b1','b2','b3'])\n",
        "image5.bandNames().getInfo()"
      ],
      "execution_count": 0,
      "outputs": [
        {
          "output_type": "execute_result",
          "data": {
            "text/plain": [
              "['b1', 'b2', 'b3']"
            ]
          },
          "metadata": {
            "tags": []
          },
          "execution_count": 18
        }
      ]
    },
    {
      "cell_type": "markdown",
      "metadata": {
        "id": "dzZRdDwF3iRV",
        "colab_type": "text"
      },
      "source": [
        "- **ee.Image.select**: Selecciona las bandas de interes.\n"
      ]
    },
    {
      "cell_type": "code",
      "metadata": {
        "id": "9hhPC4SQ3xbb",
        "colab_type": "code",
        "outputId": "258a6e8a-e891-4036-eaf7-b8513ec2b9db",
        "colab": {
          "base_uri": "https://localhost:8080/",
          "height": 34
        }
      },
      "source": [
        "image6 = image5.select(['b3'])\n",
        "image6.bandNames().getInfo()"
      ],
      "execution_count": 0,
      "outputs": [
        {
          "output_type": "execute_result",
          "data": {
            "text/plain": [
              "['b3']"
            ]
          },
          "metadata": {
            "tags": []
          },
          "execution_count": 20
        }
      ]
    },
    {
      "cell_type": "markdown",
      "metadata": {
        "id": "FwR_KEb64uSC",
        "colab_type": "text"
      },
      "source": [
        "### **4. Indices espectrales**"
      ]
    },
    {
      "cell_type": "code",
      "metadata": {
        "id": "7bu92Nw46JjD",
        "colab_type": "code",
        "outputId": "efc261ed-2393-45e8-c162-33f72c6a14b8",
        "colab": {
          "base_uri": "https://localhost:8080/",
          "height": 34
        }
      },
      "source": [
        "img = ee.Image('LANDSAT/LC08/C01/T1_TOA/LC08_044034_20140318')\n",
        "centroid = img.geometry().centroid().getInfo()['coordinates']\n",
        "img.bandNames().getInfo()"
      ],
      "execution_count": 0,
      "outputs": [
        {
          "output_type": "execute_result",
          "data": {
            "text/plain": [
              "['B1', 'B2', 'B3', 'B4', 'B5', 'B6', 'B7', 'B8', 'B9', 'B10', 'B11', 'BQA']"
            ]
          },
          "metadata": {
            "tags": []
          },
          "execution_count": 24
        }
      ]
    },
    {
      "cell_type": "code",
      "metadata": {
        "id": "A2iJePAk5518",
        "colab_type": "code",
        "colab": {}
      },
      "source": [
        "mydicc = {'landsat8': img.getMapId({'min':0,'max':0.5,'bands':['B5','B4','B3']})}\n",
        "mapdisplay(centroid, mydicc, Tiles=\"OpensTreetMap\",zoom_start=9)"
      ],
      "execution_count": 0,
      "outputs": []
    },
    {
      "cell_type": "code",
      "metadata": {
        "id": "26ytk0UA-Y0J",
        "colab_type": "code",
        "cellView": "form",
        "outputId": "fc6791e5-40ca-40f5-f28a-5b33209a2c60",
        "colab": {
          "base_uri": "https://localhost:8080/",
          "height": 85
        }
      },
      "source": [
        "#@title **normalized difference vegetation index (NDVI)**\n",
        "from IPython.display import Math, HTML\n",
        "display(HTML(\"<script src='https://cdnjs.cloudflare.com/ajax/libs/mathjax/2.7.3/\"\n",
        "               \"latest.js?config=default'></script>\"))\n",
        "\n",
        "Math(r'NDVI=\\frac{(NIR-RED)}{(NIR+RED)}')\n",
        "\n"
      ],
      "execution_count": 0,
      "outputs": [
        {
          "output_type": "display_data",
          "data": {
            "text/html": [
              "<script src='https://cdnjs.cloudflare.com/ajax/libs/mathjax/2.7.3/latest.js?config=default'></script>"
            ],
            "text/plain": [
              "<IPython.core.display.HTML object>"
            ]
          },
          "metadata": {
            "tags": []
          }
        },
        {
          "output_type": "execute_result",
          "data": {
            "text/latex": "$$NDVI=\\frac{(NIR-RED)}{(NIR+RED)}$$",
            "text/plain": [
              "<IPython.core.display.Math object>"
            ]
          },
          "metadata": {
            "tags": []
          },
          "execution_count": 47
        }
      ]
    },
    {
      "cell_type": "code",
      "metadata": {
        "id": "OOGGBlgV4wwq",
        "colab_type": "code",
        "colab": {}
      },
      "source": [
        "nir = img.select('B5')\n",
        "red = img.select('B4')\n",
        "ndvi_01 = nir.subtract(red).divide(nir.add(red)).rename('NDVI')"
      ],
      "execution_count": 0,
      "outputs": []
    },
    {
      "cell_type": "code",
      "metadata": {
        "id": "5KWmNZw-6E7h",
        "colab_type": "code",
        "colab": {}
      },
      "source": [
        "ndvi_02 = img.normalizedDifference(['B5', 'B4']).rename('NDVI')"
      ],
      "execution_count": 0,
      "outputs": []
    },
    {
      "cell_type": "code",
      "metadata": {
        "id": "5HVOHGM17_8L",
        "colab_type": "code",
        "colab": {}
      },
      "source": [
        "ndvi_palette = [\"#051852\", \"#FFFFFF\", \"#C7B59B\", \"#A8B255\", \"#A3C020\", \"#76AD00\",\"#429001\", \"#006400\", \"#003B00\", \"#000000\"]\n",
        "mydicc = {\n",
        "    'ndvi-method01': ndvi_01.getMapId({'min':-0.1,'max':0.8,'palette':ndvi_palette}),\n",
        "    'ndvi-method02': ndvi_02.getMapId({'min':-0.1,'max':0.8,'palette':ndvi_palette}),\n",
        "}\n",
        "mapdisplay(centroid, mydicc, Tiles=\"OpensTreetMap\",zoom_start=9)"
      ],
      "execution_count": 0,
      "outputs": []
    },
    {
      "cell_type": "code",
      "metadata": {
        "id": "HrBwq33BA3bQ",
        "colab_type": "code",
        "cellView": "form",
        "outputId": "85f8433f-3aa6-46fb-a341-245426e700ba",
        "colab": {
          "base_uri": "https://localhost:8080/",
          "height": 85
        }
      },
      "source": [
        "#@title Normalized Difference Water Index (NDWI):\n",
        "from IPython.display import Math, HTML\n",
        "display(HTML(\"<script src='https://cdnjs.cloudflare.com/ajax/libs/mathjax/2.7.3/\"\n",
        "               \"latest.js?config=default'></script>\"))\n",
        "\n",
        "Math(r'NDBI=\\frac{(NIR-SWIR)}{(NIR+SWIR)}')"
      ],
      "execution_count": 0,
      "outputs": [
        {
          "output_type": "display_data",
          "data": {
            "text/html": [
              "<script src='https://cdnjs.cloudflare.com/ajax/libs/mathjax/2.7.3/latest.js?config=default'></script>"
            ],
            "text/plain": [
              "<IPython.core.display.HTML object>"
            ]
          },
          "metadata": {
            "tags": []
          }
        },
        {
          "output_type": "execute_result",
          "data": {
            "text/latex": "$$NDBI=\\frac{(NIR-SWIR)}{(NIR+SWIR)}$$",
            "text/plain": [
              "<IPython.core.display.Math object>"
            ]
          },
          "metadata": {
            "tags": []
          },
          "execution_count": 71
        }
      ]
    },
    {
      "cell_type": "code",
      "metadata": {
        "id": "r_EgmLOiBJPZ",
        "colab_type": "code",
        "colab": {}
      },
      "source": [
        "ndwi = img.normalizedDifference(['B5', 'B6']).rename('NDBI')"
      ],
      "execution_count": 0,
      "outputs": []
    },
    {
      "cell_type": "code",
      "metadata": {
        "id": "-tKHQZ0FDR3B",
        "colab_type": "code",
        "colab": {}
      },
      "source": [
        "bu_palette = [\"#000180\", \"#0075FD\", \"#6CFB93\", \"#F99D05\", \"#A70700\"]\n",
        "mydicc = {\n",
        "    'ndwi': ndwi.getMapId({'min':0,'max':1,'palette':bu_palette}),    \n",
        "}\n",
        "mapdisplay(centroid, mydicc, Tiles=\"OpensTreetMap\",zoom_start=9)"
      ],
      "execution_count": 0,
      "outputs": []
    },
    {
      "cell_type": "markdown",
      "metadata": {
        "id": "8uxBA_8yOb-Z",
        "colab_type": "text"
      },
      "source": [
        "### **5. Operadores Google Earth Engine**\n",
        " _ | _ | GEE\n",
        "--------------|-------------|-------------\n",
        "Arithmetic\t|+ - * / % **\t|add, subtract, multiply, divide, mod, exp\n",
        "Comparison\t| == != < > <= >= |\teq, neq, lt, gt, lte,gte.\n",
        "Logical |\t&& \\|\\| ! ^\t| And, Or, Not, Xor"
      ]
    },
    {
      "cell_type": "markdown",
      "metadata": {
        "id": "iL9U85MzFHZM",
        "colab_type": "text"
      },
      "source": [
        "### **6. Mascaras**\n",
        "\n",
        "Puede usar **`image.updateMask`** para generar una mascara en pixeles no deseados. Los pixeles iguales a cero en la mascara se excluyen de los calculos y la opacidad se establece en 0 para la visualizacion. El siguiente ejemplo utiliza un umbral basado en el NDWI."
      ]
    },
    {
      "cell_type": "code",
      "metadata": {
        "id": "SKa_AcgoO7ov",
        "colab_type": "code",
        "colab": {}
      },
      "source": [
        "water_mask = ndwi.gte(0.4)\n",
        "water_mask_mapid = water_mask.getMapId()\n",
        "mapdisplay(centroid,{'NDWI masked':water_mask_mapid})"
      ],
      "execution_count": 0,
      "outputs": []
    },
    {
      "cell_type": "code",
      "metadata": {
        "id": "O2uTGzwqFJtS",
        "colab_type": "code",
        "colab": {}
      },
      "source": [
        "ndwiMasked = ndwi.updateMask(water_mask)\n",
        "ndwiId = ndwiMasked.getMapId({'min': 0.5, 'max': 1, 'palette': ['00FFFF', '0000FF']})\n",
        "\n",
        "# Display the map with folium!\n",
        "mapdisplay(centroid,{'NDWI masked':ndwiId})"
      ],
      "execution_count": 0,
      "outputs": []
    },
    {
      "cell_type": "markdown",
      "metadata": {
        "id": "y0ZV0pwqhgq1",
        "colab_type": "text"
      },
      "source": [
        "### **8. Cortar una imagen**\n",
        "El metodo **`image.clip()`** nos permite cortar image, es util para lograr efectos cartograficos. El siguiente ejemplo recorta la imagen **ndwiMasked**."
      ]
    },
    {
      "cell_type": "code",
      "metadata": {
        "id": "NJ2tDaZVhgaV",
        "colab_type": "code",
        "colab": {}
      },
      "source": [
        "# Crea un círculo dibujando un búfer de 20000 metros alrededor de un punto.\n",
        "roi = ee.Geometry.Point([-122.4481, 37.7599]).buffer(20000)\n",
        "\n",
        "ndwiMasked_roi = ndwiMasked.clip(roi)\n",
        "ndwiroiId = ndwiMasked_roi.getMapId({'min': 0.5, 'max': 1, 'palette': ['00FFFF', '0000FF']})\n",
        "\n",
        "# Display map\n",
        "center=[38., -122.5]\n",
        "mapdisplay(centroid,{'Mosaic':ndwiroiId})"
      ],
      "execution_count": 0,
      "outputs": []
    },
    {
      "cell_type": "markdown",
      "metadata": {
        "id": "sSHN1zIQPkWT",
        "colab_type": "text"
      },
      "source": [
        "### **7. Como exportar una imagen**"
      ]
    },
    {
      "cell_type": "code",
      "metadata": {
        "id": "mKFt8PFoPj_B",
        "colab_type": "code",
        "colab": {}
      },
      "source": [
        "from ee.batch import Export\n",
        "\n",
        "task = Export.image.toDrive(\n",
        "    image=ndwiMasked.multiply(1000).toInt(),\n",
        "    description= 'NDWI_MSK.tif',\n",
        "    folder='MASTERGIS_GEE',    \n",
        "    scale=30\n",
        "    #region: geometry.getInfo()['coordinates']\n",
        ")\n",
        "\n",
        "task.start()"
      ],
      "execution_count": 0,
      "outputs": []
    },
    {
      "cell_type": "markdown",
      "metadata": {
        "id": "wUVsw1S1Z-Dq",
        "colab_type": "text"
      },
      "source": [
        "**Monitoreo de tareas**"
      ]
    },
    {
      "cell_type": "code",
      "metadata": {
        "id": "43RNZVF9ZdZ4",
        "colab_type": "code",
        "colab": {}
      },
      "source": [
        "import time \n",
        "def ee_monitoring(ee_task):\n",
        "  while ee_task.active():\n",
        "    print('Sondeo de la tarea (id: {}).'.format(ee_task.id))\n",
        "    time.sleep(5)"
      ],
      "execution_count": 0,
      "outputs": []
    },
    {
      "cell_type": "code",
      "metadata": {
        "id": "laaGiTfzgMAB",
        "colab_type": "code",
        "colab": {}
      },
      "source": [
        "ee_monitoring(task)"
      ],
      "execution_count": 0,
      "outputs": []
    },
    {
      "cell_type": "markdown",
      "metadata": {
        "id": "P9iffPAhTeI_",
        "colab_type": "text"
      },
      "source": [
        "### **¿Dudas con este Jupyer-Notebook?**\n",
        "\n",
        "Estaremos felices de ayudarte!. Create una cuenta Github si es que no la tienes, luego detalla tu problema ampliamente en: https://github.com/csaybar/EarthEngineMasterGIS/issues\n",
        "\n",
        "**Tienes que dar clic en el boton verde!**\n",
        "\n",
        "<center>\n",
        "<img src=\"https://user-images.githubusercontent.com/16768318/79680748-d5511000-81d8-11ea-9f89-44bd010adf69.png\" width = 70%>\n",
        "</center>"
      ]
    }
  ]
}